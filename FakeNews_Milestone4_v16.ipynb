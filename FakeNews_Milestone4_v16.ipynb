{
 "cells": [
  {
   "cell_type": "code",
   "execution_count": 1,
   "metadata": {
    "pycharm": {
     "name": "#%%\n"
    }
   },
   "outputs": [],
   "source": [
    "# import sqlite3\n",
    "import pandas as pd\n",
    "import numpy as np\n",
    "import math\n",
    "from time import time\n",
    "import sklearn\n",
    "from sklearn.model_selection import train_test_split\n",
    "from sklearn.preprocessing import StandardScaler\n",
    "from sklearn import preprocessing\n",
    "import category_encoders as ce\n",
    "import scipy\n",
    "from sklearn.feature_extraction.text import TfidfTransformer\n",
    "from sklearn.feature_extraction.text import CountVectorizer\n",
    "from sklearn.feature_extraction.text import TfidfVectorizer\n",
    "from sklearn.pipeline import Pipeline\n",
    "from sklearn.metrics import accuracy_score\n",
    "from sklearn.metrics import classification_report\n",
    "from sklearn.metrics import plot_roc_curve\n",
    "from sklearn.metrics import plot_precision_recall_curve\n",
    "from sklearn.metrics import mean_squared_error\n",
    "import sklearn.metrics as metrics\n",
    "from mlxtend.plotting import plot_confusion_matrix\n",
    "from sklearn.metrics import confusion_matrix\n",
    "import matplotlib.pyplot as plt\n",
    "from sklearn.svm import LinearSVC, NuSVC, SVC\n",
    "from sklearn.linear_model import PassiveAggressiveClassifier\n",
    "from sklearn.linear_model import Perceptron\n",
    "from sklearn.linear_model import LogisticRegressionCV\n",
    "from xgboost import XGBClassifier\n",
    "from sklearn.neighbors import KNeighborsClassifier\n",
    "from scipy import sparse\n",
    "from scipy.sparse import hstack\n",
    "\n",
    "# import logging  # Setting up the loggings to monitor gensim\n",
    "# logging.basicConfig(format=\"%(levelname)s - %(asctime)s: %(message)s\", datefmt= '%H:%M:%S', level=logging.INFO)"
   ]
  },
  {
   "cell_type": "code",
   "execution_count": null,
   "metadata": {
    "pycharm": {
     "name": "#%%\n"
    }
   },
   "outputs": [],
   "source": [
    "fakenews_df = pd.read_pickle(\"pickle_file\")\n",
    "\n",
    "fakenews_df = fakenews_df.sample(frac=1,random_state=419).reset_index(drop=True) # random shuffle\n",
    "fakenews_df['scaled_text_length'] = preprocessing.MinMaxScaler().fit_transform(fakenews_df[['text_length']])\n",
    "encoder = ce.BinaryEncoder(cols=fakenews_df[['type', 'site_name', 'authors']],return_df=True)\n",
    "fakenews_df_encoded=encoder.fit_transform(fakenews_df[['type', 'site_name', 'authors']])\n",
    "fakenews_df=pd.concat([fakenews_df.reset_index(drop=True),fakenews_df_encoded.reset_index(drop=True)], axis = 1)\n",
    "\n",
    "print(len(fakenews_df.normal_text))\n",
    "print(fakenews_df.groupby('fake').count())\n"
   ]
  },
  {
   "cell_type": "markdown",
   "metadata": {
    "pycharm": {
     "name": "#%% md\n"
    }
   },
   "source": [
    "# Addition of Weighted Title in Features"
   ]
  },
  {
   "cell_type": "code",
   "execution_count": 3,
   "metadata": {
    "pycharm": {
     "name": "#%%\n"
    }
   },
   "outputs": [],
   "source": [
    "normal_text = 6 * (fakenews_df.normal_title) + fakenews_df.normal_text #+ fakenews_df.site_name  #+ (6 * (fakenews_df.adverbs + fakenews_df.adj)) # + fakenews_df.ner #+ fakenews_df.adj + fakenews_df.adverbs #\n",
    "news_type = fakenews_df.fake.apply(int).tolist()\n"
   ]
  },
  {
   "cell_type": "code",
   "execution_count": 4,
   "metadata": {
    "pycharm": {
     "name": "#%%\n"
    }
   },
   "outputs": [
    {
     "name": "stdout",
     "output_type": "stream",
     "text": [
      "8900    [golden, globes, big, tv, nomination, snub, su...\n",
      "dtype: object\n",
      "9260    [mariah, world, mariah, carey, nbcuniversal, m...\n",
      "dtype: object\n"
     ]
    }
   ],
   "source": [
    "# splitting data for training and testing\n",
    "# bins = np.arange(5)\n",
    "# binned_y = np.digitize(news_type, bins)\n",
    "\n",
    "np.random.seed(11)\n",
    "x_train, x_test, y_train, y_test = train_test_split(normal_text, news_type, test_size=0.2, random_state=1) #stratify=binned_y)\n",
    "news_token, test_token = x_train, x_test\n",
    "x_train = x_train.apply(' '.join).tolist()\n",
    "x_test = x_test.apply(' '.join).tolist()\n",
    "\n",
    "print(news_token[:1])\n",
    "print(test_token[:1])"
   ]
  },
  {
   "cell_type": "code",
   "execution_count": 9,
   "metadata": {
    "pycharm": {
     "name": "#%%\n"
    }
   },
   "outputs": [
    {
     "ename": "NameError",
     "evalue": "name 'CountVectorizer' is not defined",
     "output_type": "error",
     "traceback": [
      "\u001b[1;31m---------------------------------------------------------------------------\u001b[0m",
      "\u001b[1;31mNameError\u001b[0m                                 Traceback (most recent call last)",
      "\u001b[1;32m<ipython-input-9-9eea4719587a>\u001b[0m in \u001b[0;36m<module>\u001b[1;34m\u001b[0m\n\u001b[1;32m----> 1\u001b[1;33m \u001b[0mvec\u001b[0m \u001b[1;33m=\u001b[0m \u001b[0mCountVectorizer\u001b[0m\u001b[1;33m(\u001b[0m\u001b[0minput\u001b[0m\u001b[1;33m=\u001b[0m\u001b[1;34m'content'\u001b[0m\u001b[1;33m,\u001b[0m\u001b[0mstrip_accents\u001b[0m\u001b[1;33m=\u001b[0m\u001b[1;34m'unicode'\u001b[0m\u001b[1;33m,\u001b[0m\u001b[0mlowercase\u001b[0m\u001b[1;33m=\u001b[0m\u001b[1;32mTrue\u001b[0m\u001b[1;33m,\u001b[0m\u001b[0mngram_range\u001b[0m\u001b[1;33m=\u001b[0m\u001b[1;33m(\u001b[0m\u001b[1;36m1\u001b[0m\u001b[1;33m,\u001b[0m\u001b[1;36m3\u001b[0m\u001b[1;33m)\u001b[0m\u001b[1;33m,\u001b[0m\u001b[0mmax_df\u001b[0m\u001b[1;33m=\u001b[0m\u001b[1;36m0.70\u001b[0m\u001b[1;33m,\u001b[0m\u001b[0mmin_df\u001b[0m\u001b[1;33m=\u001b[0m\u001b[1;36m1\u001b[0m\u001b[1;33m)\u001b[0m\u001b[1;33m\u001b[0m\u001b[1;33m\u001b[0m\u001b[0m\n\u001b[0m\u001b[0;32m      2\u001b[0m \u001b[0midf\u001b[0m \u001b[1;33m=\u001b[0m \u001b[0mTfidfTransformer\u001b[0m\u001b[1;33m(\u001b[0m\u001b[1;33m)\u001b[0m\u001b[1;33m\u001b[0m\u001b[1;33m\u001b[0m\u001b[0m\n\u001b[0;32m      3\u001b[0m \u001b[1;33m\u001b[0m\u001b[0m\n",
      "\u001b[1;31mNameError\u001b[0m: name 'CountVectorizer' is not defined"
     ]
    }
   ],
   "source": [
    "vec = CountVectorizer(input='content',strip_accents='unicode',lowercase=True,ngram_range=(1,3),max_df=0.70,min_df=1)\n",
    "idf = TfidfTransformer()"
   ]
  },
  {
   "cell_type": "code",
   "execution_count": 6,
   "metadata": {
    "pycharm": {
     "name": "#%%\n"
    }
   },
   "outputs": [
    {
     "name": "stdout",
     "output_type": "stream",
     "text": [
      "Support Vector Classifier\n",
      "accuracy:   87.609\n",
      "Root Mean Square:   0.352\n",
      "              precision    recall  f1-score   support\n",
      "\n",
      "           0       0.90      0.94      0.92      2280\n",
      "           1       0.78      0.66      0.72       714\n",
      "\n",
      "    accuracy                           0.88      2994\n",
      "   macro avg       0.84      0.80      0.82      2994\n",
      "weighted avg       0.87      0.88      0.87      2994\n",
      "\n"
     ]
    },
    {
     "data": {
      "image/png": "[encoded data removed]",
      "text/plain": [
       "<Figure size 432x288 with 2 Axes>"
      ]
     },
     "metadata": {
      "needs_background": "light"
     },
     "output_type": "display_data"
    }
   ],
   "source": [
    "# SVM\n",
    "\n",
    "clf = LinearSVC()\n",
    "pipe_svc = Pipeline([\n",
    "    ('vect', vec),\n",
    "    ('tfidf', idf),\n",
    "    ('clf', clf)\n",
    "])\n",
    "\n",
    "model = pipe_svc.fit(x_train, y_train)\n",
    "prediction = model.predict(x_test)\n",
    "\n",
    "score = metrics.accuracy_score(y_test, prediction)\n",
    "f1score = metrics.classification_report(y_test, prediction)\n",
    "rmse = math.sqrt(metrics.mean_squared_error(y_test, prediction))\n",
    "print('Support Vector Classifier')\n",
    "print(\"accuracy:   %0.3f\" % (score * 100))\n",
    "print(\"Root Mean Square:   %0.3f\" % (rmse))\n",
    "print(f1score)\n",
    "cm = metrics.confusion_matrix(y_test, prediction, labels=[0, 1])\n",
    "\n",
    "fig, ax = plot_confusion_matrix(conf_mat=confusion_matrix(y_test, prediction),\n",
    "                                show_absolute=True,\n",
    "                                show_normed=True,\n",
    "                                colorbar=True)\n",
    "plt.show()"
   ]
  },
  {
   "cell_type": "code",
   "execution_count": 7,
   "metadata": {
    "pycharm": {
     "name": "#%%\n"
    }
   },
   "outputs": [
    {
     "name": "stdout",
     "output_type": "stream",
     "text": [
      "Passive Aggressive Classifier\n",
      "accuracy:   87.341\n",
      "Root Mean Square:   0.356\n",
      "              precision    recall  f1-score   support\n",
      "\n",
      "           0       0.91      0.93      0.92      2280\n",
      "           1       0.76      0.69      0.72       714\n",
      "\n",
      "    accuracy                           0.87      2994\n",
      "   macro avg       0.83      0.81      0.82      2994\n",
      "weighted avg       0.87      0.87      0.87      2994\n",
      "\n"
     ]
    },
    {
     "data": {
      "image/png": "[encoded data removed]",
      "text/plain": [
       "<Figure size 432x288 with 2 Axes>"
      ]
     },
     "metadata": {
      "needs_background": "light"
     },
     "output_type": "display_data"
    }
   ],
   "source": [
    "# Passive Aggressive Classifier\n",
    "\n",
    "pipe_pac = Pipeline([\n",
    "    ('vect', vec),\n",
    "    ('tfidf', idf),\n",
    "    ('clf', PassiveAggressiveClassifier(n_jobs=-1))\n",
    "])\n",
    "\n",
    "model = pipe_pac.fit(x_train, y_train)\n",
    "prediction = model.predict(x_test)\n",
    "\n",
    "score = metrics.accuracy_score(y_test, prediction)\n",
    "f1score = metrics.classification_report(y_test, prediction)\n",
    "rmse = math.sqrt(metrics.mean_squared_error(y_test, prediction))\n",
    "print('Passive Aggressive Classifier')\n",
    "print(\"accuracy:   %0.3f\" % (score * 100))\n",
    "print(\"Root Mean Square:   %0.3f\" % (rmse))\n",
    "print(f1score)\n",
    "cm = metrics.confusion_matrix(y_test, prediction, labels=[0, 1])\n",
    "\n",
    "fig, ax = plot_confusion_matrix(conf_mat=confusion_matrix(y_test, prediction),\n",
    "                                show_absolute=True,\n",
    "                                show_normed=True,\n",
    "                                colorbar=True)\n",
    "plt.show()\n",
    "\n"
   ]
  },
  {
   "cell_type": "markdown",
   "metadata": {},
   "source": [
    "# Recursive Feature Elimination"
   ]
  },
  {
   "cell_type": "code",
   "execution_count": null,
   "metadata": {
    "pycharm": {
     "is_executing": true,
     "name": "#%%\n"
    }
   },
   "outputs": [
    {
     "name": "stderr",
     "output_type": "stream",
     "text": [
      "C:\\ProgramData\\Anaconda3\\envs\\Group2Project\\lib\\site-packages\\sklearn\\utils\\validation.py:72: FutureWarning: Pass n_features_to_select=100 as keyword args. From version 1.0 (renaming of 0.25) passing these as positional arguments will result in an error\n",
      "  \"will result in an error\", FutureWarning)\n"
     ]
    }
   ],
   "source": [
    "# Recursive Feature Elimination\n",
    "t = time()\n",
    "\n",
    "from sklearn.feature_selection import RFE\n",
    "from sklearn.linear_model import LogisticRegression\n",
    "# feature extraction\n",
    "def get_tfidf(text):\n",
    "    vect = CountVectorizer(input='content',strip_accents='unicode',max_features=1000,lowercase=True,ngram_range=(1,3),max_df=0.70,min_df=1).fit_transform(text)\n",
    "    text_tfidf = TfidfTransformer().fit_transform(vect)\n",
    "    return text_tfidf\n",
    "\n",
    "model = LogisticRegression(solver='lbfgs')\n",
    "rfe = RFE(model, 100)\n",
    "fit = rfe.fit(get_tfidf(x_train), y_train)\n",
    "\n",
    "x_train_rfe = rfe.transform(get_tfidf(x_train))\n",
    "x_test_rfe = rfe.transform(get_tfidf(x_test))\n",
    "\n",
    "print('Model computation time: {} mins'.format(round((time() - t) / 60, 2)))"
   ]
  },
  {
   "cell_type": "code",
   "execution_count": null,
   "metadata": {
    "pycharm": {
     "is_executing": true,
     "name": "#%%\n"
    }
   },
   "outputs": [],
   "source": [
    "# SVM\n",
    "clf = LinearSVC()\n",
    "pipe_svc = Pipeline([\n",
    "    ('clf', clf)\n",
    "])\n",
    "\n",
    "model = pipe_svc.fit(x_train_rfe, y_train)\n",
    "prediction = model.predict(x_test_rfe)\n",
    "\n",
    "score = metrics.accuracy_score(y_test, prediction)\n",
    "f1score = metrics.classification_report(y_test, prediction)\n",
    "rmse = math.sqrt(metrics.mean_squared_error(y_test, prediction))\n",
    "print('Support Vector Classifier')\n",
    "print(\"accuracy:   %0.3f\" % (score * 100))\n",
    "print(\"Root Mean Square:   %0.3f\" % (rmse))\n",
    "print(f1score)\n",
    "cm = metrics.confusion_matrix(y_test, prediction, labels=[0, 1])\n",
    "\n",
    "fig, ax = plot_confusion_matrix(conf_mat=confusion_matrix(y_test, prediction),\n",
    "                                show_absolute=True,\n",
    "                                show_normed=True,\n",
    "                                colorbar=True)\n",
    "plt.show()"
   ]
  },
  {
   "cell_type": "code",
   "execution_count": null,
   "metadata": {
    "pycharm": {
     "is_executing": true,
     "name": "#%%\n"
    }
   },
   "outputs": [],
   "source": [
    "# Passive Aggressive Classifier\n",
    "\n",
    "pipe_pac = Pipeline([\n",
    "    ('clf', PassiveAggressiveClassifier(n_jobs=-1))\n",
    "])\n",
    "\n",
    "model = pipe_pac.fit(x_train_rfe, y_train)\n",
    "prediction = model.predict(x_test_rfe)\n",
    "\n",
    "score = metrics.accuracy_score(y_test, prediction)\n",
    "f1score = metrics.classification_report(y_test, prediction)\n",
    "rmse = math.sqrt(metrics.mean_squared_error(y_test, prediction))\n",
    "print('Passive Aggressive Classifier')\n",
    "print(\"accuracy:   %0.3f\" % (score * 100))\n",
    "print(\"Root Mean Square:   %0.3f\" % (rmse))\n",
    "print(f1score)\n",
    "cm = metrics.confusion_matrix(y_test, prediction, labels=[0, 1])\n",
    "\n",
    "fig, ax = plot_confusion_matrix(conf_mat=confusion_matrix(y_test, prediction),\n",
    "                                show_absolute=True,\n",
    "                                show_normed=True,\n",
    "                                colorbar=True)\n",
    "plt.show()\n"
   ]
  },
  {
   "cell_type": "markdown",
   "metadata": {},
   "source": [
    "# Base Models with TFIDF + Metadata\n",
    "\n",
    "### In this section we will incorporate the metadata also into the features and use it for modeling and prediction."
   ]
  },
  {
   "cell_type": "code",
   "execution_count": 8,
   "metadata": {},
   "outputs": [],
   "source": [
    "df=fakenews_df.copy()\n",
    "vec = CountVectorizer(input='content',strip_accents='unicode',lowercase=True,ngram_range=(1,3),max_df=0.70,min_df=1)\n",
    "idf = TfidfTransformer()"
   ]
  },
  {
   "cell_type": "code",
   "execution_count": 9,
   "metadata": {},
   "outputs": [],
   "source": [
    "df.drop('index',axis=1,inplace=True)\n",
    "df.drop('text',axis=1,inplace=True)\n",
    "df.drop('title',axis=1,inplace=True)\n",
    "df.drop('proper_nouns',axis=1,inplace=True)\n",
    "df.drop('verbs',axis=1,inplace=True)\n",
    "df.drop('adj',axis=1,inplace=True)\n",
    "df.drop('ner',axis=1,inplace=True)\n",
    "df.drop('adverbs',axis=1,inplace=True)\n",
    "df.drop('site_name',axis=1,inplace=True)\n",
    "df.drop('text_length',axis=1,inplace=True)\n",
    "df.drop('type',axis=1,inplace=True)\n",
    "df.drop('authors',axis=1,inplace=True)\n",
    "\n",
    "df['normal_text'] = 6 * (df.normal_title) + df.normal_text\n",
    "df['news_type'] = fakenews_df.fake.apply(int).tolist()\n",
    "df['normal_text'] = df['normal_text'].apply(' '.join)\n",
    "\n",
    "df.drop('fake',axis=1,inplace=True)\n",
    "df.drop('normal_title',axis=1,inplace=True)\n"
   ]
  },
  {
   "cell_type": "code",
   "execution_count": 10,
   "metadata": {},
   "outputs": [],
   "source": [
    "# splitting data for training and testing\n",
    "\n",
    "np.random.seed(11)\n",
    "df_train, df_test = train_test_split(df, test_size=0.2, random_state=1) "
   ]
  },
  {
   "cell_type": "code",
   "execution_count": 11,
   "metadata": {},
   "outputs": [],
   "source": [
    "pipe_tfidf = Pipeline([\n",
    "    ('vect', vec),\n",
    "    ('tfidf', idf)\n",
    "])"
   ]
  },
  {
   "cell_type": "code",
   "execution_count": 12,
   "metadata": {},
   "outputs": [],
   "source": [
    "pipe_trained_tfidf = pipe_tfidf.fit(df_train['normal_text'])"
   ]
  },
  {
   "cell_type": "code",
   "execution_count": 13,
   "metadata": {},
   "outputs": [],
   "source": [
    "df_train_tfidf = pipe_trained_tfidf.transform(df_train['normal_text'])\n",
    "df_test_tfidf = pipe_trained_tfidf.transform(df_test['normal_text'])"
   ]
  },
  {
   "cell_type": "code",
   "execution_count": 14,
   "metadata": {},
   "outputs": [],
   "source": [
    "df_train_rest=df_train.copy()\n",
    "df_train_rest.drop('normal_text',axis=1,inplace=True)\n",
    "df_train_rest.drop('news_type',axis=1,inplace=True)\n",
    "#df_train_rest.drop('scaled_text_length',axis=1,inplace=True)\n",
    "\n",
    "df_test_rest=df_test.copy()\n",
    "df_test_rest.drop('normal_text',axis=1,inplace=True)\n",
    "df_test_rest.drop('news_type',axis=1,inplace=True)\n",
    "#df_test_rest.drop('scaled_text_length',axis=1,inplace=True)\n",
    "\n",
    "df_train_rest = scipy.sparse.csr_matrix(df_train_rest.values).copy() #convert df to array using values and then to sparse matrix\n",
    "df_test_rest = scipy.sparse.csr_matrix(df_test_rest.values).copy()"
   ]
  },
  {
   "cell_type": "code",
   "execution_count": 15,
   "metadata": {},
   "outputs": [],
   "source": [
    "X_train = hstack((df_train_tfidf,df_train_rest))\n",
    "X_test = hstack((df_test_tfidf,df_test_rest))\n",
    "y_train = df_train['news_type'].copy()\n",
    "y_test = df_test['news_type'].copy()"
   ]
  },
  {
   "cell_type": "code",
   "execution_count": 32,
   "metadata": {},
   "outputs": [
    {
     "name": "stdout",
     "output_type": "stream",
     "text": [
      "Support Vector Classifier\n",
      "accuracy:   87.943\n",
      "              precision    recall  f1-score   support\n",
      "\n",
      "           0       0.90      0.94      0.92      2280\n",
      "           1       0.79      0.68      0.73       714\n",
      "\n",
      "    accuracy                           0.88      2994\n",
      "   macro avg       0.85      0.81      0.83      2994\n",
      "weighted avg       0.88      0.88      0.88      2994\n",
      "\n"
     ]
    },
    {
     "data": {
      "image/png": "[encoded data removed]",
      "text/plain": [
       "<Figure size 432x288 with 2 Axes>"
      ]
     },
     "metadata": {
      "needs_background": "light"
     },
     "output_type": "display_data"
    }
   ],
   "source": [
    "#LinearSVC\n",
    "clf = LinearSVC()\n",
    "\n",
    "model = clf.fit(X_train, y_train)\n",
    "prediction = model.predict(X_test)\n",
    "\n",
    "score = metrics.accuracy_score(y_test, prediction)\n",
    "f1score = metrics.classification_report(y_test, prediction)\n",
    "print('Support Vector Classifier')\n",
    "print(\"accuracy:   %0.3f\" % (score * 100))\n",
    "print(f1score)\n",
    "\n",
    "fig, ax = plot_confusion_matrix(conf_mat=confusion_matrix(y_test, prediction),\n",
    "                                show_absolute=True,\n",
    "                                show_normed=True,\n",
    "                                colorbar=True)\n",
    "plt.show()"
   ]
  },
  {
   "cell_type": "code",
   "execution_count": 33,
   "metadata": {},
   "outputs": [
    {
     "name": "stdout",
     "output_type": "stream",
     "text": [
      "Support Vector Classifier\n",
      "accuracy:   84.703\n",
      "              precision    recall  f1-score   support\n",
      "\n",
      "           0       0.84      0.99      0.91      2280\n",
      "           1       0.92      0.39      0.55       714\n",
      "\n",
      "    accuracy                           0.85      2994\n",
      "   macro avg       0.88      0.69      0.73      2994\n",
      "weighted avg       0.86      0.85      0.82      2994\n",
      "\n"
     ]
    },
    {
     "data": {
      "image/png": "[encoded data removed]",
      "text/plain": [
       "<Figure size 432x288 with 2 Axes>"
      ]
     },
     "metadata": {
      "needs_background": "light"
     },
     "output_type": "display_data"
    }
   ],
   "source": [
    "#SVC\n",
    "clf = SVC()\n",
    "\n",
    "model = clf.fit(X_train, y_train)\n",
    "prediction = model.predict(X_test)\n",
    "\n",
    "score = metrics.accuracy_score(y_test, prediction)\n",
    "f1score = metrics.classification_report(y_test, prediction)\n",
    "print('Support Vector Classifier')\n",
    "print(\"accuracy:   %0.3f\" % (score * 100))\n",
    "print(f1score)\n",
    "\n",
    "fig, ax = plot_confusion_matrix(conf_mat=confusion_matrix(y_test, prediction),\n",
    "                                show_absolute=True,\n",
    "                                show_normed=True,\n",
    "                                colorbar=True)\n",
    "plt.show()"
   ]
  },
  {
   "cell_type": "code",
   "execution_count": 34,
   "metadata": {},
   "outputs": [
    {
     "name": "stdout",
     "output_type": "stream",
     "text": [
      "Passive Aggressive Classifier\n",
      "accuracy:   87.007\n",
      "              precision    recall  f1-score   support\n",
      "\n",
      "           0       0.91      0.92      0.92      2280\n",
      "           1       0.74      0.70      0.72       714\n",
      "\n",
      "    accuracy                           0.87      2994\n",
      "   macro avg       0.82      0.81      0.82      2994\n",
      "weighted avg       0.87      0.87      0.87      2994\n",
      "\n"
     ]
    },
    {
     "data": {
      "image/png": "[encoded data removed]",
      "text/plain": [
       "<Figure size 432x288 with 2 Axes>"
      ]
     },
     "metadata": {
      "needs_background": "light"
     },
     "output_type": "display_data"
    }
   ],
   "source": [
    "#PAC\n",
    "clf = PassiveAggressiveClassifier(n_jobs=-1)\n",
    "\n",
    "model = clf.fit(X_train, y_train)\n",
    "prediction = model.predict(X_test)\n",
    "\n",
    "score = metrics.accuracy_score(y_test, prediction)\n",
    "f1score = metrics.classification_report(y_test, prediction)\n",
    "print('Passive Aggressive Classifier')\n",
    "print(\"accuracy:   %0.3f\" % (score * 100))\n",
    "print(f1score)\n",
    "\n",
    "fig, ax = plot_confusion_matrix(conf_mat=confusion_matrix(y_test, prediction),\n",
    "                                show_absolute=True,\n",
    "                                show_normed=True,\n",
    "                                colorbar=True)\n",
    "plt.show()"
   ]
  },
  {
   "cell_type": "markdown",
   "metadata": {},
   "source": [
    "### A quick check on TFIDF only models for the same data splits"
   ]
  },
  {
   "cell_type": "code",
   "execution_count": 16,
   "metadata": {},
   "outputs": [],
   "source": [
    "X_train = df_train_tfidf\n",
    "X_test = df_test_tfidf\n",
    "y_train = df_train['news_type'].copy()\n",
    "y_test = df_test['news_type'].copy()"
   ]
  },
  {
   "cell_type": "code",
   "execution_count": 36,
   "metadata": {},
   "outputs": [
    {
     "name": "stdout",
     "output_type": "stream",
     "text": [
      "Support Vector Classifier\n",
      "accuracy:   87.609\n",
      "              precision    recall  f1-score   support\n",
      "\n",
      "           0       0.90      0.94      0.92      2280\n",
      "           1       0.78      0.66      0.72       714\n",
      "\n",
      "    accuracy                           0.88      2994\n",
      "   macro avg       0.84      0.80      0.82      2994\n",
      "weighted avg       0.87      0.88      0.87      2994\n",
      "\n"
     ]
    },
    {
     "data": {
      "image/png": "[encoded data removed]",
      "text/plain": [
       "<Figure size 432x288 with 2 Axes>"
      ]
     },
     "metadata": {
      "needs_background": "light"
     },
     "output_type": "display_data"
    }
   ],
   "source": [
    "#LinearSVC\n",
    "clf = LinearSVC()\n",
    "\n",
    "model = clf.fit(X_train, y_train)\n",
    "prediction = model.predict(X_test)\n",
    "\n",
    "score = metrics.accuracy_score(y_test, prediction)\n",
    "f1score = metrics.classification_report(y_test, prediction)\n",
    "print('Support Vector Classifier')\n",
    "print(\"accuracy:   %0.3f\" % (score * 100))\n",
    "print(f1score)\n",
    "\n",
    "fig, ax = plot_confusion_matrix(conf_mat=confusion_matrix(y_test, prediction),\n",
    "                                show_absolute=True,\n",
    "                                show_normed=True,\n",
    "                                colorbar=True)\n",
    "plt.show()"
   ]
  },
  {
   "cell_type": "code",
   "execution_count": 37,
   "metadata": {},
   "outputs": [
    {
     "name": "stdout",
     "output_type": "stream",
     "text": [
      "Support Vector Classifier\n",
      "accuracy:   86.840\n",
      "              precision    recall  f1-score   support\n",
      "\n",
      "           0       0.88      0.96      0.92      2280\n",
      "           1       0.83      0.56      0.67       714\n",
      "\n",
      "    accuracy                           0.87      2994\n",
      "   macro avg       0.85      0.76      0.79      2994\n",
      "weighted avg       0.87      0.87      0.86      2994\n",
      "\n"
     ]
    },
    {
     "data": {
      "image/png": "[encoded data removed]",
      "text/plain": [
       "<Figure size 432x288 with 2 Axes>"
      ]
     },
     "metadata": {
      "needs_background": "light"
     },
     "output_type": "display_data"
    }
   ],
   "source": [
    "#SVC\n",
    "clf = SVC()\n",
    "\n",
    "model = clf.fit(X_train, y_train)\n",
    "prediction = model.predict(X_test)\n",
    "\n",
    "score = metrics.accuracy_score(y_test, prediction)\n",
    "f1score = metrics.classification_report(y_test, prediction)\n",
    "print('Support Vector Classifier')\n",
    "print(\"accuracy:   %0.3f\" % (score * 100))\n",
    "print(f1score)\n",
    "\n",
    "fig, ax = plot_confusion_matrix(conf_mat=confusion_matrix(y_test, prediction),\n",
    "                                show_absolute=True,\n",
    "                                show_normed=True,\n",
    "                                colorbar=True)\n",
    "plt.show()"
   ]
  },
  {
   "cell_type": "code",
   "execution_count": 38,
   "metadata": {},
   "outputs": [
    {
     "name": "stdout",
     "output_type": "stream",
     "text": [
      "Passive Aggressive Classifier\n",
      "accuracy:   87.575\n",
      "              precision    recall  f1-score   support\n",
      "\n",
      "           0       0.91      0.93      0.92      2280\n",
      "           1       0.76      0.69      0.73       714\n",
      "\n",
      "    accuracy                           0.88      2994\n",
      "   macro avg       0.84      0.81      0.82      2994\n",
      "weighted avg       0.87      0.88      0.87      2994\n",
      "\n"
     ]
    },
    {
     "data": {
      "image/png": "[encoded data removed]",
      "text/plain": [
       "<Figure size 432x288 with 2 Axes>"
      ]
     },
     "metadata": {
      "needs_background": "light"
     },
     "output_type": "display_data"
    }
   ],
   "source": [
    "#PAC\n",
    "clf = PassiveAggressiveClassifier(n_jobs=-1)\n",
    "\n",
    "model = clf.fit(X_train, y_train)\n",
    "prediction = model.predict(X_test)\n",
    "\n",
    "score = metrics.accuracy_score(y_test, prediction)\n",
    "f1score = metrics.classification_report(y_test, prediction)\n",
    "print('Passive Aggressive Classifier')\n",
    "print(\"accuracy:   %0.3f\" % (score * 100))\n",
    "print(f1score)\n",
    "\n",
    "fig, ax = plot_confusion_matrix(conf_mat=confusion_matrix(y_test, prediction),\n",
    "                                show_absolute=True,\n",
    "                                show_normed=True,\n",
    "                                colorbar=True)\n",
    "plt.show()"
   ]
  },
  {
   "cell_type": "markdown",
   "metadata": {},
   "source": [
    "# Dimension Reduction\n",
    "\n",
    "We will consider reducing the dimensions into a 100 dimension space using the dimension reduction techniques of Singular Value Decomposition (SVD) and Partial Least Squares (PLS).\n",
    "\n",
    "## a. Singular Value Decomposition (SVD)\n"
   ]
  },
  {
   "cell_type": "markdown",
   "metadata": {},
   "source": [
    "### 1. dimension reduction (tfidf + metadata) (Type 1)\n",
    "\n",
    "In this type, we will apply SVD on the concatenated feature set of TFIDF and metadata and derive 100 dimensions."
   ]
  },
  {
   "cell_type": "code",
   "execution_count": 40,
   "metadata": {},
   "outputs": [],
   "source": [
    "X_train = hstack((df_train_tfidf,df_train_rest))\n",
    "X_test = hstack((df_test_tfidf,df_test_rest))\n",
    "y_train = df_train['news_type'].copy()\n",
    "y_test = df_test['news_type'].copy()\n",
    "\n",
    "from sklearn.decomposition import TruncatedSVD\n",
    "SVD = TruncatedSVD(n_components=100, random_state=99)\n",
    "\n",
    "SVD_XMER = SVD.fit(X_train)\n",
    "\n",
    "X_train = SVD_XMER.transform(X_train)\n",
    "X_test = SVD_XMER.transform(X_test)"
   ]
  },
  {
   "cell_type": "code",
   "execution_count": 152,
   "metadata": {},
   "outputs": [
    {
     "data": {
      "text/plain": [
       "<11974x3483556 sparse matrix of type '<class 'numpy.float64'>'\n",
       "\twith 6413409 stored elements in Compressed Sparse Row format>"
      ]
     },
     "execution_count": 152,
     "metadata": {},
     "output_type": "execute_result"
    }
   ],
   "source": [
    "df_train_tfidf"
   ]
  },
  {
   "cell_type": "code",
   "execution_count": 41,
   "metadata": {},
   "outputs": [
    {
     "name": "stdout",
     "output_type": "stream",
     "text": [
      "Support Vector Classifier\n",
      "accuracy:   85.137\n",
      "              precision    recall  f1-score   support\n",
      "\n",
      "           0       0.88      0.94      0.91      2280\n",
      "           1       0.74      0.58      0.65       714\n",
      "\n",
      "    accuracy                           0.85      2994\n",
      "   macro avg       0.81      0.76      0.78      2994\n",
      "weighted avg       0.84      0.85      0.85      2994\n",
      "\n"
     ]
    },
    {
     "data": {
      "image/png": "[encoded data removed]",
      "text/plain": [
       "<Figure size 432x288 with 2 Axes>"
      ]
     },
     "metadata": {
      "needs_background": "light"
     },
     "output_type": "display_data"
    }
   ],
   "source": [
    "#LinearSVC\n",
    "clf = LinearSVC()\n",
    "\n",
    "model = clf.fit(X_train, y_train)\n",
    "prediction = model.predict(X_test)\n",
    "\n",
    "score = metrics.accuracy_score(y_test, prediction)\n",
    "f1score = metrics.classification_report(y_test, prediction)\n",
    "print('Support Vector Classifier')\n",
    "print(\"accuracy:   %0.3f\" % (score * 100))\n",
    "print(f1score)\n",
    "\n",
    "fig, ax = plot_confusion_matrix(conf_mat=confusion_matrix(y_test, prediction),\n",
    "                                show_absolute=True,\n",
    "                                show_normed=True,\n",
    "                                colorbar=True)\n",
    "plt.show()"
   ]
  },
  {
   "cell_type": "code",
   "execution_count": 42,
   "metadata": {},
   "outputs": [
    {
     "name": "stdout",
     "output_type": "stream",
     "text": [
      "Support Vector Classifier\n",
      "accuracy:   84.803\n",
      "              precision    recall  f1-score   support\n",
      "\n",
      "           0       0.84      0.99      0.91      2280\n",
      "           1       0.91      0.40      0.56       714\n",
      "\n",
      "    accuracy                           0.85      2994\n",
      "   macro avg       0.88      0.69      0.73      2994\n",
      "weighted avg       0.86      0.85      0.82      2994\n",
      "\n"
     ]
    },
    {
     "data": {
      "image/png": "[encoded data removed]",
      "text/plain": [
       "<Figure size 432x288 with 2 Axes>"
      ]
     },
     "metadata": {
      "needs_background": "light"
     },
     "output_type": "display_data"
    }
   ],
   "source": [
    "#SVC\n",
    "clf = SVC()\n",
    "\n",
    "model = clf.fit(X_train, y_train)\n",
    "prediction = model.predict(X_test)\n",
    "\n",
    "score = metrics.accuracy_score(y_test, prediction)\n",
    "f1score = metrics.classification_report(y_test, prediction)\n",
    "print('Support Vector Classifier')\n",
    "print(\"accuracy:   %0.3f\" % (score * 100))\n",
    "print(f1score)\n",
    "\n",
    "fig, ax = plot_confusion_matrix(conf_mat=confusion_matrix(y_test, prediction),\n",
    "                                show_absolute=True,\n",
    "                                show_normed=True,\n",
    "                                colorbar=True)\n",
    "plt.show()"
   ]
  },
  {
   "cell_type": "code",
   "execution_count": 43,
   "metadata": {},
   "outputs": [
    {
     "name": "stdout",
     "output_type": "stream",
     "text": [
      "Passive Aggressive Classifier\n",
      "accuracy:   67.836\n",
      "              precision    recall  f1-score   support\n",
      "\n",
      "           0       0.91      0.64      0.75      2280\n",
      "           1       0.41      0.81      0.55       714\n",
      "\n",
      "    accuracy                           0.68      2994\n",
      "   macro avg       0.66      0.72      0.65      2994\n",
      "weighted avg       0.79      0.68      0.70      2994\n",
      "\n"
     ]
    },
    {
     "data": {
      "image/png": "[encoded data removed]",
      "text/plain": [
       "<Figure size 432x288 with 2 Axes>"
      ]
     },
     "metadata": {
      "needs_background": "light"
     },
     "output_type": "display_data"
    }
   ],
   "source": [
    "#PAC\n",
    "clf = PassiveAggressiveClassifier(n_jobs=-1)\n",
    "\n",
    "model = clf.fit(X_train, y_train)\n",
    "prediction = model.predict(X_test)\n",
    "\n",
    "score = metrics.accuracy_score(y_test, prediction)\n",
    "f1score = metrics.classification_report(y_test, prediction)\n",
    "print('Passive Aggressive Classifier')\n",
    "print(\"accuracy:   %0.3f\" % (score * 100))\n",
    "print(f1score)\n",
    "\n",
    "fig, ax = plot_confusion_matrix(conf_mat=confusion_matrix(y_test, prediction),\n",
    "                                show_absolute=True,\n",
    "                                show_normed=True,\n",
    "                                colorbar=True)\n",
    "plt.show()"
   ]
  },
  {
   "cell_type": "markdown",
   "metadata": {},
   "source": [
    "### 2. dimension reduction (tfidf only)\n",
    "\n",
    "We will use only the TFIDF features this time."
   ]
  },
  {
   "cell_type": "code",
   "execution_count": 44,
   "metadata": {},
   "outputs": [],
   "source": [
    "X_train = df_train_tfidf\n",
    "X_test = df_test_tfidf\n",
    "y_train = df_train['news_type'].copy()\n",
    "y_test = df_test['news_type'].copy()\n",
    "\n",
    "from sklearn.decomposition import TruncatedSVD\n",
    "SVD = TruncatedSVD(n_components=100, random_state=99)\n",
    "\n",
    "SVD_XMER = SVD.fit(X_train)\n",
    "\n",
    "X_train = SVD_XMER.transform(X_train)\n",
    "X_test = SVD_XMER.transform(X_test)"
   ]
  },
  {
   "cell_type": "code",
   "execution_count": 45,
   "metadata": {},
   "outputs": [
    {
     "name": "stdout",
     "output_type": "stream",
     "text": [
      "Support Vector Classifier\n",
      "accuracy:   86.005\n",
      "              precision    recall  f1-score   support\n",
      "\n",
      "           0       0.89      0.94      0.91      2280\n",
      "           1       0.75      0.61      0.68       714\n",
      "\n",
      "    accuracy                           0.86      2994\n",
      "   macro avg       0.82      0.78      0.79      2994\n",
      "weighted avg       0.85      0.86      0.85      2994\n",
      "\n"
     ]
    },
    {
     "data": {
      "image/png": "[encoded data removed]",
      "text/plain": [
       "<Figure size 432x288 with 2 Axes>"
      ]
     },
     "metadata": {
      "needs_background": "light"
     },
     "output_type": "display_data"
    }
   ],
   "source": [
    "#LinearSVC\n",
    "clf = LinearSVC()\n",
    "\n",
    "model = clf.fit(X_train, y_train)\n",
    "prediction = model.predict(X_test)\n",
    "\n",
    "score = metrics.accuracy_score(y_test, prediction)\n",
    "f1score = metrics.classification_report(y_test, prediction)\n",
    "print('Support Vector Classifier')\n",
    "print(\"accuracy:   %0.3f\" % (score * 100))\n",
    "print(f1score)\n",
    "\n",
    "fig, ax = plot_confusion_matrix(conf_mat=confusion_matrix(y_test, prediction),\n",
    "                                show_absolute=True,\n",
    "                                show_normed=True,\n",
    "                                colorbar=True)\n",
    "plt.show()"
   ]
  },
  {
   "cell_type": "code",
   "execution_count": 46,
   "metadata": {},
   "outputs": [
    {
     "name": "stdout",
     "output_type": "stream",
     "text": [
      "Support Vector Classifier\n",
      "accuracy:   84.135\n",
      "              precision    recall  f1-score   support\n",
      "\n",
      "           0       0.87      0.94      0.90      2280\n",
      "           1       0.73      0.54      0.62       714\n",
      "\n",
      "    accuracy                           0.84      2994\n",
      "   macro avg       0.80      0.74      0.76      2994\n",
      "weighted avg       0.83      0.84      0.83      2994\n",
      "\n"
     ]
    },
    {
     "data": {
      "image/png": "[encoded data removed]",
      "text/plain": [
       "<Figure size 432x288 with 2 Axes>"
      ]
     },
     "metadata": {
      "needs_background": "light"
     },
     "output_type": "display_data"
    }
   ],
   "source": [
    "#SVC\n",
    "clf = SVC()\n",
    "\n",
    "model = clf.fit(X_train, y_train)\n",
    "prediction = model.predict(X_test)\n",
    "\n",
    "score = metrics.accuracy_score(y_test, prediction)\n",
    "f1score = metrics.classification_report(y_test, prediction)\n",
    "print('Support Vector Classifier')\n",
    "print(\"accuracy:   %0.3f\" % (score * 100))\n",
    "print(f1score)\n",
    "\n",
    "fig, ax = plot_confusion_matrix(conf_mat=confusion_matrix(y_test, prediction),\n",
    "                                show_absolute=True,\n",
    "                                show_normed=True,\n",
    "                                colorbar=True)\n",
    "plt.show()"
   ]
  },
  {
   "cell_type": "code",
   "execution_count": 47,
   "metadata": {},
   "outputs": [
    {
     "name": "stdout",
     "output_type": "stream",
     "text": [
      "Passive Aggressive Classifier\n",
      "accuracy:   86.306\n",
      "              precision    recall  f1-score   support\n",
      "\n",
      "           0       0.90      0.92      0.91      2280\n",
      "           1       0.73      0.67      0.70       714\n",
      "\n",
      "    accuracy                           0.86      2994\n",
      "   macro avg       0.82      0.80      0.81      2994\n",
      "weighted avg       0.86      0.86      0.86      2994\n",
      "\n"
     ]
    },
    {
     "data": {
      "image/png": "[encoded data removed]",
      "text/plain": [
       "<Figure size 432x288 with 2 Axes>"
      ]
     },
     "metadata": {
      "needs_background": "light"
     },
     "output_type": "display_data"
    }
   ],
   "source": [
    "#PAC\n",
    "clf = PassiveAggressiveClassifier(n_jobs=-1)\n",
    "\n",
    "model = clf.fit(X_train, y_train)\n",
    "prediction = model.predict(X_test)\n",
    "\n",
    "score = metrics.accuracy_score(y_test, prediction)\n",
    "f1score = metrics.classification_report(y_test, prediction)\n",
    "print('Passive Aggressive Classifier')\n",
    "print(\"accuracy:   %0.3f\" % (score * 100))\n",
    "print(f1score)\n",
    "\n",
    "fig, ax = plot_confusion_matrix(conf_mat=confusion_matrix(y_test, prediction),\n",
    "                                show_absolute=True,\n",
    "                                show_normed=True,\n",
    "                                colorbar=True)\n",
    "plt.show()"
   ]
  },
  {
   "cell_type": "markdown",
   "metadata": {},
   "source": [
    "### 3. dimension reduction (tfidf) + metadata (Type 2)\n",
    "\n",
    "In this type, we will apply SVD only on the TFIDF to derive 100 dimensions. Then those 100 dimensions will be concatenated with the binary encoded metadata features. This will greatly minimize the loss of information while still reducing the dimensions."
   ]
  },
  {
   "cell_type": "code",
   "execution_count": 48,
   "metadata": {},
   "outputs": [],
   "source": [
    "X_train = df_train_tfidf\n",
    "X_test = df_test_tfidf\n",
    "y_train = df_train['news_type'].copy()\n",
    "y_test = df_test['news_type'].copy()\n",
    "\n",
    "from sklearn.decomposition import TruncatedSVD\n",
    "SVD = TruncatedSVD(n_components=100, random_state=99)\n",
    "\n",
    "SVD_XMER = SVD.fit(X_train)\n",
    "\n",
    "X_train = SVD_XMER.transform(X_train)\n",
    "X_test = SVD_XMER.transform(X_test)\n",
    "\n",
    "X_train = pd.concat([pd.DataFrame(X_train).reset_index(drop=True), pd.DataFrame(df_train_rest.toarray()).reset_index(drop=True)], ignore_index=True, sort=False, axis = 1)\n",
    "X_test = pd.concat([pd.DataFrame(X_test).reset_index(drop=True), pd.DataFrame(df_test_rest.toarray()).reset_index(drop=True)], ignore_index=True, sort=False, axis = 1)\n"
   ]
  },
  {
   "cell_type": "code",
   "execution_count": 49,
   "metadata": {},
   "outputs": [
    {
     "name": "stdout",
     "output_type": "stream",
     "text": [
      "Support Vector Classifier\n",
      "accuracy:   86.039\n",
      "              precision    recall  f1-score   support\n",
      "\n",
      "           0       0.89      0.94      0.91      2280\n",
      "           1       0.75      0.62      0.68       714\n",
      "\n",
      "    accuracy                           0.86      2994\n",
      "   macro avg       0.82      0.78      0.80      2994\n",
      "weighted avg       0.85      0.86      0.86      2994\n",
      "\n"
     ]
    },
    {
     "data": {
      "image/png": "[encoded data removed]",
      "text/plain": [
       "<Figure size 432x288 with 2 Axes>"
      ]
     },
     "metadata": {
      "needs_background": "light"
     },
     "output_type": "display_data"
    }
   ],
   "source": [
    "#LinearSVC\n",
    "clf = LinearSVC()\n",
    "\n",
    "model = clf.fit(X_train, y_train)\n",
    "prediction = model.predict(X_test)\n",
    "\n",
    "score = metrics.accuracy_score(y_test, prediction)\n",
    "f1score = metrics.classification_report(y_test, prediction)\n",
    "print('Support Vector Classifier')\n",
    "print(\"accuracy:   %0.3f\" % (score * 100))\n",
    "print(f1score)\n",
    "\n",
    "fig, ax = plot_confusion_matrix(conf_mat=confusion_matrix(y_test, prediction),\n",
    "                                show_absolute=True,\n",
    "                                show_normed=True,\n",
    "                                colorbar=True)\n",
    "plt.show()"
   ]
  },
  {
   "cell_type": "code",
   "execution_count": 50,
   "metadata": {},
   "outputs": [
    {
     "name": "stdout",
     "output_type": "stream",
     "text": [
      "Support Vector Classifier\n",
      "accuracy:   85.104\n",
      "              precision    recall  f1-score   support\n",
      "\n",
      "           0       0.84      0.99      0.91      2280\n",
      "           1       0.92      0.41      0.57       714\n",
      "\n",
      "    accuracy                           0.85      2994\n",
      "   macro avg       0.88      0.70      0.74      2994\n",
      "weighted avg       0.86      0.85      0.83      2994\n",
      "\n"
     ]
    },
    {
     "data": {
      "image/png": "[encoded data removed]",
      "text/plain": [
       "<Figure size 432x288 with 2 Axes>"
      ]
     },
     "metadata": {
      "needs_background": "light"
     },
     "output_type": "display_data"
    }
   ],
   "source": [
    "#SVC\n",
    "clf = SVC()\n",
    "\n",
    "model = clf.fit(X_train, y_train)\n",
    "prediction = model.predict(X_test)\n",
    "\n",
    "score = metrics.accuracy_score(y_test, prediction)\n",
    "f1score = metrics.classification_report(y_test, prediction)\n",
    "print('Support Vector Classifier')\n",
    "print(\"accuracy:   %0.3f\" % (score * 100))\n",
    "print(f1score)\n",
    "\n",
    "fig, ax = plot_confusion_matrix(conf_mat=confusion_matrix(y_test, prediction),\n",
    "                                show_absolute=True,\n",
    "                                show_normed=True,\n",
    "                                colorbar=True)\n",
    "plt.show()"
   ]
  },
  {
   "cell_type": "code",
   "execution_count": 51,
   "metadata": {},
   "outputs": [
    {
     "name": "stdout",
     "output_type": "stream",
     "text": [
      "Passive Aggressive Classifier\n",
      "accuracy:   83.567\n",
      "              precision    recall  f1-score   support\n",
      "\n",
      "           0       0.88      0.91      0.89      2280\n",
      "           1       0.68      0.60      0.63       714\n",
      "\n",
      "    accuracy                           0.84      2994\n",
      "   macro avg       0.78      0.75      0.76      2994\n",
      "weighted avg       0.83      0.84      0.83      2994\n",
      "\n"
     ]
    },
    {
     "data": {
      "image/png": "[encoded data removed]",
      "text/plain": [
       "<Figure size 432x288 with 2 Axes>"
      ]
     },
     "metadata": {
      "needs_background": "light"
     },
     "output_type": "display_data"
    }
   ],
   "source": [
    "#PAC\n",
    "clf = PassiveAggressiveClassifier(n_jobs=-1)\n",
    "\n",
    "model = clf.fit(X_train, y_train)\n",
    "prediction = model.predict(X_test)\n",
    "\n",
    "score = metrics.accuracy_score(y_test, prediction)\n",
    "f1score = metrics.classification_report(y_test, prediction)\n",
    "print('Passive Aggressive Classifier')\n",
    "print(\"accuracy:   %0.3f\" % (score * 100))\n",
    "print(f1score)\n",
    "\n",
    "fig, ax = plot_confusion_matrix(conf_mat=confusion_matrix(y_test, prediction),\n",
    "                                show_absolute=True,\n",
    "                                show_normed=True,\n",
    "                                colorbar=True)\n",
    "plt.show()"
   ]
  },
  {
   "cell_type": "markdown",
   "metadata": {},
   "source": [
    "## b. Partial Least Squares\n",
    "\n",
    "We will repeat all the previous steps for PLS. However since PLS cannot handle the bi-grams and tri-grams due to computational limitations, we limit the TFIDF to only unigrams."
   ]
  },
  {
   "cell_type": "code",
   "execution_count": 61,
   "metadata": {},
   "outputs": [],
   "source": [
    "df=fakenews_df.copy()\n",
    "vec = CountVectorizer(input='content',strip_accents='unicode',lowercase=True,ngram_range=(1,1),max_df=0.70,min_df=1)\n",
    "idf = TfidfTransformer()"
   ]
  },
  {
   "cell_type": "code",
   "execution_count": 62,
   "metadata": {},
   "outputs": [],
   "source": [
    "df.drop('index',axis=1,inplace=True)\n",
    "df.drop('text',axis=1,inplace=True)\n",
    "df.drop('title',axis=1,inplace=True)\n",
    "df.drop('proper_nouns',axis=1,inplace=True)\n",
    "df.drop('verbs',axis=1,inplace=True)\n",
    "df.drop('adj',axis=1,inplace=True)\n",
    "df.drop('ner',axis=1,inplace=True)\n",
    "df.drop('adverbs',axis=1,inplace=True)\n",
    "df.drop('site_name',axis=1,inplace=True)\n",
    "df.drop('text_length',axis=1,inplace=True)\n",
    "df.drop('type',axis=1,inplace=True)\n",
    "df.drop('authors',axis=1,inplace=True)\n",
    "\n",
    "df['normal_text'] = 6 * (df.normal_title) + df.normal_text\n",
    "df['news_type'] = fakenews_df.fake.apply(int).tolist()\n",
    "df['normal_text'] = df['normal_text'].apply(' '.join)\n",
    "\n",
    "df.drop('fake',axis=1,inplace=True)\n",
    "df.drop('normal_title',axis=1,inplace=True)\n"
   ]
  },
  {
   "cell_type": "code",
   "execution_count": 63,
   "metadata": {},
   "outputs": [],
   "source": [
    "# splitting data for training and testing\n",
    "\n",
    "np.random.seed(11)\n",
    "df_train, df_test = train_test_split(df, test_size=0.2, random_state=1) "
   ]
  },
  {
   "cell_type": "code",
   "execution_count": 64,
   "metadata": {},
   "outputs": [],
   "source": [
    "pipe_tfidf = Pipeline([\n",
    "    ('vect', vec),\n",
    "    ('tfidf', idf)\n",
    "])"
   ]
  },
  {
   "cell_type": "code",
   "execution_count": 65,
   "metadata": {},
   "outputs": [],
   "source": [
    "pipe_trained_tfidf = pipe_tfidf.fit(df_train['normal_text'])"
   ]
  },
  {
   "cell_type": "code",
   "execution_count": 66,
   "metadata": {},
   "outputs": [],
   "source": [
    "df_train_tfidf = pipe_trained_tfidf.transform(df_train['normal_text'])\n",
    "df_test_tfidf = pipe_trained_tfidf.transform(df_test['normal_text'])"
   ]
  },
  {
   "cell_type": "code",
   "execution_count": 67,
   "metadata": {},
   "outputs": [],
   "source": [
    "df_train_rest=df_train.copy()\n",
    "df_train_rest.drop('normal_text',axis=1,inplace=True)\n",
    "df_train_rest.drop('news_type',axis=1,inplace=True)\n",
    "#df_train_rest.drop('scaled_text_length',axis=1,inplace=True)\n",
    "\n",
    "df_test_rest=df_test.copy()\n",
    "df_test_rest.drop('normal_text',axis=1,inplace=True)\n",
    "df_test_rest.drop('news_type',axis=1,inplace=True)\n",
    "#df_test_rest.drop('scaled_text_length',axis=1,inplace=True)\n",
    "\n",
    "df_train_rest = scipy.sparse.csr_matrix(df_train_rest.values).copy() #convert df to array using values and then to sparse matrix\n",
    "df_test_rest = scipy.sparse.csr_matrix(df_test_rest.values).copy()"
   ]
  },
  {
   "cell_type": "markdown",
   "metadata": {},
   "source": [
    "### dimension reduction (tfidf + metadata) (Type 1)"
   ]
  },
  {
   "cell_type": "code",
   "execution_count": 68,
   "metadata": {},
   "outputs": [],
   "source": [
    "X_train = hstack((df_train_tfidf,df_train_rest))\n",
    "X_test = hstack((df_test_tfidf,df_test_rest))\n",
    "y_train = df_train['news_type'].copy()\n",
    "y_test = df_test['news_type'].copy()\n",
    "\n",
    "from sklearn.cross_decomposition import PLSRegression\n",
    "PLS1 = PLSRegression(n_components=100)\n",
    "\n",
    "PLS1_XMER = PLS1.fit(X_train.toarray(),y_train)\n",
    "\n",
    "X_train = PLS1_XMER.transform(X_train.toarray())\n",
    "X_test = PLS1_XMER.transform(X_test.toarray())\n"
   ]
  },
  {
   "cell_type": "code",
   "execution_count": 69,
   "metadata": {},
   "outputs": [
    {
     "name": "stderr",
     "output_type": "stream",
     "text": [
      "C:\\ProgramData\\Anaconda3\\envs\\NLP Project\\lib\\site-packages\\sklearn\\svm\\_base.py:977: ConvergenceWarning: Liblinear failed to converge, increase the number of iterations.\n",
      "  \"the number of iterations.\", ConvergenceWarning)\n"
     ]
    },
    {
     "name": "stdout",
     "output_type": "stream",
     "text": [
      "Support Vector Classifier\n",
      "accuracy:   58.417\n",
      "              precision    recall  f1-score   support\n",
      "\n",
      "           0       0.84      0.56      0.67      2280\n",
      "           1       0.32      0.65      0.43       714\n",
      "\n",
      "    accuracy                           0.58      2994\n",
      "   macro avg       0.58      0.61      0.55      2994\n",
      "weighted avg       0.71      0.58      0.61      2994\n",
      "\n"
     ]
    },
    {
     "data": {
      "image/png": "[encoded data removed]",
      "text/plain": [
       "<Figure size 432x288 with 2 Axes>"
      ]
     },
     "metadata": {
      "needs_background": "light"
     },
     "output_type": "display_data"
    }
   ],
   "source": [
    "#LinearSVC\n",
    "clf = LinearSVC()\n",
    "\n",
    "model = clf.fit(X_train, y_train)\n",
    "prediction = model.predict(X_test)\n",
    "\n",
    "score = metrics.accuracy_score(y_test, prediction)\n",
    "f1score = metrics.classification_report(y_test, prediction)\n",
    "print('Support Vector Classifier')\n",
    "print(\"accuracy:   %0.3f\" % (score * 100))\n",
    "print(f1score)\n",
    "\n",
    "fig, ax = plot_confusion_matrix(conf_mat=confusion_matrix(y_test, prediction),\n",
    "                                show_absolute=True,\n",
    "                                show_normed=True,\n",
    "                                colorbar=True)\n",
    "plt.show()"
   ]
  },
  {
   "cell_type": "code",
   "execution_count": 70,
   "metadata": {},
   "outputs": [
    {
     "name": "stdout",
     "output_type": "stream",
     "text": [
      "Support Vector Classifier\n",
      "accuracy:   80.628\n",
      "              precision    recall  f1-score   support\n",
      "\n",
      "           0       0.84      0.92      0.88      2280\n",
      "           1       0.63      0.46      0.53       714\n",
      "\n",
      "    accuracy                           0.81      2994\n",
      "   macro avg       0.74      0.69      0.70      2994\n",
      "weighted avg       0.79      0.81      0.79      2994\n",
      "\n"
     ]
    },
    {
     "data": {
      "image/png": "[encoded data removed]",
      "text/plain": [
       "<Figure size 432x288 with 2 Axes>"
      ]
     },
     "metadata": {
      "needs_background": "light"
     },
     "output_type": "display_data"
    }
   ],
   "source": [
    "#SVC\n",
    "clf = SVC()\n",
    "\n",
    "model = clf.fit(X_train, y_train)\n",
    "prediction = model.predict(X_test)\n",
    "\n",
    "score = metrics.accuracy_score(y_test, prediction)\n",
    "f1score = metrics.classification_report(y_test, prediction)\n",
    "print('Support Vector Classifier')\n",
    "print(\"accuracy:   %0.3f\" % (score * 100))\n",
    "print(f1score)\n",
    "\n",
    "fig, ax = plot_confusion_matrix(conf_mat=confusion_matrix(y_test, prediction),\n",
    "                                show_absolute=True,\n",
    "                                show_normed=True,\n",
    "                                colorbar=True)\n",
    "plt.show()"
   ]
  },
  {
   "cell_type": "code",
   "execution_count": 71,
   "metadata": {},
   "outputs": [
    {
     "name": "stdout",
     "output_type": "stream",
     "text": [
      "Passive Aggressive Classifier\n",
      "accuracy:   57.448\n",
      "              precision    recall  f1-score   support\n",
      "\n",
      "           0       0.84      0.55      0.66      2280\n",
      "           1       0.31      0.66      0.43       714\n",
      "\n",
      "    accuracy                           0.57      2994\n",
      "   macro avg       0.58      0.60      0.54      2994\n",
      "weighted avg       0.71      0.57      0.61      2994\n",
      "\n"
     ]
    },
    {
     "data": {
      "image/png": "[encoded data removed]",
      "text/plain": [
       "<Figure size 432x288 with 2 Axes>"
      ]
     },
     "metadata": {
      "needs_background": "light"
     },
     "output_type": "display_data"
    }
   ],
   "source": [
    "#PAC\n",
    "clf = PassiveAggressiveClassifier(n_jobs=-1)\n",
    "\n",
    "model = clf.fit(X_train, y_train)\n",
    "prediction = model.predict(X_test)\n",
    "\n",
    "score = metrics.accuracy_score(y_test, prediction)\n",
    "f1score = metrics.classification_report(y_test, prediction)\n",
    "print('Passive Aggressive Classifier')\n",
    "print(\"accuracy:   %0.3f\" % (score * 100))\n",
    "print(f1score)\n",
    "\n",
    "fig, ax = plot_confusion_matrix(conf_mat=confusion_matrix(y_test, prediction),\n",
    "                                show_absolute=True,\n",
    "                                show_normed=True,\n",
    "                                colorbar=True)\n",
    "plt.show()"
   ]
  },
  {
   "cell_type": "markdown",
   "metadata": {},
   "source": [
    "### dimension reduction (tfidf)"
   ]
  },
  {
   "cell_type": "code",
   "execution_count": 72,
   "metadata": {},
   "outputs": [],
   "source": [
    "X_train = df_train_tfidf\n",
    "X_test = df_test_tfidf\n",
    "y_train = df_train['news_type'].copy()\n",
    "y_test = df_test['news_type'].copy()\n",
    "\n",
    "from sklearn.cross_decomposition import PLSRegression\n",
    "PLS1 = PLSRegression(n_components=100)\n",
    "\n",
    "PLS1_XMER = PLS1.fit(X_train.toarray(),y_train)\n",
    "\n",
    "X_train = PLS1_XMER.transform(X_train.toarray())\n",
    "X_test = PLS1_XMER.transform(X_test.toarray())"
   ]
  },
  {
   "cell_type": "code",
   "execution_count": 73,
   "metadata": {},
   "outputs": [
    {
     "name": "stderr",
     "output_type": "stream",
     "text": [
      "C:\\ProgramData\\Anaconda3\\envs\\NLP Project\\lib\\site-packages\\sklearn\\svm\\_base.py:977: ConvergenceWarning: Liblinear failed to converge, increase the number of iterations.\n",
      "  \"the number of iterations.\", ConvergenceWarning)\n"
     ]
    },
    {
     "name": "stdout",
     "output_type": "stream",
     "text": [
      "Support Vector Classifier\n",
      "accuracy:   58.450\n",
      "              precision    recall  f1-score   support\n",
      "\n",
      "           0       0.85      0.55      0.67      2280\n",
      "           1       0.32      0.68      0.44       714\n",
      "\n",
      "    accuracy                           0.58      2994\n",
      "   macro avg       0.59      0.62      0.55      2994\n",
      "weighted avg       0.72      0.58      0.61      2994\n",
      "\n"
     ]
    },
    {
     "data": {
      "image/png": "[encoded data removed]",
      "text/plain": [
       "<Figure size 432x288 with 2 Axes>"
      ]
     },
     "metadata": {
      "needs_background": "light"
     },
     "output_type": "display_data"
    }
   ],
   "source": [
    "#LinearSVC\n",
    "clf = LinearSVC()\n",
    "\n",
    "model = clf.fit(X_train, y_train)\n",
    "prediction = model.predict(X_test)\n",
    "\n",
    "score = metrics.accuracy_score(y_test, prediction)\n",
    "f1score = metrics.classification_report(y_test, prediction)\n",
    "print('Support Vector Classifier')\n",
    "print(\"accuracy:   %0.3f\" % (score * 100))\n",
    "print(f1score)\n",
    "\n",
    "fig, ax = plot_confusion_matrix(conf_mat=confusion_matrix(y_test, prediction),\n",
    "                                show_absolute=True,\n",
    "                                show_normed=True,\n",
    "                                colorbar=True)\n",
    "plt.show()"
   ]
  },
  {
   "cell_type": "code",
   "execution_count": 74,
   "metadata": {},
   "outputs": [
    {
     "name": "stdout",
     "output_type": "stream",
     "text": [
      "Support Vector Classifier\n",
      "accuracy:   78.724\n",
      "              precision    recall  f1-score   support\n",
      "\n",
      "           0       0.81      0.94      0.87      2280\n",
      "           1       0.60      0.31      0.41       714\n",
      "\n",
      "    accuracy                           0.79      2994\n",
      "   macro avg       0.71      0.62      0.64      2994\n",
      "weighted avg       0.76      0.79      0.76      2994\n",
      "\n"
     ]
    },
    {
     "data": {
      "image/png": "[encoded data removed]",
      "text/plain": [
       "<Figure size 432x288 with 2 Axes>"
      ]
     },
     "metadata": {
      "needs_background": "light"
     },
     "output_type": "display_data"
    }
   ],
   "source": [
    "#SVC\n",
    "clf = SVC()\n",
    "\n",
    "model = clf.fit(X_train, y_train)\n",
    "prediction = model.predict(X_test)\n",
    "\n",
    "score = metrics.accuracy_score(y_test, prediction)\n",
    "f1score = metrics.classification_report(y_test, prediction)\n",
    "print('Support Vector Classifier')\n",
    "print(\"accuracy:   %0.3f\" % (score * 100))\n",
    "print(f1score)\n",
    "\n",
    "fig, ax = plot_confusion_matrix(conf_mat=confusion_matrix(y_test, prediction),\n",
    "                                show_absolute=True,\n",
    "                                show_normed=True,\n",
    "                                colorbar=True)\n",
    "plt.show()"
   ]
  },
  {
   "cell_type": "code",
   "execution_count": 75,
   "metadata": {},
   "outputs": [
    {
     "name": "stdout",
     "output_type": "stream",
     "text": [
      "Passive Aggressive Classifier\n",
      "accuracy:   55.043\n",
      "              precision    recall  f1-score   support\n",
      "\n",
      "           0       0.83      0.51      0.63      2280\n",
      "           1       0.30      0.67      0.42       714\n",
      "\n",
      "    accuracy                           0.55      2994\n",
      "   macro avg       0.57      0.59      0.53      2994\n",
      "weighted avg       0.71      0.55      0.58      2994\n",
      "\n"
     ]
    },
    {
     "data": {
      "image/png": "[encoded data removed]",
      "text/plain": [
       "<Figure size 432x288 with 2 Axes>"
      ]
     },
     "metadata": {
      "needs_background": "light"
     },
     "output_type": "display_data"
    }
   ],
   "source": [
    "#PAC\n",
    "clf = PassiveAggressiveClassifier(n_jobs=-1)\n",
    "\n",
    "model = clf.fit(X_train, y_train)\n",
    "prediction = model.predict(X_test)\n",
    "\n",
    "score = metrics.accuracy_score(y_test, prediction)\n",
    "f1score = metrics.classification_report(y_test, prediction)\n",
    "print('Passive Aggressive Classifier')\n",
    "print(\"accuracy:   %0.3f\" % (score * 100))\n",
    "print(f1score)\n",
    "\n",
    "fig, ax = plot_confusion_matrix(conf_mat=confusion_matrix(y_test, prediction),\n",
    "                                show_absolute=True,\n",
    "                                show_normed=True,\n",
    "                                colorbar=True)\n",
    "plt.show()"
   ]
  },
  {
   "cell_type": "markdown",
   "metadata": {},
   "source": [
    "### dimension reduction (tfidf) + metadata"
   ]
  },
  {
   "cell_type": "code",
   "execution_count": 76,
   "metadata": {},
   "outputs": [],
   "source": [
    "X_train = df_train_tfidf\n",
    "X_test = df_test_tfidf\n",
    "y_train = df_train['news_type'].copy()\n",
    "y_test = df_test['news_type'].copy()\n",
    "\n",
    "from sklearn.cross_decomposition import PLSRegression\n",
    "PLS1 = PLSRegression(n_components=100)\n",
    "\n",
    "PLS1_XMER = PLS1.fit(X_train.toarray(),y_train)\n",
    "\n",
    "X_train = PLS1_XMER.transform(X_train.toarray())\n",
    "X_test = PLS1_XMER.transform(X_test.toarray())\n",
    "\n",
    "X_train = pd.concat([pd.DataFrame(X_train).reset_index(drop=True), pd.DataFrame(df_train_rest.toarray()).reset_index(drop=True)], ignore_index=True, sort=False, axis = 1)\n",
    "X_test = pd.concat([pd.DataFrame(X_test).reset_index(drop=True), pd.DataFrame(df_test_rest.toarray()).reset_index(drop=True)], ignore_index=True, sort=False, axis = 1)\n"
   ]
  },
  {
   "cell_type": "code",
   "execution_count": 77,
   "metadata": {},
   "outputs": [
    {
     "name": "stderr",
     "output_type": "stream",
     "text": [
      "C:\\ProgramData\\Anaconda3\\envs\\NLP Project\\lib\\site-packages\\sklearn\\svm\\_base.py:977: ConvergenceWarning: Liblinear failed to converge, increase the number of iterations.\n",
      "  \"the number of iterations.\", ConvergenceWarning)\n"
     ]
    },
    {
     "name": "stdout",
     "output_type": "stream",
     "text": [
      "Support Vector Classifier\n",
      "accuracy:   60.488\n",
      "              precision    recall  f1-score   support\n",
      "\n",
      "           0       0.83      0.60      0.70      2280\n",
      "           1       0.32      0.61      0.42       714\n",
      "\n",
      "    accuracy                           0.60      2994\n",
      "   macro avg       0.58      0.60      0.56      2994\n",
      "weighted avg       0.71      0.60      0.63      2994\n",
      "\n"
     ]
    },
    {
     "data": {
      "image/png": "[encoded data removed]",
      "text/plain": [
       "<Figure size 432x288 with 2 Axes>"
      ]
     },
     "metadata": {
      "needs_background": "light"
     },
     "output_type": "display_data"
    }
   ],
   "source": [
    "#LinearSVC\n",
    "clf = LinearSVC()\n",
    "\n",
    "model = clf.fit(X_train, y_train)\n",
    "prediction = model.predict(X_test)\n",
    "\n",
    "score = metrics.accuracy_score(y_test, prediction)\n",
    "f1score = metrics.classification_report(y_test, prediction)\n",
    "print('Support Vector Classifier')\n",
    "print(\"accuracy:   %0.3f\" % (score * 100))\n",
    "print(f1score)\n",
    "\n",
    "fig, ax = plot_confusion_matrix(conf_mat=confusion_matrix(y_test, prediction),\n",
    "                                show_absolute=True,\n",
    "                                show_normed=True,\n",
    "                                colorbar=True)\n",
    "plt.show()"
   ]
  },
  {
   "cell_type": "code",
   "execution_count": 78,
   "metadata": {},
   "outputs": [
    {
     "name": "stdout",
     "output_type": "stream",
     "text": [
      "Support Vector Classifier\n",
      "accuracy:   78.858\n",
      "              precision    recall  f1-score   support\n",
      "\n",
      "           0       0.81      0.94      0.87      2280\n",
      "           1       0.61      0.31      0.41       714\n",
      "\n",
      "    accuracy                           0.79      2994\n",
      "   macro avg       0.71      0.63      0.64      2994\n",
      "weighted avg       0.77      0.79      0.76      2994\n",
      "\n"
     ]
    },
    {
     "data": {
      "image/png": "[encoded data removed]",
      "text/plain": [
       "<Figure size 432x288 with 2 Axes>"
      ]
     },
     "metadata": {
      "needs_background": "light"
     },
     "output_type": "display_data"
    }
   ],
   "source": [
    "#SVC\n",
    "clf = SVC()\n",
    "\n",
    "model = clf.fit(X_train, y_train)\n",
    "prediction = model.predict(X_test)\n",
    "\n",
    "score = metrics.accuracy_score(y_test, prediction)\n",
    "f1score = metrics.classification_report(y_test, prediction)\n",
    "print('Support Vector Classifier')\n",
    "print(\"accuracy:   %0.3f\" % (score * 100))\n",
    "print(f1score)\n",
    "\n",
    "fig, ax = plot_confusion_matrix(conf_mat=confusion_matrix(y_test, prediction),\n",
    "                                show_absolute=True,\n",
    "                                show_normed=True,\n",
    "                                colorbar=True)\n",
    "plt.show()"
   ]
  },
  {
   "cell_type": "code",
   "execution_count": 79,
   "metadata": {},
   "outputs": [
    {
     "name": "stdout",
     "output_type": "stream",
     "text": [
      "Passive Aggressive Classifier\n",
      "accuracy:   66.566\n",
      "              precision    recall  f1-score   support\n",
      "\n",
      "           0       0.86      0.67      0.75      2280\n",
      "           1       0.38      0.65      0.48       714\n",
      "\n",
      "    accuracy                           0.67      2994\n",
      "   macro avg       0.62      0.66      0.62      2994\n",
      "weighted avg       0.75      0.67      0.69      2994\n",
      "\n"
     ]
    },
    {
     "data": {
      "image/png": "[encoded data removed]",
      "text/plain": [
       "<Figure size 432x288 with 2 Axes>"
      ]
     },
     "metadata": {
      "needs_background": "light"
     },
     "output_type": "display_data"
    }
   ],
   "source": [
    "#PAC\n",
    "clf = PassiveAggressiveClassifier(n_jobs=-1)\n",
    "\n",
    "model = clf.fit(X_train, y_train)\n",
    "prediction = model.predict(X_test)\n",
    "\n",
    "score = metrics.accuracy_score(y_test, prediction)\n",
    "f1score = metrics.classification_report(y_test, prediction)\n",
    "print('Passive Aggressive Classifier')\n",
    "print(\"accuracy:   %0.3f\" % (score * 100))\n",
    "print(f1score)\n",
    "\n",
    "fig, ax = plot_confusion_matrix(conf_mat=confusion_matrix(y_test, prediction),\n",
    "                                show_absolute=True,\n",
    "                                show_normed=True,\n",
    "                                colorbar=True)\n",
    "plt.show()"
   ]
  },
  {
   "cell_type": "markdown",
   "metadata": {},
   "source": [
    "# Hyper parameter tuning for SVC"
   ]
  },
  {
   "cell_type": "markdown",
   "metadata": {},
   "source": [
    "### We use the SVD reduced dimension space (n=100) that were derived only from the TFIDF as input."
   ]
  },
  {
   "cell_type": "code",
   "execution_count": 8,
   "metadata": {},
   "outputs": [],
   "source": [
    "df=fakenews_df.copy()\n",
    "vec = CountVectorizer(input='content',strip_accents='unicode',lowercase=True,ngram_range=(1,3),max_df=0.70,min_df=1)\n",
    "idf = TfidfTransformer()"
   ]
  },
  {
   "cell_type": "code",
   "execution_count": 9,
   "metadata": {},
   "outputs": [],
   "source": [
    "df.drop('index',axis=1,inplace=True)\n",
    "df.drop('text',axis=1,inplace=True)\n",
    "df.drop('title',axis=1,inplace=True)\n",
    "df.drop('proper_nouns',axis=1,inplace=True)\n",
    "df.drop('verbs',axis=1,inplace=True)\n",
    "df.drop('adj',axis=1,inplace=True)\n",
    "df.drop('ner',axis=1,inplace=True)\n",
    "df.drop('adverbs',axis=1,inplace=True)\n",
    "df.drop('site_name',axis=1,inplace=True)\n",
    "df.drop('text_length',axis=1,inplace=True)\n",
    "df.drop('type',axis=1,inplace=True)\n",
    "df.drop('authors',axis=1,inplace=True)\n",
    "\n",
    "df['normal_text'] = 6 * (df.normal_title) + df.normal_text\n",
    "df['news_type'] = fakenews_df.fake.apply(int).tolist()\n",
    "df['normal_text'] = df['normal_text'].apply(' '.join)\n",
    "\n",
    "df.drop('fake',axis=1,inplace=True)\n",
    "df.drop('normal_title',axis=1,inplace=True)\n"
   ]
  },
  {
   "cell_type": "code",
   "execution_count": 10,
   "metadata": {},
   "outputs": [],
   "source": [
    "# splitting data for training and testing\n",
    "\n",
    "np.random.seed(11)\n",
    "df_train, df_test = train_test_split(df, test_size=0.2, random_state=1) "
   ]
  },
  {
   "cell_type": "code",
   "execution_count": 11,
   "metadata": {},
   "outputs": [],
   "source": [
    "pipe_tfidf = Pipeline([\n",
    "    ('vect', vec),\n",
    "    ('tfidf', idf)\n",
    "])"
   ]
  },
  {
   "cell_type": "code",
   "execution_count": 12,
   "metadata": {},
   "outputs": [],
   "source": [
    "pipe_trained_tfidf = pipe_tfidf.fit(df_train['normal_text'])"
   ]
  },
  {
   "cell_type": "code",
   "execution_count": 13,
   "metadata": {},
   "outputs": [],
   "source": [
    "df_train_tfidf = pipe_trained_tfidf.transform(df_train['normal_text'])\n",
    "df_test_tfidf = pipe_trained_tfidf.transform(df_test['normal_text'])"
   ]
  },
  {
   "cell_type": "code",
   "execution_count": 14,
   "metadata": {},
   "outputs": [],
   "source": [
    "df_train_rest=df_train.copy()\n",
    "df_train_rest.drop('normal_text',axis=1,inplace=True)\n",
    "df_train_rest.drop('news_type',axis=1,inplace=True)\n",
    "#df_train_rest.drop('scaled_text_length',axis=1,inplace=True)\n",
    "\n",
    "df_test_rest=df_test.copy()\n",
    "df_test_rest.drop('normal_text',axis=1,inplace=True)\n",
    "df_test_rest.drop('news_type',axis=1,inplace=True)\n",
    "#df_test_rest.drop('scaled_text_length',axis=1,inplace=True)\n",
    "\n",
    "df_train_rest = scipy.sparse.csr_matrix(df_train_rest.values).copy() #convert df to array using values and then to sparse matrix\n",
    "df_test_rest = scipy.sparse.csr_matrix(df_test_rest.values).copy()"
   ]
  },
  {
   "cell_type": "code",
   "execution_count": 143,
   "metadata": {},
   "outputs": [],
   "source": [
    "X_train = df_train_tfidf\n",
    "X_test = df_test_tfidf\n",
    "y_train = df_train['news_type'].copy()\n",
    "y_test = df_test['news_type'].copy()\n",
    "\n",
    "from sklearn.decomposition import TruncatedSVD\n",
    "SVD = TruncatedSVD(n_components=100, random_state=99)\n",
    "\n",
    "SVD_XMER = SVD.fit(X_train)\n",
    "\n",
    "X_train = SVD_XMER.transform(X_train)\n",
    "X_test = SVD_XMER.transform(X_test)"
   ]
  },
  {
   "cell_type": "markdown",
   "metadata": {},
   "source": [
    "## Radial Kernels"
   ]
  },
  {
   "cell_type": "code",
   "execution_count": 90,
   "metadata": {},
   "outputs": [
    {
     "name": "stdout",
     "output_type": "stream",
     "text": [
      "Fitting 5 folds for each of 25 candidates, totalling 125 fits\n"
     ]
    },
    {
     "name": "stderr",
     "output_type": "stream",
     "text": [
      "[Parallel(n_jobs=-1)]: Using backend LokyBackend with 8 concurrent workers.\n",
      "[Parallel(n_jobs=-1)]: Done  16 tasks      | elapsed:   42.5s\n",
      "[Parallel(n_jobs=-1)]: Done 125 out of 125 | elapsed:  4.9min finished\n"
     ]
    },
    {
     "data": {
      "text/plain": [
       "GridSearchCV(estimator=SVC(), n_jobs=-1,\n",
       "             param_grid={'C': [0.1, 1, 10, 100, 1000],\n",
       "                         'gamma': [1, 0.1, 0.01, 0.001, 0.0001],\n",
       "                         'kernel': ['rbf']},\n",
       "             refit='f1', scoring=['recall', 'f1'], verbose=3)"
      ]
     },
     "execution_count": 90,
     "metadata": {},
     "output_type": "execute_result"
    }
   ],
   "source": [
    "from sklearn.model_selection import GridSearchCV \n",
    "  \n",
    "# defining parameter range \n",
    "param_grid = {'C': [0.1, 1, 10, 100, 1000],  \n",
    "              'gamma': [1, 0.1, 0.01, 0.001, 0.0001], \n",
    "              'kernel': ['rbf']}  \n",
    "  \n",
    "grid = GridSearchCV(SVC(), param_grid, scoring=['recall','f1'], refit = 'f1', verbose = 3, n_jobs=-1) \n",
    "  \n",
    "# fitting the model for grid search \n",
    "grid.fit(X_train, y_train) "
   ]
  },
  {
   "cell_type": "code",
   "execution_count": 92,
   "metadata": {},
   "outputs": [
    {
     "name": "stdout",
     "output_type": "stream",
     "text": [
      "{'C': 1000, 'gamma': 1, 'kernel': 'rbf'}\n",
      "SVC(C=1000, gamma=1)\n"
     ]
    }
   ],
   "source": [
    "# print best parameter after tuning \n",
    "print(grid.best_params_) \n",
    "  \n",
    "# print how our model looks after hyper-parameter tuning \n",
    "print(grid.best_estimator_) "
   ]
  },
  {
   "cell_type": "code",
   "execution_count": 91,
   "metadata": {},
   "outputs": [
    {
     "name": "stdout",
     "output_type": "stream",
     "text": [
      "Support Vector Classifier\n",
      "accuracy:   84.369\n",
      "              precision    recall  f1-score   support\n",
      "\n",
      "           0       0.89      0.91      0.90      2280\n",
      "           1       0.68      0.64      0.66       714\n",
      "\n",
      "    accuracy                           0.84      2994\n",
      "   macro avg       0.79      0.77      0.78      2994\n",
      "weighted avg       0.84      0.84      0.84      2994\n",
      "\n"
     ]
    },
    {
     "data": {
      "image/png": "[encoded data removed]",
      "text/plain": [
       "<Figure size 432x288 with 2 Axes>"
      ]
     },
     "metadata": {
      "needs_background": "light"
     },
     "output_type": "display_data"
    }
   ],
   "source": [
    "prediction = grid.predict(X_test)\n",
    "\n",
    "score = metrics.accuracy_score(y_test, prediction)\n",
    "f1score = metrics.classification_report(y_test, prediction)\n",
    "print('Support Vector Classifier')\n",
    "print(\"accuracy:   %0.3f\" % (score * 100))\n",
    "print(f1score)\n",
    "\n",
    "fig, ax = plot_confusion_matrix(conf_mat=confusion_matrix(y_test, prediction),\n",
    "                                show_absolute=True,\n",
    "                                show_normed=True,\n",
    "                                colorbar=True)\n",
    "plt.show()"
   ]
  },
  {
   "cell_type": "code",
   "execution_count": 96,
   "metadata": {},
   "outputs": [
    {
     "name": "stdout",
     "output_type": "stream",
     "text": [
      "Fitting 5 folds for each of 25 candidates, totalling 125 fits\n"
     ]
    },
    {
     "name": "stderr",
     "output_type": "stream",
     "text": [
      "[Parallel(n_jobs=-1)]: Using backend LokyBackend with 8 concurrent workers.\n",
      "[Parallel(n_jobs=-1)]: Done  16 tasks      | elapsed:   43.3s\n",
      "[Parallel(n_jobs=-1)]: Done 125 out of 125 | elapsed:  5.2min finished\n"
     ]
    },
    {
     "data": {
      "text/plain": [
       "GridSearchCV(estimator=SVC(), n_jobs=-1,\n",
       "             param_grid={'C': [0.1, 1, 10, 100, 1000],\n",
       "                         'gamma': [1, 0.1, 0.01, 0.001, 0.0001],\n",
       "                         'kernel': ['rbf']},\n",
       "             verbose=3)"
      ]
     },
     "execution_count": 96,
     "metadata": {},
     "output_type": "execute_result"
    }
   ],
   "source": [
    "from sklearn.model_selection import GridSearchCV \n",
    "  \n",
    "# defining parameter range \n",
    "param_grid = {'C': [0.1, 1, 10, 100, 1000],  \n",
    "              'gamma': [1, 0.1, 0.01, 0.001, 0.0001], \n",
    "              'kernel': ['rbf']}  \n",
    "  \n",
    "grid = GridSearchCV(SVC(), param_grid, refit = True, verbose = 3, n_jobs=-1) \n",
    "  \n",
    "# fitting the model for grid search \n",
    "grid.fit(X_train, y_train) "
   ]
  },
  {
   "cell_type": "code",
   "execution_count": 97,
   "metadata": {},
   "outputs": [
    {
     "name": "stdout",
     "output_type": "stream",
     "text": [
      "{'C': 1000, 'gamma': 0.1, 'kernel': 'rbf'}\n",
      "SVC(C=1000, gamma=0.1)\n"
     ]
    }
   ],
   "source": [
    "# print best parameter after tuning \n",
    "print(grid.best_params_) \n",
    "  \n",
    "# print how our model looks after hyper-parameter tuning \n",
    "print(grid.best_estimator_) "
   ]
  },
  {
   "cell_type": "code",
   "execution_count": 98,
   "metadata": {},
   "outputs": [
    {
     "name": "stdout",
     "output_type": "stream",
     "text": [
      "Support Vector Classifier\n",
      "accuracy:   86.774\n",
      "              precision    recall  f1-score   support\n",
      "\n",
      "           0       0.89      0.94      0.92      2280\n",
      "           1       0.78      0.63      0.69       714\n",
      "\n",
      "    accuracy                           0.87      2994\n",
      "   macro avg       0.83      0.78      0.80      2994\n",
      "weighted avg       0.86      0.87      0.86      2994\n",
      "\n"
     ]
    },
    {
     "data": {
      "image/png": "[encoded data removed]",
      "text/plain": [
       "<Figure size 432x288 with 2 Axes>"
      ]
     },
     "metadata": {
      "needs_background": "light"
     },
     "output_type": "display_data"
    }
   ],
   "source": [
    "prediction = grid.predict(X_test)\n",
    "\n",
    "score = metrics.accuracy_score(y_test, prediction)\n",
    "f1score = metrics.classification_report(y_test, prediction)\n",
    "print('Support Vector Classifier')\n",
    "print(\"accuracy:   %0.3f\" % (score * 100))\n",
    "print(f1score)\n",
    "\n",
    "fig, ax = plot_confusion_matrix(conf_mat=confusion_matrix(y_test, prediction),\n",
    "                                show_absolute=True,\n",
    "                                show_normed=True,\n",
    "                                colorbar=True)\n",
    "plt.show()"
   ]
  },
  {
   "cell_type": "code",
   "execution_count": 99,
   "metadata": {},
   "outputs": [
    {
     "name": "stdout",
     "output_type": "stream",
     "text": [
      "Fitting 5 folds for each of 20 candidates, totalling 100 fits\n"
     ]
    },
    {
     "name": "stderr",
     "output_type": "stream",
     "text": [
      "[Parallel(n_jobs=-1)]: Using backend LokyBackend with 8 concurrent workers.\n",
      "[Parallel(n_jobs=-1)]: Done  16 tasks      | elapsed:   41.8s\n",
      "[Parallel(n_jobs=-1)]: Done 100 out of 100 | elapsed: 12.2min finished\n"
     ]
    },
    {
     "data": {
      "text/plain": [
       "GridSearchCV(estimator=SVC(), n_jobs=-1,\n",
       "             param_grid={'C': [10, 100, 1000, 10000, 100000],\n",
       "                         'gamma': [10, 1, 0.1, 0.01], 'kernel': ['rbf']},\n",
       "             scoring='recall', verbose=3)"
      ]
     },
     "execution_count": 99,
     "metadata": {},
     "output_type": "execute_result"
    }
   ],
   "source": [
    "from sklearn.model_selection import GridSearchCV \n",
    "  \n",
    "# defining parameter range \n",
    "param_grid = {'C': [10, 100, 1000, 10000, 100000],  \n",
    "              'gamma': [10, 1, 0.1, 0.01], \n",
    "              'kernel': ['rbf']}  \n",
    "  \n",
    "grid = GridSearchCV(SVC(), param_grid, scoring='recall', refit = True, verbose = 3, n_jobs=-1) \n",
    "  \n",
    "# fitting the model for grid search \n",
    "grid.fit(X_train, y_train) "
   ]
  },
  {
   "cell_type": "code",
   "execution_count": 100,
   "metadata": {},
   "outputs": [
    {
     "name": "stdout",
     "output_type": "stream",
     "text": [
      "{'C': 10000, 'gamma': 1, 'kernel': 'rbf'}\n",
      "SVC(C=10000, gamma=1)\n"
     ]
    }
   ],
   "source": [
    "# print best parameter after tuning \n",
    "print(grid.best_params_) \n",
    "  \n",
    "# print how our model looks after hyper-parameter tuning \n",
    "print(grid.best_estimator_) "
   ]
  },
  {
   "cell_type": "code",
   "execution_count": 101,
   "metadata": {},
   "outputs": [
    {
     "name": "stdout",
     "output_type": "stream",
     "text": [
      "Support Vector Classifier\n",
      "accuracy:   81.997\n",
      "              precision    recall  f1-score   support\n",
      "\n",
      "           0       0.89      0.88      0.88      2280\n",
      "           1       0.62      0.64      0.63       714\n",
      "\n",
      "    accuracy                           0.82      2994\n",
      "   macro avg       0.75      0.76      0.75      2994\n",
      "weighted avg       0.82      0.82      0.82      2994\n",
      "\n"
     ]
    },
    {
     "data": {
      "image/png": "[encoded data removed]",
      "text/plain": [
       "<Figure size 432x288 with 2 Axes>"
      ]
     },
     "metadata": {
      "needs_background": "light"
     },
     "output_type": "display_data"
    }
   ],
   "source": [
    "prediction = grid.predict(X_test)\n",
    "\n",
    "score = metrics.accuracy_score(y_test, prediction)\n",
    "f1score = metrics.classification_report(y_test, prediction)\n",
    "print('Support Vector Classifier')\n",
    "print(\"accuracy:   %0.3f\" % (score * 100))\n",
    "print(f1score)\n",
    "\n",
    "fig, ax = plot_confusion_matrix(conf_mat=confusion_matrix(y_test, prediction),\n",
    "                                show_absolute=True,\n",
    "                                show_normed=True,\n",
    "                                colorbar=True)\n",
    "plt.show()"
   ]
  },
  {
   "cell_type": "markdown",
   "metadata": {},
   "source": [
    "## Linear Kernel"
   ]
  },
  {
   "cell_type": "code",
   "execution_count": 117,
   "metadata": {},
   "outputs": [
    {
     "name": "stdout",
     "output_type": "stream",
     "text": [
      "Fitting 5 folds for each of 4 candidates, totalling 20 fits\n"
     ]
    },
    {
     "name": "stderr",
     "output_type": "stream",
     "text": [
      "[Parallel(n_jobs=-1)]: Using backend LokyBackend with 8 concurrent workers.\n",
      "[Parallel(n_jobs=-1)]: Done  12 out of  20 | elapsed:   44.5s remaining:   29.6s\n",
      "[Parallel(n_jobs=-1)]: Done  20 out of  20 | elapsed:  2.1min finished\n"
     ]
    },
    {
     "data": {
      "text/plain": [
       "GridSearchCV(estimator=SVC(), n_jobs=-1,\n",
       "             param_grid={'C': [10, 100, 1000, 10000], 'kernel': ['linear']},\n",
       "             verbose=3)"
      ]
     },
     "execution_count": 117,
     "metadata": {},
     "output_type": "execute_result"
    }
   ],
   "source": [
    "from sklearn.model_selection import GridSearchCV \n",
    "  \n",
    "# defining parameter range \n",
    "param_grid = {'C': [10, 100, 1000, 10000],  \n",
    "              'kernel': ['linear']}  \n",
    "  \n",
    "#grid = GridSearchCV(SVC(), param_grid, scoring='f1', refit = True, verbose = 3, n_jobs=-1) \n",
    "grid = GridSearchCV(SVC(), param_grid, refit = True, verbose = 3, n_jobs=-1) \n",
    "\n",
    "# fitting the model for grid search \n",
    "grid.fit(X_train, y_train) "
   ]
  },
  {
   "cell_type": "code",
   "execution_count": 118,
   "metadata": {},
   "outputs": [
    {
     "name": "stdout",
     "output_type": "stream",
     "text": [
      "{'C': 1000, 'kernel': 'linear'}\n",
      "SVC(C=1000, kernel='linear')\n"
     ]
    }
   ],
   "source": [
    "# print best parameter after tuning \n",
    "print(grid.best_params_) \n",
    "  \n",
    "# print how our model looks after hyper-parameter tuning \n",
    "print(grid.best_estimator_) "
   ]
  },
  {
   "cell_type": "code",
   "execution_count": 119,
   "metadata": {},
   "outputs": [
    {
     "name": "stdout",
     "output_type": "stream",
     "text": [
      "Support Vector Classifier\n",
      "accuracy:   86.339\n",
      "              precision    recall  f1-score   support\n",
      "\n",
      "           0       0.89      0.94      0.91      2280\n",
      "           1       0.76      0.62      0.68       714\n",
      "\n",
      "    accuracy                           0.86      2994\n",
      "   macro avg       0.82      0.78      0.80      2994\n",
      "weighted avg       0.86      0.86      0.86      2994\n",
      "\n"
     ]
    },
    {
     "data": {
      "image/png": "[encoded data removed]",
      "text/plain": [
       "<Figure size 432x288 with 2 Axes>"
      ]
     },
     "metadata": {
      "needs_background": "light"
     },
     "output_type": "display_data"
    }
   ],
   "source": [
    "prediction = grid.predict(X_test)\n",
    "\n",
    "score = metrics.accuracy_score(y_test, prediction)\n",
    "f1score = metrics.classification_report(y_test, prediction)\n",
    "print('Support Vector Classifier')\n",
    "print(\"accuracy:   %0.3f\" % (score * 100))\n",
    "print(f1score)\n",
    "\n",
    "fig, ax = plot_confusion_matrix(conf_mat=confusion_matrix(y_test, prediction),\n",
    "                                show_absolute=True,\n",
    "                                show_normed=True,\n",
    "                                colorbar=True)\n",
    "plt.show()"
   ]
  },
  {
   "cell_type": "markdown",
   "metadata": {},
   "source": [
    "## Polynomial Kernel"
   ]
  },
  {
   "cell_type": "code",
   "execution_count": 114,
   "metadata": {},
   "outputs": [
    {
     "name": "stdout",
     "output_type": "stream",
     "text": [
      "Fitting 5 folds for each of 36 candidates, totalling 180 fits\n"
     ]
    },
    {
     "name": "stderr",
     "output_type": "stream",
     "text": [
      "[Parallel(n_jobs=-1)]: Using backend LokyBackend with 8 concurrent workers.\n",
      "[Parallel(n_jobs=-1)]: Done  16 tasks      | elapsed:   56.3s\n",
      "[Parallel(n_jobs=-1)]: Done 112 tasks      | elapsed:  7.1min\n",
      "[Parallel(n_jobs=-1)]: Done 180 out of 180 | elapsed: 24.2min finished\n"
     ]
    },
    {
     "data": {
      "text/plain": [
       "GridSearchCV(estimator=SVC(), n_jobs=-1,\n",
       "             param_grid={'C': [100, 1000, 10000], 'degree': [1, 2, 3],\n",
       "                         'gamma': [10, 1, 0.1, 0.01], 'kernel': ['poly']},\n",
       "             scoring='f1', verbose=3)"
      ]
     },
     "execution_count": 114,
     "metadata": {},
     "output_type": "execute_result"
    }
   ],
   "source": [
    "from sklearn.model_selection import GridSearchCV \n",
    "  \n",
    "# defining parameter range \n",
    "param_grid = {'C': [100, 1000, 10000],\n",
    "              'gamma': [10, 1, 0.1, 0.01],\n",
    "              'degree': [1,2,3],  \n",
    "              'kernel': ['poly']}  \n",
    "  \n",
    "grid = GridSearchCV(SVC(), param_grid, scoring='f1', refit = True, verbose = 3, n_jobs=-1) \n",
    "  \n",
    "# fitting the model for grid search \n",
    "grid.fit(X_train, y_train) "
   ]
  },
  {
   "cell_type": "code",
   "execution_count": 115,
   "metadata": {},
   "outputs": [
    {
     "name": "stdout",
     "output_type": "stream",
     "text": [
      "{'C': 10000, 'degree': 1, 'gamma': 10, 'kernel': 'poly'}\n",
      "SVC(C=10000, degree=1, gamma=10, kernel='poly')\n"
     ]
    }
   ],
   "source": [
    "# print best parameter after tuning \n",
    "print(grid.best_params_) \n",
    "  \n",
    "# print how our model looks after hyper-parameter tuning \n",
    "print(grid.best_estimator_) "
   ]
  },
  {
   "cell_type": "code",
   "execution_count": 116,
   "metadata": {},
   "outputs": [
    {
     "name": "stdout",
     "output_type": "stream",
     "text": [
      "Support Vector Classifier\n",
      "accuracy:   86.373\n",
      "              precision    recall  f1-score   support\n",
      "\n",
      "           0       0.89      0.94      0.91      2280\n",
      "           1       0.76      0.62      0.69       714\n",
      "\n",
      "    accuracy                           0.86      2994\n",
      "   macro avg       0.83      0.78      0.80      2994\n",
      "weighted avg       0.86      0.86      0.86      2994\n",
      "\n"
     ]
    },
    {
     "data": {
      "image/png": "[encoded data removed]",
      "text/plain": [
       "<Figure size 432x288 with 2 Axes>"
      ]
     },
     "metadata": {
      "needs_background": "light"
     },
     "output_type": "display_data"
    }
   ],
   "source": [
    "prediction = grid.predict(X_test)\n",
    "\n",
    "score = metrics.accuracy_score(y_test, prediction)\n",
    "f1score = metrics.classification_report(y_test, prediction)\n",
    "print('Support Vector Classifier')\n",
    "print(\"accuracy:   %0.3f\" % (score * 100))\n",
    "print(f1score)\n",
    "\n",
    "fig, ax = plot_confusion_matrix(conf_mat=confusion_matrix(y_test, prediction),\n",
    "                                show_absolute=True,\n",
    "                                show_normed=True,\n",
    "                                colorbar=True)\n",
    "plt.show()"
   ]
  },
  {
   "cell_type": "code",
   "execution_count": 120,
   "metadata": {},
   "outputs": [
    {
     "name": "stdout",
     "output_type": "stream",
     "text": [
      "Fitting 5 folds for each of 18 candidates, totalling 90 fits\n"
     ]
    },
    {
     "name": "stderr",
     "output_type": "stream",
     "text": [
      "[Parallel(n_jobs=-1)]: Using backend LokyBackend with 8 concurrent workers.\n",
      "[Parallel(n_jobs=-1)]: Done  16 tasks      | elapsed:  2.0min\n",
      "[Parallel(n_jobs=-1)]: Done  90 out of  90 | elapsed: 16.4min finished\n"
     ]
    },
    {
     "data": {
      "text/plain": [
       "GridSearchCV(estimator=SVC(), n_jobs=-1,\n",
       "             param_grid={'C': [1000, 10000], 'degree': [1, 2, 3],\n",
       "                         'gamma': [10, 1, 0.1], 'kernel': ['poly']},\n",
       "             verbose=3)"
      ]
     },
     "execution_count": 120,
     "metadata": {},
     "output_type": "execute_result"
    }
   ],
   "source": [
    "from sklearn.model_selection import GridSearchCV \n",
    "  \n",
    "# defining parameter range \n",
    "param_grid = {'C': [1000, 10000],\n",
    "              'gamma': [10, 1, 0.1],\n",
    "              'degree': [1,2,3],  \n",
    "              'kernel': ['poly']}  \n",
    "  \n",
    "grid = GridSearchCV(SVC(), param_grid, refit = True, verbose = 3, n_jobs=-1) \n",
    "  \n",
    "# fitting the model for grid search \n",
    "grid.fit(X_train, y_train) "
   ]
  },
  {
   "cell_type": "code",
   "execution_count": 121,
   "metadata": {},
   "outputs": [
    {
     "name": "stdout",
     "output_type": "stream",
     "text": [
      "{'C': 1000, 'degree': 1, 'gamma': 1, 'kernel': 'poly'}\n",
      "SVC(C=1000, degree=1, gamma=1, kernel='poly')\n"
     ]
    }
   ],
   "source": [
    "# print best parameter after tuning \n",
    "print(grid.best_params_) \n",
    "  \n",
    "# print how our model looks after hyper-parameter tuning \n",
    "print(grid.best_estimator_) "
   ]
  },
  {
   "cell_type": "code",
   "execution_count": 122,
   "metadata": {},
   "outputs": [
    {
     "name": "stdout",
     "output_type": "stream",
     "text": [
      "Support Vector Classifier\n",
      "accuracy:   86.339\n",
      "              precision    recall  f1-score   support\n",
      "\n",
      "           0       0.89      0.94      0.91      2280\n",
      "           1       0.76      0.62      0.68       714\n",
      "\n",
      "    accuracy                           0.86      2994\n",
      "   macro avg       0.82      0.78      0.80      2994\n",
      "weighted avg       0.86      0.86      0.86      2994\n",
      "\n"
     ]
    },
    {
     "data": {
      "image/png": "[encoded data removed]",
      "text/plain": [
       "<Figure size 432x288 with 2 Axes>"
      ]
     },
     "metadata": {
      "needs_background": "light"
     },
     "output_type": "display_data"
    }
   ],
   "source": [
    "prediction = grid.predict(X_test)\n",
    "\n",
    "score = metrics.accuracy_score(y_test, prediction)\n",
    "f1score = metrics.classification_report(y_test, prediction)\n",
    "print('Support Vector Classifier')\n",
    "print(\"accuracy:   %0.3f\" % (score * 100))\n",
    "print(f1score)\n",
    "\n",
    "fig, ax = plot_confusion_matrix(conf_mat=confusion_matrix(y_test, prediction),\n",
    "                                show_absolute=True,\n",
    "                                show_normed=True,\n",
    "                                colorbar=True)\n",
    "plt.show()"
   ]
  },
  {
   "cell_type": "code",
   "execution_count": 125,
   "metadata": {},
   "outputs": [
    {
     "data": {
      "text/plain": [
       "<function sklearn.metrics._scorer._passthrough_scorer(estimator, *args, **kwargs)>"
      ]
     },
     "execution_count": 125,
     "metadata": {},
     "output_type": "execute_result"
    }
   ],
   "source": [
    "grid.scorer_ #euclidean distance scorer (default)"
   ]
  },
  {
   "cell_type": "code",
   "execution_count": 126,
   "metadata": {},
   "outputs": [
    {
     "data": {
      "text/html": [
       "<div>\n",
       "<style scoped>\n",
       "    .dataframe tbody tr th:only-of-type {\n",
       "        vertical-align: middle;\n",
       "    }\n",
       "\n",
       "    .dataframe tbody tr th {\n",
       "        vertical-align: top;\n",
       "    }\n",
       "\n",
       "    .dataframe thead th {\n",
       "        text-align: right;\n",
       "    }\n",
       "</style>\n",
       "<table border=\"1\" class=\"dataframe\">\n",
       "  <thead>\n",
       "    <tr style=\"text-align: right;\">\n",
       "      <th></th>\n",
       "      <th>mean_fit_time</th>\n",
       "      <th>std_fit_time</th>\n",
       "      <th>mean_score_time</th>\n",
       "      <th>std_score_time</th>\n",
       "      <th>param_C</th>\n",
       "      <th>param_degree</th>\n",
       "      <th>param_gamma</th>\n",
       "      <th>param_kernel</th>\n",
       "      <th>params</th>\n",
       "      <th>split0_test_score</th>\n",
       "      <th>split1_test_score</th>\n",
       "      <th>split2_test_score</th>\n",
       "      <th>split3_test_score</th>\n",
       "      <th>split4_test_score</th>\n",
       "      <th>mean_test_score</th>\n",
       "      <th>std_test_score</th>\n",
       "      <th>rank_test_score</th>\n",
       "    </tr>\n",
       "  </thead>\n",
       "  <tbody>\n",
       "    <tr>\n",
       "      <th>0</th>\n",
       "      <td>112.787910</td>\n",
       "      <td>3.178849</td>\n",
       "      <td>1.388499</td>\n",
       "      <td>0.173247</td>\n",
       "      <td>1000</td>\n",
       "      <td>1</td>\n",
       "      <td>10</td>\n",
       "      <td>poly</td>\n",
       "      <td>{'C': 1000, 'degree': 1, 'gamma': 10, 'kernel'...</td>\n",
       "      <td>0.863466</td>\n",
       "      <td>0.856785</td>\n",
       "      <td>0.848017</td>\n",
       "      <td>0.850104</td>\n",
       "      <td>0.864244</td>\n",
       "      <td>0.856523</td>\n",
       "      <td>0.006655</td>\n",
       "      <td>3</td>\n",
       "    </tr>\n",
       "    <tr>\n",
       "      <th>1</th>\n",
       "      <td>24.616863</td>\n",
       "      <td>1.691626</td>\n",
       "      <td>1.552020</td>\n",
       "      <td>0.157665</td>\n",
       "      <td>1000</td>\n",
       "      <td>1</td>\n",
       "      <td>1</td>\n",
       "      <td>poly</td>\n",
       "      <td>{'C': 1000, 'degree': 1, 'gamma': 1, 'kernel':...</td>\n",
       "      <td>0.863466</td>\n",
       "      <td>0.857203</td>\n",
       "      <td>0.848017</td>\n",
       "      <td>0.849687</td>\n",
       "      <td>0.864662</td>\n",
       "      <td>0.856607</td>\n",
       "      <td>0.006840</td>\n",
       "      <td>1</td>\n",
       "    </tr>\n",
       "    <tr>\n",
       "      <th>2</th>\n",
       "      <td>12.519322</td>\n",
       "      <td>0.817966</td>\n",
       "      <td>1.523671</td>\n",
       "      <td>0.064958</td>\n",
       "      <td>1000</td>\n",
       "      <td>1</td>\n",
       "      <td>0.1</td>\n",
       "      <td>poly</td>\n",
       "      <td>{'C': 1000, 'degree': 1, 'gamma': 0.1, 'kernel...</td>\n",
       "      <td>0.860125</td>\n",
       "      <td>0.854697</td>\n",
       "      <td>0.846764</td>\n",
       "      <td>0.848434</td>\n",
       "      <td>0.863409</td>\n",
       "      <td>0.854686</td>\n",
       "      <td>0.006442</td>\n",
       "      <td>6</td>\n",
       "    </tr>\n",
       "    <tr>\n",
       "      <th>3</th>\n",
       "      <td>50.549276</td>\n",
       "      <td>1.991566</td>\n",
       "      <td>1.434686</td>\n",
       "      <td>0.101605</td>\n",
       "      <td>1000</td>\n",
       "      <td>2</td>\n",
       "      <td>10</td>\n",
       "      <td>poly</td>\n",
       "      <td>{'C': 1000, 'degree': 2, 'gamma': 10, 'kernel'...</td>\n",
       "      <td>0.825052</td>\n",
       "      <td>0.805010</td>\n",
       "      <td>0.813361</td>\n",
       "      <td>0.798330</td>\n",
       "      <td>0.817460</td>\n",
       "      <td>0.811843</td>\n",
       "      <td>0.009356</td>\n",
       "      <td>14</td>\n",
       "    </tr>\n",
       "    <tr>\n",
       "      <th>4</th>\n",
       "      <td>14.423612</td>\n",
       "      <td>0.876648</td>\n",
       "      <td>1.777551</td>\n",
       "      <td>0.144068</td>\n",
       "      <td>1000</td>\n",
       "      <td>2</td>\n",
       "      <td>1</td>\n",
       "      <td>poly</td>\n",
       "      <td>{'C': 1000, 'degree': 2, 'gamma': 1, 'kernel':...</td>\n",
       "      <td>0.853445</td>\n",
       "      <td>0.851775</td>\n",
       "      <td>0.848852</td>\n",
       "      <td>0.843006</td>\n",
       "      <td>0.856307</td>\n",
       "      <td>0.850677</td>\n",
       "      <td>0.004533</td>\n",
       "      <td>7</td>\n",
       "    </tr>\n",
       "    <tr>\n",
       "      <th>5</th>\n",
       "      <td>13.764240</td>\n",
       "      <td>0.255771</td>\n",
       "      <td>2.110972</td>\n",
       "      <td>0.157984</td>\n",
       "      <td>1000</td>\n",
       "      <td>2</td>\n",
       "      <td>0.1</td>\n",
       "      <td>poly</td>\n",
       "      <td>{'C': 1000, 'degree': 2, 'gamma': 0.1, 'kernel...</td>\n",
       "      <td>0.812944</td>\n",
       "      <td>0.812526</td>\n",
       "      <td>0.805010</td>\n",
       "      <td>0.814614</td>\n",
       "      <td>0.818296</td>\n",
       "      <td>0.812678</td>\n",
       "      <td>0.004340</td>\n",
       "      <td>13</td>\n",
       "    </tr>\n",
       "    <tr>\n",
       "      <th>6</th>\n",
       "      <td>23.627445</td>\n",
       "      <td>0.795514</td>\n",
       "      <td>1.772898</td>\n",
       "      <td>0.089468</td>\n",
       "      <td>1000</td>\n",
       "      <td>3</td>\n",
       "      <td>10</td>\n",
       "      <td>poly</td>\n",
       "      <td>{'C': 1000, 'degree': 3, 'gamma': 10, 'kernel'...</td>\n",
       "      <td>0.823382</td>\n",
       "      <td>0.807098</td>\n",
       "      <td>0.817119</td>\n",
       "      <td>0.810856</td>\n",
       "      <td>0.835840</td>\n",
       "      <td>0.818859</td>\n",
       "      <td>0.010141</td>\n",
       "      <td>12</td>\n",
       "    </tr>\n",
       "    <tr>\n",
       "      <th>7</th>\n",
       "      <td>14.081080</td>\n",
       "      <td>1.226952</td>\n",
       "      <td>2.164235</td>\n",
       "      <td>0.207671</td>\n",
       "      <td>1000</td>\n",
       "      <td>3</td>\n",
       "      <td>1</td>\n",
       "      <td>poly</td>\n",
       "      <td>{'C': 1000, 'degree': 3, 'gamma': 1, 'kernel':...</td>\n",
       "      <td>0.830480</td>\n",
       "      <td>0.816284</td>\n",
       "      <td>0.817119</td>\n",
       "      <td>0.822965</td>\n",
       "      <td>0.830827</td>\n",
       "      <td>0.823535</td>\n",
       "      <td>0.006253</td>\n",
       "      <td>11</td>\n",
       "    </tr>\n",
       "    <tr>\n",
       "      <th>8</th>\n",
       "      <td>16.021615</td>\n",
       "      <td>0.328843</td>\n",
       "      <td>2.433106</td>\n",
       "      <td>0.161492</td>\n",
       "      <td>1000</td>\n",
       "      <td>3</td>\n",
       "      <td>0.1</td>\n",
       "      <td>poly</td>\n",
       "      <td>{'C': 1000, 'degree': 3, 'gamma': 0.1, 'kernel...</td>\n",
       "      <td>0.757829</td>\n",
       "      <td>0.757411</td>\n",
       "      <td>0.757411</td>\n",
       "      <td>0.757411</td>\n",
       "      <td>0.757728</td>\n",
       "      <td>0.757558</td>\n",
       "      <td>0.000183</td>\n",
       "      <td>18</td>\n",
       "    </tr>\n",
       "    <tr>\n",
       "      <th>9</th>\n",
       "      <td>779.203534</td>\n",
       "      <td>11.936540</td>\n",
       "      <td>0.962043</td>\n",
       "      <td>0.052036</td>\n",
       "      <td>10000</td>\n",
       "      <td>1</td>\n",
       "      <td>10</td>\n",
       "      <td>poly</td>\n",
       "      <td>{'C': 10000, 'degree': 1, 'gamma': 10, 'kernel...</td>\n",
       "      <td>0.863883</td>\n",
       "      <td>0.856367</td>\n",
       "      <td>0.848017</td>\n",
       "      <td>0.850104</td>\n",
       "      <td>0.864244</td>\n",
       "      <td>0.856523</td>\n",
       "      <td>0.006743</td>\n",
       "      <td>3</td>\n",
       "    </tr>\n",
       "    <tr>\n",
       "      <th>10</th>\n",
       "      <td>104.545294</td>\n",
       "      <td>3.959082</td>\n",
       "      <td>1.239487</td>\n",
       "      <td>0.027785</td>\n",
       "      <td>10000</td>\n",
       "      <td>1</td>\n",
       "      <td>1</td>\n",
       "      <td>poly</td>\n",
       "      <td>{'C': 10000, 'degree': 1, 'gamma': 1, 'kernel'...</td>\n",
       "      <td>0.863883</td>\n",
       "      <td>0.856785</td>\n",
       "      <td>0.848017</td>\n",
       "      <td>0.850522</td>\n",
       "      <td>0.863826</td>\n",
       "      <td>0.856607</td>\n",
       "      <td>0.006571</td>\n",
       "      <td>2</td>\n",
       "    </tr>\n",
       "    <tr>\n",
       "      <th>11</th>\n",
       "      <td>20.421884</td>\n",
       "      <td>1.109963</td>\n",
       "      <td>1.244274</td>\n",
       "      <td>0.016943</td>\n",
       "      <td>10000</td>\n",
       "      <td>1</td>\n",
       "      <td>0.1</td>\n",
       "      <td>poly</td>\n",
       "      <td>{'C': 10000, 'degree': 1, 'gamma': 0.1, 'kerne...</td>\n",
       "      <td>0.863466</td>\n",
       "      <td>0.857203</td>\n",
       "      <td>0.848017</td>\n",
       "      <td>0.849687</td>\n",
       "      <td>0.864244</td>\n",
       "      <td>0.856523</td>\n",
       "      <td>0.006743</td>\n",
       "      <td>3</td>\n",
       "    </tr>\n",
       "    <tr>\n",
       "      <th>12</th>\n",
       "      <td>102.817652</td>\n",
       "      <td>5.644000</td>\n",
       "      <td>1.200299</td>\n",
       "      <td>0.100638</td>\n",
       "      <td>10000</td>\n",
       "      <td>2</td>\n",
       "      <td>10</td>\n",
       "      <td>poly</td>\n",
       "      <td>{'C': 10000, 'degree': 2, 'gamma': 10, 'kernel...</td>\n",
       "      <td>0.801670</td>\n",
       "      <td>0.784969</td>\n",
       "      <td>0.784969</td>\n",
       "      <td>0.776200</td>\n",
       "      <td>0.791562</td>\n",
       "      <td>0.787874</td>\n",
       "      <td>0.008451</td>\n",
       "      <td>16</td>\n",
       "    </tr>\n",
       "    <tr>\n",
       "      <th>13</th>\n",
       "      <td>17.063038</td>\n",
       "      <td>0.532188</td>\n",
       "      <td>1.347302</td>\n",
       "      <td>0.122767</td>\n",
       "      <td>10000</td>\n",
       "      <td>2</td>\n",
       "      <td>1</td>\n",
       "      <td>poly</td>\n",
       "      <td>{'C': 10000, 'degree': 2, 'gamma': 1, 'kernel'...</td>\n",
       "      <td>0.844676</td>\n",
       "      <td>0.831315</td>\n",
       "      <td>0.831315</td>\n",
       "      <td>0.830480</td>\n",
       "      <td>0.845865</td>\n",
       "      <td>0.836730</td>\n",
       "      <td>0.006990</td>\n",
       "      <td>8</td>\n",
       "    </tr>\n",
       "    <tr>\n",
       "      <th>14</th>\n",
       "      <td>9.897364</td>\n",
       "      <td>0.180578</td>\n",
       "      <td>1.583366</td>\n",
       "      <td>0.090054</td>\n",
       "      <td>10000</td>\n",
       "      <td>2</td>\n",
       "      <td>0.1</td>\n",
       "      <td>poly</td>\n",
       "      <td>{'C': 10000, 'degree': 2, 'gamma': 0.1, 'kerne...</td>\n",
       "      <td>0.835908</td>\n",
       "      <td>0.828810</td>\n",
       "      <td>0.832568</td>\n",
       "      <td>0.831733</td>\n",
       "      <td>0.841688</td>\n",
       "      <td>0.834141</td>\n",
       "      <td>0.004399</td>\n",
       "      <td>10</td>\n",
       "    </tr>\n",
       "    <tr>\n",
       "      <th>15</th>\n",
       "      <td>23.254386</td>\n",
       "      <td>0.617758</td>\n",
       "      <td>1.405653</td>\n",
       "      <td>0.081833</td>\n",
       "      <td>10000</td>\n",
       "      <td>3</td>\n",
       "      <td>10</td>\n",
       "      <td>poly</td>\n",
       "      <td>{'C': 10000, 'degree': 3, 'gamma': 10, 'kernel...</td>\n",
       "      <td>0.811273</td>\n",
       "      <td>0.795407</td>\n",
       "      <td>0.800000</td>\n",
       "      <td>0.796242</td>\n",
       "      <td>0.813283</td>\n",
       "      <td>0.803241</td>\n",
       "      <td>0.007566</td>\n",
       "      <td>15</td>\n",
       "    </tr>\n",
       "    <tr>\n",
       "      <th>16</th>\n",
       "      <td>12.363042</td>\n",
       "      <td>0.321997</td>\n",
       "      <td>1.578380</td>\n",
       "      <td>0.085628</td>\n",
       "      <td>10000</td>\n",
       "      <td>3</td>\n",
       "      <td>1</td>\n",
       "      <td>poly</td>\n",
       "      <td>{'C': 10000, 'degree': 3, 'gamma': 1, 'kernel'...</td>\n",
       "      <td>0.842171</td>\n",
       "      <td>0.835908</td>\n",
       "      <td>0.835491</td>\n",
       "      <td>0.826305</td>\n",
       "      <td>0.839181</td>\n",
       "      <td>0.835811</td>\n",
       "      <td>0.005335</td>\n",
       "      <td>9</td>\n",
       "    </tr>\n",
       "    <tr>\n",
       "      <th>17</th>\n",
       "      <td>11.681570</td>\n",
       "      <td>0.427559</td>\n",
       "      <td>1.882286</td>\n",
       "      <td>0.055866</td>\n",
       "      <td>10000</td>\n",
       "      <td>3</td>\n",
       "      <td>0.1</td>\n",
       "      <td>poly</td>\n",
       "      <td>{'C': 10000, 'degree': 3, 'gamma': 0.1, 'kerne...</td>\n",
       "      <td>0.773278</td>\n",
       "      <td>0.772025</td>\n",
       "      <td>0.768267</td>\n",
       "      <td>0.776200</td>\n",
       "      <td>0.775689</td>\n",
       "      <td>0.773092</td>\n",
       "      <td>0.002859</td>\n",
       "      <td>17</td>\n",
       "    </tr>\n",
       "  </tbody>\n",
       "</table>\n",
       "</div>"
      ],
      "text/plain": [
       "    mean_fit_time  std_fit_time  mean_score_time  std_score_time param_C  \\\n",
       "0      112.787910      3.178849         1.388499        0.173247    1000   \n",
       "1       24.616863      1.691626         1.552020        0.157665    1000   \n",
       "2       12.519322      0.817966         1.523671        0.064958    1000   \n",
       "3       50.549276      1.991566         1.434686        0.101605    1000   \n",
       "4       14.423612      0.876648         1.777551        0.144068    1000   \n",
       "5       13.764240      0.255771         2.110972        0.157984    1000   \n",
       "6       23.627445      0.795514         1.772898        0.089468    1000   \n",
       "7       14.081080      1.226952         2.164235        0.207671    1000   \n",
       "8       16.021615      0.328843         2.433106        0.161492    1000   \n",
       "9      779.203534     11.936540         0.962043        0.052036   10000   \n",
       "10     104.545294      3.959082         1.239487        0.027785   10000   \n",
       "11      20.421884      1.109963         1.244274        0.016943   10000   \n",
       "12     102.817652      5.644000         1.200299        0.100638   10000   \n",
       "13      17.063038      0.532188         1.347302        0.122767   10000   \n",
       "14       9.897364      0.180578         1.583366        0.090054   10000   \n",
       "15      23.254386      0.617758         1.405653        0.081833   10000   \n",
       "16      12.363042      0.321997         1.578380        0.085628   10000   \n",
       "17      11.681570      0.427559         1.882286        0.055866   10000   \n",
       "\n",
       "   param_degree param_gamma param_kernel  \\\n",
       "0             1          10         poly   \n",
       "1             1           1         poly   \n",
       "2             1         0.1         poly   \n",
       "3             2          10         poly   \n",
       "4             2           1         poly   \n",
       "5             2         0.1         poly   \n",
       "6             3          10         poly   \n",
       "7             3           1         poly   \n",
       "8             3         0.1         poly   \n",
       "9             1          10         poly   \n",
       "10            1           1         poly   \n",
       "11            1         0.1         poly   \n",
       "12            2          10         poly   \n",
       "13            2           1         poly   \n",
       "14            2         0.1         poly   \n",
       "15            3          10         poly   \n",
       "16            3           1         poly   \n",
       "17            3         0.1         poly   \n",
       "\n",
       "                                               params  split0_test_score  \\\n",
       "0   {'C': 1000, 'degree': 1, 'gamma': 10, 'kernel'...           0.863466   \n",
       "1   {'C': 1000, 'degree': 1, 'gamma': 1, 'kernel':...           0.863466   \n",
       "2   {'C': 1000, 'degree': 1, 'gamma': 0.1, 'kernel...           0.860125   \n",
       "3   {'C': 1000, 'degree': 2, 'gamma': 10, 'kernel'...           0.825052   \n",
       "4   {'C': 1000, 'degree': 2, 'gamma': 1, 'kernel':...           0.853445   \n",
       "5   {'C': 1000, 'degree': 2, 'gamma': 0.1, 'kernel...           0.812944   \n",
       "6   {'C': 1000, 'degree': 3, 'gamma': 10, 'kernel'...           0.823382   \n",
       "7   {'C': 1000, 'degree': 3, 'gamma': 1, 'kernel':...           0.830480   \n",
       "8   {'C': 1000, 'degree': 3, 'gamma': 0.1, 'kernel...           0.757829   \n",
       "9   {'C': 10000, 'degree': 1, 'gamma': 10, 'kernel...           0.863883   \n",
       "10  {'C': 10000, 'degree': 1, 'gamma': 1, 'kernel'...           0.863883   \n",
       "11  {'C': 10000, 'degree': 1, 'gamma': 0.1, 'kerne...           0.863466   \n",
       "12  {'C': 10000, 'degree': 2, 'gamma': 10, 'kernel...           0.801670   \n",
       "13  {'C': 10000, 'degree': 2, 'gamma': 1, 'kernel'...           0.844676   \n",
       "14  {'C': 10000, 'degree': 2, 'gamma': 0.1, 'kerne...           0.835908   \n",
       "15  {'C': 10000, 'degree': 3, 'gamma': 10, 'kernel...           0.811273   \n",
       "16  {'C': 10000, 'degree': 3, 'gamma': 1, 'kernel'...           0.842171   \n",
       "17  {'C': 10000, 'degree': 3, 'gamma': 0.1, 'kerne...           0.773278   \n",
       "\n",
       "    split1_test_score  split2_test_score  split3_test_score  \\\n",
       "0            0.856785           0.848017           0.850104   \n",
       "1            0.857203           0.848017           0.849687   \n",
       "2            0.854697           0.846764           0.848434   \n",
       "3            0.805010           0.813361           0.798330   \n",
       "4            0.851775           0.848852           0.843006   \n",
       "5            0.812526           0.805010           0.814614   \n",
       "6            0.807098           0.817119           0.810856   \n",
       "7            0.816284           0.817119           0.822965   \n",
       "8            0.757411           0.757411           0.757411   \n",
       "9            0.856367           0.848017           0.850104   \n",
       "10           0.856785           0.848017           0.850522   \n",
       "11           0.857203           0.848017           0.849687   \n",
       "12           0.784969           0.784969           0.776200   \n",
       "13           0.831315           0.831315           0.830480   \n",
       "14           0.828810           0.832568           0.831733   \n",
       "15           0.795407           0.800000           0.796242   \n",
       "16           0.835908           0.835491           0.826305   \n",
       "17           0.772025           0.768267           0.776200   \n",
       "\n",
       "    split4_test_score  mean_test_score  std_test_score  rank_test_score  \n",
       "0            0.864244         0.856523        0.006655                3  \n",
       "1            0.864662         0.856607        0.006840                1  \n",
       "2            0.863409         0.854686        0.006442                6  \n",
       "3            0.817460         0.811843        0.009356               14  \n",
       "4            0.856307         0.850677        0.004533                7  \n",
       "5            0.818296         0.812678        0.004340               13  \n",
       "6            0.835840         0.818859        0.010141               12  \n",
       "7            0.830827         0.823535        0.006253               11  \n",
       "8            0.757728         0.757558        0.000183               18  \n",
       "9            0.864244         0.856523        0.006743                3  \n",
       "10           0.863826         0.856607        0.006571                2  \n",
       "11           0.864244         0.856523        0.006743                3  \n",
       "12           0.791562         0.787874        0.008451               16  \n",
       "13           0.845865         0.836730        0.006990                8  \n",
       "14           0.841688         0.834141        0.004399               10  \n",
       "15           0.813283         0.803241        0.007566               15  \n",
       "16           0.839181         0.835811        0.005335                9  \n",
       "17           0.775689         0.773092        0.002859               17  "
      ]
     },
     "execution_count": 126,
     "metadata": {},
     "output_type": "execute_result"
    }
   ],
   "source": [
    "pd.DataFrame(grid.cv_results_)"
   ]
  },
  {
   "cell_type": "markdown",
   "metadata": {},
   "source": [
    "## Tuning Class weights"
   ]
  },
  {
   "cell_type": "code",
   "execution_count": 146,
   "metadata": {},
   "outputs": [
    {
     "name": "stdout",
     "output_type": "stream",
     "text": [
      "Support Vector Classifier\n",
      "accuracy:   81.663\n",
      "              precision    recall  f1-score   support\n",
      "\n",
      "           0       0.93      0.82      0.87      2280\n",
      "           1       0.58      0.81      0.68       714\n",
      "\n",
      "    accuracy                           0.82      2994\n",
      "   macro avg       0.76      0.81      0.77      2994\n",
      "weighted avg       0.85      0.82      0.83      2994\n",
      "\n"
     ]
    },
    {
     "data": {
      "image/png": "[encoded data removed]",
      "text/plain": [
       "<Figure size 432x288 with 2 Axes>"
      ]
     },
     "metadata": {
      "needs_background": "light"
     },
     "output_type": "display_data"
    }
   ],
   "source": [
    "clf=SVC(C=1000, degree=1, gamma=1, kernel='poly', class_weight={1:3})\n",
    "clf.fit(X_train,y_train)\n",
    "prediction = clf.predict(X_test)\n",
    "\n",
    "score = metrics.accuracy_score(y_test, prediction)\n",
    "f1score = metrics.classification_report(y_test, prediction)\n",
    "print('Support Vector Classifier')\n",
    "print(\"accuracy:   %0.3f\" % (score * 100))\n",
    "print(f1score)\n",
    "\n",
    "fig, ax = plot_confusion_matrix(conf_mat=confusion_matrix(y_test, prediction),\n",
    "                                show_absolute=True,\n",
    "                                show_normed=True,\n",
    "                                colorbar=True)\n",
    "plt.show()"
   ]
  },
  {
   "cell_type": "code",
   "execution_count": 147,
   "metadata": {},
   "outputs": [
    {
     "name": "stdout",
     "output_type": "stream",
     "text": [
      "Support Vector Classifier\n",
      "accuracy:   82.832\n",
      "              precision    recall  f1-score   support\n",
      "\n",
      "           0       0.93      0.83      0.88      2280\n",
      "           1       0.60      0.82      0.69       714\n",
      "\n",
      "    accuracy                           0.83      2994\n",
      "   macro avg       0.77      0.82      0.79      2994\n",
      "weighted avg       0.86      0.83      0.84      2994\n",
      "\n"
     ]
    },
    {
     "data": {
      "image/png": "[encoded data removed]",
      "text/plain": [
       "<Figure size 432x288 with 2 Axes>"
      ]
     },
     "metadata": {
      "needs_background": "light"
     },
     "output_type": "display_data"
    }
   ],
   "source": [
    "clf=SVC(C=1000, gamma=0.1, class_weight={1:3})\n",
    "clf.fit(X_train,y_train)\n",
    "prediction = clf.predict(X_test)\n",
    "\n",
    "score = metrics.accuracy_score(y_test, prediction)\n",
    "f1score = metrics.classification_report(y_test, prediction)\n",
    "print('Support Vector Classifier')\n",
    "print(\"accuracy:   %0.3f\" % (score * 100))\n",
    "print(f1score)\n",
    "\n",
    "fig, ax = plot_confusion_matrix(conf_mat=confusion_matrix(y_test, prediction),\n",
    "                                show_absolute=True,\n",
    "                                show_normed=True,\n",
    "                                colorbar=True)\n",
    "plt.show()"
   ]
  },
  {
   "cell_type": "code",
   "execution_count": 150,
   "metadata": {},
   "outputs": [
    {
     "name": "stdout",
     "output_type": "stream",
     "text": [
      "Support Vector Classifier\n",
      "accuracy:   81.663\n",
      "              precision    recall  f1-score   support\n",
      "\n",
      "           0       0.93      0.82      0.87      2280\n",
      "           1       0.58      0.81      0.68       714\n",
      "\n",
      "    accuracy                           0.82      2994\n",
      "   macro avg       0.76      0.81      0.77      2994\n",
      "weighted avg       0.85      0.82      0.83      2994\n",
      "\n"
     ]
    },
    {
     "data": {
      "image/png": "[encoded data removed]",
      "text/plain": [
       "<Figure size 432x288 with 2 Axes>"
      ]
     },
     "metadata": {
      "needs_background": "light"
     },
     "output_type": "display_data"
    }
   ],
   "source": [
    "clf=SVC(C=1000, kernel='linear', class_weight={1:3})\n",
    "clf.fit(X_train,y_train)\n",
    "prediction = clf.predict(X_test)\n",
    "\n",
    "score = metrics.accuracy_score(y_test, prediction)\n",
    "f1score = metrics.classification_report(y_test, prediction)\n",
    "print('Support Vector Classifier')\n",
    "print(\"accuracy:   %0.3f\" % (score * 100))\n",
    "print(f1score)\n",
    "\n",
    "fig, ax = plot_confusion_matrix(conf_mat=confusion_matrix(y_test, prediction),\n",
    "                                show_absolute=True,\n",
    "                                show_normed=True,\n",
    "                                colorbar=True)\n",
    "plt.show()"
   ]
  },
  {
   "cell_type": "markdown",
   "metadata": {
    "pycharm": {
     "name": "#%% md\n"
    }
   },
   "source": [
    "# GridSearchCV"
   ]
  },
  {
   "cell_type": "code",
   "execution_count": 15,
   "metadata": {
    "pycharm": {
     "name": "#%%\n"
    }
   },
   "outputs": [],
   "source": [
    "from sklearn.feature_extraction.text import TfidfTransformer\n",
    "from sklearn.feature_extraction.text import CountVectorizer\n",
    "from sklearn.feature_extraction.text import TfidfVectorizer\n",
    "\n",
    "#CountVectorizer(input='content',strip_accents='unicode',lowercase=True,ngram_range=(1,3),max_df=1.0,min_df=1)\n",
    "def get_tfidf(in_text_series):\n",
    "    #bow_transformer=CountVectorizer(input='content',strip_accents='unicode',lowercase=True,ngram_range=(1,1),max_df=1.0,min_df=1).fit(in_text_series.apply(' '.join))\n",
    "    bow_transformer=CountVectorizer(input='content', max_features=500, strip_accents='unicode',lowercase=True,ngram_range=(1,1),max_df=1.0,min_df=1).fit(in_text_series.apply(' '.join))\n",
    "    text_bow = bow_transformer.transform(in_text_series.apply(' '.join))\n",
    "    tfidf_transformer = TfidfTransformer().fit(text_bow)\n",
    "    text_tfidf = tfidf_transformer.transform(text_bow)\n",
    "    return {'text_tfidf':text_tfidf, 'bow_transformer':bow_transformer, 'tfidf_transformer':tfidf_transformer}"
   ]
  },
  {
   "cell_type": "code",
   "execution_count": 16,
   "metadata": {
    "pycharm": {
     "name": "#%%\n"
    }
   },
   "outputs": [
    {
     "data": {
      "text/html": [
       "<div>\n",
       "<style scoped>\n",
       "    .dataframe tbody tr th:only-of-type {\n",
       "        vertical-align: middle;\n",
       "    }\n",
       "\n",
       "    .dataframe tbody tr th {\n",
       "        vertical-align: top;\n",
       "    }\n",
       "\n",
       "    .dataframe thead th {\n",
       "        text-align: right;\n",
       "    }\n",
       "</style>\n",
       "<table border=\"1\" class=\"dataframe\">\n",
       "  <thead>\n",
       "    <tr style=\"text-align: right;\">\n",
       "      <th></th>\n",
       "      <th>0</th>\n",
       "      <th>1</th>\n",
       "      <th>2</th>\n",
       "      <th>3</th>\n",
       "      <th>4</th>\n",
       "      <th>5</th>\n",
       "      <th>6</th>\n",
       "      <th>7</th>\n",
       "      <th>8</th>\n",
       "      <th>9</th>\n",
       "      <th>...</th>\n",
       "      <th>490</th>\n",
       "      <th>491</th>\n",
       "      <th>492</th>\n",
       "      <th>493</th>\n",
       "      <th>494</th>\n",
       "      <th>495</th>\n",
       "      <th>496</th>\n",
       "      <th>497</th>\n",
       "      <th>498</th>\n",
       "      <th>499</th>\n",
       "    </tr>\n",
       "  </thead>\n",
       "  <tbody>\n",
       "    <tr>\n",
       "      <th>0</th>\n",
       "      <td>0.000000</td>\n",
       "      <td>0.0</td>\n",
       "      <td>0.000000</td>\n",
       "      <td>0.000000</td>\n",
       "      <td>0.000000</td>\n",
       "      <td>0.0</td>\n",
       "      <td>0.0</td>\n",
       "      <td>0.116214</td>\n",
       "      <td>0.096140</td>\n",
       "      <td>0.00000</td>\n",
       "      <td>...</td>\n",
       "      <td>0.000000</td>\n",
       "      <td>0.000000</td>\n",
       "      <td>0.000000</td>\n",
       "      <td>0.000000</td>\n",
       "      <td>0.000000</td>\n",
       "      <td>0.0</td>\n",
       "      <td>0.000000</td>\n",
       "      <td>0.000000</td>\n",
       "      <td>0.000000</td>\n",
       "      <td>0.000000</td>\n",
       "    </tr>\n",
       "    <tr>\n",
       "      <th>1</th>\n",
       "      <td>0.000000</td>\n",
       "      <td>0.0</td>\n",
       "      <td>0.000000</td>\n",
       "      <td>0.000000</td>\n",
       "      <td>0.000000</td>\n",
       "      <td>0.0</td>\n",
       "      <td>0.0</td>\n",
       "      <td>0.000000</td>\n",
       "      <td>0.000000</td>\n",
       "      <td>0.00000</td>\n",
       "      <td>...</td>\n",
       "      <td>0.000000</td>\n",
       "      <td>0.078553</td>\n",
       "      <td>0.000000</td>\n",
       "      <td>0.074274</td>\n",
       "      <td>0.051124</td>\n",
       "      <td>0.0</td>\n",
       "      <td>0.000000</td>\n",
       "      <td>0.000000</td>\n",
       "      <td>0.046195</td>\n",
       "      <td>0.000000</td>\n",
       "    </tr>\n",
       "    <tr>\n",
       "      <th>2</th>\n",
       "      <td>0.000000</td>\n",
       "      <td>0.0</td>\n",
       "      <td>0.000000</td>\n",
       "      <td>0.000000</td>\n",
       "      <td>0.000000</td>\n",
       "      <td>0.0</td>\n",
       "      <td>0.0</td>\n",
       "      <td>0.000000</td>\n",
       "      <td>0.029222</td>\n",
       "      <td>0.00000</td>\n",
       "      <td>...</td>\n",
       "      <td>0.000000</td>\n",
       "      <td>0.000000</td>\n",
       "      <td>0.023036</td>\n",
       "      <td>0.000000</td>\n",
       "      <td>0.038164</td>\n",
       "      <td>0.0</td>\n",
       "      <td>0.000000</td>\n",
       "      <td>0.000000</td>\n",
       "      <td>0.000000</td>\n",
       "      <td>0.000000</td>\n",
       "    </tr>\n",
       "    <tr>\n",
       "      <th>3</th>\n",
       "      <td>0.000000</td>\n",
       "      <td>0.0</td>\n",
       "      <td>0.000000</td>\n",
       "      <td>0.000000</td>\n",
       "      <td>0.000000</td>\n",
       "      <td>0.0</td>\n",
       "      <td>0.0</td>\n",
       "      <td>0.000000</td>\n",
       "      <td>0.000000</td>\n",
       "      <td>0.00000</td>\n",
       "      <td>...</td>\n",
       "      <td>0.000000</td>\n",
       "      <td>0.000000</td>\n",
       "      <td>0.000000</td>\n",
       "      <td>0.164682</td>\n",
       "      <td>0.113355</td>\n",
       "      <td>0.0</td>\n",
       "      <td>0.000000</td>\n",
       "      <td>0.000000</td>\n",
       "      <td>0.000000</td>\n",
       "      <td>0.000000</td>\n",
       "    </tr>\n",
       "    <tr>\n",
       "      <th>4</th>\n",
       "      <td>0.000000</td>\n",
       "      <td>0.0</td>\n",
       "      <td>0.103102</td>\n",
       "      <td>0.187225</td>\n",
       "      <td>0.000000</td>\n",
       "      <td>0.0</td>\n",
       "      <td>0.0</td>\n",
       "      <td>0.000000</td>\n",
       "      <td>0.079526</td>\n",
       "      <td>0.00000</td>\n",
       "      <td>...</td>\n",
       "      <td>0.000000</td>\n",
       "      <td>0.000000</td>\n",
       "      <td>0.000000</td>\n",
       "      <td>0.000000</td>\n",
       "      <td>0.103860</td>\n",
       "      <td>0.0</td>\n",
       "      <td>0.000000</td>\n",
       "      <td>0.167882</td>\n",
       "      <td>0.187692</td>\n",
       "      <td>0.000000</td>\n",
       "    </tr>\n",
       "    <tr>\n",
       "      <th>...</th>\n",
       "      <td>...</td>\n",
       "      <td>...</td>\n",
       "      <td>...</td>\n",
       "      <td>...</td>\n",
       "      <td>...</td>\n",
       "      <td>...</td>\n",
       "      <td>...</td>\n",
       "      <td>...</td>\n",
       "      <td>...</td>\n",
       "      <td>...</td>\n",
       "      <td>...</td>\n",
       "      <td>...</td>\n",
       "      <td>...</td>\n",
       "      <td>...</td>\n",
       "      <td>...</td>\n",
       "      <td>...</td>\n",
       "      <td>...</td>\n",
       "      <td>...</td>\n",
       "      <td>...</td>\n",
       "      <td>...</td>\n",
       "      <td>...</td>\n",
       "    </tr>\n",
       "    <tr>\n",
       "      <th>14963</th>\n",
       "      <td>0.000000</td>\n",
       "      <td>0.0</td>\n",
       "      <td>0.000000</td>\n",
       "      <td>0.000000</td>\n",
       "      <td>0.000000</td>\n",
       "      <td>0.0</td>\n",
       "      <td>0.0</td>\n",
       "      <td>0.000000</td>\n",
       "      <td>0.091287</td>\n",
       "      <td>0.00000</td>\n",
       "      <td>...</td>\n",
       "      <td>0.158319</td>\n",
       "      <td>0.000000</td>\n",
       "      <td>0.000000</td>\n",
       "      <td>0.000000</td>\n",
       "      <td>0.059610</td>\n",
       "      <td>0.0</td>\n",
       "      <td>0.000000</td>\n",
       "      <td>0.000000</td>\n",
       "      <td>0.000000</td>\n",
       "      <td>0.000000</td>\n",
       "    </tr>\n",
       "    <tr>\n",
       "      <th>14964</th>\n",
       "      <td>0.000000</td>\n",
       "      <td>0.0</td>\n",
       "      <td>0.000000</td>\n",
       "      <td>0.000000</td>\n",
       "      <td>0.058484</td>\n",
       "      <td>0.0</td>\n",
       "      <td>0.0</td>\n",
       "      <td>0.000000</td>\n",
       "      <td>0.000000</td>\n",
       "      <td>0.00000</td>\n",
       "      <td>...</td>\n",
       "      <td>0.000000</td>\n",
       "      <td>0.000000</td>\n",
       "      <td>0.000000</td>\n",
       "      <td>0.000000</td>\n",
       "      <td>0.000000</td>\n",
       "      <td>0.0</td>\n",
       "      <td>0.000000</td>\n",
       "      <td>0.000000</td>\n",
       "      <td>0.000000</td>\n",
       "      <td>0.000000</td>\n",
       "    </tr>\n",
       "    <tr>\n",
       "      <th>14965</th>\n",
       "      <td>0.000000</td>\n",
       "      <td>0.0</td>\n",
       "      <td>0.000000</td>\n",
       "      <td>0.000000</td>\n",
       "      <td>0.000000</td>\n",
       "      <td>0.0</td>\n",
       "      <td>0.0</td>\n",
       "      <td>0.000000</td>\n",
       "      <td>0.000000</td>\n",
       "      <td>0.00000</td>\n",
       "      <td>...</td>\n",
       "      <td>0.000000</td>\n",
       "      <td>0.000000</td>\n",
       "      <td>0.000000</td>\n",
       "      <td>0.000000</td>\n",
       "      <td>0.000000</td>\n",
       "      <td>0.0</td>\n",
       "      <td>0.000000</td>\n",
       "      <td>0.000000</td>\n",
       "      <td>0.000000</td>\n",
       "      <td>0.000000</td>\n",
       "    </tr>\n",
       "    <tr>\n",
       "      <th>14966</th>\n",
       "      <td>0.035914</td>\n",
       "      <td>0.0</td>\n",
       "      <td>0.038212</td>\n",
       "      <td>0.069390</td>\n",
       "      <td>0.000000</td>\n",
       "      <td>0.0</td>\n",
       "      <td>0.0</td>\n",
       "      <td>0.000000</td>\n",
       "      <td>0.000000</td>\n",
       "      <td>0.06176</td>\n",
       "      <td>...</td>\n",
       "      <td>0.025559</td>\n",
       "      <td>0.000000</td>\n",
       "      <td>0.000000</td>\n",
       "      <td>0.027961</td>\n",
       "      <td>0.019247</td>\n",
       "      <td>0.0</td>\n",
       "      <td>0.034472</td>\n",
       "      <td>0.000000</td>\n",
       "      <td>0.000000</td>\n",
       "      <td>0.000000</td>\n",
       "    </tr>\n",
       "    <tr>\n",
       "      <th>14967</th>\n",
       "      <td>0.000000</td>\n",
       "      <td>0.0</td>\n",
       "      <td>0.182890</td>\n",
       "      <td>0.110705</td>\n",
       "      <td>0.000000</td>\n",
       "      <td>0.0</td>\n",
       "      <td>0.0</td>\n",
       "      <td>0.000000</td>\n",
       "      <td>0.047023</td>\n",
       "      <td>0.00000</td>\n",
       "      <td>...</td>\n",
       "      <td>0.040776</td>\n",
       "      <td>0.000000</td>\n",
       "      <td>0.000000</td>\n",
       "      <td>0.000000</td>\n",
       "      <td>0.030706</td>\n",
       "      <td>0.0</td>\n",
       "      <td>0.000000</td>\n",
       "      <td>0.000000</td>\n",
       "      <td>0.000000</td>\n",
       "      <td>0.123854</td>\n",
       "    </tr>\n",
       "  </tbody>\n",
       "</table>\n",
       "<p>14968 rows × 500 columns</p>\n",
       "</div>"
      ],
      "text/plain": [
       "            0    1         2         3         4    5    6         7    \\\n",
       "0      0.000000  0.0  0.000000  0.000000  0.000000  0.0  0.0  0.116214   \n",
       "1      0.000000  0.0  0.000000  0.000000  0.000000  0.0  0.0  0.000000   \n",
       "2      0.000000  0.0  0.000000  0.000000  0.000000  0.0  0.0  0.000000   \n",
       "3      0.000000  0.0  0.000000  0.000000  0.000000  0.0  0.0  0.000000   \n",
       "4      0.000000  0.0  0.103102  0.187225  0.000000  0.0  0.0  0.000000   \n",
       "...         ...  ...       ...       ...       ...  ...  ...       ...   \n",
       "14963  0.000000  0.0  0.000000  0.000000  0.000000  0.0  0.0  0.000000   \n",
       "14964  0.000000  0.0  0.000000  0.000000  0.058484  0.0  0.0  0.000000   \n",
       "14965  0.000000  0.0  0.000000  0.000000  0.000000  0.0  0.0  0.000000   \n",
       "14966  0.035914  0.0  0.038212  0.069390  0.000000  0.0  0.0  0.000000   \n",
       "14967  0.000000  0.0  0.182890  0.110705  0.000000  0.0  0.0  0.000000   \n",
       "\n",
       "            8        9    ...       490       491       492       493  \\\n",
       "0      0.096140  0.00000  ...  0.000000  0.000000  0.000000  0.000000   \n",
       "1      0.000000  0.00000  ...  0.000000  0.078553  0.000000  0.074274   \n",
       "2      0.029222  0.00000  ...  0.000000  0.000000  0.023036  0.000000   \n",
       "3      0.000000  0.00000  ...  0.000000  0.000000  0.000000  0.164682   \n",
       "4      0.079526  0.00000  ...  0.000000  0.000000  0.000000  0.000000   \n",
       "...         ...      ...  ...       ...       ...       ...       ...   \n",
       "14963  0.091287  0.00000  ...  0.158319  0.000000  0.000000  0.000000   \n",
       "14964  0.000000  0.00000  ...  0.000000  0.000000  0.000000  0.000000   \n",
       "14965  0.000000  0.00000  ...  0.000000  0.000000  0.000000  0.000000   \n",
       "14966  0.000000  0.06176  ...  0.025559  0.000000  0.000000  0.027961   \n",
       "14967  0.047023  0.00000  ...  0.040776  0.000000  0.000000  0.000000   \n",
       "\n",
       "            494  495       496       497       498       499  \n",
       "0      0.000000  0.0  0.000000  0.000000  0.000000  0.000000  \n",
       "1      0.051124  0.0  0.000000  0.000000  0.046195  0.000000  \n",
       "2      0.038164  0.0  0.000000  0.000000  0.000000  0.000000  \n",
       "3      0.113355  0.0  0.000000  0.000000  0.000000  0.000000  \n",
       "4      0.103860  0.0  0.000000  0.167882  0.187692  0.000000  \n",
       "...         ...  ...       ...       ...       ...       ...  \n",
       "14963  0.059610  0.0  0.000000  0.000000  0.000000  0.000000  \n",
       "14964  0.000000  0.0  0.000000  0.000000  0.000000  0.000000  \n",
       "14965  0.000000  0.0  0.000000  0.000000  0.000000  0.000000  \n",
       "14966  0.019247  0.0  0.034472  0.000000  0.000000  0.000000  \n",
       "14967  0.030706  0.0  0.000000  0.000000  0.000000  0.123854  \n",
       "\n",
       "[14968 rows x 500 columns]"
      ]
     },
     "execution_count": 16,
     "metadata": {},
     "output_type": "execute_result"
    }
   ],
   "source": [
    "normal_text_tfidf = get_tfidf(fakenews_df['normal_text'])\n",
    "normal_text_tfidf = pd.DataFrame(normal_text_tfidf['text_tfidf'].toarray())\n",
    "normal_text_tfidf"
   ]
  },
  {
   "cell_type": "code",
   "execution_count": 17,
   "metadata": {
    "pycharm": {
     "name": "#%%\n"
    }
   },
   "outputs": [],
   "source": [
    "from sklearn.model_selection import train_test_split\n",
    "\n",
    "x_train, x_test, y_train, y_test = train_test_split(normal_text_tfidf, fakenews_df['fake'], test_size=0.2, random_state=2)"
   ]
  },
  {
   "cell_type": "code",
   "execution_count": 18,
   "metadata": {
    "pycharm": {
     "name": "#%%\n"
    }
   },
   "outputs": [
    {
     "name": "stdout",
     "output_type": "stream",
     "text": [
      "Fitting 5 folds for each of 20 candidates, totalling 100 fits\n",
      "[CV] C=0.001, loss=hinge, penalty=l1 .................................\n",
      "[CV] ....... C=0.001, loss=hinge, penalty=l1, score=nan, total=   0.0s\n",
      "[CV] C=0.001, loss=hinge, penalty=l1 .................................\n",
      "[CV] ....... C=0.001, loss=hinge, penalty=l1, score=nan, total=   0.0s\n",
      "[CV] C=0.001, loss=hinge, penalty=l1 .................................\n",
      "[CV] ....... C=0.001, loss=hinge, penalty=l1, score=nan, total=   0.0s\n",
      "[CV] C=0.001, loss=hinge, penalty=l1 .................................\n",
      "[CV] ....... C=0.001, loss=hinge, penalty=l1, score=nan, total=   0.1s\n",
      "[CV] C=0.001, loss=hinge, penalty=l1 .................................\n",
      "[CV] ....... C=0.001, loss=hinge, penalty=l1, score=nan, total=   0.1s\n",
      "[CV] C=0.001, loss=hinge, penalty=l2 .................................\n",
      "[CV] ..... C=0.001, loss=hinge, penalty=l2, score=0.757, total=   0.1s\n",
      "[CV] C=0.001, loss=hinge, penalty=l2 .................................\n",
      "[CV] ..... C=0.001, loss=hinge, penalty=l2, score=0.757, total=   0.1s\n",
      "[CV] C=0.001, loss=hinge, penalty=l2 .................................\n",
      "[CV] ..... C=0.001, loss=hinge, penalty=l2, score=0.757, total=   0.1s\n",
      "[CV] C=0.001, loss=hinge, penalty=l2 .................................\n",
      "[CV] ..... C=0.001, loss=hinge, penalty=l2, score=0.757, total=   0.1s\n",
      "[CV] C=0.001, loss=hinge, penalty=l2 .................................\n",
      "[CV] ..... C=0.001, loss=hinge, penalty=l2, score=0.757, total=   0.1s\n",
      "[CV] C=0.001, loss=squared_hinge, penalty=l1 .........................\n",
      "[CV]  C=0.001, loss=squared_hinge, penalty=l1, score=nan, total=   0.0s\n",
      "[CV] C=0.001, loss=squared_hinge, penalty=l1 .........................\n",
      "[CV]  C=0.001, loss=squared_hinge, penalty=l1, score=nan, total=   0.0s\n",
      "[CV] C=0.001, loss=squared_hinge, penalty=l1 .........................\n",
      "[CV]  C=0.001, loss=squared_hinge, penalty=l1, score=nan, total=   0.0s\n",
      "[CV] C=0.001, loss=squared_hinge, penalty=l1 .........................\n",
      "[CV]  C=0.001, loss=squared_hinge, penalty=l1, score=nan, total=   0.0s\n",
      "[CV] C=0.001, loss=squared_hinge, penalty=l1 .........................\n",
      "[CV]  C=0.001, loss=squared_hinge, penalty=l1, score=nan, total=   0.0s\n",
      "[CV] C=0.001, loss=squared_hinge, penalty=l2 .........................\n",
      "[CV]  C=0.001, loss=squared_hinge, penalty=l2, score=0.757, total=   0.1s\n",
      "[CV] C=0.001, loss=squared_hinge, penalty=l2 .........................\n",
      "[CV]  C=0.001, loss=squared_hinge, penalty=l2, score=0.757, total=   0.1s\n",
      "[CV] C=0.001, loss=squared_hinge, penalty=l2 .........................\n",
      "[CV]  C=0.001, loss=squared_hinge, penalty=l2, score=0.757, total=   0.1s\n",
      "[CV] C=0.001, loss=squared_hinge, penalty=l2 .........................\n",
      "[CV]  C=0.001, loss=squared_hinge, penalty=l2, score=0.757, total=   0.1s\n",
      "[CV] C=0.001, loss=squared_hinge, penalty=l2 .........................\n",
      "[CV]  C=0.001, loss=squared_hinge, penalty=l2, score=0.757, total=   0.1s\n",
      "[CV] C=0.01, loss=hinge, penalty=l1 ..................................\n",
      "[CV] ........ C=0.01, loss=hinge, penalty=l1, score=nan, total=   0.0s\n",
      "[CV] C=0.01, loss=hinge, penalty=l1 ..................................\n",
      "[CV] ........ C=0.01, loss=hinge, penalty=l1, score=nan, total=   0.0s\n",
      "[CV] C=0.01, loss=hinge, penalty=l1 ..................................\n",
      "[CV] ........ C=0.01, loss=hinge, penalty=l1, score=nan, total=   0.0s\n",
      "[CV] C=0.01, loss=hinge, penalty=l1 ..................................\n",
      "[CV] ........ C=0.01, loss=hinge, penalty=l1, score=nan, total=   0.0s\n",
      "[CV] C=0.01, loss=hinge, penalty=l1 ..................................\n",
      "[CV] ........ C=0.01, loss=hinge, penalty=l1, score=nan, total=   0.1s\n",
      "[CV] C=0.01, loss=hinge, penalty=l2 ..................................\n",
      "[CV] ...... C=0.01, loss=hinge, penalty=l2, score=0.762, total=   0.2s\n",
      "[CV] C=0.01, loss=hinge, penalty=l2 ..................................\n",
      "[CV] ...... C=0.01, loss=hinge, penalty=l2, score=0.760, total=   0.1s\n",
      "[CV] C=0.01, loss=hinge, penalty=l2 ..................................\n",
      "[CV] ...... C=0.01, loss=hinge, penalty=l2, score=0.763, total=   0.1s\n",
      "[CV] C=0.01, loss=hinge, penalty=l2 ..................................\n",
      "[CV] ...... C=0.01, loss=hinge, penalty=l2, score=0.762, total=   0.1s\n",
      "[CV] C=0.01, loss=hinge, penalty=l2 ..................................\n",
      "[CV] ...... C=0.01, loss=hinge, penalty=l2, score=0.761, total=   0.1s\n",
      "[CV] C=0.01, loss=squared_hinge, penalty=l1 ..........................\n",
      "[CV]  C=0.01, loss=squared_hinge, penalty=l1, score=nan, total=   0.1s\n",
      "[CV] C=0.01, loss=squared_hinge, penalty=l1 ..........................\n",
      "[CV]  C=0.01, loss=squared_hinge, penalty=l1, score=nan, total=   0.0s\n",
      "[CV] C=0.01, loss=squared_hinge, penalty=l1 ..........................\n",
      "[CV]  C=0.01, loss=squared_hinge, penalty=l1, score=nan, total=   0.0s\n",
      "[CV] C=0.01, loss=squared_hinge, penalty=l1 ..........................\n",
      "[CV]  C=0.01, loss=squared_hinge, penalty=l1, score=nan, total=   0.0s\n",
      "[CV] C=0.01, loss=squared_hinge, penalty=l1 ..........................\n",
      "[CV]  C=0.01, loss=squared_hinge, penalty=l1, score=nan, total=   0.1s\n",
      "[CV] C=0.01, loss=squared_hinge, penalty=l2 ..........................\n",
      "[CV]  C=0.01, loss=squared_hinge, penalty=l2, score=0.834, total=   0.1s\n",
      "[CV] C=0.01, loss=squared_hinge, penalty=l2 ..........................\n",
      "[CV]  C=0.01, loss=squared_hinge, penalty=l2, score=0.833, total=   0.2s\n",
      "[CV] C=0.01, loss=squared_hinge, penalty=l2 ..........................\n",
      "[CV]  C=0.01, loss=squared_hinge, penalty=l2, score=0.837, total=   0.1s\n",
      "[CV] C=0.01, loss=squared_hinge, penalty=l2 ..........................\n",
      "[CV]  C=0.01, loss=squared_hinge, penalty=l2, score=0.821, total=   0.1s\n",
      "[CV] C=0.01, loss=squared_hinge, penalty=l2 ..........................\n",
      "[CV]  C=0.01, loss=squared_hinge, penalty=l2, score=0.827, total=   0.2s\n",
      "[CV] C=0.1, loss=hinge, penalty=l1 ...................................\n",
      "[CV] ......... C=0.1, loss=hinge, penalty=l1, score=nan, total=   0.0s\n",
      "[CV] C=0.1, loss=hinge, penalty=l1 ...................................\n",
      "[CV] ......... C=0.1, loss=hinge, penalty=l1, score=nan, total=   0.0s\n",
      "[CV] C=0.1, loss=hinge, penalty=l1 ...................................\n",
      "[CV] ......... C=0.1, loss=hinge, penalty=l1, score=nan, total=   0.0s\n",
      "[CV] C=0.1, loss=hinge, penalty=l1 ...................................\n",
      "[CV] ......... C=0.1, loss=hinge, penalty=l1, score=nan, total=   0.0s\n",
      "[CV] C=0.1, loss=hinge, penalty=l1 ...................................\n",
      "[CV] ......... C=0.1, loss=hinge, penalty=l1, score=nan, total=   0.0s\n",
      "[CV] C=0.1, loss=hinge, penalty=l2 ...................................\n",
      "[CV] ....... C=0.1, loss=hinge, penalty=l2, score=0.846, total=   0.1s\n",
      "[CV] C=0.1, loss=hinge, penalty=l2 ...................................\n",
      "[CV] ....... C=0.1, loss=hinge, penalty=l2, score=0.843, total=   0.1s\n",
      "[CV] C=0.1, loss=hinge, penalty=l2 ...................................\n",
      "[CV] ....... C=0.1, loss=hinge, penalty=l2, score=0.846, total=   0.1s\n",
      "[CV] C=0.1, loss=hinge, penalty=l2 ...................................\n",
      "[CV] ....... C=0.1, loss=hinge, penalty=l2, score=0.832, total=   0.1s\n",
      "[CV] C=0.1, loss=hinge, penalty=l2 ...................................\n",
      "[CV] ....... C=0.1, loss=hinge, penalty=l2, score=0.843, total=   0.1s\n",
      "[CV] C=0.1, loss=squared_hinge, penalty=l1 ...........................\n",
      "[CV] . C=0.1, loss=squared_hinge, penalty=l1, score=nan, total=   0.0s\n",
      "[CV] C=0.1, loss=squared_hinge, penalty=l1 ...........................\n",
      "[CV] . C=0.1, loss=squared_hinge, penalty=l1, score=nan, total=   0.0s\n",
      "[CV] C=0.1, loss=squared_hinge, penalty=l1 ...........................\n",
      "[CV] . C=0.1, loss=squared_hinge, penalty=l1, score=nan, total=   0.0s\n",
      "[CV] C=0.1, loss=squared_hinge, penalty=l1 ...........................\n",
      "[CV] . C=0.1, loss=squared_hinge, penalty=l1, score=nan, total=   0.0s\n",
      "[CV] C=0.1, loss=squared_hinge, penalty=l1 ...........................\n",
      "[CV] . C=0.1, loss=squared_hinge, penalty=l1, score=nan, total=   0.1s\n",
      "[CV] C=0.1, loss=squared_hinge, penalty=l2 ...........................\n",
      "[CV]  C=0.1, loss=squared_hinge, penalty=l2, score=0.848, total=   0.1s\n",
      "[CV] C=0.1, loss=squared_hinge, penalty=l2 ...........................\n",
      "[CV]  C=0.1, loss=squared_hinge, penalty=l2, score=0.851, total=   0.2s\n",
      "[CV] C=0.1, loss=squared_hinge, penalty=l2 ...........................\n",
      "[CV]  C=0.1, loss=squared_hinge, penalty=l2, score=0.855, total=   0.1s\n",
      "[CV] C=0.1, loss=squared_hinge, penalty=l2 ...........................\n",
      "[CV]  C=0.1, loss=squared_hinge, penalty=l2, score=0.836, total=   0.1s\n",
      "[CV] C=0.1, loss=squared_hinge, penalty=l2 ...........................\n",
      "[CV]  C=0.1, loss=squared_hinge, penalty=l2, score=0.855, total=   0.2s\n",
      "[CV] C=1.0, loss=hinge, penalty=l1 ...................................\n",
      "[CV] ......... C=1.0, loss=hinge, penalty=l1, score=nan, total=   0.0s\n",
      "[CV] C=1.0, loss=hinge, penalty=l1 ...................................\n",
      "[CV] ......... C=1.0, loss=hinge, penalty=l1, score=nan, total=   0.0s\n",
      "[CV] C=1.0, loss=hinge, penalty=l1 ...................................\n",
      "[CV] ......... C=1.0, loss=hinge, penalty=l1, score=nan, total=   0.1s\n",
      "[CV] C=1.0, loss=hinge, penalty=l1 ...................................\n",
      "[CV] ......... C=1.0, loss=hinge, penalty=l1, score=nan, total=   0.0s\n",
      "[CV] C=1.0, loss=hinge, penalty=l1 ...................................\n",
      "[CV] ......... C=1.0, loss=hinge, penalty=l1, score=nan, total=   0.0s\n",
      "[CV] C=1.0, loss=hinge, penalty=l2 ...................................\n",
      "[CV] ....... C=1.0, loss=hinge, penalty=l2, score=0.851, total=   0.3s\n",
      "[CV] C=1.0, loss=hinge, penalty=l2 ...................................\n",
      "[CV] ....... C=1.0, loss=hinge, penalty=l2, score=0.850, total=   0.2s\n",
      "[CV] C=1.0, loss=hinge, penalty=l2 ...................................\n",
      "[CV] ....... C=1.0, loss=hinge, penalty=l2, score=0.854, total=   0.2s\n",
      "[CV] C=1.0, loss=hinge, penalty=l2 ...................................\n",
      "[CV] ....... C=1.0, loss=hinge, penalty=l2, score=0.839, total=   0.2s\n",
      "[CV] C=1.0, loss=hinge, penalty=l2 ...................................\n",
      "[CV] ....... C=1.0, loss=hinge, penalty=l2, score=0.854, total=   0.3s\n",
      "[CV] C=1.0, loss=squared_hinge, penalty=l1 ...........................\n",
      "[CV] . C=1.0, loss=squared_hinge, penalty=l1, score=nan, total=   0.0s\n",
      "[CV] C=1.0, loss=squared_hinge, penalty=l1 ...........................\n",
      "[CV] . C=1.0, loss=squared_hinge, penalty=l1, score=nan, total=   0.0s\n",
      "[CV] C=1.0, loss=squared_hinge, penalty=l1 ...........................\n",
      "[CV] . C=1.0, loss=squared_hinge, penalty=l1, score=nan, total=   0.1s\n",
      "[CV] C=1.0, loss=squared_hinge, penalty=l1 ...........................\n",
      "[CV] . C=1.0, loss=squared_hinge, penalty=l1, score=nan, total=   0.0s\n",
      "[CV] C=1.0, loss=squared_hinge, penalty=l1 ...........................\n",
      "[CV] . C=1.0, loss=squared_hinge, penalty=l1, score=nan, total=   0.0s\n",
      "[CV] C=1.0, loss=squared_hinge, penalty=l2 ...........................\n",
      "[CV]  C=1.0, loss=squared_hinge, penalty=l2, score=0.845, total=   0.3s\n",
      "[CV] C=1.0, loss=squared_hinge, penalty=l2 ...........................\n",
      "[CV]  C=1.0, loss=squared_hinge, penalty=l2, score=0.844, total=   0.3s\n",
      "[CV] C=1.0, loss=squared_hinge, penalty=l2 ...........................\n",
      "[CV]  C=1.0, loss=squared_hinge, penalty=l2, score=0.852, total=   0.3s\n",
      "[CV] C=1.0, loss=squared_hinge, penalty=l2 ...........................\n",
      "[CV]  C=1.0, loss=squared_hinge, penalty=l2, score=0.838, total=   0.3s\n",
      "[CV] C=1.0, loss=squared_hinge, penalty=l2 ...........................\n",
      "[CV]  C=1.0, loss=squared_hinge, penalty=l2, score=0.854, total=   0.3s\n",
      "[CV] C=10.0, loss=hinge, penalty=l1 ..................................\n",
      "[CV] ........ C=10.0, loss=hinge, penalty=l1, score=nan, total=   0.0s\n",
      "[CV] C=10.0, loss=hinge, penalty=l1 ..................................\n",
      "[CV] ........ C=10.0, loss=hinge, penalty=l1, score=nan, total=   0.1s\n",
      "[CV] C=10.0, loss=hinge, penalty=l1 ..................................\n",
      "[CV] ........ C=10.0, loss=hinge, penalty=l1, score=nan, total=   0.0s\n",
      "[CV] C=10.0, loss=hinge, penalty=l1 ..................................\n",
      "[CV] ........ C=10.0, loss=hinge, penalty=l1, score=nan, total=   0.0s\n",
      "[CV] C=10.0, loss=hinge, penalty=l1 ..................................\n",
      "[CV] ........ C=10.0, loss=hinge, penalty=l1, score=nan, total=   0.1s\n",
      "[CV] C=10.0, loss=hinge, penalty=l2 ..................................\n",
      "[CV] ...... C=10.0, loss=hinge, penalty=l2, score=0.844, total=   0.5s\n",
      "[CV] C=10.0, loss=hinge, penalty=l2 ..................................\n",
      "[CV] ...... C=10.0, loss=hinge, penalty=l2, score=0.846, total=   0.5s\n",
      "[CV] C=10.0, loss=hinge, penalty=l2 ..................................\n",
      "[CV] ...... C=10.0, loss=hinge, penalty=l2, score=0.854, total=   0.8s\n",
      "[CV] C=10.0, loss=hinge, penalty=l2 ..................................\n",
      "[CV] ...... C=10.0, loss=hinge, penalty=l2, score=0.839, total=   0.7s\n",
      "[CV] C=10.0, loss=hinge, penalty=l2 ..................................\n",
      "[CV] ...... C=10.0, loss=hinge, penalty=l2, score=0.855, total=   0.5s\n",
      "[CV] C=10.0, loss=squared_hinge, penalty=l1 ..........................\n",
      "[CV]  C=10.0, loss=squared_hinge, penalty=l1, score=nan, total=   0.1s\n",
      "[CV] C=10.0, loss=squared_hinge, penalty=l1 ..........................\n",
      "[CV]  C=10.0, loss=squared_hinge, penalty=l1, score=nan, total=   0.1s\n",
      "[CV] C=10.0, loss=squared_hinge, penalty=l1 ..........................\n",
      "[CV]  C=10.0, loss=squared_hinge, penalty=l1, score=nan, total=   0.1s\n",
      "[CV] C=10.0, loss=squared_hinge, penalty=l1 ..........................\n",
      "[CV]  C=10.0, loss=squared_hinge, penalty=l1, score=nan, total=   0.0s\n",
      "[CV] C=10.0, loss=squared_hinge, penalty=l1 ..........................\n",
      "[CV]  C=10.0, loss=squared_hinge, penalty=l1, score=nan, total=   0.0s\n",
      "[CV] C=10.0, loss=squared_hinge, penalty=l2 ..........................\n",
      "[CV]  C=10.0, loss=squared_hinge, penalty=l2, score=0.843, total=   2.1s\n",
      "[CV] C=10.0, loss=squared_hinge, penalty=l2 ..........................\n",
      "[CV]  C=10.0, loss=squared_hinge, penalty=l2, score=0.842, total=   1.6s\n",
      "[CV] C=10.0, loss=squared_hinge, penalty=l2 ..........................\n",
      "[CV]  C=10.0, loss=squared_hinge, penalty=l2, score=0.851, total=   1.7s\n",
      "[CV] C=10.0, loss=squared_hinge, penalty=l2 ..........................\n",
      "[CV]  C=10.0, loss=squared_hinge, penalty=l2, score=0.837, total=   1.7s\n",
      "[CV] C=10.0, loss=squared_hinge, penalty=l2 ..........................\n",
      "[CV]  C=10.0, loss=squared_hinge, penalty=l2, score=0.855, total=   1.6s\n"
     ]
    },
    {
     "name": "stderr",
     "output_type": "stream",
     "text": [
      "[Parallel(n_jobs=1)]: Using backend SequentialBackend with 1 concurrent workers.\n",
      "c:\\users\\torst\\anaconda3\\envs\\course2groupproject\\lib\\site-packages\\sklearn\\model_selection\\_validation.py:552: FitFailedWarning: Estimator fit failed. The score on this train-test partition for these parameters will be set to nan. Details: \n",
      "Traceback (most recent call last):\n",
      "  File \"c:\\users\\torst\\anaconda3\\envs\\course2groupproject\\lib\\site-packages\\sklearn\\model_selection\\_validation.py\", line 531, in _fit_and_score\n",
      "    estimator.fit(X_train, y_train, **fit_params)\n",
      "  File \"c:\\users\\torst\\anaconda3\\envs\\course2groupproject\\lib\\site-packages\\sklearn\\svm\\_classes.py\", line 237, in fit\n",
      "    self.loss, sample_weight=sample_weight)\n",
      "  File \"c:\\users\\torst\\anaconda3\\envs\\course2groupproject\\lib\\site-packages\\sklearn\\svm\\_base.py\", line 965, in _fit_liblinear\n",
      "    solver_type = _get_liblinear_solver_type(multi_class, penalty, loss, dual)\n",
      "  File \"c:\\users\\torst\\anaconda3\\envs\\course2groupproject\\lib\\site-packages\\sklearn\\svm\\_base.py\", line 823, in _get_liblinear_solver_type\n",
      "    % (error_string, penalty, loss, dual))\n",
      "ValueError: Unsupported set of arguments: The combination of penalty='l1' and loss='hinge' is not supported, Parameters: penalty='l1', loss='hinge', dual=True\n",
      "\n",
      "  FitFailedWarning)\n",
      "[Parallel(n_jobs=1)]: Done   1 out of   1 | elapsed:    0.0s remaining:    0.0s\n",
      "c:\\users\\torst\\anaconda3\\envs\\course2groupproject\\lib\\site-packages\\sklearn\\model_selection\\_validation.py:552: FitFailedWarning: Estimator fit failed. The score on this train-test partition for these parameters will be set to nan. Details: \n",
      "Traceback (most recent call last):\n",
      "  File \"c:\\users\\torst\\anaconda3\\envs\\course2groupproject\\lib\\site-packages\\sklearn\\model_selection\\_validation.py\", line 531, in _fit_and_score\n",
      "    estimator.fit(X_train, y_train, **fit_params)\n",
      "  File \"c:\\users\\torst\\anaconda3\\envs\\course2groupproject\\lib\\site-packages\\sklearn\\svm\\_classes.py\", line 237, in fit\n",
      "    self.loss, sample_weight=sample_weight)\n",
      "  File \"c:\\users\\torst\\anaconda3\\envs\\course2groupproject\\lib\\site-packages\\sklearn\\svm\\_base.py\", line 965, in _fit_liblinear\n",
      "    solver_type = _get_liblinear_solver_type(multi_class, penalty, loss, dual)\n",
      "  File \"c:\\users\\torst\\anaconda3\\envs\\course2groupproject\\lib\\site-packages\\sklearn\\svm\\_base.py\", line 823, in _get_liblinear_solver_type\n",
      "    % (error_string, penalty, loss, dual))\n",
      "ValueError: Unsupported set of arguments: The combination of penalty='l1' and loss='hinge' is not supported, Parameters: penalty='l1', loss='hinge', dual=True\n",
      "\n",
      "  FitFailedWarning)\n",
      "[Parallel(n_jobs=1)]: Done   2 out of   2 | elapsed:    0.0s remaining:    0.0s\n",
      "c:\\users\\torst\\anaconda3\\envs\\course2groupproject\\lib\\site-packages\\sklearn\\model_selection\\_validation.py:552: FitFailedWarning: Estimator fit failed. The score on this train-test partition for these parameters will be set to nan. Details: \n",
      "Traceback (most recent call last):\n",
      "  File \"c:\\users\\torst\\anaconda3\\envs\\course2groupproject\\lib\\site-packages\\sklearn\\model_selection\\_validation.py\", line 531, in _fit_and_score\n",
      "    estimator.fit(X_train, y_train, **fit_params)\n",
      "  File \"c:\\users\\torst\\anaconda3\\envs\\course2groupproject\\lib\\site-packages\\sklearn\\svm\\_classes.py\", line 237, in fit\n",
      "    self.loss, sample_weight=sample_weight)\n",
      "  File \"c:\\users\\torst\\anaconda3\\envs\\course2groupproject\\lib\\site-packages\\sklearn\\svm\\_base.py\", line 965, in _fit_liblinear\n",
      "    solver_type = _get_liblinear_solver_type(multi_class, penalty, loss, dual)\n",
      "  File \"c:\\users\\torst\\anaconda3\\envs\\course2groupproject\\lib\\site-packages\\sklearn\\svm\\_base.py\", line 823, in _get_liblinear_solver_type\n",
      "    % (error_string, penalty, loss, dual))\n",
      "ValueError: Unsupported set of arguments: The combination of penalty='l1' and loss='hinge' is not supported, Parameters: penalty='l1', loss='hinge', dual=True\n",
      "\n",
      "  FitFailedWarning)\n",
      "c:\\users\\torst\\anaconda3\\envs\\course2groupproject\\lib\\site-packages\\sklearn\\model_selection\\_validation.py:552: FitFailedWarning: Estimator fit failed. The score on this train-test partition for these parameters will be set to nan. Details: \n",
      "Traceback (most recent call last):\n",
      "  File \"c:\\users\\torst\\anaconda3\\envs\\course2groupproject\\lib\\site-packages\\sklearn\\model_selection\\_validation.py\", line 531, in _fit_and_score\n",
      "    estimator.fit(X_train, y_train, **fit_params)\n",
      "  File \"c:\\users\\torst\\anaconda3\\envs\\course2groupproject\\lib\\site-packages\\sklearn\\svm\\_classes.py\", line 237, in fit\n",
      "    self.loss, sample_weight=sample_weight)\n",
      "  File \"c:\\users\\torst\\anaconda3\\envs\\course2groupproject\\lib\\site-packages\\sklearn\\svm\\_base.py\", line 965, in _fit_liblinear\n",
      "    solver_type = _get_liblinear_solver_type(multi_class, penalty, loss, dual)\n",
      "  File \"c:\\users\\torst\\anaconda3\\envs\\course2groupproject\\lib\\site-packages\\sklearn\\svm\\_base.py\", line 823, in _get_liblinear_solver_type\n",
      "    % (error_string, penalty, loss, dual))\n",
      "ValueError: Unsupported set of arguments: The combination of penalty='l1' and loss='hinge' is not supported, Parameters: penalty='l1', loss='hinge', dual=True\n",
      "\n",
      "  FitFailedWarning)\n",
      "c:\\users\\torst\\anaconda3\\envs\\course2groupproject\\lib\\site-packages\\sklearn\\model_selection\\_validation.py:552: FitFailedWarning: Estimator fit failed. The score on this train-test partition for these parameters will be set to nan. Details: \n",
      "Traceback (most recent call last):\n",
      "  File \"c:\\users\\torst\\anaconda3\\envs\\course2groupproject\\lib\\site-packages\\sklearn\\model_selection\\_validation.py\", line 531, in _fit_and_score\n",
      "    estimator.fit(X_train, y_train, **fit_params)\n",
      "  File \"c:\\users\\torst\\anaconda3\\envs\\course2groupproject\\lib\\site-packages\\sklearn\\svm\\_classes.py\", line 237, in fit\n",
      "    self.loss, sample_weight=sample_weight)\n",
      "  File \"c:\\users\\torst\\anaconda3\\envs\\course2groupproject\\lib\\site-packages\\sklearn\\svm\\_base.py\", line 965, in _fit_liblinear\n",
      "    solver_type = _get_liblinear_solver_type(multi_class, penalty, loss, dual)\n",
      "  File \"c:\\users\\torst\\anaconda3\\envs\\course2groupproject\\lib\\site-packages\\sklearn\\svm\\_base.py\", line 823, in _get_liblinear_solver_type\n",
      "    % (error_string, penalty, loss, dual))\n",
      "ValueError: Unsupported set of arguments: The combination of penalty='l1' and loss='hinge' is not supported, Parameters: penalty='l1', loss='hinge', dual=True\n",
      "\n",
      "  FitFailedWarning)\n",
      "c:\\users\\torst\\anaconda3\\envs\\course2groupproject\\lib\\site-packages\\sklearn\\model_selection\\_validation.py:552: FitFailedWarning: Estimator fit failed. The score on this train-test partition for these parameters will be set to nan. Details: \n",
      "Traceback (most recent call last):\n",
      "  File \"c:\\users\\torst\\anaconda3\\envs\\course2groupproject\\lib\\site-packages\\sklearn\\model_selection\\_validation.py\", line 531, in _fit_and_score\n",
      "    estimator.fit(X_train, y_train, **fit_params)\n",
      "  File \"c:\\users\\torst\\anaconda3\\envs\\course2groupproject\\lib\\site-packages\\sklearn\\svm\\_classes.py\", line 237, in fit\n",
      "    self.loss, sample_weight=sample_weight)\n",
      "  File \"c:\\users\\torst\\anaconda3\\envs\\course2groupproject\\lib\\site-packages\\sklearn\\svm\\_base.py\", line 965, in _fit_liblinear\n",
      "    solver_type = _get_liblinear_solver_type(multi_class, penalty, loss, dual)\n",
      "  File \"c:\\users\\torst\\anaconda3\\envs\\course2groupproject\\lib\\site-packages\\sklearn\\svm\\_base.py\", line 823, in _get_liblinear_solver_type\n",
      "    % (error_string, penalty, loss, dual))\n",
      "ValueError: Unsupported set of arguments: The combination of penalty='l1' and loss='squared_hinge' are not supported when dual=True, Parameters: penalty='l1', loss='squared_hinge', dual=True\n",
      "\n",
      "  FitFailedWarning)\n",
      "c:\\users\\torst\\anaconda3\\envs\\course2groupproject\\lib\\site-packages\\sklearn\\model_selection\\_validation.py:552: FitFailedWarning: Estimator fit failed. The score on this train-test partition for these parameters will be set to nan. Details: \n",
      "Traceback (most recent call last):\n",
      "  File \"c:\\users\\torst\\anaconda3\\envs\\course2groupproject\\lib\\site-packages\\sklearn\\model_selection\\_validation.py\", line 531, in _fit_and_score\n",
      "    estimator.fit(X_train, y_train, **fit_params)\n",
      "  File \"c:\\users\\torst\\anaconda3\\envs\\course2groupproject\\lib\\site-packages\\sklearn\\svm\\_classes.py\", line 237, in fit\n",
      "    self.loss, sample_weight=sample_weight)\n",
      "  File \"c:\\users\\torst\\anaconda3\\envs\\course2groupproject\\lib\\site-packages\\sklearn\\svm\\_base.py\", line 965, in _fit_liblinear\n",
      "    solver_type = _get_liblinear_solver_type(multi_class, penalty, loss, dual)\n",
      "  File \"c:\\users\\torst\\anaconda3\\envs\\course2groupproject\\lib\\site-packages\\sklearn\\svm\\_base.py\", line 823, in _get_liblinear_solver_type\n",
      "    % (error_string, penalty, loss, dual))\n",
      "ValueError: Unsupported set of arguments: The combination of penalty='l1' and loss='squared_hinge' are not supported when dual=True, Parameters: penalty='l1', loss='squared_hinge', dual=True\n",
      "\n",
      "  FitFailedWarning)\n",
      "c:\\users\\torst\\anaconda3\\envs\\course2groupproject\\lib\\site-packages\\sklearn\\model_selection\\_validation.py:552: FitFailedWarning: Estimator fit failed. The score on this train-test partition for these parameters will be set to nan. Details: \n",
      "Traceback (most recent call last):\n",
      "  File \"c:\\users\\torst\\anaconda3\\envs\\course2groupproject\\lib\\site-packages\\sklearn\\model_selection\\_validation.py\", line 531, in _fit_and_score\n",
      "    estimator.fit(X_train, y_train, **fit_params)\n",
      "  File \"c:\\users\\torst\\anaconda3\\envs\\course2groupproject\\lib\\site-packages\\sklearn\\svm\\_classes.py\", line 237, in fit\n",
      "    self.loss, sample_weight=sample_weight)\n",
      "  File \"c:\\users\\torst\\anaconda3\\envs\\course2groupproject\\lib\\site-packages\\sklearn\\svm\\_base.py\", line 965, in _fit_liblinear\n",
      "    solver_type = _get_liblinear_solver_type(multi_class, penalty, loss, dual)\n",
      "  File \"c:\\users\\torst\\anaconda3\\envs\\course2groupproject\\lib\\site-packages\\sklearn\\svm\\_base.py\", line 823, in _get_liblinear_solver_type\n",
      "    % (error_string, penalty, loss, dual))\n",
      "ValueError: Unsupported set of arguments: The combination of penalty='l1' and loss='squared_hinge' are not supported when dual=True, Parameters: penalty='l1', loss='squared_hinge', dual=True\n",
      "\n",
      "  FitFailedWarning)\n",
      "c:\\users\\torst\\anaconda3\\envs\\course2groupproject\\lib\\site-packages\\sklearn\\model_selection\\_validation.py:552: FitFailedWarning: Estimator fit failed. The score on this train-test partition for these parameters will be set to nan. Details: \n",
      "Traceback (most recent call last):\n",
      "  File \"c:\\users\\torst\\anaconda3\\envs\\course2groupproject\\lib\\site-packages\\sklearn\\model_selection\\_validation.py\", line 531, in _fit_and_score\n",
      "    estimator.fit(X_train, y_train, **fit_params)\n",
      "  File \"c:\\users\\torst\\anaconda3\\envs\\course2groupproject\\lib\\site-packages\\sklearn\\svm\\_classes.py\", line 237, in fit\n",
      "    self.loss, sample_weight=sample_weight)\n",
      "  File \"c:\\users\\torst\\anaconda3\\envs\\course2groupproject\\lib\\site-packages\\sklearn\\svm\\_base.py\", line 965, in _fit_liblinear\n",
      "    solver_type = _get_liblinear_solver_type(multi_class, penalty, loss, dual)\n",
      "  File \"c:\\users\\torst\\anaconda3\\envs\\course2groupproject\\lib\\site-packages\\sklearn\\svm\\_base.py\", line 823, in _get_liblinear_solver_type\n",
      "    % (error_string, penalty, loss, dual))\n",
      "ValueError: Unsupported set of arguments: The combination of penalty='l1' and loss='squared_hinge' are not supported when dual=True, Parameters: penalty='l1', loss='squared_hinge', dual=True\n",
      "\n",
      "  FitFailedWarning)\n",
      "c:\\users\\torst\\anaconda3\\envs\\course2groupproject\\lib\\site-packages\\sklearn\\model_selection\\_validation.py:552: FitFailedWarning: Estimator fit failed. The score on this train-test partition for these parameters will be set to nan. Details: \n",
      "Traceback (most recent call last):\n",
      "  File \"c:\\users\\torst\\anaconda3\\envs\\course2groupproject\\lib\\site-packages\\sklearn\\model_selection\\_validation.py\", line 531, in _fit_and_score\n",
      "    estimator.fit(X_train, y_train, **fit_params)\n",
      "  File \"c:\\users\\torst\\anaconda3\\envs\\course2groupproject\\lib\\site-packages\\sklearn\\svm\\_classes.py\", line 237, in fit\n",
      "    self.loss, sample_weight=sample_weight)\n",
      "  File \"c:\\users\\torst\\anaconda3\\envs\\course2groupproject\\lib\\site-packages\\sklearn\\svm\\_base.py\", line 965, in _fit_liblinear\n",
      "    solver_type = _get_liblinear_solver_type(multi_class, penalty, loss, dual)\n",
      "  File \"c:\\users\\torst\\anaconda3\\envs\\course2groupproject\\lib\\site-packages\\sklearn\\svm\\_base.py\", line 823, in _get_liblinear_solver_type\n",
      "    % (error_string, penalty, loss, dual))\n",
      "ValueError: Unsupported set of arguments: The combination of penalty='l1' and loss='squared_hinge' are not supported when dual=True, Parameters: penalty='l1', loss='squared_hinge', dual=True\n",
      "\n",
      "  FitFailedWarning)\n",
      "c:\\users\\torst\\anaconda3\\envs\\course2groupproject\\lib\\site-packages\\sklearn\\model_selection\\_validation.py:552: FitFailedWarning: Estimator fit failed. The score on this train-test partition for these parameters will be set to nan. Details: \n",
      "Traceback (most recent call last):\n",
      "  File \"c:\\users\\torst\\anaconda3\\envs\\course2groupproject\\lib\\site-packages\\sklearn\\model_selection\\_validation.py\", line 531, in _fit_and_score\n",
      "    estimator.fit(X_train, y_train, **fit_params)\n",
      "  File \"c:\\users\\torst\\anaconda3\\envs\\course2groupproject\\lib\\site-packages\\sklearn\\svm\\_classes.py\", line 237, in fit\n",
      "    self.loss, sample_weight=sample_weight)\n",
      "  File \"c:\\users\\torst\\anaconda3\\envs\\course2groupproject\\lib\\site-packages\\sklearn\\svm\\_base.py\", line 965, in _fit_liblinear\n",
      "    solver_type = _get_liblinear_solver_type(multi_class, penalty, loss, dual)\n",
      "  File \"c:\\users\\torst\\anaconda3\\envs\\course2groupproject\\lib\\site-packages\\sklearn\\svm\\_base.py\", line 823, in _get_liblinear_solver_type\n",
      "    % (error_string, penalty, loss, dual))\n",
      "ValueError: Unsupported set of arguments: The combination of penalty='l1' and loss='hinge' is not supported, Parameters: penalty='l1', loss='hinge', dual=True\n",
      "\n",
      "  FitFailedWarning)\n",
      "c:\\users\\torst\\anaconda3\\envs\\course2groupproject\\lib\\site-packages\\sklearn\\model_selection\\_validation.py:552: FitFailedWarning: Estimator fit failed. The score on this train-test partition for these parameters will be set to nan. Details: \n",
      "Traceback (most recent call last):\n",
      "  File \"c:\\users\\torst\\anaconda3\\envs\\course2groupproject\\lib\\site-packages\\sklearn\\model_selection\\_validation.py\", line 531, in _fit_and_score\n",
      "    estimator.fit(X_train, y_train, **fit_params)\n",
      "  File \"c:\\users\\torst\\anaconda3\\envs\\course2groupproject\\lib\\site-packages\\sklearn\\svm\\_classes.py\", line 237, in fit\n",
      "    self.loss, sample_weight=sample_weight)\n",
      "  File \"c:\\users\\torst\\anaconda3\\envs\\course2groupproject\\lib\\site-packages\\sklearn\\svm\\_base.py\", line 965, in _fit_liblinear\n",
      "    solver_type = _get_liblinear_solver_type(multi_class, penalty, loss, dual)\n",
      "  File \"c:\\users\\torst\\anaconda3\\envs\\course2groupproject\\lib\\site-packages\\sklearn\\svm\\_base.py\", line 823, in _get_liblinear_solver_type\n",
      "    % (error_string, penalty, loss, dual))\n",
      "ValueError: Unsupported set of arguments: The combination of penalty='l1' and loss='hinge' is not supported, Parameters: penalty='l1', loss='hinge', dual=True\n",
      "\n",
      "  FitFailedWarning)\n",
      "c:\\users\\torst\\anaconda3\\envs\\course2groupproject\\lib\\site-packages\\sklearn\\model_selection\\_validation.py:552: FitFailedWarning: Estimator fit failed. The score on this train-test partition for these parameters will be set to nan. Details: \n",
      "Traceback (most recent call last):\n",
      "  File \"c:\\users\\torst\\anaconda3\\envs\\course2groupproject\\lib\\site-packages\\sklearn\\model_selection\\_validation.py\", line 531, in _fit_and_score\n",
      "    estimator.fit(X_train, y_train, **fit_params)\n",
      "  File \"c:\\users\\torst\\anaconda3\\envs\\course2groupproject\\lib\\site-packages\\sklearn\\svm\\_classes.py\", line 237, in fit\n",
      "    self.loss, sample_weight=sample_weight)\n",
      "  File \"c:\\users\\torst\\anaconda3\\envs\\course2groupproject\\lib\\site-packages\\sklearn\\svm\\_base.py\", line 965, in _fit_liblinear\n",
      "    solver_type = _get_liblinear_solver_type(multi_class, penalty, loss, dual)\n",
      "  File \"c:\\users\\torst\\anaconda3\\envs\\course2groupproject\\lib\\site-packages\\sklearn\\svm\\_base.py\", line 823, in _get_liblinear_solver_type\n",
      "    % (error_string, penalty, loss, dual))\n",
      "ValueError: Unsupported set of arguments: The combination of penalty='l1' and loss='hinge' is not supported, Parameters: penalty='l1', loss='hinge', dual=True\n",
      "\n",
      "  FitFailedWarning)\n",
      "c:\\users\\torst\\anaconda3\\envs\\course2groupproject\\lib\\site-packages\\sklearn\\model_selection\\_validation.py:552: FitFailedWarning: Estimator fit failed. The score on this train-test partition for these parameters will be set to nan. Details: \n",
      "Traceback (most recent call last):\n",
      "  File \"c:\\users\\torst\\anaconda3\\envs\\course2groupproject\\lib\\site-packages\\sklearn\\model_selection\\_validation.py\", line 531, in _fit_and_score\n",
      "    estimator.fit(X_train, y_train, **fit_params)\n",
      "  File \"c:\\users\\torst\\anaconda3\\envs\\course2groupproject\\lib\\site-packages\\sklearn\\svm\\_classes.py\", line 237, in fit\n",
      "    self.loss, sample_weight=sample_weight)\n",
      "  File \"c:\\users\\torst\\anaconda3\\envs\\course2groupproject\\lib\\site-packages\\sklearn\\svm\\_base.py\", line 965, in _fit_liblinear\n",
      "    solver_type = _get_liblinear_solver_type(multi_class, penalty, loss, dual)\n",
      "  File \"c:\\users\\torst\\anaconda3\\envs\\course2groupproject\\lib\\site-packages\\sklearn\\svm\\_base.py\", line 823, in _get_liblinear_solver_type\n",
      "    % (error_string, penalty, loss, dual))\n",
      "ValueError: Unsupported set of arguments: The combination of penalty='l1' and loss='hinge' is not supported, Parameters: penalty='l1', loss='hinge', dual=True\n",
      "\n",
      "  FitFailedWarning)\n",
      "c:\\users\\torst\\anaconda3\\envs\\course2groupproject\\lib\\site-packages\\sklearn\\model_selection\\_validation.py:552: FitFailedWarning: Estimator fit failed. The score on this train-test partition for these parameters will be set to nan. Details: \n",
      "Traceback (most recent call last):\n",
      "  File \"c:\\users\\torst\\anaconda3\\envs\\course2groupproject\\lib\\site-packages\\sklearn\\model_selection\\_validation.py\", line 531, in _fit_and_score\n",
      "    estimator.fit(X_train, y_train, **fit_params)\n",
      "  File \"c:\\users\\torst\\anaconda3\\envs\\course2groupproject\\lib\\site-packages\\sklearn\\svm\\_classes.py\", line 237, in fit\n",
      "    self.loss, sample_weight=sample_weight)\n",
      "  File \"c:\\users\\torst\\anaconda3\\envs\\course2groupproject\\lib\\site-packages\\sklearn\\svm\\_base.py\", line 965, in _fit_liblinear\n",
      "    solver_type = _get_liblinear_solver_type(multi_class, penalty, loss, dual)\n",
      "  File \"c:\\users\\torst\\anaconda3\\envs\\course2groupproject\\lib\\site-packages\\sklearn\\svm\\_base.py\", line 823, in _get_liblinear_solver_type\n",
      "    % (error_string, penalty, loss, dual))\n",
      "ValueError: Unsupported set of arguments: The combination of penalty='l1' and loss='hinge' is not supported, Parameters: penalty='l1', loss='hinge', dual=True\n",
      "\n",
      "  FitFailedWarning)\n",
      "c:\\users\\torst\\anaconda3\\envs\\course2groupproject\\lib\\site-packages\\sklearn\\model_selection\\_validation.py:552: FitFailedWarning: Estimator fit failed. The score on this train-test partition for these parameters will be set to nan. Details: \n",
      "Traceback (most recent call last):\n",
      "  File \"c:\\users\\torst\\anaconda3\\envs\\course2groupproject\\lib\\site-packages\\sklearn\\model_selection\\_validation.py\", line 531, in _fit_and_score\n",
      "    estimator.fit(X_train, y_train, **fit_params)\n",
      "  File \"c:\\users\\torst\\anaconda3\\envs\\course2groupproject\\lib\\site-packages\\sklearn\\svm\\_classes.py\", line 237, in fit\n",
      "    self.loss, sample_weight=sample_weight)\n",
      "  File \"c:\\users\\torst\\anaconda3\\envs\\course2groupproject\\lib\\site-packages\\sklearn\\svm\\_base.py\", line 965, in _fit_liblinear\n",
      "    solver_type = _get_liblinear_solver_type(multi_class, penalty, loss, dual)\n",
      "  File \"c:\\users\\torst\\anaconda3\\envs\\course2groupproject\\lib\\site-packages\\sklearn\\svm\\_base.py\", line 823, in _get_liblinear_solver_type\n",
      "    % (error_string, penalty, loss, dual))\n",
      "ValueError: Unsupported set of arguments: The combination of penalty='l1' and loss='squared_hinge' are not supported when dual=True, Parameters: penalty='l1', loss='squared_hinge', dual=True\n",
      "\n",
      "  FitFailedWarning)\n",
      "c:\\users\\torst\\anaconda3\\envs\\course2groupproject\\lib\\site-packages\\sklearn\\model_selection\\_validation.py:552: FitFailedWarning: Estimator fit failed. The score on this train-test partition for these parameters will be set to nan. Details: \n",
      "Traceback (most recent call last):\n",
      "  File \"c:\\users\\torst\\anaconda3\\envs\\course2groupproject\\lib\\site-packages\\sklearn\\model_selection\\_validation.py\", line 531, in _fit_and_score\n",
      "    estimator.fit(X_train, y_train, **fit_params)\n",
      "  File \"c:\\users\\torst\\anaconda3\\envs\\course2groupproject\\lib\\site-packages\\sklearn\\svm\\_classes.py\", line 237, in fit\n",
      "    self.loss, sample_weight=sample_weight)\n",
      "  File \"c:\\users\\torst\\anaconda3\\envs\\course2groupproject\\lib\\site-packages\\sklearn\\svm\\_base.py\", line 965, in _fit_liblinear\n",
      "    solver_type = _get_liblinear_solver_type(multi_class, penalty, loss, dual)\n",
      "  File \"c:\\users\\torst\\anaconda3\\envs\\course2groupproject\\lib\\site-packages\\sklearn\\svm\\_base.py\", line 823, in _get_liblinear_solver_type\n",
      "    % (error_string, penalty, loss, dual))\n",
      "ValueError: Unsupported set of arguments: The combination of penalty='l1' and loss='squared_hinge' are not supported when dual=True, Parameters: penalty='l1', loss='squared_hinge', dual=True\n",
      "\n",
      "  FitFailedWarning)\n",
      "c:\\users\\torst\\anaconda3\\envs\\course2groupproject\\lib\\site-packages\\sklearn\\model_selection\\_validation.py:552: FitFailedWarning: Estimator fit failed. The score on this train-test partition for these parameters will be set to nan. Details: \n",
      "Traceback (most recent call last):\n",
      "  File \"c:\\users\\torst\\anaconda3\\envs\\course2groupproject\\lib\\site-packages\\sklearn\\model_selection\\_validation.py\", line 531, in _fit_and_score\n",
      "    estimator.fit(X_train, y_train, **fit_params)\n",
      "  File \"c:\\users\\torst\\anaconda3\\envs\\course2groupproject\\lib\\site-packages\\sklearn\\svm\\_classes.py\", line 237, in fit\n",
      "    self.loss, sample_weight=sample_weight)\n",
      "  File \"c:\\users\\torst\\anaconda3\\envs\\course2groupproject\\lib\\site-packages\\sklearn\\svm\\_base.py\", line 965, in _fit_liblinear\n",
      "    solver_type = _get_liblinear_solver_type(multi_class, penalty, loss, dual)\n",
      "  File \"c:\\users\\torst\\anaconda3\\envs\\course2groupproject\\lib\\site-packages\\sklearn\\svm\\_base.py\", line 823, in _get_liblinear_solver_type\n",
      "    % (error_string, penalty, loss, dual))\n",
      "ValueError: Unsupported set of arguments: The combination of penalty='l1' and loss='squared_hinge' are not supported when dual=True, Parameters: penalty='l1', loss='squared_hinge', dual=True\n",
      "\n",
      "  FitFailedWarning)\n",
      "c:\\users\\torst\\anaconda3\\envs\\course2groupproject\\lib\\site-packages\\sklearn\\model_selection\\_validation.py:552: FitFailedWarning: Estimator fit failed. The score on this train-test partition for these parameters will be set to nan. Details: \n",
      "Traceback (most recent call last):\n",
      "  File \"c:\\users\\torst\\anaconda3\\envs\\course2groupproject\\lib\\site-packages\\sklearn\\model_selection\\_validation.py\", line 531, in _fit_and_score\n",
      "    estimator.fit(X_train, y_train, **fit_params)\n",
      "  File \"c:\\users\\torst\\anaconda3\\envs\\course2groupproject\\lib\\site-packages\\sklearn\\svm\\_classes.py\", line 237, in fit\n",
      "    self.loss, sample_weight=sample_weight)\n",
      "  File \"c:\\users\\torst\\anaconda3\\envs\\course2groupproject\\lib\\site-packages\\sklearn\\svm\\_base.py\", line 965, in _fit_liblinear\n",
      "    solver_type = _get_liblinear_solver_type(multi_class, penalty, loss, dual)\n",
      "  File \"c:\\users\\torst\\anaconda3\\envs\\course2groupproject\\lib\\site-packages\\sklearn\\svm\\_base.py\", line 823, in _get_liblinear_solver_type\n",
      "    % (error_string, penalty, loss, dual))\n",
      "ValueError: Unsupported set of arguments: The combination of penalty='l1' and loss='squared_hinge' are not supported when dual=True, Parameters: penalty='l1', loss='squared_hinge', dual=True\n",
      "\n",
      "  FitFailedWarning)\n",
      "c:\\users\\torst\\anaconda3\\envs\\course2groupproject\\lib\\site-packages\\sklearn\\model_selection\\_validation.py:552: FitFailedWarning: Estimator fit failed. The score on this train-test partition for these parameters will be set to nan. Details: \n",
      "Traceback (most recent call last):\n",
      "  File \"c:\\users\\torst\\anaconda3\\envs\\course2groupproject\\lib\\site-packages\\sklearn\\model_selection\\_validation.py\", line 531, in _fit_and_score\n",
      "    estimator.fit(X_train, y_train, **fit_params)\n",
      "  File \"c:\\users\\torst\\anaconda3\\envs\\course2groupproject\\lib\\site-packages\\sklearn\\svm\\_classes.py\", line 237, in fit\n",
      "    self.loss, sample_weight=sample_weight)\n",
      "  File \"c:\\users\\torst\\anaconda3\\envs\\course2groupproject\\lib\\site-packages\\sklearn\\svm\\_base.py\", line 965, in _fit_liblinear\n",
      "    solver_type = _get_liblinear_solver_type(multi_class, penalty, loss, dual)\n",
      "  File \"c:\\users\\torst\\anaconda3\\envs\\course2groupproject\\lib\\site-packages\\sklearn\\svm\\_base.py\", line 823, in _get_liblinear_solver_type\n",
      "    % (error_string, penalty, loss, dual))\n",
      "ValueError: Unsupported set of arguments: The combination of penalty='l1' and loss='squared_hinge' are not supported when dual=True, Parameters: penalty='l1', loss='squared_hinge', dual=True\n",
      "\n",
      "  FitFailedWarning)\n",
      "c:\\users\\torst\\anaconda3\\envs\\course2groupproject\\lib\\site-packages\\sklearn\\model_selection\\_validation.py:552: FitFailedWarning: Estimator fit failed. The score on this train-test partition for these parameters will be set to nan. Details: \n",
      "Traceback (most recent call last):\n",
      "  File \"c:\\users\\torst\\anaconda3\\envs\\course2groupproject\\lib\\site-packages\\sklearn\\model_selection\\_validation.py\", line 531, in _fit_and_score\n",
      "    estimator.fit(X_train, y_train, **fit_params)\n",
      "  File \"c:\\users\\torst\\anaconda3\\envs\\course2groupproject\\lib\\site-packages\\sklearn\\svm\\_classes.py\", line 237, in fit\n",
      "    self.loss, sample_weight=sample_weight)\n",
      "  File \"c:\\users\\torst\\anaconda3\\envs\\course2groupproject\\lib\\site-packages\\sklearn\\svm\\_base.py\", line 965, in _fit_liblinear\n",
      "    solver_type = _get_liblinear_solver_type(multi_class, penalty, loss, dual)\n",
      "  File \"c:\\users\\torst\\anaconda3\\envs\\course2groupproject\\lib\\site-packages\\sklearn\\svm\\_base.py\", line 823, in _get_liblinear_solver_type\n",
      "    % (error_string, penalty, loss, dual))\n",
      "ValueError: Unsupported set of arguments: The combination of penalty='l1' and loss='hinge' is not supported, Parameters: penalty='l1', loss='hinge', dual=True\n",
      "\n",
      "  FitFailedWarning)\n",
      "c:\\users\\torst\\anaconda3\\envs\\course2groupproject\\lib\\site-packages\\sklearn\\model_selection\\_validation.py:552: FitFailedWarning: Estimator fit failed. The score on this train-test partition for these parameters will be set to nan. Details: \n",
      "Traceback (most recent call last):\n",
      "  File \"c:\\users\\torst\\anaconda3\\envs\\course2groupproject\\lib\\site-packages\\sklearn\\model_selection\\_validation.py\", line 531, in _fit_and_score\n",
      "    estimator.fit(X_train, y_train, **fit_params)\n",
      "  File \"c:\\users\\torst\\anaconda3\\envs\\course2groupproject\\lib\\site-packages\\sklearn\\svm\\_classes.py\", line 237, in fit\n",
      "    self.loss, sample_weight=sample_weight)\n",
      "  File \"c:\\users\\torst\\anaconda3\\envs\\course2groupproject\\lib\\site-packages\\sklearn\\svm\\_base.py\", line 965, in _fit_liblinear\n",
      "    solver_type = _get_liblinear_solver_type(multi_class, penalty, loss, dual)\n",
      "  File \"c:\\users\\torst\\anaconda3\\envs\\course2groupproject\\lib\\site-packages\\sklearn\\svm\\_base.py\", line 823, in _get_liblinear_solver_type\n",
      "    % (error_string, penalty, loss, dual))\n",
      "ValueError: Unsupported set of arguments: The combination of penalty='l1' and loss='hinge' is not supported, Parameters: penalty='l1', loss='hinge', dual=True\n",
      "\n",
      "  FitFailedWarning)\n",
      "c:\\users\\torst\\anaconda3\\envs\\course2groupproject\\lib\\site-packages\\sklearn\\model_selection\\_validation.py:552: FitFailedWarning: Estimator fit failed. The score on this train-test partition for these parameters will be set to nan. Details: \n",
      "Traceback (most recent call last):\n",
      "  File \"c:\\users\\torst\\anaconda3\\envs\\course2groupproject\\lib\\site-packages\\sklearn\\model_selection\\_validation.py\", line 531, in _fit_and_score\n",
      "    estimator.fit(X_train, y_train, **fit_params)\n",
      "  File \"c:\\users\\torst\\anaconda3\\envs\\course2groupproject\\lib\\site-packages\\sklearn\\svm\\_classes.py\", line 237, in fit\n",
      "    self.loss, sample_weight=sample_weight)\n",
      "  File \"c:\\users\\torst\\anaconda3\\envs\\course2groupproject\\lib\\site-packages\\sklearn\\svm\\_base.py\", line 965, in _fit_liblinear\n",
      "    solver_type = _get_liblinear_solver_type(multi_class, penalty, loss, dual)\n",
      "  File \"c:\\users\\torst\\anaconda3\\envs\\course2groupproject\\lib\\site-packages\\sklearn\\svm\\_base.py\", line 823, in _get_liblinear_solver_type\n",
      "    % (error_string, penalty, loss, dual))\n",
      "ValueError: Unsupported set of arguments: The combination of penalty='l1' and loss='hinge' is not supported, Parameters: penalty='l1', loss='hinge', dual=True\n",
      "\n",
      "  FitFailedWarning)\n",
      "c:\\users\\torst\\anaconda3\\envs\\course2groupproject\\lib\\site-packages\\sklearn\\model_selection\\_validation.py:552: FitFailedWarning: Estimator fit failed. The score on this train-test partition for these parameters will be set to nan. Details: \n",
      "Traceback (most recent call last):\n",
      "  File \"c:\\users\\torst\\anaconda3\\envs\\course2groupproject\\lib\\site-packages\\sklearn\\model_selection\\_validation.py\", line 531, in _fit_and_score\n",
      "    estimator.fit(X_train, y_train, **fit_params)\n",
      "  File \"c:\\users\\torst\\anaconda3\\envs\\course2groupproject\\lib\\site-packages\\sklearn\\svm\\_classes.py\", line 237, in fit\n",
      "    self.loss, sample_weight=sample_weight)\n",
      "  File \"c:\\users\\torst\\anaconda3\\envs\\course2groupproject\\lib\\site-packages\\sklearn\\svm\\_base.py\", line 965, in _fit_liblinear\n",
      "    solver_type = _get_liblinear_solver_type(multi_class, penalty, loss, dual)\n",
      "  File \"c:\\users\\torst\\anaconda3\\envs\\course2groupproject\\lib\\site-packages\\sklearn\\svm\\_base.py\", line 823, in _get_liblinear_solver_type\n",
      "    % (error_string, penalty, loss, dual))\n",
      "ValueError: Unsupported set of arguments: The combination of penalty='l1' and loss='hinge' is not supported, Parameters: penalty='l1', loss='hinge', dual=True\n",
      "\n",
      "  FitFailedWarning)\n",
      "c:\\users\\torst\\anaconda3\\envs\\course2groupproject\\lib\\site-packages\\sklearn\\model_selection\\_validation.py:552: FitFailedWarning: Estimator fit failed. The score on this train-test partition for these parameters will be set to nan. Details: \n",
      "Traceback (most recent call last):\n",
      "  File \"c:\\users\\torst\\anaconda3\\envs\\course2groupproject\\lib\\site-packages\\sklearn\\model_selection\\_validation.py\", line 531, in _fit_and_score\n",
      "    estimator.fit(X_train, y_train, **fit_params)\n",
      "  File \"c:\\users\\torst\\anaconda3\\envs\\course2groupproject\\lib\\site-packages\\sklearn\\svm\\_classes.py\", line 237, in fit\n",
      "    self.loss, sample_weight=sample_weight)\n",
      "  File \"c:\\users\\torst\\anaconda3\\envs\\course2groupproject\\lib\\site-packages\\sklearn\\svm\\_base.py\", line 965, in _fit_liblinear\n",
      "    solver_type = _get_liblinear_solver_type(multi_class, penalty, loss, dual)\n",
      "  File \"c:\\users\\torst\\anaconda3\\envs\\course2groupproject\\lib\\site-packages\\sklearn\\svm\\_base.py\", line 823, in _get_liblinear_solver_type\n",
      "    % (error_string, penalty, loss, dual))\n",
      "ValueError: Unsupported set of arguments: The combination of penalty='l1' and loss='hinge' is not supported, Parameters: penalty='l1', loss='hinge', dual=True\n",
      "\n",
      "  FitFailedWarning)\n",
      "c:\\users\\torst\\anaconda3\\envs\\course2groupproject\\lib\\site-packages\\sklearn\\model_selection\\_validation.py:552: FitFailedWarning: Estimator fit failed. The score on this train-test partition for these parameters will be set to nan. Details: \n",
      "Traceback (most recent call last):\n",
      "  File \"c:\\users\\torst\\anaconda3\\envs\\course2groupproject\\lib\\site-packages\\sklearn\\model_selection\\_validation.py\", line 531, in _fit_and_score\n",
      "    estimator.fit(X_train, y_train, **fit_params)\n",
      "  File \"c:\\users\\torst\\anaconda3\\envs\\course2groupproject\\lib\\site-packages\\sklearn\\svm\\_classes.py\", line 237, in fit\n",
      "    self.loss, sample_weight=sample_weight)\n",
      "  File \"c:\\users\\torst\\anaconda3\\envs\\course2groupproject\\lib\\site-packages\\sklearn\\svm\\_base.py\", line 965, in _fit_liblinear\n",
      "    solver_type = _get_liblinear_solver_type(multi_class, penalty, loss, dual)\n",
      "  File \"c:\\users\\torst\\anaconda3\\envs\\course2groupproject\\lib\\site-packages\\sklearn\\svm\\_base.py\", line 823, in _get_liblinear_solver_type\n",
      "    % (error_string, penalty, loss, dual))\n",
      "ValueError: Unsupported set of arguments: The combination of penalty='l1' and loss='squared_hinge' are not supported when dual=True, Parameters: penalty='l1', loss='squared_hinge', dual=True\n",
      "\n",
      "  FitFailedWarning)\n",
      "c:\\users\\torst\\anaconda3\\envs\\course2groupproject\\lib\\site-packages\\sklearn\\model_selection\\_validation.py:552: FitFailedWarning: Estimator fit failed. The score on this train-test partition for these parameters will be set to nan. Details: \n",
      "Traceback (most recent call last):\n",
      "  File \"c:\\users\\torst\\anaconda3\\envs\\course2groupproject\\lib\\site-packages\\sklearn\\model_selection\\_validation.py\", line 531, in _fit_and_score\n",
      "    estimator.fit(X_train, y_train, **fit_params)\n",
      "  File \"c:\\users\\torst\\anaconda3\\envs\\course2groupproject\\lib\\site-packages\\sklearn\\svm\\_classes.py\", line 237, in fit\n",
      "    self.loss, sample_weight=sample_weight)\n",
      "  File \"c:\\users\\torst\\anaconda3\\envs\\course2groupproject\\lib\\site-packages\\sklearn\\svm\\_base.py\", line 965, in _fit_liblinear\n",
      "    solver_type = _get_liblinear_solver_type(multi_class, penalty, loss, dual)\n",
      "  File \"c:\\users\\torst\\anaconda3\\envs\\course2groupproject\\lib\\site-packages\\sklearn\\svm\\_base.py\", line 823, in _get_liblinear_solver_type\n",
      "    % (error_string, penalty, loss, dual))\n",
      "ValueError: Unsupported set of arguments: The combination of penalty='l1' and loss='squared_hinge' are not supported when dual=True, Parameters: penalty='l1', loss='squared_hinge', dual=True\n",
      "\n",
      "  FitFailedWarning)\n",
      "c:\\users\\torst\\anaconda3\\envs\\course2groupproject\\lib\\site-packages\\sklearn\\model_selection\\_validation.py:552: FitFailedWarning: Estimator fit failed. The score on this train-test partition for these parameters will be set to nan. Details: \n",
      "Traceback (most recent call last):\n",
      "  File \"c:\\users\\torst\\anaconda3\\envs\\course2groupproject\\lib\\site-packages\\sklearn\\model_selection\\_validation.py\", line 531, in _fit_and_score\n",
      "    estimator.fit(X_train, y_train, **fit_params)\n",
      "  File \"c:\\users\\torst\\anaconda3\\envs\\course2groupproject\\lib\\site-packages\\sklearn\\svm\\_classes.py\", line 237, in fit\n",
      "    self.loss, sample_weight=sample_weight)\n",
      "  File \"c:\\users\\torst\\anaconda3\\envs\\course2groupproject\\lib\\site-packages\\sklearn\\svm\\_base.py\", line 965, in _fit_liblinear\n",
      "    solver_type = _get_liblinear_solver_type(multi_class, penalty, loss, dual)\n",
      "  File \"c:\\users\\torst\\anaconda3\\envs\\course2groupproject\\lib\\site-packages\\sklearn\\svm\\_base.py\", line 823, in _get_liblinear_solver_type\n",
      "    % (error_string, penalty, loss, dual))\n",
      "ValueError: Unsupported set of arguments: The combination of penalty='l1' and loss='squared_hinge' are not supported when dual=True, Parameters: penalty='l1', loss='squared_hinge', dual=True\n",
      "\n",
      "  FitFailedWarning)\n",
      "c:\\users\\torst\\anaconda3\\envs\\course2groupproject\\lib\\site-packages\\sklearn\\model_selection\\_validation.py:552: FitFailedWarning: Estimator fit failed. The score on this train-test partition for these parameters will be set to nan. Details: \n",
      "Traceback (most recent call last):\n",
      "  File \"c:\\users\\torst\\anaconda3\\envs\\course2groupproject\\lib\\site-packages\\sklearn\\model_selection\\_validation.py\", line 531, in _fit_and_score\n",
      "    estimator.fit(X_train, y_train, **fit_params)\n",
      "  File \"c:\\users\\torst\\anaconda3\\envs\\course2groupproject\\lib\\site-packages\\sklearn\\svm\\_classes.py\", line 237, in fit\n",
      "    self.loss, sample_weight=sample_weight)\n",
      "  File \"c:\\users\\torst\\anaconda3\\envs\\course2groupproject\\lib\\site-packages\\sklearn\\svm\\_base.py\", line 965, in _fit_liblinear\n",
      "    solver_type = _get_liblinear_solver_type(multi_class, penalty, loss, dual)\n",
      "  File \"c:\\users\\torst\\anaconda3\\envs\\course2groupproject\\lib\\site-packages\\sklearn\\svm\\_base.py\", line 823, in _get_liblinear_solver_type\n",
      "    % (error_string, penalty, loss, dual))\n",
      "ValueError: Unsupported set of arguments: The combination of penalty='l1' and loss='squared_hinge' are not supported when dual=True, Parameters: penalty='l1', loss='squared_hinge', dual=True\n",
      "\n",
      "  FitFailedWarning)\n",
      "c:\\users\\torst\\anaconda3\\envs\\course2groupproject\\lib\\site-packages\\sklearn\\model_selection\\_validation.py:552: FitFailedWarning: Estimator fit failed. The score on this train-test partition for these parameters will be set to nan. Details: \n",
      "Traceback (most recent call last):\n",
      "  File \"c:\\users\\torst\\anaconda3\\envs\\course2groupproject\\lib\\site-packages\\sklearn\\model_selection\\_validation.py\", line 531, in _fit_and_score\n",
      "    estimator.fit(X_train, y_train, **fit_params)\n",
      "  File \"c:\\users\\torst\\anaconda3\\envs\\course2groupproject\\lib\\site-packages\\sklearn\\svm\\_classes.py\", line 237, in fit\n",
      "    self.loss, sample_weight=sample_weight)\n",
      "  File \"c:\\users\\torst\\anaconda3\\envs\\course2groupproject\\lib\\site-packages\\sklearn\\svm\\_base.py\", line 965, in _fit_liblinear\n",
      "    solver_type = _get_liblinear_solver_type(multi_class, penalty, loss, dual)\n",
      "  File \"c:\\users\\torst\\anaconda3\\envs\\course2groupproject\\lib\\site-packages\\sklearn\\svm\\_base.py\", line 823, in _get_liblinear_solver_type\n",
      "    % (error_string, penalty, loss, dual))\n",
      "ValueError: Unsupported set of arguments: The combination of penalty='l1' and loss='squared_hinge' are not supported when dual=True, Parameters: penalty='l1', loss='squared_hinge', dual=True\n",
      "\n",
      "  FitFailedWarning)\n",
      "c:\\users\\torst\\anaconda3\\envs\\course2groupproject\\lib\\site-packages\\sklearn\\model_selection\\_validation.py:552: FitFailedWarning: Estimator fit failed. The score on this train-test partition for these parameters will be set to nan. Details: \n",
      "Traceback (most recent call last):\n",
      "  File \"c:\\users\\torst\\anaconda3\\envs\\course2groupproject\\lib\\site-packages\\sklearn\\model_selection\\_validation.py\", line 531, in _fit_and_score\n",
      "    estimator.fit(X_train, y_train, **fit_params)\n",
      "  File \"c:\\users\\torst\\anaconda3\\envs\\course2groupproject\\lib\\site-packages\\sklearn\\svm\\_classes.py\", line 237, in fit\n",
      "    self.loss, sample_weight=sample_weight)\n",
      "  File \"c:\\users\\torst\\anaconda3\\envs\\course2groupproject\\lib\\site-packages\\sklearn\\svm\\_base.py\", line 965, in _fit_liblinear\n",
      "    solver_type = _get_liblinear_solver_type(multi_class, penalty, loss, dual)\n",
      "  File \"c:\\users\\torst\\anaconda3\\envs\\course2groupproject\\lib\\site-packages\\sklearn\\svm\\_base.py\", line 823, in _get_liblinear_solver_type\n",
      "    % (error_string, penalty, loss, dual))\n",
      "ValueError: Unsupported set of arguments: The combination of penalty='l1' and loss='hinge' is not supported, Parameters: penalty='l1', loss='hinge', dual=True\n",
      "\n",
      "  FitFailedWarning)\n",
      "c:\\users\\torst\\anaconda3\\envs\\course2groupproject\\lib\\site-packages\\sklearn\\model_selection\\_validation.py:552: FitFailedWarning: Estimator fit failed. The score on this train-test partition for these parameters will be set to nan. Details: \n",
      "Traceback (most recent call last):\n",
      "  File \"c:\\users\\torst\\anaconda3\\envs\\course2groupproject\\lib\\site-packages\\sklearn\\model_selection\\_validation.py\", line 531, in _fit_and_score\n",
      "    estimator.fit(X_train, y_train, **fit_params)\n",
      "  File \"c:\\users\\torst\\anaconda3\\envs\\course2groupproject\\lib\\site-packages\\sklearn\\svm\\_classes.py\", line 237, in fit\n",
      "    self.loss, sample_weight=sample_weight)\n",
      "  File \"c:\\users\\torst\\anaconda3\\envs\\course2groupproject\\lib\\site-packages\\sklearn\\svm\\_base.py\", line 965, in _fit_liblinear\n",
      "    solver_type = _get_liblinear_solver_type(multi_class, penalty, loss, dual)\n",
      "  File \"c:\\users\\torst\\anaconda3\\envs\\course2groupproject\\lib\\site-packages\\sklearn\\svm\\_base.py\", line 823, in _get_liblinear_solver_type\n",
      "    % (error_string, penalty, loss, dual))\n",
      "ValueError: Unsupported set of arguments: The combination of penalty='l1' and loss='hinge' is not supported, Parameters: penalty='l1', loss='hinge', dual=True\n",
      "\n",
      "  FitFailedWarning)\n",
      "c:\\users\\torst\\anaconda3\\envs\\course2groupproject\\lib\\site-packages\\sklearn\\model_selection\\_validation.py:552: FitFailedWarning: Estimator fit failed. The score on this train-test partition for these parameters will be set to nan. Details: \n",
      "Traceback (most recent call last):\n",
      "  File \"c:\\users\\torst\\anaconda3\\envs\\course2groupproject\\lib\\site-packages\\sklearn\\model_selection\\_validation.py\", line 531, in _fit_and_score\n",
      "    estimator.fit(X_train, y_train, **fit_params)\n",
      "  File \"c:\\users\\torst\\anaconda3\\envs\\course2groupproject\\lib\\site-packages\\sklearn\\svm\\_classes.py\", line 237, in fit\n",
      "    self.loss, sample_weight=sample_weight)\n",
      "  File \"c:\\users\\torst\\anaconda3\\envs\\course2groupproject\\lib\\site-packages\\sklearn\\svm\\_base.py\", line 965, in _fit_liblinear\n",
      "    solver_type = _get_liblinear_solver_type(multi_class, penalty, loss, dual)\n",
      "  File \"c:\\users\\torst\\anaconda3\\envs\\course2groupproject\\lib\\site-packages\\sklearn\\svm\\_base.py\", line 823, in _get_liblinear_solver_type\n",
      "    % (error_string, penalty, loss, dual))\n",
      "ValueError: Unsupported set of arguments: The combination of penalty='l1' and loss='hinge' is not supported, Parameters: penalty='l1', loss='hinge', dual=True\n",
      "\n",
      "  FitFailedWarning)\n",
      "c:\\users\\torst\\anaconda3\\envs\\course2groupproject\\lib\\site-packages\\sklearn\\model_selection\\_validation.py:552: FitFailedWarning: Estimator fit failed. The score on this train-test partition for these parameters will be set to nan. Details: \n",
      "Traceback (most recent call last):\n",
      "  File \"c:\\users\\torst\\anaconda3\\envs\\course2groupproject\\lib\\site-packages\\sklearn\\model_selection\\_validation.py\", line 531, in _fit_and_score\n",
      "    estimator.fit(X_train, y_train, **fit_params)\n",
      "  File \"c:\\users\\torst\\anaconda3\\envs\\course2groupproject\\lib\\site-packages\\sklearn\\svm\\_classes.py\", line 237, in fit\n",
      "    self.loss, sample_weight=sample_weight)\n",
      "  File \"c:\\users\\torst\\anaconda3\\envs\\course2groupproject\\lib\\site-packages\\sklearn\\svm\\_base.py\", line 965, in _fit_liblinear\n",
      "    solver_type = _get_liblinear_solver_type(multi_class, penalty, loss, dual)\n",
      "  File \"c:\\users\\torst\\anaconda3\\envs\\course2groupproject\\lib\\site-packages\\sklearn\\svm\\_base.py\", line 823, in _get_liblinear_solver_type\n",
      "    % (error_string, penalty, loss, dual))\n",
      "ValueError: Unsupported set of arguments: The combination of penalty='l1' and loss='hinge' is not supported, Parameters: penalty='l1', loss='hinge', dual=True\n",
      "\n",
      "  FitFailedWarning)\n",
      "c:\\users\\torst\\anaconda3\\envs\\course2groupproject\\lib\\site-packages\\sklearn\\model_selection\\_validation.py:552: FitFailedWarning: Estimator fit failed. The score on this train-test partition for these parameters will be set to nan. Details: \n",
      "Traceback (most recent call last):\n",
      "  File \"c:\\users\\torst\\anaconda3\\envs\\course2groupproject\\lib\\site-packages\\sklearn\\model_selection\\_validation.py\", line 531, in _fit_and_score\n",
      "    estimator.fit(X_train, y_train, **fit_params)\n",
      "  File \"c:\\users\\torst\\anaconda3\\envs\\course2groupproject\\lib\\site-packages\\sklearn\\svm\\_classes.py\", line 237, in fit\n",
      "    self.loss, sample_weight=sample_weight)\n",
      "  File \"c:\\users\\torst\\anaconda3\\envs\\course2groupproject\\lib\\site-packages\\sklearn\\svm\\_base.py\", line 965, in _fit_liblinear\n",
      "    solver_type = _get_liblinear_solver_type(multi_class, penalty, loss, dual)\n",
      "  File \"c:\\users\\torst\\anaconda3\\envs\\course2groupproject\\lib\\site-packages\\sklearn\\svm\\_base.py\", line 823, in _get_liblinear_solver_type\n",
      "    % (error_string, penalty, loss, dual))\n",
      "ValueError: Unsupported set of arguments: The combination of penalty='l1' and loss='hinge' is not supported, Parameters: penalty='l1', loss='hinge', dual=True\n",
      "\n",
      "  FitFailedWarning)\n",
      "c:\\users\\torst\\anaconda3\\envs\\course2groupproject\\lib\\site-packages\\sklearn\\svm\\_base.py:977: ConvergenceWarning: Liblinear failed to converge, increase the number of iterations.\n",
      "  \"the number of iterations.\", ConvergenceWarning)\n",
      "c:\\users\\torst\\anaconda3\\envs\\course2groupproject\\lib\\site-packages\\sklearn\\svm\\_base.py:977: ConvergenceWarning: Liblinear failed to converge, increase the number of iterations.\n",
      "  \"the number of iterations.\", ConvergenceWarning)\n",
      "c:\\users\\torst\\anaconda3\\envs\\course2groupproject\\lib\\site-packages\\sklearn\\svm\\_base.py:977: ConvergenceWarning: Liblinear failed to converge, increase the number of iterations.\n",
      "  \"the number of iterations.\", ConvergenceWarning)\n",
      "c:\\users\\torst\\anaconda3\\envs\\course2groupproject\\lib\\site-packages\\sklearn\\svm\\_base.py:977: ConvergenceWarning: Liblinear failed to converge, increase the number of iterations.\n",
      "  \"the number of iterations.\", ConvergenceWarning)\n",
      "c:\\users\\torst\\anaconda3\\envs\\course2groupproject\\lib\\site-packages\\sklearn\\svm\\_base.py:977: ConvergenceWarning: Liblinear failed to converge, increase the number of iterations.\n",
      "  \"the number of iterations.\", ConvergenceWarning)\n",
      "c:\\users\\torst\\anaconda3\\envs\\course2groupproject\\lib\\site-packages\\sklearn\\model_selection\\_validation.py:552: FitFailedWarning: Estimator fit failed. The score on this train-test partition for these parameters will be set to nan. Details: \n",
      "Traceback (most recent call last):\n",
      "  File \"c:\\users\\torst\\anaconda3\\envs\\course2groupproject\\lib\\site-packages\\sklearn\\model_selection\\_validation.py\", line 531, in _fit_and_score\n",
      "    estimator.fit(X_train, y_train, **fit_params)\n",
      "  File \"c:\\users\\torst\\anaconda3\\envs\\course2groupproject\\lib\\site-packages\\sklearn\\svm\\_classes.py\", line 237, in fit\n",
      "    self.loss, sample_weight=sample_weight)\n",
      "  File \"c:\\users\\torst\\anaconda3\\envs\\course2groupproject\\lib\\site-packages\\sklearn\\svm\\_base.py\", line 965, in _fit_liblinear\n",
      "    solver_type = _get_liblinear_solver_type(multi_class, penalty, loss, dual)\n",
      "  File \"c:\\users\\torst\\anaconda3\\envs\\course2groupproject\\lib\\site-packages\\sklearn\\svm\\_base.py\", line 823, in _get_liblinear_solver_type\n",
      "    % (error_string, penalty, loss, dual))\n",
      "ValueError: Unsupported set of arguments: The combination of penalty='l1' and loss='squared_hinge' are not supported when dual=True, Parameters: penalty='l1', loss='squared_hinge', dual=True\n",
      "\n",
      "  FitFailedWarning)\n",
      "c:\\users\\torst\\anaconda3\\envs\\course2groupproject\\lib\\site-packages\\sklearn\\model_selection\\_validation.py:552: FitFailedWarning: Estimator fit failed. The score on this train-test partition for these parameters will be set to nan. Details: \n",
      "Traceback (most recent call last):\n",
      "  File \"c:\\users\\torst\\anaconda3\\envs\\course2groupproject\\lib\\site-packages\\sklearn\\model_selection\\_validation.py\", line 531, in _fit_and_score\n",
      "    estimator.fit(X_train, y_train, **fit_params)\n",
      "  File \"c:\\users\\torst\\anaconda3\\envs\\course2groupproject\\lib\\site-packages\\sklearn\\svm\\_classes.py\", line 237, in fit\n",
      "    self.loss, sample_weight=sample_weight)\n",
      "  File \"c:\\users\\torst\\anaconda3\\envs\\course2groupproject\\lib\\site-packages\\sklearn\\svm\\_base.py\", line 965, in _fit_liblinear\n",
      "    solver_type = _get_liblinear_solver_type(multi_class, penalty, loss, dual)\n",
      "  File \"c:\\users\\torst\\anaconda3\\envs\\course2groupproject\\lib\\site-packages\\sklearn\\svm\\_base.py\", line 823, in _get_liblinear_solver_type\n",
      "    % (error_string, penalty, loss, dual))\n",
      "ValueError: Unsupported set of arguments: The combination of penalty='l1' and loss='squared_hinge' are not supported when dual=True, Parameters: penalty='l1', loss='squared_hinge', dual=True\n",
      "\n",
      "  FitFailedWarning)\n",
      "c:\\users\\torst\\anaconda3\\envs\\course2groupproject\\lib\\site-packages\\sklearn\\model_selection\\_validation.py:552: FitFailedWarning: Estimator fit failed. The score on this train-test partition for these parameters will be set to nan. Details: \n",
      "Traceback (most recent call last):\n",
      "  File \"c:\\users\\torst\\anaconda3\\envs\\course2groupproject\\lib\\site-packages\\sklearn\\model_selection\\_validation.py\", line 531, in _fit_and_score\n",
      "    estimator.fit(X_train, y_train, **fit_params)\n",
      "  File \"c:\\users\\torst\\anaconda3\\envs\\course2groupproject\\lib\\site-packages\\sklearn\\svm\\_classes.py\", line 237, in fit\n",
      "    self.loss, sample_weight=sample_weight)\n",
      "  File \"c:\\users\\torst\\anaconda3\\envs\\course2groupproject\\lib\\site-packages\\sklearn\\svm\\_base.py\", line 965, in _fit_liblinear\n",
      "    solver_type = _get_liblinear_solver_type(multi_class, penalty, loss, dual)\n",
      "  File \"c:\\users\\torst\\anaconda3\\envs\\course2groupproject\\lib\\site-packages\\sklearn\\svm\\_base.py\", line 823, in _get_liblinear_solver_type\n",
      "    % (error_string, penalty, loss, dual))\n",
      "ValueError: Unsupported set of arguments: The combination of penalty='l1' and loss='squared_hinge' are not supported when dual=True, Parameters: penalty='l1', loss='squared_hinge', dual=True\n",
      "\n",
      "  FitFailedWarning)\n",
      "c:\\users\\torst\\anaconda3\\envs\\course2groupproject\\lib\\site-packages\\sklearn\\model_selection\\_validation.py:552: FitFailedWarning: Estimator fit failed. The score on this train-test partition for these parameters will be set to nan. Details: \n",
      "Traceback (most recent call last):\n",
      "  File \"c:\\users\\torst\\anaconda3\\envs\\course2groupproject\\lib\\site-packages\\sklearn\\model_selection\\_validation.py\", line 531, in _fit_and_score\n",
      "    estimator.fit(X_train, y_train, **fit_params)\n",
      "  File \"c:\\users\\torst\\anaconda3\\envs\\course2groupproject\\lib\\site-packages\\sklearn\\svm\\_classes.py\", line 237, in fit\n",
      "    self.loss, sample_weight=sample_weight)\n",
      "  File \"c:\\users\\torst\\anaconda3\\envs\\course2groupproject\\lib\\site-packages\\sklearn\\svm\\_base.py\", line 965, in _fit_liblinear\n",
      "    solver_type = _get_liblinear_solver_type(multi_class, penalty, loss, dual)\n",
      "  File \"c:\\users\\torst\\anaconda3\\envs\\course2groupproject\\lib\\site-packages\\sklearn\\svm\\_base.py\", line 823, in _get_liblinear_solver_type\n",
      "    % (error_string, penalty, loss, dual))\n",
      "ValueError: Unsupported set of arguments: The combination of penalty='l1' and loss='squared_hinge' are not supported when dual=True, Parameters: penalty='l1', loss='squared_hinge', dual=True\n",
      "\n",
      "  FitFailedWarning)\n",
      "c:\\users\\torst\\anaconda3\\envs\\course2groupproject\\lib\\site-packages\\sklearn\\model_selection\\_validation.py:552: FitFailedWarning: Estimator fit failed. The score on this train-test partition for these parameters will be set to nan. Details: \n",
      "Traceback (most recent call last):\n",
      "  File \"c:\\users\\torst\\anaconda3\\envs\\course2groupproject\\lib\\site-packages\\sklearn\\model_selection\\_validation.py\", line 531, in _fit_and_score\n",
      "    estimator.fit(X_train, y_train, **fit_params)\n",
      "  File \"c:\\users\\torst\\anaconda3\\envs\\course2groupproject\\lib\\site-packages\\sklearn\\svm\\_classes.py\", line 237, in fit\n",
      "    self.loss, sample_weight=sample_weight)\n",
      "  File \"c:\\users\\torst\\anaconda3\\envs\\course2groupproject\\lib\\site-packages\\sklearn\\svm\\_base.py\", line 965, in _fit_liblinear\n",
      "    solver_type = _get_liblinear_solver_type(multi_class, penalty, loss, dual)\n",
      "  File \"c:\\users\\torst\\anaconda3\\envs\\course2groupproject\\lib\\site-packages\\sklearn\\svm\\_base.py\", line 823, in _get_liblinear_solver_type\n",
      "    % (error_string, penalty, loss, dual))\n",
      "ValueError: Unsupported set of arguments: The combination of penalty='l1' and loss='squared_hinge' are not supported when dual=True, Parameters: penalty='l1', loss='squared_hinge', dual=True\n",
      "\n",
      "  FitFailedWarning)\n",
      "c:\\users\\torst\\anaconda3\\envs\\course2groupproject\\lib\\site-packages\\sklearn\\model_selection\\_validation.py:552: FitFailedWarning: Estimator fit failed. The score on this train-test partition for these parameters will be set to nan. Details: \n",
      "Traceback (most recent call last):\n",
      "  File \"c:\\users\\torst\\anaconda3\\envs\\course2groupproject\\lib\\site-packages\\sklearn\\model_selection\\_validation.py\", line 531, in _fit_and_score\n",
      "    estimator.fit(X_train, y_train, **fit_params)\n",
      "  File \"c:\\users\\torst\\anaconda3\\envs\\course2groupproject\\lib\\site-packages\\sklearn\\svm\\_classes.py\", line 237, in fit\n",
      "    self.loss, sample_weight=sample_weight)\n",
      "  File \"c:\\users\\torst\\anaconda3\\envs\\course2groupproject\\lib\\site-packages\\sklearn\\svm\\_base.py\", line 965, in _fit_liblinear\n",
      "    solver_type = _get_liblinear_solver_type(multi_class, penalty, loss, dual)\n",
      "  File \"c:\\users\\torst\\anaconda3\\envs\\course2groupproject\\lib\\site-packages\\sklearn\\svm\\_base.py\", line 823, in _get_liblinear_solver_type\n",
      "    % (error_string, penalty, loss, dual))\n",
      "ValueError: Unsupported set of arguments: The combination of penalty='l1' and loss='hinge' is not supported, Parameters: penalty='l1', loss='hinge', dual=True\n",
      "\n",
      "  FitFailedWarning)\n",
      "c:\\users\\torst\\anaconda3\\envs\\course2groupproject\\lib\\site-packages\\sklearn\\model_selection\\_validation.py:552: FitFailedWarning: Estimator fit failed. The score on this train-test partition for these parameters will be set to nan. Details: \n",
      "Traceback (most recent call last):\n",
      "  File \"c:\\users\\torst\\anaconda3\\envs\\course2groupproject\\lib\\site-packages\\sklearn\\model_selection\\_validation.py\", line 531, in _fit_and_score\n",
      "    estimator.fit(X_train, y_train, **fit_params)\n",
      "  File \"c:\\users\\torst\\anaconda3\\envs\\course2groupproject\\lib\\site-packages\\sklearn\\svm\\_classes.py\", line 237, in fit\n",
      "    self.loss, sample_weight=sample_weight)\n",
      "  File \"c:\\users\\torst\\anaconda3\\envs\\course2groupproject\\lib\\site-packages\\sklearn\\svm\\_base.py\", line 965, in _fit_liblinear\n",
      "    solver_type = _get_liblinear_solver_type(multi_class, penalty, loss, dual)\n",
      "  File \"c:\\users\\torst\\anaconda3\\envs\\course2groupproject\\lib\\site-packages\\sklearn\\svm\\_base.py\", line 823, in _get_liblinear_solver_type\n",
      "    % (error_string, penalty, loss, dual))\n",
      "ValueError: Unsupported set of arguments: The combination of penalty='l1' and loss='hinge' is not supported, Parameters: penalty='l1', loss='hinge', dual=True\n",
      "\n",
      "  FitFailedWarning)\n",
      "c:\\users\\torst\\anaconda3\\envs\\course2groupproject\\lib\\site-packages\\sklearn\\model_selection\\_validation.py:552: FitFailedWarning: Estimator fit failed. The score on this train-test partition for these parameters will be set to nan. Details: \n",
      "Traceback (most recent call last):\n",
      "  File \"c:\\users\\torst\\anaconda3\\envs\\course2groupproject\\lib\\site-packages\\sklearn\\model_selection\\_validation.py\", line 531, in _fit_and_score\n",
      "    estimator.fit(X_train, y_train, **fit_params)\n",
      "  File \"c:\\users\\torst\\anaconda3\\envs\\course2groupproject\\lib\\site-packages\\sklearn\\svm\\_classes.py\", line 237, in fit\n",
      "    self.loss, sample_weight=sample_weight)\n",
      "  File \"c:\\users\\torst\\anaconda3\\envs\\course2groupproject\\lib\\site-packages\\sklearn\\svm\\_base.py\", line 965, in _fit_liblinear\n",
      "    solver_type = _get_liblinear_solver_type(multi_class, penalty, loss, dual)\n",
      "  File \"c:\\users\\torst\\anaconda3\\envs\\course2groupproject\\lib\\site-packages\\sklearn\\svm\\_base.py\", line 823, in _get_liblinear_solver_type\n",
      "    % (error_string, penalty, loss, dual))\n",
      "ValueError: Unsupported set of arguments: The combination of penalty='l1' and loss='hinge' is not supported, Parameters: penalty='l1', loss='hinge', dual=True\n",
      "\n",
      "  FitFailedWarning)\n",
      "c:\\users\\torst\\anaconda3\\envs\\course2groupproject\\lib\\site-packages\\sklearn\\model_selection\\_validation.py:552: FitFailedWarning: Estimator fit failed. The score on this train-test partition for these parameters will be set to nan. Details: \n",
      "Traceback (most recent call last):\n",
      "  File \"c:\\users\\torst\\anaconda3\\envs\\course2groupproject\\lib\\site-packages\\sklearn\\model_selection\\_validation.py\", line 531, in _fit_and_score\n",
      "    estimator.fit(X_train, y_train, **fit_params)\n",
      "  File \"c:\\users\\torst\\anaconda3\\envs\\course2groupproject\\lib\\site-packages\\sklearn\\svm\\_classes.py\", line 237, in fit\n",
      "    self.loss, sample_weight=sample_weight)\n",
      "  File \"c:\\users\\torst\\anaconda3\\envs\\course2groupproject\\lib\\site-packages\\sklearn\\svm\\_base.py\", line 965, in _fit_liblinear\n",
      "    solver_type = _get_liblinear_solver_type(multi_class, penalty, loss, dual)\n",
      "  File \"c:\\users\\torst\\anaconda3\\envs\\course2groupproject\\lib\\site-packages\\sklearn\\svm\\_base.py\", line 823, in _get_liblinear_solver_type\n",
      "    % (error_string, penalty, loss, dual))\n",
      "ValueError: Unsupported set of arguments: The combination of penalty='l1' and loss='hinge' is not supported, Parameters: penalty='l1', loss='hinge', dual=True\n",
      "\n",
      "  FitFailedWarning)\n",
      "c:\\users\\torst\\anaconda3\\envs\\course2groupproject\\lib\\site-packages\\sklearn\\model_selection\\_validation.py:552: FitFailedWarning: Estimator fit failed. The score on this train-test partition for these parameters will be set to nan. Details: \n",
      "Traceback (most recent call last):\n",
      "  File \"c:\\users\\torst\\anaconda3\\envs\\course2groupproject\\lib\\site-packages\\sklearn\\model_selection\\_validation.py\", line 531, in _fit_and_score\n",
      "    estimator.fit(X_train, y_train, **fit_params)\n",
      "  File \"c:\\users\\torst\\anaconda3\\envs\\course2groupproject\\lib\\site-packages\\sklearn\\svm\\_classes.py\", line 237, in fit\n",
      "    self.loss, sample_weight=sample_weight)\n",
      "  File \"c:\\users\\torst\\anaconda3\\envs\\course2groupproject\\lib\\site-packages\\sklearn\\svm\\_base.py\", line 965, in _fit_liblinear\n",
      "    solver_type = _get_liblinear_solver_type(multi_class, penalty, loss, dual)\n",
      "  File \"c:\\users\\torst\\anaconda3\\envs\\course2groupproject\\lib\\site-packages\\sklearn\\svm\\_base.py\", line 823, in _get_liblinear_solver_type\n",
      "    % (error_string, penalty, loss, dual))\n",
      "ValueError: Unsupported set of arguments: The combination of penalty='l1' and loss='hinge' is not supported, Parameters: penalty='l1', loss='hinge', dual=True\n",
      "\n",
      "  FitFailedWarning)\n",
      "c:\\users\\torst\\anaconda3\\envs\\course2groupproject\\lib\\site-packages\\sklearn\\svm\\_base.py:977: ConvergenceWarning: Liblinear failed to converge, increase the number of iterations.\n",
      "  \"the number of iterations.\", ConvergenceWarning)\n",
      "c:\\users\\torst\\anaconda3\\envs\\course2groupproject\\lib\\site-packages\\sklearn\\svm\\_base.py:977: ConvergenceWarning: Liblinear failed to converge, increase the number of iterations.\n",
      "  \"the number of iterations.\", ConvergenceWarning)\n",
      "c:\\users\\torst\\anaconda3\\envs\\course2groupproject\\lib\\site-packages\\sklearn\\svm\\_base.py:977: ConvergenceWarning: Liblinear failed to converge, increase the number of iterations.\n",
      "  \"the number of iterations.\", ConvergenceWarning)\n",
      "c:\\users\\torst\\anaconda3\\envs\\course2groupproject\\lib\\site-packages\\sklearn\\svm\\_base.py:977: ConvergenceWarning: Liblinear failed to converge, increase the number of iterations.\n",
      "  \"the number of iterations.\", ConvergenceWarning)\n",
      "c:\\users\\torst\\anaconda3\\envs\\course2groupproject\\lib\\site-packages\\sklearn\\svm\\_base.py:977: ConvergenceWarning: Liblinear failed to converge, increase the number of iterations.\n",
      "  \"the number of iterations.\", ConvergenceWarning)\n",
      "c:\\users\\torst\\anaconda3\\envs\\course2groupproject\\lib\\site-packages\\sklearn\\model_selection\\_validation.py:552: FitFailedWarning: Estimator fit failed. The score on this train-test partition for these parameters will be set to nan. Details: \n",
      "Traceback (most recent call last):\n",
      "  File \"c:\\users\\torst\\anaconda3\\envs\\course2groupproject\\lib\\site-packages\\sklearn\\model_selection\\_validation.py\", line 531, in _fit_and_score\n",
      "    estimator.fit(X_train, y_train, **fit_params)\n",
      "  File \"c:\\users\\torst\\anaconda3\\envs\\course2groupproject\\lib\\site-packages\\sklearn\\svm\\_classes.py\", line 237, in fit\n",
      "    self.loss, sample_weight=sample_weight)\n",
      "  File \"c:\\users\\torst\\anaconda3\\envs\\course2groupproject\\lib\\site-packages\\sklearn\\svm\\_base.py\", line 965, in _fit_liblinear\n",
      "    solver_type = _get_liblinear_solver_type(multi_class, penalty, loss, dual)\n",
      "  File \"c:\\users\\torst\\anaconda3\\envs\\course2groupproject\\lib\\site-packages\\sklearn\\svm\\_base.py\", line 823, in _get_liblinear_solver_type\n",
      "    % (error_string, penalty, loss, dual))\n",
      "ValueError: Unsupported set of arguments: The combination of penalty='l1' and loss='squared_hinge' are not supported when dual=True, Parameters: penalty='l1', loss='squared_hinge', dual=True\n",
      "\n",
      "  FitFailedWarning)\n",
      "c:\\users\\torst\\anaconda3\\envs\\course2groupproject\\lib\\site-packages\\sklearn\\model_selection\\_validation.py:552: FitFailedWarning: Estimator fit failed. The score on this train-test partition for these parameters will be set to nan. Details: \n",
      "Traceback (most recent call last):\n",
      "  File \"c:\\users\\torst\\anaconda3\\envs\\course2groupproject\\lib\\site-packages\\sklearn\\model_selection\\_validation.py\", line 531, in _fit_and_score\n",
      "    estimator.fit(X_train, y_train, **fit_params)\n",
      "  File \"c:\\users\\torst\\anaconda3\\envs\\course2groupproject\\lib\\site-packages\\sklearn\\svm\\_classes.py\", line 237, in fit\n",
      "    self.loss, sample_weight=sample_weight)\n",
      "  File \"c:\\users\\torst\\anaconda3\\envs\\course2groupproject\\lib\\site-packages\\sklearn\\svm\\_base.py\", line 965, in _fit_liblinear\n",
      "    solver_type = _get_liblinear_solver_type(multi_class, penalty, loss, dual)\n",
      "  File \"c:\\users\\torst\\anaconda3\\envs\\course2groupproject\\lib\\site-packages\\sklearn\\svm\\_base.py\", line 823, in _get_liblinear_solver_type\n",
      "    % (error_string, penalty, loss, dual))\n",
      "ValueError: Unsupported set of arguments: The combination of penalty='l1' and loss='squared_hinge' are not supported when dual=True, Parameters: penalty='l1', loss='squared_hinge', dual=True\n",
      "\n",
      "  FitFailedWarning)\n",
      "c:\\users\\torst\\anaconda3\\envs\\course2groupproject\\lib\\site-packages\\sklearn\\model_selection\\_validation.py:552: FitFailedWarning: Estimator fit failed. The score on this train-test partition for these parameters will be set to nan. Details: \n",
      "Traceback (most recent call last):\n",
      "  File \"c:\\users\\torst\\anaconda3\\envs\\course2groupproject\\lib\\site-packages\\sklearn\\model_selection\\_validation.py\", line 531, in _fit_and_score\n",
      "    estimator.fit(X_train, y_train, **fit_params)\n",
      "  File \"c:\\users\\torst\\anaconda3\\envs\\course2groupproject\\lib\\site-packages\\sklearn\\svm\\_classes.py\", line 237, in fit\n",
      "    self.loss, sample_weight=sample_weight)\n",
      "  File \"c:\\users\\torst\\anaconda3\\envs\\course2groupproject\\lib\\site-packages\\sklearn\\svm\\_base.py\", line 965, in _fit_liblinear\n",
      "    solver_type = _get_liblinear_solver_type(multi_class, penalty, loss, dual)\n",
      "  File \"c:\\users\\torst\\anaconda3\\envs\\course2groupproject\\lib\\site-packages\\sklearn\\svm\\_base.py\", line 823, in _get_liblinear_solver_type\n",
      "    % (error_string, penalty, loss, dual))\n",
      "ValueError: Unsupported set of arguments: The combination of penalty='l1' and loss='squared_hinge' are not supported when dual=True, Parameters: penalty='l1', loss='squared_hinge', dual=True\n",
      "\n",
      "  FitFailedWarning)\n",
      "c:\\users\\torst\\anaconda3\\envs\\course2groupproject\\lib\\site-packages\\sklearn\\model_selection\\_validation.py:552: FitFailedWarning: Estimator fit failed. The score on this train-test partition for these parameters will be set to nan. Details: \n",
      "Traceback (most recent call last):\n",
      "  File \"c:\\users\\torst\\anaconda3\\envs\\course2groupproject\\lib\\site-packages\\sklearn\\model_selection\\_validation.py\", line 531, in _fit_and_score\n",
      "    estimator.fit(X_train, y_train, **fit_params)\n",
      "  File \"c:\\users\\torst\\anaconda3\\envs\\course2groupproject\\lib\\site-packages\\sklearn\\svm\\_classes.py\", line 237, in fit\n",
      "    self.loss, sample_weight=sample_weight)\n",
      "  File \"c:\\users\\torst\\anaconda3\\envs\\course2groupproject\\lib\\site-packages\\sklearn\\svm\\_base.py\", line 965, in _fit_liblinear\n",
      "    solver_type = _get_liblinear_solver_type(multi_class, penalty, loss, dual)\n",
      "  File \"c:\\users\\torst\\anaconda3\\envs\\course2groupproject\\lib\\site-packages\\sklearn\\svm\\_base.py\", line 823, in _get_liblinear_solver_type\n",
      "    % (error_string, penalty, loss, dual))\n",
      "ValueError: Unsupported set of arguments: The combination of penalty='l1' and loss='squared_hinge' are not supported when dual=True, Parameters: penalty='l1', loss='squared_hinge', dual=True\n",
      "\n",
      "  FitFailedWarning)\n",
      "c:\\users\\torst\\anaconda3\\envs\\course2groupproject\\lib\\site-packages\\sklearn\\model_selection\\_validation.py:552: FitFailedWarning: Estimator fit failed. The score on this train-test partition for these parameters will be set to nan. Details: \n",
      "Traceback (most recent call last):\n",
      "  File \"c:\\users\\torst\\anaconda3\\envs\\course2groupproject\\lib\\site-packages\\sklearn\\model_selection\\_validation.py\", line 531, in _fit_and_score\n",
      "    estimator.fit(X_train, y_train, **fit_params)\n",
      "  File \"c:\\users\\torst\\anaconda3\\envs\\course2groupproject\\lib\\site-packages\\sklearn\\svm\\_classes.py\", line 237, in fit\n",
      "    self.loss, sample_weight=sample_weight)\n",
      "  File \"c:\\users\\torst\\anaconda3\\envs\\course2groupproject\\lib\\site-packages\\sklearn\\svm\\_base.py\", line 965, in _fit_liblinear\n",
      "    solver_type = _get_liblinear_solver_type(multi_class, penalty, loss, dual)\n",
      "  File \"c:\\users\\torst\\anaconda3\\envs\\course2groupproject\\lib\\site-packages\\sklearn\\svm\\_base.py\", line 823, in _get_liblinear_solver_type\n",
      "    % (error_string, penalty, loss, dual))\n",
      "ValueError: Unsupported set of arguments: The combination of penalty='l1' and loss='squared_hinge' are not supported when dual=True, Parameters: penalty='l1', loss='squared_hinge', dual=True\n",
      "\n",
      "  FitFailedWarning)\n",
      "[Parallel(n_jobs=1)]: Done 100 out of 100 | elapsed:   21.6s finished\n",
      "c:\\users\\torst\\anaconda3\\envs\\course2groupproject\\lib\\site-packages\\sklearn\\svm\\_base.py:977: ConvergenceWarning: Liblinear failed to converge, increase the number of iterations.\n",
      "  \"the number of iterations.\", ConvergenceWarning)\n"
     ]
    },
    {
     "data": {
      "text/plain": [
       "GridSearchCV(estimator=LinearSVC(),\n",
       "             param_grid={'C': [0.001, 0.01, 0.1, 1.0, 10.0],\n",
       "                         'loss': ['hinge', 'squared_hinge'],\n",
       "                         'penalty': ['l1', 'l2']},\n",
       "             verbose=3)"
      ]
     },
     "execution_count": 18,
     "metadata": {},
     "output_type": "execute_result"
    }
   ],
   "source": [
    "# GridSearchCV for LinearSVC\n",
    "\n",
    "from sklearn.svm import LinearSVC\n",
    "from sklearn.model_selection import GridSearchCV\n",
    "param_grid = {'C': [0.001, 0.01, 0.1, 1.0, 10.0], 'loss': ['hinge', 'squared_hinge'], 'penalty': ['l1', 'l2']}\n",
    "grid = GridSearchCV(LinearSVC(), param_grid, verbose=3)\n",
    "grid.fit(x_train, y_train)"
   ]
  },
  {
   "cell_type": "code",
   "execution_count": 19,
   "metadata": {
    "pycharm": {
     "name": "#%%\n"
    }
   },
   "outputs": [
    {
     "data": {
      "text/plain": [
       "{'C': 1.0, 'loss': 'hinge', 'penalty': 'l2'}"
      ]
     },
     "execution_count": 19,
     "metadata": {},
     "output_type": "execute_result"
    }
   ],
   "source": [
    "grid.best_params_"
   ]
  },
  {
   "cell_type": "code",
   "execution_count": 21,
   "metadata": {
    "pycharm": {
     "name": "#%%\n"
    }
   },
   "outputs": [
    {
     "name": "stdout",
     "output_type": "stream",
     "text": [
      "[[2189   97]\n",
      " [ 319  389]]\n",
      "\n",
      "\n",
      "              precision    recall  f1-score   support\n",
      "\n",
      "       False       0.87      0.96      0.91      2286\n",
      "        True       0.80      0.55      0.65       708\n",
      "\n",
      "    accuracy                           0.86      2994\n",
      "   macro avg       0.84      0.75      0.78      2994\n",
      "weighted avg       0.86      0.86      0.85      2994\n",
      "\n"
     ]
    },
    {
     "data": {
      "image/png": "[encoded data removed]",
      "text/plain": [
       "<Figure size 432x288 with 2 Axes>"
      ]
     },
     "metadata": {
      "needs_background": "light"
     },
     "output_type": "display_data"
    }
   ],
   "source": [
    "from sklearn.metrics import accuracy_score\n",
    "from sklearn.metrics import classification_report\n",
    "from sklearn.metrics import plot_roc_curve\n",
    "from sklearn.metrics import plot_precision_recall_curve\n",
    "from sklearn.metrics import mean_squared_error\n",
    "import sklearn.metrics as metrics\n",
    "from mlxtend.plotting import plot_confusion_matrix\n",
    "from sklearn.metrics import confusion_matrix\n",
    "import matplotlib.pyplot as plt\n",
    "#% matplotlib inline\n",
    "from sklearn.svm import LinearSVC\n",
    "svm = LinearSVC()\n",
    "svm.fit(x_train, y_train)\n",
    "predictions = svm.predict(x_test)\n",
    "print(confusion_matrix(y_test, predictions))\n",
    "print('\\n')\n",
    "print(classification_report(y_test, predictions))\n",
    "\n",
    "fig, ax = plot_confusion_matrix(conf_mat=confusion_matrix(y_test, predictions),\n",
    "                                show_absolute=True,\n",
    "                                show_normed=True,\n",
    "                                colorbar=True)\n",
    "plt.show()"
   ]
  },
  {
   "cell_type": "code",
   "execution_count": 22,
   "metadata": {
    "pycharm": {
     "name": "#%%\n"
    }
   },
   "outputs": [
    {
     "name": "stdout",
     "output_type": "stream",
     "text": [
      "[[2186  100]\n",
      " [ 314  394]]\n",
      "\n",
      "\n",
      "              precision    recall  f1-score   support\n",
      "\n",
      "       False       0.87      0.96      0.91      2286\n",
      "        True       0.80      0.56      0.66       708\n",
      "\n",
      "    accuracy                           0.86      2994\n",
      "   macro avg       0.84      0.76      0.78      2994\n",
      "weighted avg       0.86      0.86      0.85      2994\n",
      "\n"
     ]
    },
    {
     "data": {
      "image/png": "[encoded data removed]",
      "text/plain": [
       "<Figure size 432x288 with 2 Axes>"
      ]
     },
     "metadata": {
      "needs_background": "light"
     },
     "output_type": "display_data"
    }
   ],
   "source": [
    "svm = LinearSVC(C=10, loss='squared_hinge', penalty='l2')\n",
    "svm.fit(x_train, y_train)\n",
    "predictions = svm.predict(x_test)\n",
    "print(confusion_matrix(y_test, predictions))\n",
    "print('\\n')\n",
    "print(classification_report(y_test, predictions))\n",
    "\n",
    "fig, ax = plot_confusion_matrix(conf_mat=confusion_matrix(y_test, predictions),\n",
    "                                show_absolute=True,\n",
    "                                show_normed=True,\n",
    "                                colorbar=True)\n",
    "plt.show()"
   ]
  },
  {
   "cell_type": "code",
   "execution_count": 23,
   "metadata": {
    "pycharm": {
     "name": "#%%\n"
    }
   },
   "outputs": [
    {
     "name": "stdout",
     "output_type": "stream",
     "text": [
      "Fitting 5 folds for each of 14 candidates, totalling 70 fits\n",
      "[CV] C=0.003, loss=hinge .............................................\n",
      "[CV] ................. C=0.003, loss=hinge, score=0.849, total=   0.6s\n",
      "[CV] C=0.003, loss=hinge .............................................\n",
      "[CV] ................. C=0.003, loss=hinge, score=0.848, total=   1.2s\n",
      "[CV] C=0.003, loss=hinge .............................................\n",
      "[CV] ................. C=0.003, loss=hinge, score=0.850, total=   0.7s\n",
      "[CV] C=0.003, loss=hinge .............................................\n",
      "[CV] ................. C=0.003, loss=hinge, score=0.833, total=   0.9s\n",
      "[CV] C=0.003, loss=hinge .............................................\n",
      "[CV] ................. C=0.003, loss=hinge, score=0.849, total=   0.7s\n",
      "[CV] C=0.003, loss=squared_hinge .....................................\n",
      "[CV] ......... C=0.003, loss=squared_hinge, score=0.848, total=   1.1s\n",
      "[CV] C=0.003, loss=squared_hinge .....................................\n",
      "[CV] ......... C=0.003, loss=squared_hinge, score=0.845, total=   1.2s\n",
      "[CV] C=0.003, loss=squared_hinge .....................................\n",
      "[CV] ......... C=0.003, loss=squared_hinge, score=0.856, total=   1.0s\n",
      "[CV] C=0.003, loss=squared_hinge .....................................\n",
      "[CV] ......... C=0.003, loss=squared_hinge, score=0.839, total=   0.9s\n",
      "[CV] C=0.003, loss=squared_hinge .....................................\n",
      "[CV] ......... C=0.003, loss=squared_hinge, score=0.855, total=   1.4s\n",
      "[CV] C=0.01, loss=hinge ..............................................\n",
      "[CV] .................. C=0.01, loss=hinge, score=0.851, total=   0.5s\n",
      "[CV] C=0.01, loss=hinge ..............................................\n",
      "[CV] .................. C=0.01, loss=hinge, score=0.851, total=   1.0s\n",
      "[CV] C=0.01, loss=hinge ..............................................\n",
      "[CV] .................. C=0.01, loss=hinge, score=0.855, total=   0.5s\n",
      "[CV] C=0.01, loss=hinge ..............................................\n",
      "[CV] .................. C=0.01, loss=hinge, score=0.837, total=   0.5s\n",
      "[CV] C=0.01, loss=hinge ..............................................\n",
      "[CV] .................. C=0.01, loss=hinge, score=0.856, total=   0.9s\n",
      "[CV] C=0.01, loss=squared_hinge ......................................\n",
      "[CV] .......... C=0.01, loss=squared_hinge, score=0.844, total=   1.1s\n",
      "[CV] C=0.01, loss=squared_hinge ......................................\n",
      "[CV] .......... C=0.01, loss=squared_hinge, score=0.841, total=   0.7s\n",
      "[CV] C=0.01, loss=squared_hinge ......................................\n",
      "[CV] .......... C=0.01, loss=squared_hinge, score=0.840, total=   1.2s\n",
      "[CV] C=0.01, loss=squared_hinge ......................................\n",
      "[CV] .......... C=0.01, loss=squared_hinge, score=0.840, total=   0.7s\n",
      "[CV] C=0.01, loss=squared_hinge ......................................\n",
      "[CV] .......... C=0.01, loss=squared_hinge, score=0.855, total=   1.4s\n",
      "[CV] C=0.03, loss=hinge ..............................................\n",
      "[CV] .................. C=0.03, loss=hinge, score=0.848, total=   0.5s\n",
      "[CV] C=0.03, loss=hinge ..............................................\n",
      "[CV] .................. C=0.03, loss=hinge, score=0.845, total=   0.8s\n",
      "[CV] C=0.03, loss=hinge ..............................................\n",
      "[CV] .................. C=0.03, loss=hinge, score=0.858, total=   0.6s\n",
      "[CV] C=0.03, loss=hinge ..............................................\n",
      "[CV] .................. C=0.03, loss=hinge, score=0.838, total=   0.8s\n",
      "[CV] C=0.03, loss=hinge ..............................................\n",
      "[CV] .................. C=0.03, loss=hinge, score=0.855, total=   0.8s\n",
      "[CV] C=0.03, loss=squared_hinge ......................................\n",
      "[CV] .......... C=0.03, loss=squared_hinge, score=0.834, total=   0.4s\n",
      "[CV] C=0.03, loss=squared_hinge ......................................\n",
      "[CV] .......... C=0.03, loss=squared_hinge, score=0.845, total=   0.5s\n",
      "[CV] C=0.03, loss=squared_hinge ......................................\n",
      "[CV] .......... C=0.03, loss=squared_hinge, score=0.847, total=   0.4s\n",
      "[CV] C=0.03, loss=squared_hinge ......................................\n",
      "[CV] .......... C=0.03, loss=squared_hinge, score=0.836, total=   0.4s\n",
      "[CV] C=0.03, loss=squared_hinge ......................................\n",
      "[CV] .......... C=0.03, loss=squared_hinge, score=0.854, total=   0.4s\n",
      "[CV] C=0.1, loss=hinge ...............................................\n",
      "[CV] ................... C=0.1, loss=hinge, score=0.848, total=   0.2s\n",
      "[CV] C=0.1, loss=hinge ...............................................\n",
      "[CV] ................... C=0.1, loss=hinge, score=0.847, total=   0.3s\n",
      "[CV] C=0.1, loss=hinge ...............................................\n",
      "[CV] ................... C=0.1, loss=hinge, score=0.853, total=   0.3s\n",
      "[CV] C=0.1, loss=hinge ...............................................\n",
      "[CV] ................... C=0.1, loss=hinge, score=0.838, total=   0.2s\n",
      "[CV] C=0.1, loss=hinge ...............................................\n",
      "[CV] ................... C=0.1, loss=hinge, score=0.856, total=   0.3s\n",
      "[CV] C=0.1, loss=squared_hinge .......................................\n",
      "[CV] ........... C=0.1, loss=squared_hinge, score=0.815, total=   0.2s\n",
      "[CV] C=0.1, loss=squared_hinge .......................................\n",
      "[CV] ........... C=0.1, loss=squared_hinge, score=0.825, total=   0.3s\n",
      "[CV] C=0.1, loss=squared_hinge .......................................\n",
      "[CV] ........... C=0.1, loss=squared_hinge, score=0.821, total=   0.3s\n",
      "[CV] C=0.1, loss=squared_hinge .......................................\n",
      "[CV] ........... C=0.1, loss=squared_hinge, score=0.819, total=   0.3s\n",
      "[CV] C=0.1, loss=squared_hinge .......................................\n",
      "[CV] ........... C=0.1, loss=squared_hinge, score=0.836, total=   0.3s\n",
      "[CV] C=0.3, loss=hinge ...............................................\n",
      "[CV] ................... C=0.3, loss=hinge, score=0.819, total=   0.3s\n",
      "[CV] C=0.3, loss=hinge ...............................................\n",
      "[CV] ................... C=0.3, loss=hinge, score=0.834, total=   0.2s\n",
      "[CV] C=0.3, loss=hinge ...............................................\n",
      "[CV] ................... C=0.3, loss=hinge, score=0.852, total=   0.2s\n",
      "[CV] C=0.3, loss=hinge ...............................................\n",
      "[CV] ................... C=0.3, loss=hinge, score=0.835, total=   0.3s\n",
      "[CV] C=0.3, loss=hinge ...............................................\n",
      "[CV] ................... C=0.3, loss=hinge, score=0.841, total=   0.2s\n",
      "[CV] C=0.3, loss=squared_hinge .......................................\n",
      "[CV] ........... C=0.3, loss=squared_hinge, score=0.823, total=   0.2s\n",
      "[CV] C=0.3, loss=squared_hinge .......................................\n",
      "[CV] ........... C=0.3, loss=squared_hinge, score=0.807, total=   0.2s\n",
      "[CV] C=0.3, loss=squared_hinge .......................................\n",
      "[CV] ........... C=0.3, loss=squared_hinge, score=0.810, total=   0.2s\n",
      "[CV] C=0.3, loss=squared_hinge .......................................\n",
      "[CV] ........... C=0.3, loss=squared_hinge, score=0.816, total=   0.2s\n",
      "[CV] C=0.3, loss=squared_hinge .......................................\n",
      "[CV] ........... C=0.3, loss=squared_hinge, score=0.832, total=   0.3s\n",
      "[CV] C=1, loss=hinge .................................................\n",
      "[CV] ..................... C=1, loss=hinge, score=0.837, total=   0.2s\n",
      "[CV] C=1, loss=hinge .................................................\n",
      "[CV] ..................... C=1, loss=hinge, score=0.837, total=   0.3s\n",
      "[CV] C=1, loss=hinge .................................................\n",
      "[CV] ..................... C=1, loss=hinge, score=0.843, total=   0.2s\n",
      "[CV] C=1, loss=hinge .................................................\n",
      "[CV] ..................... C=1, loss=hinge, score=0.834, total=   0.2s\n",
      "[CV] C=1, loss=hinge .................................................\n",
      "[CV] ..................... C=1, loss=hinge, score=0.829, total=   0.2s\n",
      "[CV] C=1, loss=squared_hinge .........................................\n",
      "[CV] ............. C=1, loss=squared_hinge, score=0.827, total=   0.2s\n",
      "[CV] C=1, loss=squared_hinge .........................................\n",
      "[CV] ............. C=1, loss=squared_hinge, score=0.811, total=   0.2s\n",
      "[CV] C=1, loss=squared_hinge .........................................\n",
      "[CV] ............. C=1, loss=squared_hinge, score=0.829, total=   0.1s\n",
      "[CV] C=1, loss=squared_hinge .........................................\n",
      "[CV] ............. C=1, loss=squared_hinge, score=0.807, total=   0.2s\n",
      "[CV] C=1, loss=squared_hinge .........................................\n",
      "[CV] ............. C=1, loss=squared_hinge, score=0.672, total=   0.1s\n",
      "[CV] C=3, loss=hinge .................................................\n",
      "[CV] ..................... C=3, loss=hinge, score=0.810, total=   0.2s\n",
      "[CV] C=3, loss=hinge .................................................\n",
      "[CV] ..................... C=3, loss=hinge, score=0.699, total=   0.2s\n",
      "[CV] C=3, loss=hinge .................................................\n",
      "[CV] ..................... C=3, loss=hinge, score=0.827, total=   0.4s\n",
      "[CV] C=3, loss=hinge .................................................\n",
      "[CV] ..................... C=3, loss=hinge, score=0.808, total=   0.3s\n",
      "[CV] C=3, loss=hinge .................................................\n",
      "[CV] ..................... C=3, loss=hinge, score=0.812, total=   0.3s\n",
      "[CV] C=3, loss=squared_hinge .........................................\n",
      "[CV] ............. C=3, loss=squared_hinge, score=0.792, total=   0.1s\n",
      "[CV] C=3, loss=squared_hinge .........................................\n",
      "[CV] ............. C=3, loss=squared_hinge, score=0.788, total=   0.2s\n",
      "[CV] C=3, loss=squared_hinge .........................................\n",
      "[CV] ............. C=3, loss=squared_hinge, score=0.711, total=   0.1s\n",
      "[CV] C=3, loss=squared_hinge .........................................\n",
      "[CV] ............. C=3, loss=squared_hinge, score=0.764, total=   0.2s\n",
      "[CV] C=3, loss=squared_hinge .........................................\n",
      "[CV] ............. C=3, loss=squared_hinge, score=0.777, total=   0.2s\n"
     ]
    },
    {
     "name": "stderr",
     "output_type": "stream",
     "text": [
      "[Parallel(n_jobs=1)]: Using backend SequentialBackend with 1 concurrent workers.\n",
      "[Parallel(n_jobs=1)]: Done   1 out of   1 | elapsed:    0.5s remaining:    0.0s\n",
      "[Parallel(n_jobs=1)]: Done   2 out of   2 | elapsed:    1.8s remaining:    0.0s\n",
      "[Parallel(n_jobs=1)]: Done  70 out of  70 | elapsed:   33.2s finished\n"
     ]
    },
    {
     "data": {
      "text/plain": [
       "GridSearchCV(estimator=PassiveAggressiveClassifier(),\n",
       "             param_grid={'C': [0.003, 0.01, 0.03, 0.1, 0.3, 1, 3],\n",
       "                         'loss': ['hinge', 'squared_hinge']},\n",
       "             verbose=3)"
      ]
     },
     "execution_count": 23,
     "metadata": {},
     "output_type": "execute_result"
    }
   ],
   "source": [
    "# GridSearchCV for PassiveAggressiveClassifier\n",
    "\n",
    "from sklearn.linear_model import PassiveAggressiveClassifier\n",
    "from sklearn.model_selection import GridSearchCV\n",
    "param_grid = {'C': [0.003, 0.01, 0.03, 0.1, 0.3, 1, 3], 'loss': ['hinge', 'squared_hinge']}\n",
    "grid = GridSearchCV(PassiveAggressiveClassifier(), param_grid, verbose=3)\n",
    "grid.fit(x_train, y_train)"
   ]
  },
  {
   "cell_type": "code",
   "execution_count": 24,
   "metadata": {
    "pycharm": {
     "name": "#%%\n"
    }
   },
   "outputs": [
    {
     "data": {
      "text/plain": [
       "{'C': 0.01, 'loss': 'hinge'}"
      ]
     },
     "execution_count": 24,
     "metadata": {},
     "output_type": "execute_result"
    }
   ],
   "source": [
    "grid.best_params_"
   ]
  },
  {
   "cell_type": "code",
   "execution_count": 25,
   "metadata": {
    "pycharm": {
     "name": "#%%\n"
    }
   },
   "outputs": [
    {
     "name": "stdout",
     "output_type": "stream",
     "text": [
      "[[2198   88]\n",
      " [ 370  338]]\n",
      "\n",
      "\n",
      "              precision    recall  f1-score   support\n",
      "\n",
      "       False       0.86      0.96      0.91      2286\n",
      "        True       0.79      0.48      0.60       708\n",
      "\n",
      "    accuracy                           0.85      2994\n",
      "   macro avg       0.82      0.72      0.75      2994\n",
      "weighted avg       0.84      0.85      0.83      2994\n",
      "\n"
     ]
    },
    {
     "data": {
      "image/png": "[encoded data removed]",
      "text/plain": [
       "<Figure size 432x288 with 2 Axes>"
      ]
     },
     "metadata": {
      "needs_background": "light"
     },
     "output_type": "display_data"
    }
   ],
   "source": [
    "pac = PassiveAggressiveClassifier()\n",
    "#svm = SVC(C=10, gamma=0.001)\n",
    "pac.fit(x_train, y_train)\n",
    "predictions = pac.predict(x_test)\n",
    "print(confusion_matrix(y_test, predictions))\n",
    "print('\\n')\n",
    "print(classification_report(y_test, predictions))\n",
    "\n",
    "fig, ax = plot_confusion_matrix(conf_mat=confusion_matrix(y_test, predictions),\n",
    "                                show_absolute=True,\n",
    "                                show_normed=True,\n",
    "                                colorbar=True)\n",
    "plt.show()"
   ]
  },
  {
   "cell_type": "code",
   "execution_count": 26,
   "metadata": {
    "pycharm": {
     "name": "#%%\n"
    }
   },
   "outputs": [
    {
     "name": "stdout",
     "output_type": "stream",
     "text": [
      "[[2059  227]\n",
      " [ 242  466]]\n",
      "\n",
      "\n",
      "              precision    recall  f1-score   support\n",
      "\n",
      "       False       0.89      0.90      0.90      2286\n",
      "        True       0.67      0.66      0.67       708\n",
      "\n",
      "    accuracy                           0.84      2994\n",
      "   macro avg       0.78      0.78      0.78      2994\n",
      "weighted avg       0.84      0.84      0.84      2994\n",
      "\n"
     ]
    },
    {
     "data": {
      "image/png": "[encoded data removed]",
      "text/plain": [
       "<Figure size 432x288 with 2 Axes>"
      ]
     },
     "metadata": {
      "needs_background": "light"
     },
     "output_type": "display_data"
    }
   ],
   "source": [
    "pac = PassiveAggressiveClassifier(C=0.03, loss='squared_hinge')\n",
    "#svm = SVC(C=10, gamma=0.001)\n",
    "pac.fit(x_train, y_train)\n",
    "predictions = pac.predict(x_test)\n",
    "print(confusion_matrix(y_test, predictions))\n",
    "print('\\n')\n",
    "print(classification_report(y_test, predictions))\n",
    "\n",
    "fig, ax = plot_confusion_matrix(conf_mat=confusion_matrix(y_test, predictions),\n",
    "                                show_absolute=True,\n",
    "                                show_normed=True,\n",
    "                                colorbar=True)\n",
    "plt.show()"
   ]
  },
  {
   "cell_type": "code",
   "execution_count": 27,
   "metadata": {
    "pycharm": {
     "name": "#%%\n"
    }
   },
   "outputs": [
    {
     "name": "stdout",
     "output_type": "stream",
     "text": [
      "Fitting 5 folds for each of 80 candidates, totalling 400 fits\n",
      "[CV] C=0.0001, penalty=l1, solver=liblinear ..........................\n",
      "[CV]  C=0.0001, penalty=l1, solver=liblinear, score=0.757, total=   0.2s\n",
      "[CV] C=0.0001, penalty=l1, solver=liblinear ..........................\n",
      "[CV]  C=0.0001, penalty=l1, solver=liblinear, score=0.757, total=   0.1s\n",
      "[CV] C=0.0001, penalty=l1, solver=liblinear ..........................\n",
      "[CV]  C=0.0001, penalty=l1, solver=liblinear, score=0.757, total=   0.1s\n",
      "[CV] C=0.0001, penalty=l1, solver=liblinear ..........................\n",
      "[CV]  C=0.0001, penalty=l1, solver=liblinear, score=0.757, total=   0.2s\n",
      "[CV] C=0.0001, penalty=l1, solver=liblinear ..........................\n",
      "[CV]  C=0.0001, penalty=l1, solver=liblinear, score=0.757, total=   0.1s\n",
      "[CV] C=0.0001, penalty=l1, solver=newton-cg ..........................\n",
      "[CV]  C=0.0001, penalty=l1, solver=newton-cg, score=nan, total=   0.0s\n",
      "[CV] C=0.0001, penalty=l1, solver=newton-cg ..........................\n",
      "[CV]  C=0.0001, penalty=l1, solver=newton-cg, score=nan, total=   0.0s\n",
      "[CV] C=0.0001, penalty=l1, solver=newton-cg ..........................\n",
      "[CV]  C=0.0001, penalty=l1, solver=newton-cg, score=nan, total=   0.0s\n",
      "[CV] C=0.0001, penalty=l1, solver=newton-cg ..........................\n",
      "[CV]  C=0.0001, penalty=l1, solver=newton-cg, score=nan, total=   0.0s\n",
      "[CV] C=0.0001, penalty=l1, solver=newton-cg ..........................\n",
      "[CV]  C=0.0001, penalty=l1, solver=newton-cg, score=nan, total=   0.0s\n",
      "[CV] C=0.0001, penalty=l2, solver=liblinear ..........................\n",
      "[CV]  C=0.0001, penalty=l2, solver=liblinear, score=0.757, total=   0.1s\n",
      "[CV] C=0.0001, penalty=l2, solver=liblinear ..........................\n",
      "[CV]  C=0.0001, penalty=l2, solver=liblinear, score=0.757, total=   0.2s\n",
      "[CV] C=0.0001, penalty=l2, solver=liblinear ..........................\n",
      "[CV]  C=0.0001, penalty=l2, solver=liblinear, score=0.757, total=   0.1s\n",
      "[CV] C=0.0001, penalty=l2, solver=liblinear ..........................\n",
      "[CV]  C=0.0001, penalty=l2, solver=liblinear, score=0.757, total=   0.2s\n",
      "[CV] C=0.0001, penalty=l2, solver=liblinear ..........................\n",
      "[CV]  C=0.0001, penalty=l2, solver=liblinear, score=0.757, total=   0.1s\n",
      "[CV] C=0.0001, penalty=l2, solver=newton-cg ..........................\n",
      "[CV]  C=0.0001, penalty=l2, solver=newton-cg, score=0.757, total=   0.5s\n",
      "[CV] C=0.0001, penalty=l2, solver=newton-cg ..........................\n",
      "[CV]  C=0.0001, penalty=l2, solver=newton-cg, score=0.757, total=   0.5s\n",
      "[CV] C=0.0001, penalty=l2, solver=newton-cg ..........................\n",
      "[CV]  C=0.0001, penalty=l2, solver=newton-cg, score=0.757, total=   0.7s\n",
      "[CV] C=0.0001, penalty=l2, solver=newton-cg ..........................\n",
      "[CV]  C=0.0001, penalty=l2, solver=newton-cg, score=0.757, total=   0.7s\n",
      "[CV] C=0.0001, penalty=l2, solver=newton-cg ..........................\n",
      "[CV]  C=0.0001, penalty=l2, solver=newton-cg, score=0.757, total=   0.7s\n",
      "[CV] C=0.00026366508987303583, penalty=l1, solver=liblinear ..........\n",
      "[CV]  C=0.00026366508987303583, penalty=l1, solver=liblinear, score=0.757, total=   0.3s\n",
      "[CV] C=0.00026366508987303583, penalty=l1, solver=liblinear ..........\n",
      "[CV]  C=0.00026366508987303583, penalty=l1, solver=liblinear, score=0.757, total=   0.1s\n",
      "[CV] C=0.00026366508987303583, penalty=l1, solver=liblinear ..........\n",
      "[CV]  C=0.00026366508987303583, penalty=l1, solver=liblinear, score=0.757, total=   0.1s\n",
      "[CV] C=0.00026366508987303583, penalty=l1, solver=liblinear ..........\n",
      "[CV]  C=0.00026366508987303583, penalty=l1, solver=liblinear, score=0.757, total=   0.1s\n",
      "[CV] C=0.00026366508987303583, penalty=l1, solver=liblinear ..........\n",
      "[CV]  C=0.00026366508987303583, penalty=l1, solver=liblinear, score=0.757, total=   0.1s\n",
      "[CV] C=0.00026366508987303583, penalty=l1, solver=newton-cg ..........\n",
      "[CV]  C=0.00026366508987303583, penalty=l1, solver=newton-cg, score=nan, total=   0.0s\n",
      "[CV] C=0.00026366508987303583, penalty=l1, solver=newton-cg ..........\n",
      "[CV]  C=0.00026366508987303583, penalty=l1, solver=newton-cg, score=nan, total=   0.0s\n",
      "[CV] C=0.00026366508987303583, penalty=l1, solver=newton-cg ..........\n",
      "[CV]  C=0.00026366508987303583, penalty=l1, solver=newton-cg, score=nan, total=   0.0s\n",
      "[CV] C=0.00026366508987303583, penalty=l1, solver=newton-cg ..........\n",
      "[CV]  C=0.00026366508987303583, penalty=l1, solver=newton-cg, score=nan, total=   0.0s\n",
      "[CV] C=0.00026366508987303583, penalty=l1, solver=newton-cg ..........\n",
      "[CV]  C=0.00026366508987303583, penalty=l1, solver=newton-cg, score=nan, total=   0.0s\n",
      "[CV] C=0.00026366508987303583, penalty=l2, solver=liblinear ..........\n",
      "[CV]  C=0.00026366508987303583, penalty=l2, solver=liblinear, score=0.757, total=   0.1s\n",
      "[CV] C=0.00026366508987303583, penalty=l2, solver=liblinear ..........\n",
      "[CV]  C=0.00026366508987303583, penalty=l2, solver=liblinear, score=0.757, total=   0.1s\n",
      "[CV] C=0.00026366508987303583, penalty=l2, solver=liblinear ..........\n",
      "[CV]  C=0.00026366508987303583, penalty=l2, solver=liblinear, score=0.757, total=   0.1s\n",
      "[CV] C=0.00026366508987303583, penalty=l2, solver=liblinear ..........\n",
      "[CV]  C=0.00026366508987303583, penalty=l2, solver=liblinear, score=0.757, total=   0.1s\n",
      "[CV] C=0.00026366508987303583, penalty=l2, solver=liblinear ..........\n",
      "[CV]  C=0.00026366508987303583, penalty=l2, solver=liblinear, score=0.757, total=   0.1s\n",
      "[CV] C=0.00026366508987303583, penalty=l2, solver=newton-cg ..........\n",
      "[CV]  C=0.00026366508987303583, penalty=l2, solver=newton-cg, score=0.757, total=   0.6s\n",
      "[CV] C=0.00026366508987303583, penalty=l2, solver=newton-cg ..........\n",
      "[CV]  C=0.00026366508987303583, penalty=l2, solver=newton-cg, score=0.757, total=   0.6s\n",
      "[CV] C=0.00026366508987303583, penalty=l2, solver=newton-cg ..........\n",
      "[CV]  C=0.00026366508987303583, penalty=l2, solver=newton-cg, score=0.757, total=   0.6s\n",
      "[CV] C=0.00026366508987303583, penalty=l2, solver=newton-cg ..........\n",
      "[CV]  C=0.00026366508987303583, penalty=l2, solver=newton-cg, score=0.757, total=   0.6s\n",
      "[CV] C=0.00026366508987303583, penalty=l2, solver=newton-cg ..........\n",
      "[CV]  C=0.00026366508987303583, penalty=l2, solver=newton-cg, score=0.757, total=   0.6s\n",
      "[CV] C=0.0006951927961775605, penalty=l1, solver=liblinear ...........\n",
      "[CV]  C=0.0006951927961775605, penalty=l1, solver=liblinear, score=0.757, total=   0.2s\n",
      "[CV] C=0.0006951927961775605, penalty=l1, solver=liblinear ...........\n",
      "[CV]  C=0.0006951927961775605, penalty=l1, solver=liblinear, score=0.757, total=   0.1s\n",
      "[CV] C=0.0006951927961775605, penalty=l1, solver=liblinear ...........\n",
      "[CV]  C=0.0006951927961775605, penalty=l1, solver=liblinear, score=0.757, total=   0.1s\n",
      "[CV] C=0.0006951927961775605, penalty=l1, solver=liblinear ...........\n",
      "[CV]  C=0.0006951927961775605, penalty=l1, solver=liblinear, score=0.757, total=   0.1s\n",
      "[CV] C=0.0006951927961775605, penalty=l1, solver=liblinear ...........\n",
      "[CV]  C=0.0006951927961775605, penalty=l1, solver=liblinear, score=0.757, total=   0.1s\n",
      "[CV] C=0.0006951927961775605, penalty=l1, solver=newton-cg ...........\n",
      "[CV]  C=0.0006951927961775605, penalty=l1, solver=newton-cg, score=nan, total=   0.0s\n",
      "[CV] C=0.0006951927961775605, penalty=l1, solver=newton-cg ...........\n",
      "[CV]  C=0.0006951927961775605, penalty=l1, solver=newton-cg, score=nan, total=   0.0s\n",
      "[CV] C=0.0006951927961775605, penalty=l1, solver=newton-cg ...........\n",
      "[CV]  C=0.0006951927961775605, penalty=l1, solver=newton-cg, score=nan, total=   0.0s\n",
      "[CV] C=0.0006951927961775605, penalty=l1, solver=newton-cg ...........\n",
      "[CV]  C=0.0006951927961775605, penalty=l1, solver=newton-cg, score=nan, total=   0.0s\n",
      "[CV] C=0.0006951927961775605, penalty=l1, solver=newton-cg ...........\n",
      "[CV]  C=0.0006951927961775605, penalty=l1, solver=newton-cg, score=nan, total=   0.0s\n",
      "[CV] C=0.0006951927961775605, penalty=l2, solver=liblinear ...........\n",
      "[CV]  C=0.0006951927961775605, penalty=l2, solver=liblinear, score=0.757, total=   0.1s\n",
      "[CV] C=0.0006951927961775605, penalty=l2, solver=liblinear ...........\n",
      "[CV]  C=0.0006951927961775605, penalty=l2, solver=liblinear, score=0.757, total=   0.1s\n",
      "[CV] C=0.0006951927961775605, penalty=l2, solver=liblinear ...........\n",
      "[CV]  C=0.0006951927961775605, penalty=l2, solver=liblinear, score=0.757, total=   0.1s\n",
      "[CV] C=0.0006951927961775605, penalty=l2, solver=liblinear ...........\n",
      "[CV]  C=0.0006951927961775605, penalty=l2, solver=liblinear, score=0.757, total=   0.1s\n",
      "[CV] C=0.0006951927961775605, penalty=l2, solver=liblinear ...........\n",
      "[CV]  C=0.0006951927961775605, penalty=l2, solver=liblinear, score=0.757, total=   0.2s\n",
      "[CV] C=0.0006951927961775605, penalty=l2, solver=newton-cg ...........\n",
      "[CV]  C=0.0006951927961775605, penalty=l2, solver=newton-cg, score=0.757, total=   0.8s\n",
      "[CV] C=0.0006951927961775605, penalty=l2, solver=newton-cg ...........\n",
      "[CV]  C=0.0006951927961775605, penalty=l2, solver=newton-cg, score=0.757, total=   0.8s\n",
      "[CV] C=0.0006951927961775605, penalty=l2, solver=newton-cg ...........\n",
      "[CV]  C=0.0006951927961775605, penalty=l2, solver=newton-cg, score=0.757, total=   0.7s\n",
      "[CV] C=0.0006951927961775605, penalty=l2, solver=newton-cg ...........\n",
      "[CV]  C=0.0006951927961775605, penalty=l2, solver=newton-cg, score=0.757, total=   0.6s\n",
      "[CV] C=0.0006951927961775605, penalty=l2, solver=newton-cg ...........\n",
      "[CV]  C=0.0006951927961775605, penalty=l2, solver=newton-cg, score=0.757, total=   0.6s\n",
      "[CV] C=0.0018329807108324356, penalty=l1, solver=liblinear ...........\n",
      "[CV]  C=0.0018329807108324356, penalty=l1, solver=liblinear, score=0.757, total=   0.3s\n",
      "[CV] C=0.0018329807108324356, penalty=l1, solver=liblinear ...........\n",
      "[CV]  C=0.0018329807108324356, penalty=l1, solver=liblinear, score=0.757, total=   0.1s\n",
      "[CV] C=0.0018329807108324356, penalty=l1, solver=liblinear ...........\n",
      "[CV]  C=0.0018329807108324356, penalty=l1, solver=liblinear, score=0.757, total=   0.1s\n",
      "[CV] C=0.0018329807108324356, penalty=l1, solver=liblinear ...........\n",
      "[CV]  C=0.0018329807108324356, penalty=l1, solver=liblinear, score=0.757, total=   0.1s\n",
      "[CV] C=0.0018329807108324356, penalty=l1, solver=liblinear ...........\n",
      "[CV]  C=0.0018329807108324356, penalty=l1, solver=liblinear, score=0.757, total=   0.1s\n",
      "[CV] C=0.0018329807108324356, penalty=l1, solver=newton-cg ...........\n",
      "[CV]  C=0.0018329807108324356, penalty=l1, solver=newton-cg, score=nan, total=   0.0s\n",
      "[CV] C=0.0018329807108324356, penalty=l1, solver=newton-cg ...........\n",
      "[CV]  C=0.0018329807108324356, penalty=l1, solver=newton-cg, score=nan, total=   0.0s\n",
      "[CV] C=0.0018329807108324356, penalty=l1, solver=newton-cg ...........\n",
      "[CV]  C=0.0018329807108324356, penalty=l1, solver=newton-cg, score=nan, total=   0.0s\n",
      "[CV] C=0.0018329807108324356, penalty=l1, solver=newton-cg ...........\n",
      "[CV]  C=0.0018329807108324356, penalty=l1, solver=newton-cg, score=nan, total=   0.0s\n",
      "[CV] C=0.0018329807108324356, penalty=l1, solver=newton-cg ...........\n",
      "[CV]  C=0.0018329807108324356, penalty=l1, solver=newton-cg, score=nan, total=   0.0s\n",
      "[CV] C=0.0018329807108324356, penalty=l2, solver=liblinear ...........\n",
      "[CV]  C=0.0018329807108324356, penalty=l2, solver=liblinear, score=0.757, total=   0.1s\n",
      "[CV] C=0.0018329807108324356, penalty=l2, solver=liblinear ...........\n",
      "[CV]  C=0.0018329807108324356, penalty=l2, solver=liblinear, score=0.757, total=   0.1s\n",
      "[CV] C=0.0018329807108324356, penalty=l2, solver=liblinear ...........\n",
      "[CV]  C=0.0018329807108324356, penalty=l2, solver=liblinear, score=0.757, total=   0.2s\n",
      "[CV] C=0.0018329807108324356, penalty=l2, solver=liblinear ...........\n",
      "[CV]  C=0.0018329807108324356, penalty=l2, solver=liblinear, score=0.757, total=   0.1s\n",
      "[CV] C=0.0018329807108324356, penalty=l2, solver=liblinear ...........\n",
      "[CV]  C=0.0018329807108324356, penalty=l2, solver=liblinear, score=0.757, total=   0.1s\n",
      "[CV] C=0.0018329807108324356, penalty=l2, solver=newton-cg ...........\n",
      "[CV]  C=0.0018329807108324356, penalty=l2, solver=newton-cg, score=0.757, total=   0.5s\n",
      "[CV] C=0.0018329807108324356, penalty=l2, solver=newton-cg ...........\n",
      "[CV]  C=0.0018329807108324356, penalty=l2, solver=newton-cg, score=0.757, total=   0.6s\n",
      "[CV] C=0.0018329807108324356, penalty=l2, solver=newton-cg ...........\n",
      "[CV]  C=0.0018329807108324356, penalty=l2, solver=newton-cg, score=0.757, total=   0.7s\n",
      "[CV] C=0.0018329807108324356, penalty=l2, solver=newton-cg ...........\n",
      "[CV]  C=0.0018329807108324356, penalty=l2, solver=newton-cg, score=0.757, total=   0.7s\n",
      "[CV] C=0.0018329807108324356, penalty=l2, solver=newton-cg ...........\n",
      "[CV]  C=0.0018329807108324356, penalty=l2, solver=newton-cg, score=0.757, total=   0.6s\n",
      "[CV] C=0.004832930238571752, penalty=l1, solver=liblinear ............\n",
      "[CV]  C=0.004832930238571752, penalty=l1, solver=liblinear, score=0.757, total=   0.2s\n",
      "[CV] C=0.004832930238571752, penalty=l1, solver=liblinear ............\n",
      "[CV]  C=0.004832930238571752, penalty=l1, solver=liblinear, score=0.757, total=   0.1s\n",
      "[CV] C=0.004832930238571752, penalty=l1, solver=liblinear ............\n",
      "[CV]  C=0.004832930238571752, penalty=l1, solver=liblinear, score=0.757, total=   0.1s\n",
      "[CV] C=0.004832930238571752, penalty=l1, solver=liblinear ............\n",
      "[CV]  C=0.004832930238571752, penalty=l1, solver=liblinear, score=0.757, total=   0.1s\n",
      "[CV] C=0.004832930238571752, penalty=l1, solver=liblinear ............\n",
      "[CV]  C=0.004832930238571752, penalty=l1, solver=liblinear, score=0.757, total=   0.1s\n",
      "[CV] C=0.004832930238571752, penalty=l1, solver=newton-cg ............\n",
      "[CV]  C=0.004832930238571752, penalty=l1, solver=newton-cg, score=nan, total=   0.0s\n",
      "[CV] C=0.004832930238571752, penalty=l1, solver=newton-cg ............\n",
      "[CV]  C=0.004832930238571752, penalty=l1, solver=newton-cg, score=nan, total=   0.0s\n",
      "[CV] C=0.004832930238571752, penalty=l1, solver=newton-cg ............\n",
      "[CV]  C=0.004832930238571752, penalty=l1, solver=newton-cg, score=nan, total=   0.0s\n",
      "[CV] C=0.004832930238571752, penalty=l1, solver=newton-cg ............\n",
      "[CV]  C=0.004832930238571752, penalty=l1, solver=newton-cg, score=nan, total=   0.0s\n",
      "[CV] C=0.004832930238571752, penalty=l1, solver=newton-cg ............\n",
      "[CV]  C=0.004832930238571752, penalty=l1, solver=newton-cg, score=nan, total=   0.0s\n",
      "[CV] C=0.004832930238571752, penalty=l2, solver=liblinear ............\n",
      "[CV]  C=0.004832930238571752, penalty=l2, solver=liblinear, score=0.757, total=   0.1s\n",
      "[CV] C=0.004832930238571752, penalty=l2, solver=liblinear ............\n",
      "[CV]  C=0.004832930238571752, penalty=l2, solver=liblinear, score=0.757, total=   0.1s\n",
      "[CV] C=0.004832930238571752, penalty=l2, solver=liblinear ............\n",
      "[CV]  C=0.004832930238571752, penalty=l2, solver=liblinear, score=0.757, total=   0.1s\n",
      "[CV] C=0.004832930238571752, penalty=l2, solver=liblinear ............\n",
      "[CV]  C=0.004832930238571752, penalty=l2, solver=liblinear, score=0.757, total=   0.1s\n",
      "[CV] C=0.004832930238571752, penalty=l2, solver=liblinear ............\n",
      "[CV]  C=0.004832930238571752, penalty=l2, solver=liblinear, score=0.757, total=   0.1s\n",
      "[CV] C=0.004832930238571752, penalty=l2, solver=newton-cg ............\n",
      "[CV]  C=0.004832930238571752, penalty=l2, solver=newton-cg, score=0.757, total=   0.5s\n",
      "[CV] C=0.004832930238571752, penalty=l2, solver=newton-cg ............\n",
      "[CV]  C=0.004832930238571752, penalty=l2, solver=newton-cg, score=0.757, total=   0.6s\n",
      "[CV] C=0.004832930238571752, penalty=l2, solver=newton-cg ............\n",
      "[CV]  C=0.004832930238571752, penalty=l2, solver=newton-cg, score=0.757, total=   0.6s\n",
      "[CV] C=0.004832930238571752, penalty=l2, solver=newton-cg ............\n",
      "[CV]  C=0.004832930238571752, penalty=l2, solver=newton-cg, score=0.757, total=   0.7s\n",
      "[CV] C=0.004832930238571752, penalty=l2, solver=newton-cg ............\n",
      "[CV]  C=0.004832930238571752, penalty=l2, solver=newton-cg, score=0.757, total=   0.6s\n",
      "[CV] C=0.012742749857031334, penalty=l1, solver=liblinear ............\n",
      "[CV]  C=0.012742749857031334, penalty=l1, solver=liblinear, score=0.757, total=   0.2s\n",
      "[CV] C=0.012742749857031334, penalty=l1, solver=liblinear ............\n",
      "[CV]  C=0.012742749857031334, penalty=l1, solver=liblinear, score=0.757, total=   0.1s\n",
      "[CV] C=0.012742749857031334, penalty=l1, solver=liblinear ............\n",
      "[CV]  C=0.012742749857031334, penalty=l1, solver=liblinear, score=0.757, total=   0.1s\n",
      "[CV] C=0.012742749857031334, penalty=l1, solver=liblinear ............\n",
      "[CV]  C=0.012742749857031334, penalty=l1, solver=liblinear, score=0.757, total=   0.1s\n",
      "[CV] C=0.012742749857031334, penalty=l1, solver=liblinear ............\n",
      "[CV]  C=0.012742749857031334, penalty=l1, solver=liblinear, score=0.757, total=   0.1s\n",
      "[CV] C=0.012742749857031334, penalty=l1, solver=newton-cg ............\n",
      "[CV]  C=0.012742749857031334, penalty=l1, solver=newton-cg, score=nan, total=   0.0s\n",
      "[CV] C=0.012742749857031334, penalty=l1, solver=newton-cg ............\n",
      "[CV]  C=0.012742749857031334, penalty=l1, solver=newton-cg, score=nan, total=   0.0s\n",
      "[CV] C=0.012742749857031334, penalty=l1, solver=newton-cg ............\n",
      "[CV]  C=0.012742749857031334, penalty=l1, solver=newton-cg, score=nan, total=   0.0s\n",
      "[CV] C=0.012742749857031334, penalty=l1, solver=newton-cg ............\n",
      "[CV]  C=0.012742749857031334, penalty=l1, solver=newton-cg, score=nan, total=   0.0s\n",
      "[CV] C=0.012742749857031334, penalty=l1, solver=newton-cg ............\n",
      "[CV]  C=0.012742749857031334, penalty=l1, solver=newton-cg, score=nan, total=   0.0s\n",
      "[CV] C=0.012742749857031334, penalty=l2, solver=liblinear ............\n",
      "[CV]  C=0.012742749857031334, penalty=l2, solver=liblinear, score=0.758, total=   0.2s\n",
      "[CV] C=0.012742749857031334, penalty=l2, solver=liblinear ............\n",
      "[CV]  C=0.012742749857031334, penalty=l2, solver=liblinear, score=0.759, total=   0.1s\n",
      "[CV] C=0.012742749857031334, penalty=l2, solver=liblinear ............\n",
      "[CV]  C=0.012742749857031334, penalty=l2, solver=liblinear, score=0.759, total=   0.2s\n",
      "[CV] C=0.012742749857031334, penalty=l2, solver=liblinear ............\n",
      "[CV]  C=0.012742749857031334, penalty=l2, solver=liblinear, score=0.757, total=   0.1s\n",
      "[CV] C=0.012742749857031334, penalty=l2, solver=liblinear ............\n",
      "[CV]  C=0.012742749857031334, penalty=l2, solver=liblinear, score=0.759, total=   0.2s\n",
      "[CV] C=0.012742749857031334, penalty=l2, solver=newton-cg ............\n",
      "[CV]  C=0.012742749857031334, penalty=l2, solver=newton-cg, score=0.757, total=   0.6s\n",
      "[CV] C=0.012742749857031334, penalty=l2, solver=newton-cg ............\n",
      "[CV]  C=0.012742749857031334, penalty=l2, solver=newton-cg, score=0.759, total=   0.9s\n",
      "[CV] C=0.012742749857031334, penalty=l2, solver=newton-cg ............\n",
      "[CV]  C=0.012742749857031334, penalty=l2, solver=newton-cg, score=0.757, total=   0.7s\n",
      "[CV] C=0.012742749857031334, penalty=l2, solver=newton-cg ............\n",
      "[CV]  C=0.012742749857031334, penalty=l2, solver=newton-cg, score=0.758, total=   0.7s\n",
      "[CV] C=0.012742749857031334, penalty=l2, solver=newton-cg ............\n",
      "[CV]  C=0.012742749857031334, penalty=l2, solver=newton-cg, score=0.758, total=   0.7s\n",
      "[CV] C=0.03359818286283781, penalty=l1, solver=liblinear .............\n",
      "[CV]  C=0.03359818286283781, penalty=l1, solver=liblinear, score=0.797, total=   0.2s\n",
      "[CV] C=0.03359818286283781, penalty=l1, solver=liblinear .............\n",
      "[CV]  C=0.03359818286283781, penalty=l1, solver=liblinear, score=0.793, total=   0.1s\n",
      "[CV] C=0.03359818286283781, penalty=l1, solver=liblinear .............\n",
      "[CV]  C=0.03359818286283781, penalty=l1, solver=liblinear, score=0.789, total=   0.1s\n",
      "[CV] C=0.03359818286283781, penalty=l1, solver=liblinear .............\n",
      "[CV]  C=0.03359818286283781, penalty=l1, solver=liblinear, score=0.779, total=   0.1s\n",
      "[CV] C=0.03359818286283781, penalty=l1, solver=liblinear .............\n",
      "[CV]  C=0.03359818286283781, penalty=l1, solver=liblinear, score=0.786, total=   0.1s\n",
      "[CV] C=0.03359818286283781, penalty=l1, solver=newton-cg .............\n",
      "[CV]  C=0.03359818286283781, penalty=l1, solver=newton-cg, score=nan, total=   0.0s\n",
      "[CV] C=0.03359818286283781, penalty=l1, solver=newton-cg .............\n",
      "[CV]  C=0.03359818286283781, penalty=l1, solver=newton-cg, score=nan, total=   0.0s\n",
      "[CV] C=0.03359818286283781, penalty=l1, solver=newton-cg .............\n",
      "[CV]  C=0.03359818286283781, penalty=l1, solver=newton-cg, score=nan, total=   0.0s\n",
      "[CV] C=0.03359818286283781, penalty=l1, solver=newton-cg .............\n",
      "[CV]  C=0.03359818286283781, penalty=l1, solver=newton-cg, score=nan, total=   0.0s\n",
      "[CV] C=0.03359818286283781, penalty=l1, solver=newton-cg .............\n",
      "[CV]  C=0.03359818286283781, penalty=l1, solver=newton-cg, score=nan, total=   0.0s\n",
      "[CV] C=0.03359818286283781, penalty=l2, solver=liblinear .............\n",
      "[CV]  C=0.03359818286283781, penalty=l2, solver=liblinear, score=0.795, total=   0.2s\n",
      "[CV] C=0.03359818286283781, penalty=l2, solver=liblinear .............\n",
      "[CV]  C=0.03359818286283781, penalty=l2, solver=liblinear, score=0.791, total=   0.2s\n",
      "[CV] C=0.03359818286283781, penalty=l2, solver=liblinear .............\n",
      "[CV]  C=0.03359818286283781, penalty=l2, solver=liblinear, score=0.789, total=   0.2s\n",
      "[CV] C=0.03359818286283781, penalty=l2, solver=liblinear .............\n",
      "[CV]  C=0.03359818286283781, penalty=l2, solver=liblinear, score=0.787, total=   0.2s\n",
      "[CV] C=0.03359818286283781, penalty=l2, solver=liblinear .............\n",
      "[CV]  C=0.03359818286283781, penalty=l2, solver=liblinear, score=0.789, total=   0.2s\n",
      "[CV] C=0.03359818286283781, penalty=l2, solver=newton-cg .............\n",
      "[CV]  C=0.03359818286283781, penalty=l2, solver=newton-cg, score=0.795, total=   0.8s\n",
      "[CV] C=0.03359818286283781, penalty=l2, solver=newton-cg .............\n",
      "[CV]  C=0.03359818286283781, penalty=l2, solver=newton-cg, score=0.790, total=   0.8s\n",
      "[CV] C=0.03359818286283781, penalty=l2, solver=newton-cg .............\n",
      "[CV]  C=0.03359818286283781, penalty=l2, solver=newton-cg, score=0.788, total=   0.8s\n",
      "[CV] C=0.03359818286283781, penalty=l2, solver=newton-cg .............\n",
      "[CV]  C=0.03359818286283781, penalty=l2, solver=newton-cg, score=0.786, total=   0.8s\n",
      "[CV] C=0.03359818286283781, penalty=l2, solver=newton-cg .............\n",
      "[CV]  C=0.03359818286283781, penalty=l2, solver=newton-cg, score=0.788, total=   0.9s\n",
      "[CV] C=0.08858667904100823, penalty=l1, solver=liblinear .............\n",
      "[CV]  C=0.08858667904100823, penalty=l1, solver=liblinear, score=0.830, total=   0.2s\n",
      "[CV] C=0.08858667904100823, penalty=l1, solver=liblinear .............\n",
      "[CV]  C=0.08858667904100823, penalty=l1, solver=liblinear, score=0.828, total=   0.2s\n",
      "[CV] C=0.08858667904100823, penalty=l1, solver=liblinear .............\n",
      "[CV]  C=0.08858667904100823, penalty=l1, solver=liblinear, score=0.825, total=   0.1s\n",
      "[CV] C=0.08858667904100823, penalty=l1, solver=liblinear .............\n",
      "[CV]  C=0.08858667904100823, penalty=l1, solver=liblinear, score=0.815, total=   0.1s\n",
      "[CV] C=0.08858667904100823, penalty=l1, solver=liblinear .............\n",
      "[CV]  C=0.08858667904100823, penalty=l1, solver=liblinear, score=0.825, total=   0.2s\n",
      "[CV] C=0.08858667904100823, penalty=l1, solver=newton-cg .............\n",
      "[CV]  C=0.08858667904100823, penalty=l1, solver=newton-cg, score=nan, total=   0.0s\n",
      "[CV] C=0.08858667904100823, penalty=l1, solver=newton-cg .............\n",
      "[CV]  C=0.08858667904100823, penalty=l1, solver=newton-cg, score=nan, total=   0.0s\n",
      "[CV] C=0.08858667904100823, penalty=l1, solver=newton-cg .............\n",
      "[CV]  C=0.08858667904100823, penalty=l1, solver=newton-cg, score=nan, total=   0.0s\n",
      "[CV] C=0.08858667904100823, penalty=l1, solver=newton-cg .............\n",
      "[CV]  C=0.08858667904100823, penalty=l1, solver=newton-cg, score=nan, total=   0.0s\n",
      "[CV] C=0.08858667904100823, penalty=l1, solver=newton-cg .............\n",
      "[CV]  C=0.08858667904100823, penalty=l1, solver=newton-cg, score=nan, total=   0.0s\n",
      "[CV] C=0.08858667904100823, penalty=l2, solver=liblinear .............\n",
      "[CV]  C=0.08858667904100823, penalty=l2, solver=liblinear, score=0.835, total=   0.2s\n",
      "[CV] C=0.08858667904100823, penalty=l2, solver=liblinear .............\n",
      "[CV]  C=0.08858667904100823, penalty=l2, solver=liblinear, score=0.834, total=   0.2s\n",
      "[CV] C=0.08858667904100823, penalty=l2, solver=liblinear .............\n",
      "[CV]  C=0.08858667904100823, penalty=l2, solver=liblinear, score=0.835, total=   0.2s\n",
      "[CV] C=0.08858667904100823, penalty=l2, solver=liblinear .............\n",
      "[CV]  C=0.08858667904100823, penalty=l2, solver=liblinear, score=0.820, total=   0.2s\n",
      "[CV] C=0.08858667904100823, penalty=l2, solver=liblinear .............\n",
      "[CV]  C=0.08858667904100823, penalty=l2, solver=liblinear, score=0.828, total=   0.2s\n",
      "[CV] C=0.08858667904100823, penalty=l2, solver=newton-cg .............\n",
      "[CV]  C=0.08858667904100823, penalty=l2, solver=newton-cg, score=0.835, total=   0.9s\n",
      "[CV] C=0.08858667904100823, penalty=l2, solver=newton-cg .............\n",
      "[CV]  C=0.08858667904100823, penalty=l2, solver=newton-cg, score=0.833, total=   1.0s\n",
      "[CV] C=0.08858667904100823, penalty=l2, solver=newton-cg .............\n",
      "[CV]  C=0.08858667904100823, penalty=l2, solver=newton-cg, score=0.836, total=   1.0s\n",
      "[CV] C=0.08858667904100823, penalty=l2, solver=newton-cg .............\n",
      "[CV]  C=0.08858667904100823, penalty=l2, solver=newton-cg, score=0.820, total=   1.0s\n",
      "[CV] C=0.08858667904100823, penalty=l2, solver=newton-cg .............\n",
      "[CV]  C=0.08858667904100823, penalty=l2, solver=newton-cg, score=0.828, total=   1.0s\n",
      "[CV] C=0.23357214690901212, penalty=l1, solver=liblinear .............\n",
      "[CV]  C=0.23357214690901212, penalty=l1, solver=liblinear, score=0.843, total=   0.2s\n",
      "[CV] C=0.23357214690901212, penalty=l1, solver=liblinear .............\n",
      "[CV]  C=0.23357214690901212, penalty=l1, solver=liblinear, score=0.846, total=   0.2s\n",
      "[CV] C=0.23357214690901212, penalty=l1, solver=liblinear .............\n",
      "[CV]  C=0.23357214690901212, penalty=l1, solver=liblinear, score=0.843, total=   0.2s\n",
      "[CV] C=0.23357214690901212, penalty=l1, solver=liblinear .............\n",
      "[CV]  C=0.23357214690901212, penalty=l1, solver=liblinear, score=0.830, total=   0.1s\n",
      "[CV] C=0.23357214690901212, penalty=l1, solver=liblinear .............\n",
      "[CV]  C=0.23357214690901212, penalty=l1, solver=liblinear, score=0.848, total=   0.2s\n",
      "[CV] C=0.23357214690901212, penalty=l1, solver=newton-cg .............\n",
      "[CV]  C=0.23357214690901212, penalty=l1, solver=newton-cg, score=nan, total=   0.0s\n",
      "[CV] C=0.23357214690901212, penalty=l1, solver=newton-cg .............\n",
      "[CV]  C=0.23357214690901212, penalty=l1, solver=newton-cg, score=nan, total=   0.0s\n",
      "[CV] C=0.23357214690901212, penalty=l1, solver=newton-cg .............\n",
      "[CV]  C=0.23357214690901212, penalty=l1, solver=newton-cg, score=nan, total=   0.0s\n",
      "[CV] C=0.23357214690901212, penalty=l1, solver=newton-cg .............\n",
      "[CV]  C=0.23357214690901212, penalty=l1, solver=newton-cg, score=nan, total=   0.0s\n",
      "[CV] C=0.23357214690901212, penalty=l1, solver=newton-cg .............\n",
      "[CV]  C=0.23357214690901212, penalty=l1, solver=newton-cg, score=nan, total=   0.0s\n",
      "[CV] C=0.23357214690901212, penalty=l2, solver=liblinear .............\n",
      "[CV]  C=0.23357214690901212, penalty=l2, solver=liblinear, score=0.846, total=   0.2s\n",
      "[CV] C=0.23357214690901212, penalty=l2, solver=liblinear .............\n",
      "[CV]  C=0.23357214690901212, penalty=l2, solver=liblinear, score=0.848, total=   0.2s\n",
      "[CV] C=0.23357214690901212, penalty=l2, solver=liblinear .............\n",
      "[CV]  C=0.23357214690901212, penalty=l2, solver=liblinear, score=0.848, total=   0.2s\n",
      "[CV] C=0.23357214690901212, penalty=l2, solver=liblinear .............\n",
      "[CV]  C=0.23357214690901212, penalty=l2, solver=liblinear, score=0.830, total=   0.2s\n",
      "[CV] C=0.23357214690901212, penalty=l2, solver=liblinear .............\n",
      "[CV]  C=0.23357214690901212, penalty=l2, solver=liblinear, score=0.849, total=   0.2s\n",
      "[CV] C=0.23357214690901212, penalty=l2, solver=newton-cg .............\n",
      "[CV]  C=0.23357214690901212, penalty=l2, solver=newton-cg, score=0.847, total=   1.1s\n",
      "[CV] C=0.23357214690901212, penalty=l2, solver=newton-cg .............\n",
      "[CV]  C=0.23357214690901212, penalty=l2, solver=newton-cg, score=0.848, total=   1.2s\n",
      "[CV] C=0.23357214690901212, penalty=l2, solver=newton-cg .............\n",
      "[CV]  C=0.23357214690901212, penalty=l2, solver=newton-cg, score=0.848, total=   1.2s\n",
      "[CV] C=0.23357214690901212, penalty=l2, solver=newton-cg .............\n",
      "[CV]  C=0.23357214690901212, penalty=l2, solver=newton-cg, score=0.830, total=   1.2s\n",
      "[CV] C=0.23357214690901212, penalty=l2, solver=newton-cg .............\n",
      "[CV]  C=0.23357214690901212, penalty=l2, solver=newton-cg, score=0.849, total=   1.1s\n",
      "[CV] C=0.615848211066026, penalty=l1, solver=liblinear ...............\n",
      "[CV]  C=0.615848211066026, penalty=l1, solver=liblinear, score=0.845, total=   0.3s\n",
      "[CV] C=0.615848211066026, penalty=l1, solver=liblinear ...............\n",
      "[CV]  C=0.615848211066026, penalty=l1, solver=liblinear, score=0.847, total=   0.3s\n",
      "[CV] C=0.615848211066026, penalty=l1, solver=liblinear ...............\n",
      "[CV]  C=0.615848211066026, penalty=l1, solver=liblinear, score=0.854, total=   0.3s\n",
      "[CV] C=0.615848211066026, penalty=l1, solver=liblinear ...............\n",
      "[CV]  C=0.615848211066026, penalty=l1, solver=liblinear, score=0.833, total=   0.3s\n",
      "[CV] C=0.615848211066026, penalty=l1, solver=liblinear ...............\n",
      "[CV]  C=0.615848211066026, penalty=l1, solver=liblinear, score=0.853, total=   0.2s\n",
      "[CV] C=0.615848211066026, penalty=l1, solver=newton-cg ...............\n",
      "[CV]  C=0.615848211066026, penalty=l1, solver=newton-cg, score=nan, total=   0.0s\n",
      "[CV] C=0.615848211066026, penalty=l1, solver=newton-cg ...............\n",
      "[CV]  C=0.615848211066026, penalty=l1, solver=newton-cg, score=nan, total=   0.0s\n",
      "[CV] C=0.615848211066026, penalty=l1, solver=newton-cg ...............\n",
      "[CV]  C=0.615848211066026, penalty=l1, solver=newton-cg, score=nan, total=   0.0s\n",
      "[CV] C=0.615848211066026, penalty=l1, solver=newton-cg ...............\n",
      "[CV]  C=0.615848211066026, penalty=l1, solver=newton-cg, score=nan, total=   0.0s\n",
      "[CV] C=0.615848211066026, penalty=l1, solver=newton-cg ...............\n",
      "[CV]  C=0.615848211066026, penalty=l1, solver=newton-cg, score=nan, total=   0.0s\n",
      "[CV] C=0.615848211066026, penalty=l2, solver=liblinear ...............\n",
      "[CV]  C=0.615848211066026, penalty=l2, solver=liblinear, score=0.846, total=   0.2s\n",
      "[CV] C=0.615848211066026, penalty=l2, solver=liblinear ...............\n",
      "[CV]  C=0.615848211066026, penalty=l2, solver=liblinear, score=0.849, total=   0.2s\n",
      "[CV] C=0.615848211066026, penalty=l2, solver=liblinear ...............\n",
      "[CV]  C=0.615848211066026, penalty=l2, solver=liblinear, score=0.854, total=   0.2s\n",
      "[CV] C=0.615848211066026, penalty=l2, solver=liblinear ...............\n",
      "[CV]  C=0.615848211066026, penalty=l2, solver=liblinear, score=0.836, total=   0.2s\n",
      "[CV] C=0.615848211066026, penalty=l2, solver=liblinear ...............\n",
      "[CV]  C=0.615848211066026, penalty=l2, solver=liblinear, score=0.854, total=   0.2s\n",
      "[CV] C=0.615848211066026, penalty=l2, solver=newton-cg ...............\n",
      "[CV]  C=0.615848211066026, penalty=l2, solver=newton-cg, score=0.846, total=   1.3s\n",
      "[CV] C=0.615848211066026, penalty=l2, solver=newton-cg ...............\n",
      "[CV]  C=0.615848211066026, penalty=l2, solver=newton-cg, score=0.849, total=   1.1s\n",
      "[CV] C=0.615848211066026, penalty=l2, solver=newton-cg ...............\n",
      "[CV]  C=0.615848211066026, penalty=l2, solver=newton-cg, score=0.854, total=   1.1s\n",
      "[CV] C=0.615848211066026, penalty=l2, solver=newton-cg ...............\n",
      "[CV]  C=0.615848211066026, penalty=l2, solver=newton-cg, score=0.836, total=   1.1s\n",
      "[CV] C=0.615848211066026, penalty=l2, solver=newton-cg ...............\n",
      "[CV]  C=0.615848211066026, penalty=l2, solver=newton-cg, score=0.854, total=   1.0s\n",
      "[CV] C=1.623776739188721, penalty=l1, solver=liblinear ...............\n",
      "[CV]  C=1.623776739188721, penalty=l1, solver=liblinear, score=0.846, total=   0.4s\n",
      "[CV] C=1.623776739188721, penalty=l1, solver=liblinear ...............\n",
      "[CV]  C=1.623776739188721, penalty=l1, solver=liblinear, score=0.842, total=   0.4s\n",
      "[CV] C=1.623776739188721, penalty=l1, solver=liblinear ...............\n",
      "[CV]  C=1.623776739188721, penalty=l1, solver=liblinear, score=0.852, total=   0.4s\n",
      "[CV] C=1.623776739188721, penalty=l1, solver=liblinear ...............\n",
      "[CV]  C=1.623776739188721, penalty=l1, solver=liblinear, score=0.838, total=   0.4s\n",
      "[CV] C=1.623776739188721, penalty=l1, solver=liblinear ...............\n",
      "[CV]  C=1.623776739188721, penalty=l1, solver=liblinear, score=0.853, total=   0.4s\n",
      "[CV] C=1.623776739188721, penalty=l1, solver=newton-cg ...............\n",
      "[CV]  C=1.623776739188721, penalty=l1, solver=newton-cg, score=nan, total=   0.0s\n",
      "[CV] C=1.623776739188721, penalty=l1, solver=newton-cg ...............\n",
      "[CV]  C=1.623776739188721, penalty=l1, solver=newton-cg, score=nan, total=   0.0s\n",
      "[CV] C=1.623776739188721, penalty=l1, solver=newton-cg ...............\n",
      "[CV]  C=1.623776739188721, penalty=l1, solver=newton-cg, score=nan, total=   0.0s\n",
      "[CV] C=1.623776739188721, penalty=l1, solver=newton-cg ...............\n",
      "[CV]  C=1.623776739188721, penalty=l1, solver=newton-cg, score=nan, total=   0.0s\n",
      "[CV] C=1.623776739188721, penalty=l1, solver=newton-cg ...............\n",
      "[CV]  C=1.623776739188721, penalty=l1, solver=newton-cg, score=nan, total=   0.0s\n",
      "[CV] C=1.623776739188721, penalty=l2, solver=liblinear ...............\n",
      "[CV]  C=1.623776739188721, penalty=l2, solver=liblinear, score=0.846, total=   0.3s\n",
      "[CV] C=1.623776739188721, penalty=l2, solver=liblinear ...............\n",
      "[CV]  C=1.623776739188721, penalty=l2, solver=liblinear, score=0.842, total=   0.2s\n",
      "[CV] C=1.623776739188721, penalty=l2, solver=liblinear ...............\n",
      "[CV]  C=1.623776739188721, penalty=l2, solver=liblinear, score=0.853, total=   0.3s\n",
      "[CV] C=1.623776739188721, penalty=l2, solver=liblinear ...............\n",
      "[CV]  C=1.623776739188721, penalty=l2, solver=liblinear, score=0.840, total=   0.3s\n",
      "[CV] C=1.623776739188721, penalty=l2, solver=liblinear ...............\n",
      "[CV]  C=1.623776739188721, penalty=l2, solver=liblinear, score=0.854, total=   0.3s\n",
      "[CV] C=1.623776739188721, penalty=l2, solver=newton-cg ...............\n",
      "[CV]  C=1.623776739188721, penalty=l2, solver=newton-cg, score=0.846, total=   1.3s\n",
      "[CV] C=1.623776739188721, penalty=l2, solver=newton-cg ...............\n",
      "[CV]  C=1.623776739188721, penalty=l2, solver=newton-cg, score=0.842, total=   1.2s\n",
      "[CV] C=1.623776739188721, penalty=l2, solver=newton-cg ...............\n",
      "[CV]  C=1.623776739188721, penalty=l2, solver=newton-cg, score=0.853, total=   1.2s\n",
      "[CV] C=1.623776739188721, penalty=l2, solver=newton-cg ...............\n",
      "[CV]  C=1.623776739188721, penalty=l2, solver=newton-cg, score=0.840, total=   1.2s\n",
      "[CV] C=1.623776739188721, penalty=l2, solver=newton-cg ...............\n",
      "[CV]  C=1.623776739188721, penalty=l2, solver=newton-cg, score=0.853, total=   1.3s\n",
      "[CV] C=4.281332398719396, penalty=l1, solver=liblinear ...............\n",
      "[CV]  C=4.281332398719396, penalty=l1, solver=liblinear, score=0.845, total=   0.5s\n",
      "[CV] C=4.281332398719396, penalty=l1, solver=liblinear ...............\n",
      "[CV]  C=4.281332398719396, penalty=l1, solver=liblinear, score=0.842, total=   0.5s\n",
      "[CV] C=4.281332398719396, penalty=l1, solver=liblinear ...............\n",
      "[CV]  C=4.281332398719396, penalty=l1, solver=liblinear, score=0.852, total=   0.5s\n",
      "[CV] C=4.281332398719396, penalty=l1, solver=liblinear ...............\n",
      "[CV]  C=4.281332398719396, penalty=l1, solver=liblinear, score=0.836, total=   0.6s\n",
      "[CV] C=4.281332398719396, penalty=l1, solver=liblinear ...............\n",
      "[CV]  C=4.281332398719396, penalty=l1, solver=liblinear, score=0.855, total=   0.6s\n",
      "[CV] C=4.281332398719396, penalty=l1, solver=newton-cg ...............\n",
      "[CV]  C=4.281332398719396, penalty=l1, solver=newton-cg, score=nan, total=   0.0s\n",
      "[CV] C=4.281332398719396, penalty=l1, solver=newton-cg ...............\n",
      "[CV]  C=4.281332398719396, penalty=l1, solver=newton-cg, score=nan, total=   0.0s\n",
      "[CV] C=4.281332398719396, penalty=l1, solver=newton-cg ...............\n",
      "[CV]  C=4.281332398719396, penalty=l1, solver=newton-cg, score=nan, total=   0.0s\n",
      "[CV] C=4.281332398719396, penalty=l1, solver=newton-cg ...............\n",
      "[CV]  C=4.281332398719396, penalty=l1, solver=newton-cg, score=nan, total=   0.0s\n",
      "[CV] C=4.281332398719396, penalty=l1, solver=newton-cg ...............\n",
      "[CV]  C=4.281332398719396, penalty=l1, solver=newton-cg, score=nan, total=   0.0s\n",
      "[CV] C=4.281332398719396, penalty=l2, solver=liblinear ...............\n",
      "[CV]  C=4.281332398719396, penalty=l2, solver=liblinear, score=0.846, total=   0.3s\n",
      "[CV] C=4.281332398719396, penalty=l2, solver=liblinear ...............\n",
      "[CV]  C=4.281332398719396, penalty=l2, solver=liblinear, score=0.843, total=   0.4s\n",
      "[CV] C=4.281332398719396, penalty=l2, solver=liblinear ...............\n",
      "[CV]  C=4.281332398719396, penalty=l2, solver=liblinear, score=0.852, total=   0.3s\n",
      "[CV] C=4.281332398719396, penalty=l2, solver=liblinear ...............\n",
      "[CV]  C=4.281332398719396, penalty=l2, solver=liblinear, score=0.838, total=   0.4s\n",
      "[CV] C=4.281332398719396, penalty=l2, solver=liblinear ...............\n",
      "[CV]  C=4.281332398719396, penalty=l2, solver=liblinear, score=0.855, total=   0.3s\n",
      "[CV] C=4.281332398719396, penalty=l2, solver=newton-cg ...............\n",
      "[CV]  C=4.281332398719396, penalty=l2, solver=newton-cg, score=0.846, total=   1.5s\n",
      "[CV] C=4.281332398719396, penalty=l2, solver=newton-cg ...............\n",
      "[CV]  C=4.281332398719396, penalty=l2, solver=newton-cg, score=0.843, total=   1.3s\n",
      "[CV] C=4.281332398719396, penalty=l2, solver=newton-cg ...............\n",
      "[CV]  C=4.281332398719396, penalty=l2, solver=newton-cg, score=0.853, total=   1.9s\n",
      "[CV] C=4.281332398719396, penalty=l2, solver=newton-cg ...............\n",
      "[CV]  C=4.281332398719396, penalty=l2, solver=newton-cg, score=0.838, total=   1.7s\n",
      "[CV] C=4.281332398719396, penalty=l2, solver=newton-cg ...............\n",
      "[CV]  C=4.281332398719396, penalty=l2, solver=newton-cg, score=0.855, total=   1.5s\n",
      "[CV] C=11.288378916846883, penalty=l1, solver=liblinear ..............\n",
      "[CV]  C=11.288378916846883, penalty=l1, solver=liblinear, score=0.843, total=   0.6s\n",
      "[CV] C=11.288378916846883, penalty=l1, solver=liblinear ..............\n",
      "[CV]  C=11.288378916846883, penalty=l1, solver=liblinear, score=0.840, total=   0.5s\n",
      "[CV] C=11.288378916846883, penalty=l1, solver=liblinear ..............\n",
      "[CV]  C=11.288378916846883, penalty=l1, solver=liblinear, score=0.852, total=   0.6s\n",
      "[CV] C=11.288378916846883, penalty=l1, solver=liblinear ..............\n",
      "[CV]  C=11.288378916846883, penalty=l1, solver=liblinear, score=0.834, total=   0.5s\n",
      "[CV] C=11.288378916846883, penalty=l1, solver=liblinear ..............\n",
      "[CV]  C=11.288378916846883, penalty=l1, solver=liblinear, score=0.854, total=   0.5s\n",
      "[CV] C=11.288378916846883, penalty=l1, solver=newton-cg ..............\n",
      "[CV]  C=11.288378916846883, penalty=l1, solver=newton-cg, score=nan, total=   0.0s\n",
      "[CV] C=11.288378916846883, penalty=l1, solver=newton-cg ..............\n",
      "[CV]  C=11.288378916846883, penalty=l1, solver=newton-cg, score=nan, total=   0.0s\n",
      "[CV] C=11.288378916846883, penalty=l1, solver=newton-cg ..............\n",
      "[CV]  C=11.288378916846883, penalty=l1, solver=newton-cg, score=nan, total=   0.0s\n",
      "[CV] C=11.288378916846883, penalty=l1, solver=newton-cg ..............\n",
      "[CV]  C=11.288378916846883, penalty=l1, solver=newton-cg, score=nan, total=   0.0s\n",
      "[CV] C=11.288378916846883, penalty=l1, solver=newton-cg ..............\n",
      "[CV]  C=11.288378916846883, penalty=l1, solver=newton-cg, score=nan, total=   0.0s\n",
      "[CV] C=11.288378916846883, penalty=l2, solver=liblinear ..............\n",
      "[CV]  C=11.288378916846883, penalty=l2, solver=liblinear, score=0.842, total=   0.3s\n",
      "[CV] C=11.288378916846883, penalty=l2, solver=liblinear ..............\n",
      "[CV]  C=11.288378916846883, penalty=l2, solver=liblinear, score=0.841, total=   0.3s\n",
      "[CV] C=11.288378916846883, penalty=l2, solver=liblinear ..............\n",
      "[CV]  C=11.288378916846883, penalty=l2, solver=liblinear, score=0.851, total=   0.3s\n",
      "[CV] C=11.288378916846883, penalty=l2, solver=liblinear ..............\n",
      "[CV]  C=11.288378916846883, penalty=l2, solver=liblinear, score=0.835, total=   0.4s\n",
      "[CV] C=11.288378916846883, penalty=l2, solver=liblinear ..............\n",
      "[CV]  C=11.288378916846883, penalty=l2, solver=liblinear, score=0.854, total=   0.3s\n",
      "[CV] C=11.288378916846883, penalty=l2, solver=newton-cg ..............\n",
      "[CV]  C=11.288378916846883, penalty=l2, solver=newton-cg, score=0.842, total=   1.6s\n",
      "[CV] C=11.288378916846883, penalty=l2, solver=newton-cg ..............\n",
      "[CV]  C=11.288378916846883, penalty=l2, solver=newton-cg, score=0.841, total=   1.5s\n",
      "[CV] C=11.288378916846883, penalty=l2, solver=newton-cg ..............\n",
      "[CV]  C=11.288378916846883, penalty=l2, solver=newton-cg, score=0.851, total=   1.6s\n",
      "[CV] C=11.288378916846883, penalty=l2, solver=newton-cg ..............\n",
      "[CV]  C=11.288378916846883, penalty=l2, solver=newton-cg, score=0.835, total=   1.4s\n",
      "[CV] C=11.288378916846883, penalty=l2, solver=newton-cg ..............\n",
      "[CV]  C=11.288378916846883, penalty=l2, solver=newton-cg, score=0.854, total=   1.5s\n",
      "[CV] C=29.763514416313132, penalty=l1, solver=liblinear ..............\n",
      "[CV]  C=29.763514416313132, penalty=l1, solver=liblinear, score=0.843, total=   0.6s\n",
      "[CV] C=29.763514416313132, penalty=l1, solver=liblinear ..............\n",
      "[CV]  C=29.763514416313132, penalty=l1, solver=liblinear, score=0.836, total=   0.6s\n",
      "[CV] C=29.763514416313132, penalty=l1, solver=liblinear ..............\n",
      "[CV]  C=29.763514416313132, penalty=l1, solver=liblinear, score=0.849, total=   0.6s\n",
      "[CV] C=29.763514416313132, penalty=l1, solver=liblinear ..............\n",
      "[CV]  C=29.763514416313132, penalty=l1, solver=liblinear, score=0.836, total=   0.5s\n",
      "[CV] C=29.763514416313132, penalty=l1, solver=liblinear ..............\n",
      "[CV]  C=29.763514416313132, penalty=l1, solver=liblinear, score=0.854, total=   0.5s\n",
      "[CV] C=29.763514416313132, penalty=l1, solver=newton-cg ..............\n",
      "[CV]  C=29.763514416313132, penalty=l1, solver=newton-cg, score=nan, total=   0.0s\n",
      "[CV] C=29.763514416313132, penalty=l1, solver=newton-cg ..............\n",
      "[CV]  C=29.763514416313132, penalty=l1, solver=newton-cg, score=nan, total=   0.0s\n",
      "[CV] C=29.763514416313132, penalty=l1, solver=newton-cg ..............\n",
      "[CV]  C=29.763514416313132, penalty=l1, solver=newton-cg, score=nan, total=   0.0s\n",
      "[CV] C=29.763514416313132, penalty=l1, solver=newton-cg ..............\n",
      "[CV]  C=29.763514416313132, penalty=l1, solver=newton-cg, score=nan, total=   0.0s\n",
      "[CV] C=29.763514416313132, penalty=l1, solver=newton-cg ..............\n",
      "[CV]  C=29.763514416313132, penalty=l1, solver=newton-cg, score=nan, total=   0.0s\n",
      "[CV] C=29.763514416313132, penalty=l2, solver=liblinear ..............\n",
      "[CV]  C=29.763514416313132, penalty=l2, solver=liblinear, score=0.843, total=   0.3s\n",
      "[CV] C=29.763514416313132, penalty=l2, solver=liblinear ..............\n",
      "[CV]  C=29.763514416313132, penalty=l2, solver=liblinear, score=0.837, total=   0.4s\n",
      "[CV] C=29.763514416313132, penalty=l2, solver=liblinear ..............\n",
      "[CV]  C=29.763514416313132, penalty=l2, solver=liblinear, score=0.850, total=   0.3s\n",
      "[CV] C=29.763514416313132, penalty=l2, solver=liblinear ..............\n",
      "[CV]  C=29.763514416313132, penalty=l2, solver=liblinear, score=0.836, total=   0.4s\n",
      "[CV] C=29.763514416313132, penalty=l2, solver=liblinear ..............\n",
      "[CV]  C=29.763514416313132, penalty=l2, solver=liblinear, score=0.854, total=   0.3s\n",
      "[CV] C=29.763514416313132, penalty=l2, solver=newton-cg ..............\n",
      "[CV]  C=29.763514416313132, penalty=l2, solver=newton-cg, score=0.843, total=   1.7s\n",
      "[CV] C=29.763514416313132, penalty=l2, solver=newton-cg ..............\n",
      "[CV]  C=29.763514416313132, penalty=l2, solver=newton-cg, score=0.837, total=   1.7s\n",
      "[CV] C=29.763514416313132, penalty=l2, solver=newton-cg ..............\n",
      "[CV]  C=29.763514416313132, penalty=l2, solver=newton-cg, score=0.850, total=   1.7s\n",
      "[CV] C=29.763514416313132, penalty=l2, solver=newton-cg ..............\n",
      "[CV]  C=29.763514416313132, penalty=l2, solver=newton-cg, score=0.836, total=   1.6s\n",
      "[CV] C=29.763514416313132, penalty=l2, solver=newton-cg ..............\n",
      "[CV]  C=29.763514416313132, penalty=l2, solver=newton-cg, score=0.854, total=   1.5s\n",
      "[CV] C=78.47599703514607, penalty=l1, solver=liblinear ...............\n",
      "[CV]  C=78.47599703514607, penalty=l1, solver=liblinear, score=0.841, total=   0.6s\n",
      "[CV] C=78.47599703514607, penalty=l1, solver=liblinear ...............\n",
      "[CV]  C=78.47599703514607, penalty=l1, solver=liblinear, score=0.836, total=   0.6s\n",
      "[CV] C=78.47599703514607, penalty=l1, solver=liblinear ...............\n",
      "[CV]  C=78.47599703514607, penalty=l1, solver=liblinear, score=0.848, total=   0.6s\n",
      "[CV] C=78.47599703514607, penalty=l1, solver=liblinear ...............\n",
      "[CV]  C=78.47599703514607, penalty=l1, solver=liblinear, score=0.837, total=   0.5s\n",
      "[CV] C=78.47599703514607, penalty=l1, solver=liblinear ...............\n",
      "[CV]  C=78.47599703514607, penalty=l1, solver=liblinear, score=0.853, total=   0.5s\n",
      "[CV] C=78.47599703514607, penalty=l1, solver=newton-cg ...............\n",
      "[CV]  C=78.47599703514607, penalty=l1, solver=newton-cg, score=nan, total=   0.0s\n",
      "[CV] C=78.47599703514607, penalty=l1, solver=newton-cg ...............\n",
      "[CV]  C=78.47599703514607, penalty=l1, solver=newton-cg, score=nan, total=   0.0s\n",
      "[CV] C=78.47599703514607, penalty=l1, solver=newton-cg ...............\n",
      "[CV]  C=78.47599703514607, penalty=l1, solver=newton-cg, score=nan, total=   0.0s\n",
      "[CV] C=78.47599703514607, penalty=l1, solver=newton-cg ...............\n",
      "[CV]  C=78.47599703514607, penalty=l1, solver=newton-cg, score=nan, total=   0.0s\n",
      "[CV] C=78.47599703514607, penalty=l1, solver=newton-cg ...............\n",
      "[CV]  C=78.47599703514607, penalty=l1, solver=newton-cg, score=nan, total=   0.0s\n",
      "[CV] C=78.47599703514607, penalty=l2, solver=liblinear ...............\n",
      "[CV]  C=78.47599703514607, penalty=l2, solver=liblinear, score=0.842, total=   0.3s\n",
      "[CV] C=78.47599703514607, penalty=l2, solver=liblinear ...............\n",
      "[CV]  C=78.47599703514607, penalty=l2, solver=liblinear, score=0.836, total=   0.4s\n",
      "[CV] C=78.47599703514607, penalty=l2, solver=liblinear ...............\n",
      "[CV]  C=78.47599703514607, penalty=l2, solver=liblinear, score=0.849, total=   0.3s\n",
      "[CV] C=78.47599703514607, penalty=l2, solver=liblinear ...............\n",
      "[CV]  C=78.47599703514607, penalty=l2, solver=liblinear, score=0.837, total=   0.4s\n",
      "[CV] C=78.47599703514607, penalty=l2, solver=liblinear ...............\n",
      "[CV]  C=78.47599703514607, penalty=l2, solver=liblinear, score=0.854, total=   0.4s\n",
      "[CV] C=78.47599703514607, penalty=l2, solver=newton-cg ...............\n",
      "[CV]  C=78.47599703514607, penalty=l2, solver=newton-cg, score=0.842, total=   1.8s\n",
      "[CV] C=78.47599703514607, penalty=l2, solver=newton-cg ...............\n",
      "[CV]  C=78.47599703514607, penalty=l2, solver=newton-cg, score=0.836, total=   2.0s\n",
      "[CV] C=78.47599703514607, penalty=l2, solver=newton-cg ...............\n",
      "[CV]  C=78.47599703514607, penalty=l2, solver=newton-cg, score=0.849, total=   1.7s\n",
      "[CV] C=78.47599703514607, penalty=l2, solver=newton-cg ...............\n",
      "[CV]  C=78.47599703514607, penalty=l2, solver=newton-cg, score=0.838, total=   1.7s\n",
      "[CV] C=78.47599703514607, penalty=l2, solver=newton-cg ...............\n",
      "[CV]  C=78.47599703514607, penalty=l2, solver=newton-cg, score=0.854, total=   2.0s\n",
      "[CV] C=206.913808111479, penalty=l1, solver=liblinear ................\n",
      "[CV]  C=206.913808111479, penalty=l1, solver=liblinear, score=0.841, total=   0.6s\n",
      "[CV] C=206.913808111479, penalty=l1, solver=liblinear ................\n",
      "[CV]  C=206.913808111479, penalty=l1, solver=liblinear, score=0.836, total=   0.6s\n",
      "[CV] C=206.913808111479, penalty=l1, solver=liblinear ................\n",
      "[CV]  C=206.913808111479, penalty=l1, solver=liblinear, score=0.848, total=   0.6s\n",
      "[CV] C=206.913808111479, penalty=l1, solver=liblinear ................\n",
      "[CV]  C=206.913808111479, penalty=l1, solver=liblinear, score=0.837, total=   0.5s\n",
      "[CV] C=206.913808111479, penalty=l1, solver=liblinear ................\n",
      "[CV]  C=206.913808111479, penalty=l1, solver=liblinear, score=0.853, total=   0.5s\n",
      "[CV] C=206.913808111479, penalty=l1, solver=newton-cg ................\n",
      "[CV]  C=206.913808111479, penalty=l1, solver=newton-cg, score=nan, total=   0.0s\n",
      "[CV] C=206.913808111479, penalty=l1, solver=newton-cg ................\n",
      "[CV]  C=206.913808111479, penalty=l1, solver=newton-cg, score=nan, total=   0.0s\n",
      "[CV] C=206.913808111479, penalty=l1, solver=newton-cg ................\n",
      "[CV]  C=206.913808111479, penalty=l1, solver=newton-cg, score=nan, total=   0.0s\n",
      "[CV] C=206.913808111479, penalty=l1, solver=newton-cg ................\n",
      "[CV]  C=206.913808111479, penalty=l1, solver=newton-cg, score=nan, total=   0.0s\n",
      "[CV] C=206.913808111479, penalty=l1, solver=newton-cg ................\n",
      "[CV]  C=206.913808111479, penalty=l1, solver=newton-cg, score=nan, total=   0.0s\n",
      "[CV] C=206.913808111479, penalty=l2, solver=liblinear ................\n",
      "[CV]  C=206.913808111479, penalty=l2, solver=liblinear, score=0.841, total=   0.3s\n",
      "[CV] C=206.913808111479, penalty=l2, solver=liblinear ................\n",
      "[CV]  C=206.913808111479, penalty=l2, solver=liblinear, score=0.836, total=   0.5s\n",
      "[CV] C=206.913808111479, penalty=l2, solver=liblinear ................\n",
      "[CV]  C=206.913808111479, penalty=l2, solver=liblinear, score=0.849, total=   0.4s\n",
      "[CV] C=206.913808111479, penalty=l2, solver=liblinear ................\n",
      "[CV]  C=206.913808111479, penalty=l2, solver=liblinear, score=0.836, total=   0.3s\n",
      "[CV] C=206.913808111479, penalty=l2, solver=liblinear ................\n",
      "[CV]  C=206.913808111479, penalty=l2, solver=liblinear, score=0.853, total=   0.4s\n",
      "[CV] C=206.913808111479, penalty=l2, solver=newton-cg ................\n",
      "[CV]  C=206.913808111479, penalty=l2, solver=newton-cg, score=0.841, total=   1.8s\n",
      "[CV] C=206.913808111479, penalty=l2, solver=newton-cg ................\n",
      "[CV]  C=206.913808111479, penalty=l2, solver=newton-cg, score=0.836, total=   2.0s\n",
      "[CV] C=206.913808111479, penalty=l2, solver=newton-cg ................\n",
      "[CV]  C=206.913808111479, penalty=l2, solver=newton-cg, score=0.849, total=   2.0s\n",
      "[CV] C=206.913808111479, penalty=l2, solver=newton-cg ................\n",
      "[CV]  C=206.913808111479, penalty=l2, solver=newton-cg, score=0.837, total=   1.5s\n",
      "[CV] C=206.913808111479, penalty=l2, solver=newton-cg ................\n",
      "[CV]  C=206.913808111479, penalty=l2, solver=newton-cg, score=0.853, total=   2.1s\n",
      "[CV] C=545.5594781168514, penalty=l1, solver=liblinear ...............\n",
      "[CV]  C=545.5594781168514, penalty=l1, solver=liblinear, score=0.841, total=   0.6s\n",
      "[CV] C=545.5594781168514, penalty=l1, solver=liblinear ...............\n",
      "[CV]  C=545.5594781168514, penalty=l1, solver=liblinear, score=0.836, total=   0.6s\n",
      "[CV] C=545.5594781168514, penalty=l1, solver=liblinear ...............\n",
      "[CV]  C=545.5594781168514, penalty=l1, solver=liblinear, score=0.848, total=   0.6s\n",
      "[CV] C=545.5594781168514, penalty=l1, solver=liblinear ...............\n",
      "[CV]  C=545.5594781168514, penalty=l1, solver=liblinear, score=0.837, total=   0.6s\n",
      "[CV] C=545.5594781168514, penalty=l1, solver=liblinear ...............\n",
      "[CV]  C=545.5594781168514, penalty=l1, solver=liblinear, score=0.853, total=   0.6s\n",
      "[CV] C=545.5594781168514, penalty=l1, solver=newton-cg ...............\n",
      "[CV]  C=545.5594781168514, penalty=l1, solver=newton-cg, score=nan, total=   0.0s\n",
      "[CV] C=545.5594781168514, penalty=l1, solver=newton-cg ...............\n",
      "[CV]  C=545.5594781168514, penalty=l1, solver=newton-cg, score=nan, total=   0.0s\n",
      "[CV] C=545.5594781168514, penalty=l1, solver=newton-cg ...............\n",
      "[CV]  C=545.5594781168514, penalty=l1, solver=newton-cg, score=nan, total=   0.0s\n",
      "[CV] C=545.5594781168514, penalty=l1, solver=newton-cg ...............\n",
      "[CV]  C=545.5594781168514, penalty=l1, solver=newton-cg, score=nan, total=   0.0s\n",
      "[CV] C=545.5594781168514, penalty=l1, solver=newton-cg ...............\n",
      "[CV]  C=545.5594781168514, penalty=l1, solver=newton-cg, score=nan, total=   0.0s\n",
      "[CV] C=545.5594781168514, penalty=l2, solver=liblinear ...............\n",
      "[CV]  C=545.5594781168514, penalty=l2, solver=liblinear, score=0.841, total=   0.3s\n",
      "[CV] C=545.5594781168514, penalty=l2, solver=liblinear ...............\n",
      "[CV]  C=545.5594781168514, penalty=l2, solver=liblinear, score=0.836, total=   0.4s\n",
      "[CV] C=545.5594781168514, penalty=l2, solver=liblinear ...............\n",
      "[CV]  C=545.5594781168514, penalty=l2, solver=liblinear, score=0.848, total=   0.4s\n",
      "[CV] C=545.5594781168514, penalty=l2, solver=liblinear ...............\n",
      "[CV]  C=545.5594781168514, penalty=l2, solver=liblinear, score=0.836, total=   0.3s\n",
      "[CV] C=545.5594781168514, penalty=l2, solver=liblinear ...............\n",
      "[CV]  C=545.5594781168514, penalty=l2, solver=liblinear, score=0.853, total=   0.5s\n",
      "[CV] C=545.5594781168514, penalty=l2, solver=newton-cg ...............\n",
      "[CV]  C=545.5594781168514, penalty=l2, solver=newton-cg, score=0.841, total=   1.8s\n",
      "[CV] C=545.5594781168514, penalty=l2, solver=newton-cg ...............\n",
      "[CV]  C=545.5594781168514, penalty=l2, solver=newton-cg, score=0.836, total=   2.1s\n",
      "[CV] C=545.5594781168514, penalty=l2, solver=newton-cg ...............\n",
      "[CV]  C=545.5594781168514, penalty=l2, solver=newton-cg, score=0.848, total=   1.8s\n",
      "[CV] C=545.5594781168514, penalty=l2, solver=newton-cg ...............\n",
      "[CV]  C=545.5594781168514, penalty=l2, solver=newton-cg, score=0.837, total=   1.7s\n",
      "[CV] C=545.5594781168514, penalty=l2, solver=newton-cg ...............\n",
      "[CV]  C=545.5594781168514, penalty=l2, solver=newton-cg, score=0.853, total=   1.9s\n",
      "[CV] C=1438.44988828766, penalty=l1, solver=liblinear ................\n",
      "[CV]  C=1438.44988828766, penalty=l1, solver=liblinear, score=0.841, total=   0.6s\n",
      "[CV] C=1438.44988828766, penalty=l1, solver=liblinear ................\n",
      "[CV]  C=1438.44988828766, penalty=l1, solver=liblinear, score=0.836, total=   0.6s\n",
      "[CV] C=1438.44988828766, penalty=l1, solver=liblinear ................\n",
      "[CV]  C=1438.44988828766, penalty=l1, solver=liblinear, score=0.848, total=   0.6s\n",
      "[CV] C=1438.44988828766, penalty=l1, solver=liblinear ................\n",
      "[CV]  C=1438.44988828766, penalty=l1, solver=liblinear, score=0.837, total=   0.6s\n",
      "[CV] C=1438.44988828766, penalty=l1, solver=liblinear ................\n",
      "[CV]  C=1438.44988828766, penalty=l1, solver=liblinear, score=0.853, total=   0.6s\n",
      "[CV] C=1438.44988828766, penalty=l1, solver=newton-cg ................\n",
      "[CV]  C=1438.44988828766, penalty=l1, solver=newton-cg, score=nan, total=   0.0s\n",
      "[CV] C=1438.44988828766, penalty=l1, solver=newton-cg ................\n",
      "[CV]  C=1438.44988828766, penalty=l1, solver=newton-cg, score=nan, total=   0.0s\n",
      "[CV] C=1438.44988828766, penalty=l1, solver=newton-cg ................\n",
      "[CV]  C=1438.44988828766, penalty=l1, solver=newton-cg, score=nan, total=   0.0s\n",
      "[CV] C=1438.44988828766, penalty=l1, solver=newton-cg ................\n",
      "[CV]  C=1438.44988828766, penalty=l1, solver=newton-cg, score=nan, total=   0.0s\n",
      "[CV] C=1438.44988828766, penalty=l1, solver=newton-cg ................\n",
      "[CV]  C=1438.44988828766, penalty=l1, solver=newton-cg, score=nan, total=   0.0s\n",
      "[CV] C=1438.44988828766, penalty=l2, solver=liblinear ................\n",
      "[CV]  C=1438.44988828766, penalty=l2, solver=liblinear, score=0.841, total=   0.4s\n",
      "[CV] C=1438.44988828766, penalty=l2, solver=liblinear ................\n",
      "[CV]  C=1438.44988828766, penalty=l2, solver=liblinear, score=0.836, total=   0.4s\n",
      "[CV] C=1438.44988828766, penalty=l2, solver=liblinear ................\n",
      "[CV]  C=1438.44988828766, penalty=l2, solver=liblinear, score=0.848, total=   0.4s\n",
      "[CV] C=1438.44988828766, penalty=l2, solver=liblinear ................\n",
      "[CV]  C=1438.44988828766, penalty=l2, solver=liblinear, score=0.836, total=   0.3s\n",
      "[CV] C=1438.44988828766, penalty=l2, solver=liblinear ................\n",
      "[CV]  C=1438.44988828766, penalty=l2, solver=liblinear, score=0.853, total=   0.5s\n",
      "[CV] C=1438.44988828766, penalty=l2, solver=newton-cg ................\n",
      "[CV]  C=1438.44988828766, penalty=l2, solver=newton-cg, score=0.841, total=   1.8s\n",
      "[CV] C=1438.44988828766, penalty=l2, solver=newton-cg ................\n",
      "[CV]  C=1438.44988828766, penalty=l2, solver=newton-cg, score=0.836, total=   2.0s\n",
      "[CV] C=1438.44988828766, penalty=l2, solver=newton-cg ................\n",
      "[CV]  C=1438.44988828766, penalty=l2, solver=newton-cg, score=0.848, total=   2.1s\n",
      "[CV] C=1438.44988828766, penalty=l2, solver=newton-cg ................\n",
      "[CV]  C=1438.44988828766, penalty=l2, solver=newton-cg, score=0.837, total=   1.8s\n",
      "[CV] C=1438.44988828766, penalty=l2, solver=newton-cg ................\n",
      "[CV]  C=1438.44988828766, penalty=l2, solver=newton-cg, score=0.853, total=   2.0s\n",
      "[CV] C=3792.690190732246, penalty=l1, solver=liblinear ...............\n",
      "[CV]  C=3792.690190732246, penalty=l1, solver=liblinear, score=0.841, total=   0.5s\n",
      "[CV] C=3792.690190732246, penalty=l1, solver=liblinear ...............\n",
      "[CV]  C=3792.690190732246, penalty=l1, solver=liblinear, score=0.836, total=   0.6s\n",
      "[CV] C=3792.690190732246, penalty=l1, solver=liblinear ...............\n",
      "[CV]  C=3792.690190732246, penalty=l1, solver=liblinear, score=0.848, total=   0.6s\n",
      "[CV] C=3792.690190732246, penalty=l1, solver=liblinear ...............\n",
      "[CV]  C=3792.690190732246, penalty=l1, solver=liblinear, score=0.837, total=   0.5s\n",
      "[CV] C=3792.690190732246, penalty=l1, solver=liblinear ...............\n",
      "[CV]  C=3792.690190732246, penalty=l1, solver=liblinear, score=0.853, total=   0.5s\n",
      "[CV] C=3792.690190732246, penalty=l1, solver=newton-cg ...............\n",
      "[CV]  C=3792.690190732246, penalty=l1, solver=newton-cg, score=nan, total=   0.0s\n",
      "[CV] C=3792.690190732246, penalty=l1, solver=newton-cg ...............\n",
      "[CV]  C=3792.690190732246, penalty=l1, solver=newton-cg, score=nan, total=   0.0s\n",
      "[CV] C=3792.690190732246, penalty=l1, solver=newton-cg ...............\n",
      "[CV]  C=3792.690190732246, penalty=l1, solver=newton-cg, score=nan, total=   0.0s\n",
      "[CV] C=3792.690190732246, penalty=l1, solver=newton-cg ...............\n",
      "[CV]  C=3792.690190732246, penalty=l1, solver=newton-cg, score=nan, total=   0.0s\n",
      "[CV] C=3792.690190732246, penalty=l1, solver=newton-cg ...............\n",
      "[CV]  C=3792.690190732246, penalty=l1, solver=newton-cg, score=nan, total=   0.0s\n",
      "[CV] C=3792.690190732246, penalty=l2, solver=liblinear ...............\n",
      "[CV]  C=3792.690190732246, penalty=l2, solver=liblinear, score=0.841, total=   0.4s\n",
      "[CV] C=3792.690190732246, penalty=l2, solver=liblinear ...............\n",
      "[CV]  C=3792.690190732246, penalty=l2, solver=liblinear, score=0.836, total=   0.4s\n",
      "[CV] C=3792.690190732246, penalty=l2, solver=liblinear ...............\n",
      "[CV]  C=3792.690190732246, penalty=l2, solver=liblinear, score=0.848, total=   0.4s\n",
      "[CV] C=3792.690190732246, penalty=l2, solver=liblinear ...............\n",
      "[CV]  C=3792.690190732246, penalty=l2, solver=liblinear, score=0.836, total=   0.3s\n",
      "[CV] C=3792.690190732246, penalty=l2, solver=liblinear ...............\n",
      "[CV]  C=3792.690190732246, penalty=l2, solver=liblinear, score=0.853, total=   0.4s\n",
      "[CV] C=3792.690190732246, penalty=l2, solver=newton-cg ...............\n",
      "[CV]  C=3792.690190732246, penalty=l2, solver=newton-cg, score=0.841, total=   1.8s\n",
      "[CV] C=3792.690190732246, penalty=l2, solver=newton-cg ...............\n",
      "[CV]  C=3792.690190732246, penalty=l2, solver=newton-cg, score=0.836, total=   2.0s\n",
      "[CV] C=3792.690190732246, penalty=l2, solver=newton-cg ...............\n",
      "[CV]  C=3792.690190732246, penalty=l2, solver=newton-cg, score=0.848, total=   1.8s\n",
      "[CV] C=3792.690190732246, penalty=l2, solver=newton-cg ...............\n",
      "[CV]  C=3792.690190732246, penalty=l2, solver=newton-cg, score=0.837, total=   1.9s\n",
      "[CV] C=3792.690190732246, penalty=l2, solver=newton-cg ...............\n",
      "[CV]  C=3792.690190732246, penalty=l2, solver=newton-cg, score=0.853, total=   2.2s\n",
      "[CV] C=10000.0, penalty=l1, solver=liblinear .........................\n",
      "[CV]  C=10000.0, penalty=l1, solver=liblinear, score=0.841, total=   0.6s\n",
      "[CV] C=10000.0, penalty=l1, solver=liblinear .........................\n",
      "[CV]  C=10000.0, penalty=l1, solver=liblinear, score=0.836, total=   0.5s\n",
      "[CV] C=10000.0, penalty=l1, solver=liblinear .........................\n",
      "[CV]  C=10000.0, penalty=l1, solver=liblinear, score=0.848, total=   0.6s\n",
      "[CV] C=10000.0, penalty=l1, solver=liblinear .........................\n",
      "[CV]  C=10000.0, penalty=l1, solver=liblinear, score=0.837, total=   0.6s\n",
      "[CV] C=10000.0, penalty=l1, solver=liblinear .........................\n",
      "[CV]  C=10000.0, penalty=l1, solver=liblinear, score=0.853, total=   0.5s\n",
      "[CV] C=10000.0, penalty=l1, solver=newton-cg .........................\n",
      "[CV]  C=10000.0, penalty=l1, solver=newton-cg, score=nan, total=   0.0s\n",
      "[CV] C=10000.0, penalty=l1, solver=newton-cg .........................\n",
      "[CV]  C=10000.0, penalty=l1, solver=newton-cg, score=nan, total=   0.0s\n",
      "[CV] C=10000.0, penalty=l1, solver=newton-cg .........................\n",
      "[CV]  C=10000.0, penalty=l1, solver=newton-cg, score=nan, total=   0.0s\n",
      "[CV] C=10000.0, penalty=l1, solver=newton-cg .........................\n",
      "[CV]  C=10000.0, penalty=l1, solver=newton-cg, score=nan, total=   0.0s\n",
      "[CV] C=10000.0, penalty=l1, solver=newton-cg .........................\n",
      "[CV]  C=10000.0, penalty=l1, solver=newton-cg, score=nan, total=   0.0s\n",
      "[CV] C=10000.0, penalty=l2, solver=liblinear .........................\n",
      "[CV]  C=10000.0, penalty=l2, solver=liblinear, score=0.841, total=   0.3s\n",
      "[CV] C=10000.0, penalty=l2, solver=liblinear .........................\n",
      "[CV]  C=10000.0, penalty=l2, solver=liblinear, score=0.836, total=   0.4s\n",
      "[CV] C=10000.0, penalty=l2, solver=liblinear .........................\n",
      "[CV]  C=10000.0, penalty=l2, solver=liblinear, score=0.848, total=   0.4s\n",
      "[CV] C=10000.0, penalty=l2, solver=liblinear .........................\n",
      "[CV]  C=10000.0, penalty=l2, solver=liblinear, score=0.836, total=   0.3s\n",
      "[CV] C=10000.0, penalty=l2, solver=liblinear .........................\n",
      "[CV]  C=10000.0, penalty=l2, solver=liblinear, score=0.853, total=   0.4s\n",
      "[CV] C=10000.0, penalty=l2, solver=newton-cg .........................\n",
      "[CV]  C=10000.0, penalty=l2, solver=newton-cg, score=0.841, total=   1.8s\n",
      "[CV] C=10000.0, penalty=l2, solver=newton-cg .........................\n",
      "[CV]  C=10000.0, penalty=l2, solver=newton-cg, score=0.836, total=   2.0s\n",
      "[CV] C=10000.0, penalty=l2, solver=newton-cg .........................\n",
      "[CV]  C=10000.0, penalty=l2, solver=newton-cg, score=0.848, total=   1.8s\n",
      "[CV] C=10000.0, penalty=l2, solver=newton-cg .........................\n",
      "[CV]  C=10000.0, penalty=l2, solver=newton-cg, score=0.837, total=   1.7s\n",
      "[CV] C=10000.0, penalty=l2, solver=newton-cg .........................\n",
      "[CV]  C=10000.0, penalty=l2, solver=newton-cg, score=0.853, total=   2.4s\n"
     ]
    },
    {
     "name": "stderr",
     "output_type": "stream",
     "text": [
      "[Parallel(n_jobs=1)]: Using backend SequentialBackend with 1 concurrent workers.\n",
      "[Parallel(n_jobs=1)]: Done   1 out of   1 | elapsed:    0.1s remaining:    0.0s\n",
      "[Parallel(n_jobs=1)]: Done   2 out of   2 | elapsed:    0.2s remaining:    0.0s\n",
      "c:\\users\\torst\\anaconda3\\envs\\course2groupproject\\lib\\site-packages\\sklearn\\model_selection\\_validation.py:552: FitFailedWarning: Estimator fit failed. The score on this train-test partition for these parameters will be set to nan. Details: \n",
      "Traceback (most recent call last):\n",
      "  File \"c:\\users\\torst\\anaconda3\\envs\\course2groupproject\\lib\\site-packages\\sklearn\\model_selection\\_validation.py\", line 531, in _fit_and_score\n",
      "    estimator.fit(X_train, y_train, **fit_params)\n",
      "  File \"c:\\users\\torst\\anaconda3\\envs\\course2groupproject\\lib\\site-packages\\sklearn\\linear_model\\_logistic.py\", line 1304, in fit\n",
      "    solver = _check_solver(self.solver, self.penalty, self.dual)\n",
      "  File \"c:\\users\\torst\\anaconda3\\envs\\course2groupproject\\lib\\site-packages\\sklearn\\linear_model\\_logistic.py\", line 443, in _check_solver\n",
      "    \"got %s penalty.\" % (solver, penalty))\n",
      "ValueError: Solver newton-cg supports only 'l2' or 'none' penalties, got l1 penalty.\n",
      "\n",
      "  FitFailedWarning)\n",
      "c:\\users\\torst\\anaconda3\\envs\\course2groupproject\\lib\\site-packages\\sklearn\\model_selection\\_validation.py:552: FitFailedWarning: Estimator fit failed. The score on this train-test partition for these parameters will be set to nan. Details: \n",
      "Traceback (most recent call last):\n",
      "  File \"c:\\users\\torst\\anaconda3\\envs\\course2groupproject\\lib\\site-packages\\sklearn\\model_selection\\_validation.py\", line 531, in _fit_and_score\n",
      "    estimator.fit(X_train, y_train, **fit_params)\n",
      "  File \"c:\\users\\torst\\anaconda3\\envs\\course2groupproject\\lib\\site-packages\\sklearn\\linear_model\\_logistic.py\", line 1304, in fit\n",
      "    solver = _check_solver(self.solver, self.penalty, self.dual)\n",
      "  File \"c:\\users\\torst\\anaconda3\\envs\\course2groupproject\\lib\\site-packages\\sklearn\\linear_model\\_logistic.py\", line 443, in _check_solver\n",
      "    \"got %s penalty.\" % (solver, penalty))\n",
      "ValueError: Solver newton-cg supports only 'l2' or 'none' penalties, got l1 penalty.\n",
      "\n",
      "  FitFailedWarning)\n",
      "c:\\users\\torst\\anaconda3\\envs\\course2groupproject\\lib\\site-packages\\sklearn\\model_selection\\_validation.py:552: FitFailedWarning: Estimator fit failed. The score on this train-test partition for these parameters will be set to nan. Details: \n",
      "Traceback (most recent call last):\n",
      "  File \"c:\\users\\torst\\anaconda3\\envs\\course2groupproject\\lib\\site-packages\\sklearn\\model_selection\\_validation.py\", line 531, in _fit_and_score\n",
      "    estimator.fit(X_train, y_train, **fit_params)\n",
      "  File \"c:\\users\\torst\\anaconda3\\envs\\course2groupproject\\lib\\site-packages\\sklearn\\linear_model\\_logistic.py\", line 1304, in fit\n",
      "    solver = _check_solver(self.solver, self.penalty, self.dual)\n",
      "  File \"c:\\users\\torst\\anaconda3\\envs\\course2groupproject\\lib\\site-packages\\sklearn\\linear_model\\_logistic.py\", line 443, in _check_solver\n",
      "    \"got %s penalty.\" % (solver, penalty))\n",
      "ValueError: Solver newton-cg supports only 'l2' or 'none' penalties, got l1 penalty.\n",
      "\n",
      "  FitFailedWarning)\n",
      "c:\\users\\torst\\anaconda3\\envs\\course2groupproject\\lib\\site-packages\\sklearn\\model_selection\\_validation.py:552: FitFailedWarning: Estimator fit failed. The score on this train-test partition for these parameters will be set to nan. Details: \n",
      "Traceback (most recent call last):\n",
      "  File \"c:\\users\\torst\\anaconda3\\envs\\course2groupproject\\lib\\site-packages\\sklearn\\model_selection\\_validation.py\", line 531, in _fit_and_score\n",
      "    estimator.fit(X_train, y_train, **fit_params)\n",
      "  File \"c:\\users\\torst\\anaconda3\\envs\\course2groupproject\\lib\\site-packages\\sklearn\\linear_model\\_logistic.py\", line 1304, in fit\n",
      "    solver = _check_solver(self.solver, self.penalty, self.dual)\n",
      "  File \"c:\\users\\torst\\anaconda3\\envs\\course2groupproject\\lib\\site-packages\\sklearn\\linear_model\\_logistic.py\", line 443, in _check_solver\n",
      "    \"got %s penalty.\" % (solver, penalty))\n",
      "ValueError: Solver newton-cg supports only 'l2' or 'none' penalties, got l1 penalty.\n",
      "\n",
      "  FitFailedWarning)\n",
      "c:\\users\\torst\\anaconda3\\envs\\course2groupproject\\lib\\site-packages\\sklearn\\model_selection\\_validation.py:552: FitFailedWarning: Estimator fit failed. The score on this train-test partition for these parameters will be set to nan. Details: \n",
      "Traceback (most recent call last):\n",
      "  File \"c:\\users\\torst\\anaconda3\\envs\\course2groupproject\\lib\\site-packages\\sklearn\\model_selection\\_validation.py\", line 531, in _fit_and_score\n",
      "    estimator.fit(X_train, y_train, **fit_params)\n",
      "  File \"c:\\users\\torst\\anaconda3\\envs\\course2groupproject\\lib\\site-packages\\sklearn\\linear_model\\_logistic.py\", line 1304, in fit\n",
      "    solver = _check_solver(self.solver, self.penalty, self.dual)\n",
      "  File \"c:\\users\\torst\\anaconda3\\envs\\course2groupproject\\lib\\site-packages\\sklearn\\linear_model\\_logistic.py\", line 443, in _check_solver\n",
      "    \"got %s penalty.\" % (solver, penalty))\n",
      "ValueError: Solver newton-cg supports only 'l2' or 'none' penalties, got l1 penalty.\n",
      "\n",
      "  FitFailedWarning)\n",
      "c:\\users\\torst\\anaconda3\\envs\\course2groupproject\\lib\\site-packages\\sklearn\\model_selection\\_validation.py:552: FitFailedWarning: Estimator fit failed. The score on this train-test partition for these parameters will be set to nan. Details: \n",
      "Traceback (most recent call last):\n",
      "  File \"c:\\users\\torst\\anaconda3\\envs\\course2groupproject\\lib\\site-packages\\sklearn\\model_selection\\_validation.py\", line 531, in _fit_and_score\n",
      "    estimator.fit(X_train, y_train, **fit_params)\n",
      "  File \"c:\\users\\torst\\anaconda3\\envs\\course2groupproject\\lib\\site-packages\\sklearn\\linear_model\\_logistic.py\", line 1304, in fit\n",
      "    solver = _check_solver(self.solver, self.penalty, self.dual)\n",
      "  File \"c:\\users\\torst\\anaconda3\\envs\\course2groupproject\\lib\\site-packages\\sklearn\\linear_model\\_logistic.py\", line 443, in _check_solver\n",
      "    \"got %s penalty.\" % (solver, penalty))\n",
      "ValueError: Solver newton-cg supports only 'l2' or 'none' penalties, got l1 penalty.\n",
      "\n",
      "  FitFailedWarning)\n",
      "c:\\users\\torst\\anaconda3\\envs\\course2groupproject\\lib\\site-packages\\sklearn\\model_selection\\_validation.py:552: FitFailedWarning: Estimator fit failed. The score on this train-test partition for these parameters will be set to nan. Details: \n",
      "Traceback (most recent call last):\n",
      "  File \"c:\\users\\torst\\anaconda3\\envs\\course2groupproject\\lib\\site-packages\\sklearn\\model_selection\\_validation.py\", line 531, in _fit_and_score\n",
      "    estimator.fit(X_train, y_train, **fit_params)\n",
      "  File \"c:\\users\\torst\\anaconda3\\envs\\course2groupproject\\lib\\site-packages\\sklearn\\linear_model\\_logistic.py\", line 1304, in fit\n",
      "    solver = _check_solver(self.solver, self.penalty, self.dual)\n",
      "  File \"c:\\users\\torst\\anaconda3\\envs\\course2groupproject\\lib\\site-packages\\sklearn\\linear_model\\_logistic.py\", line 443, in _check_solver\n",
      "    \"got %s penalty.\" % (solver, penalty))\n",
      "ValueError: Solver newton-cg supports only 'l2' or 'none' penalties, got l1 penalty.\n",
      "\n",
      "  FitFailedWarning)\n",
      "c:\\users\\torst\\anaconda3\\envs\\course2groupproject\\lib\\site-packages\\sklearn\\model_selection\\_validation.py:552: FitFailedWarning: Estimator fit failed. The score on this train-test partition for these parameters will be set to nan. Details: \n",
      "Traceback (most recent call last):\n",
      "  File \"c:\\users\\torst\\anaconda3\\envs\\course2groupproject\\lib\\site-packages\\sklearn\\model_selection\\_validation.py\", line 531, in _fit_and_score\n",
      "    estimator.fit(X_train, y_train, **fit_params)\n",
      "  File \"c:\\users\\torst\\anaconda3\\envs\\course2groupproject\\lib\\site-packages\\sklearn\\linear_model\\_logistic.py\", line 1304, in fit\n",
      "    solver = _check_solver(self.solver, self.penalty, self.dual)\n",
      "  File \"c:\\users\\torst\\anaconda3\\envs\\course2groupproject\\lib\\site-packages\\sklearn\\linear_model\\_logistic.py\", line 443, in _check_solver\n",
      "    \"got %s penalty.\" % (solver, penalty))\n",
      "ValueError: Solver newton-cg supports only 'l2' or 'none' penalties, got l1 penalty.\n",
      "\n",
      "  FitFailedWarning)\n",
      "c:\\users\\torst\\anaconda3\\envs\\course2groupproject\\lib\\site-packages\\sklearn\\model_selection\\_validation.py:552: FitFailedWarning: Estimator fit failed. The score on this train-test partition for these parameters will be set to nan. Details: \n",
      "Traceback (most recent call last):\n",
      "  File \"c:\\users\\torst\\anaconda3\\envs\\course2groupproject\\lib\\site-packages\\sklearn\\model_selection\\_validation.py\", line 531, in _fit_and_score\n",
      "    estimator.fit(X_train, y_train, **fit_params)\n",
      "  File \"c:\\users\\torst\\anaconda3\\envs\\course2groupproject\\lib\\site-packages\\sklearn\\linear_model\\_logistic.py\", line 1304, in fit\n",
      "    solver = _check_solver(self.solver, self.penalty, self.dual)\n",
      "  File \"c:\\users\\torst\\anaconda3\\envs\\course2groupproject\\lib\\site-packages\\sklearn\\linear_model\\_logistic.py\", line 443, in _check_solver\n",
      "    \"got %s penalty.\" % (solver, penalty))\n",
      "ValueError: Solver newton-cg supports only 'l2' or 'none' penalties, got l1 penalty.\n",
      "\n",
      "  FitFailedWarning)\n",
      "c:\\users\\torst\\anaconda3\\envs\\course2groupproject\\lib\\site-packages\\sklearn\\model_selection\\_validation.py:552: FitFailedWarning: Estimator fit failed. The score on this train-test partition for these parameters will be set to nan. Details: \n",
      "Traceback (most recent call last):\n",
      "  File \"c:\\users\\torst\\anaconda3\\envs\\course2groupproject\\lib\\site-packages\\sklearn\\model_selection\\_validation.py\", line 531, in _fit_and_score\n",
      "    estimator.fit(X_train, y_train, **fit_params)\n",
      "  File \"c:\\users\\torst\\anaconda3\\envs\\course2groupproject\\lib\\site-packages\\sklearn\\linear_model\\_logistic.py\", line 1304, in fit\n",
      "    solver = _check_solver(self.solver, self.penalty, self.dual)\n",
      "  File \"c:\\users\\torst\\anaconda3\\envs\\course2groupproject\\lib\\site-packages\\sklearn\\linear_model\\_logistic.py\", line 443, in _check_solver\n",
      "    \"got %s penalty.\" % (solver, penalty))\n",
      "ValueError: Solver newton-cg supports only 'l2' or 'none' penalties, got l1 penalty.\n",
      "\n",
      "  FitFailedWarning)\n",
      "c:\\users\\torst\\anaconda3\\envs\\course2groupproject\\lib\\site-packages\\sklearn\\model_selection\\_validation.py:552: FitFailedWarning: Estimator fit failed. The score on this train-test partition for these parameters will be set to nan. Details: \n",
      "Traceback (most recent call last):\n",
      "  File \"c:\\users\\torst\\anaconda3\\envs\\course2groupproject\\lib\\site-packages\\sklearn\\model_selection\\_validation.py\", line 531, in _fit_and_score\n",
      "    estimator.fit(X_train, y_train, **fit_params)\n",
      "  File \"c:\\users\\torst\\anaconda3\\envs\\course2groupproject\\lib\\site-packages\\sklearn\\linear_model\\_logistic.py\", line 1304, in fit\n",
      "    solver = _check_solver(self.solver, self.penalty, self.dual)\n",
      "  File \"c:\\users\\torst\\anaconda3\\envs\\course2groupproject\\lib\\site-packages\\sklearn\\linear_model\\_logistic.py\", line 443, in _check_solver\n",
      "    \"got %s penalty.\" % (solver, penalty))\n",
      "ValueError: Solver newton-cg supports only 'l2' or 'none' penalties, got l1 penalty.\n",
      "\n",
      "  FitFailedWarning)\n",
      "c:\\users\\torst\\anaconda3\\envs\\course2groupproject\\lib\\site-packages\\sklearn\\model_selection\\_validation.py:552: FitFailedWarning: Estimator fit failed. The score on this train-test partition for these parameters will be set to nan. Details: \n",
      "Traceback (most recent call last):\n",
      "  File \"c:\\users\\torst\\anaconda3\\envs\\course2groupproject\\lib\\site-packages\\sklearn\\model_selection\\_validation.py\", line 531, in _fit_and_score\n",
      "    estimator.fit(X_train, y_train, **fit_params)\n",
      "  File \"c:\\users\\torst\\anaconda3\\envs\\course2groupproject\\lib\\site-packages\\sklearn\\linear_model\\_logistic.py\", line 1304, in fit\n",
      "    solver = _check_solver(self.solver, self.penalty, self.dual)\n",
      "  File \"c:\\users\\torst\\anaconda3\\envs\\course2groupproject\\lib\\site-packages\\sklearn\\linear_model\\_logistic.py\", line 443, in _check_solver\n",
      "    \"got %s penalty.\" % (solver, penalty))\n",
      "ValueError: Solver newton-cg supports only 'l2' or 'none' penalties, got l1 penalty.\n",
      "\n",
      "  FitFailedWarning)\n",
      "c:\\users\\torst\\anaconda3\\envs\\course2groupproject\\lib\\site-packages\\sklearn\\model_selection\\_validation.py:552: FitFailedWarning: Estimator fit failed. The score on this train-test partition for these parameters will be set to nan. Details: \n",
      "Traceback (most recent call last):\n",
      "  File \"c:\\users\\torst\\anaconda3\\envs\\course2groupproject\\lib\\site-packages\\sklearn\\model_selection\\_validation.py\", line 531, in _fit_and_score\n",
      "    estimator.fit(X_train, y_train, **fit_params)\n",
      "  File \"c:\\users\\torst\\anaconda3\\envs\\course2groupproject\\lib\\site-packages\\sklearn\\linear_model\\_logistic.py\", line 1304, in fit\n",
      "    solver = _check_solver(self.solver, self.penalty, self.dual)\n",
      "  File \"c:\\users\\torst\\anaconda3\\envs\\course2groupproject\\lib\\site-packages\\sklearn\\linear_model\\_logistic.py\", line 443, in _check_solver\n",
      "    \"got %s penalty.\" % (solver, penalty))\n",
      "ValueError: Solver newton-cg supports only 'l2' or 'none' penalties, got l1 penalty.\n",
      "\n",
      "  FitFailedWarning)\n",
      "c:\\users\\torst\\anaconda3\\envs\\course2groupproject\\lib\\site-packages\\sklearn\\model_selection\\_validation.py:552: FitFailedWarning: Estimator fit failed. The score on this train-test partition for these parameters will be set to nan. Details: \n",
      "Traceback (most recent call last):\n",
      "  File \"c:\\users\\torst\\anaconda3\\envs\\course2groupproject\\lib\\site-packages\\sklearn\\model_selection\\_validation.py\", line 531, in _fit_and_score\n",
      "    estimator.fit(X_train, y_train, **fit_params)\n",
      "  File \"c:\\users\\torst\\anaconda3\\envs\\course2groupproject\\lib\\site-packages\\sklearn\\linear_model\\_logistic.py\", line 1304, in fit\n",
      "    solver = _check_solver(self.solver, self.penalty, self.dual)\n",
      "  File \"c:\\users\\torst\\anaconda3\\envs\\course2groupproject\\lib\\site-packages\\sklearn\\linear_model\\_logistic.py\", line 443, in _check_solver\n",
      "    \"got %s penalty.\" % (solver, penalty))\n",
      "ValueError: Solver newton-cg supports only 'l2' or 'none' penalties, got l1 penalty.\n",
      "\n",
      "  FitFailedWarning)\n",
      "c:\\users\\torst\\anaconda3\\envs\\course2groupproject\\lib\\site-packages\\sklearn\\model_selection\\_validation.py:552: FitFailedWarning: Estimator fit failed. The score on this train-test partition for these parameters will be set to nan. Details: \n",
      "Traceback (most recent call last):\n",
      "  File \"c:\\users\\torst\\anaconda3\\envs\\course2groupproject\\lib\\site-packages\\sklearn\\model_selection\\_validation.py\", line 531, in _fit_and_score\n",
      "    estimator.fit(X_train, y_train, **fit_params)\n",
      "  File \"c:\\users\\torst\\anaconda3\\envs\\course2groupproject\\lib\\site-packages\\sklearn\\linear_model\\_logistic.py\", line 1304, in fit\n",
      "    solver = _check_solver(self.solver, self.penalty, self.dual)\n",
      "  File \"c:\\users\\torst\\anaconda3\\envs\\course2groupproject\\lib\\site-packages\\sklearn\\linear_model\\_logistic.py\", line 443, in _check_solver\n",
      "    \"got %s penalty.\" % (solver, penalty))\n",
      "ValueError: Solver newton-cg supports only 'l2' or 'none' penalties, got l1 penalty.\n",
      "\n",
      "  FitFailedWarning)\n",
      "c:\\users\\torst\\anaconda3\\envs\\course2groupproject\\lib\\site-packages\\sklearn\\model_selection\\_validation.py:552: FitFailedWarning: Estimator fit failed. The score on this train-test partition for these parameters will be set to nan. Details: \n",
      "Traceback (most recent call last):\n",
      "  File \"c:\\users\\torst\\anaconda3\\envs\\course2groupproject\\lib\\site-packages\\sklearn\\model_selection\\_validation.py\", line 531, in _fit_and_score\n",
      "    estimator.fit(X_train, y_train, **fit_params)\n",
      "  File \"c:\\users\\torst\\anaconda3\\envs\\course2groupproject\\lib\\site-packages\\sklearn\\linear_model\\_logistic.py\", line 1304, in fit\n",
      "    solver = _check_solver(self.solver, self.penalty, self.dual)\n",
      "  File \"c:\\users\\torst\\anaconda3\\envs\\course2groupproject\\lib\\site-packages\\sklearn\\linear_model\\_logistic.py\", line 443, in _check_solver\n",
      "    \"got %s penalty.\" % (solver, penalty))\n",
      "ValueError: Solver newton-cg supports only 'l2' or 'none' penalties, got l1 penalty.\n",
      "\n",
      "  FitFailedWarning)\n",
      "c:\\users\\torst\\anaconda3\\envs\\course2groupproject\\lib\\site-packages\\sklearn\\model_selection\\_validation.py:552: FitFailedWarning: Estimator fit failed. The score on this train-test partition for these parameters will be set to nan. Details: \n",
      "Traceback (most recent call last):\n",
      "  File \"c:\\users\\torst\\anaconda3\\envs\\course2groupproject\\lib\\site-packages\\sklearn\\model_selection\\_validation.py\", line 531, in _fit_and_score\n",
      "    estimator.fit(X_train, y_train, **fit_params)\n",
      "  File \"c:\\users\\torst\\anaconda3\\envs\\course2groupproject\\lib\\site-packages\\sklearn\\linear_model\\_logistic.py\", line 1304, in fit\n",
      "    solver = _check_solver(self.solver, self.penalty, self.dual)\n",
      "  File \"c:\\users\\torst\\anaconda3\\envs\\course2groupproject\\lib\\site-packages\\sklearn\\linear_model\\_logistic.py\", line 443, in _check_solver\n",
      "    \"got %s penalty.\" % (solver, penalty))\n",
      "ValueError: Solver newton-cg supports only 'l2' or 'none' penalties, got l1 penalty.\n",
      "\n",
      "  FitFailedWarning)\n",
      "c:\\users\\torst\\anaconda3\\envs\\course2groupproject\\lib\\site-packages\\sklearn\\model_selection\\_validation.py:552: FitFailedWarning: Estimator fit failed. The score on this train-test partition for these parameters will be set to nan. Details: \n",
      "Traceback (most recent call last):\n",
      "  File \"c:\\users\\torst\\anaconda3\\envs\\course2groupproject\\lib\\site-packages\\sklearn\\model_selection\\_validation.py\", line 531, in _fit_and_score\n",
      "    estimator.fit(X_train, y_train, **fit_params)\n",
      "  File \"c:\\users\\torst\\anaconda3\\envs\\course2groupproject\\lib\\site-packages\\sklearn\\linear_model\\_logistic.py\", line 1304, in fit\n",
      "    solver = _check_solver(self.solver, self.penalty, self.dual)\n",
      "  File \"c:\\users\\torst\\anaconda3\\envs\\course2groupproject\\lib\\site-packages\\sklearn\\linear_model\\_logistic.py\", line 443, in _check_solver\n",
      "    \"got %s penalty.\" % (solver, penalty))\n",
      "ValueError: Solver newton-cg supports only 'l2' or 'none' penalties, got l1 penalty.\n",
      "\n",
      "  FitFailedWarning)\n",
      "c:\\users\\torst\\anaconda3\\envs\\course2groupproject\\lib\\site-packages\\sklearn\\model_selection\\_validation.py:552: FitFailedWarning: Estimator fit failed. The score on this train-test partition for these parameters will be set to nan. Details: \n",
      "Traceback (most recent call last):\n",
      "  File \"c:\\users\\torst\\anaconda3\\envs\\course2groupproject\\lib\\site-packages\\sklearn\\model_selection\\_validation.py\", line 531, in _fit_and_score\n",
      "    estimator.fit(X_train, y_train, **fit_params)\n",
      "  File \"c:\\users\\torst\\anaconda3\\envs\\course2groupproject\\lib\\site-packages\\sklearn\\linear_model\\_logistic.py\", line 1304, in fit\n",
      "    solver = _check_solver(self.solver, self.penalty, self.dual)\n",
      "  File \"c:\\users\\torst\\anaconda3\\envs\\course2groupproject\\lib\\site-packages\\sklearn\\linear_model\\_logistic.py\", line 443, in _check_solver\n",
      "    \"got %s penalty.\" % (solver, penalty))\n",
      "ValueError: Solver newton-cg supports only 'l2' or 'none' penalties, got l1 penalty.\n",
      "\n",
      "  FitFailedWarning)\n",
      "c:\\users\\torst\\anaconda3\\envs\\course2groupproject\\lib\\site-packages\\sklearn\\model_selection\\_validation.py:552: FitFailedWarning: Estimator fit failed. The score on this train-test partition for these parameters will be set to nan. Details: \n",
      "Traceback (most recent call last):\n",
      "  File \"c:\\users\\torst\\anaconda3\\envs\\course2groupproject\\lib\\site-packages\\sklearn\\model_selection\\_validation.py\", line 531, in _fit_and_score\n",
      "    estimator.fit(X_train, y_train, **fit_params)\n",
      "  File \"c:\\users\\torst\\anaconda3\\envs\\course2groupproject\\lib\\site-packages\\sklearn\\linear_model\\_logistic.py\", line 1304, in fit\n",
      "    solver = _check_solver(self.solver, self.penalty, self.dual)\n",
      "  File \"c:\\users\\torst\\anaconda3\\envs\\course2groupproject\\lib\\site-packages\\sklearn\\linear_model\\_logistic.py\", line 443, in _check_solver\n",
      "    \"got %s penalty.\" % (solver, penalty))\n",
      "ValueError: Solver newton-cg supports only 'l2' or 'none' penalties, got l1 penalty.\n",
      "\n",
      "  FitFailedWarning)\n",
      "[Parallel(n_jobs=1)]: Done 400 out of 400 | elapsed:  3.2min finished\n"
     ]
    },
    {
     "data": {
      "text/plain": [
       "GridSearchCV(estimator=LogisticRegression(),\n",
       "             param_grid={'C': array([1.00000000e-04, 2.63665090e-04, 6.95192796e-04, 1.83298071e-03,\n",
       "       4.83293024e-03, 1.27427499e-02, 3.35981829e-02, 8.85866790e-02,\n",
       "       2.33572147e-01, 6.15848211e-01, 1.62377674e+00, 4.28133240e+00,\n",
       "       1.12883789e+01, 2.97635144e+01, 7.84759970e+01, 2.06913808e+02,\n",
       "       5.45559478e+02, 1.43844989e+03, 3.79269019e+03, 1.00000000e+04]),\n",
       "                         'penalty': ['l1', 'l2'],\n",
       "                         'solver': ['liblinear', 'newton-cg']},\n",
       "             verbose=3)"
      ]
     },
     "execution_count": 27,
     "metadata": {},
     "output_type": "execute_result"
    }
   ],
   "source": [
    "# GridSearchCV for Logistic Regression\n",
    "\n",
    "from sklearn.linear_model import LogisticRegression\n",
    "from sklearn.model_selection import GridSearchCV\n",
    "param_grid = {'penalty':['l1', 'l2'], 'C': np.logspace(-4, 4, 20),\n",
    "              'solver': ['liblinear', 'newton-cg']}\n",
    "grid = GridSearchCV(LogisticRegression(), param_grid, verbose=3)\n",
    "grid.fit(x_train, y_train)"
   ]
  },
  {
   "cell_type": "code",
   "execution_count": 28,
   "metadata": {
    "pycharm": {
     "name": "#%%\n"
    }
   },
   "outputs": [
    {
     "data": {
      "text/plain": [
       "{'C': 0.615848211066026, 'penalty': 'l2', 'solver': 'liblinear'}"
      ]
     },
     "execution_count": 28,
     "metadata": {},
     "output_type": "execute_result"
    }
   ],
   "source": [
    "grid.best_params_"
   ]
  },
  {
   "cell_type": "code",
   "execution_count": 29,
   "metadata": {
    "pycharm": {
     "name": "#%%\n"
    }
   },
   "outputs": [
    {
     "name": "stdout",
     "output_type": "stream",
     "text": [
      "[[2201   85]\n",
      " [ 326  382]]\n",
      "\n",
      "\n",
      "              precision    recall  f1-score   support\n",
      "\n",
      "       False       0.87      0.96      0.91      2286\n",
      "        True       0.82      0.54      0.65       708\n",
      "\n",
      "    accuracy                           0.86      2994\n",
      "   macro avg       0.84      0.75      0.78      2994\n",
      "weighted avg       0.86      0.86      0.85      2994\n",
      "\n"
     ]
    },
    {
     "data": {
      "image/png": "[encoded data removed]",
      "text/plain": [
       "<Figure size 432x288 with 2 Axes>"
      ]
     },
     "metadata": {
      "needs_background": "light"
     },
     "output_type": "display_data"
    }
   ],
   "source": [
    "from sklearn.linear_model import LogisticRegression\n",
    "lr = LogisticRegression()\n",
    "lr.fit(x_train, y_train)\n",
    "predictions = lr.predict(x_test)\n",
    "print(confusion_matrix(y_test, predictions))\n",
    "print('\\n')\n",
    "print(classification_report(y_test, predictions))\n",
    "\n",
    "fig, ax = plot_confusion_matrix(conf_mat=confusion_matrix(y_test, predictions),\n",
    "                                show_absolute=True,\n",
    "                                show_normed=True,\n",
    "                                colorbar=True)\n",
    "plt.show()"
   ]
  },
  {
   "cell_type": "code",
   "execution_count": 30,
   "metadata": {
    "pycharm": {
     "name": "#%%\n"
    }
   },
   "outputs": [
    {
     "name": "stdout",
     "output_type": "stream",
     "text": [
      "[[2165  121]\n",
      " [ 306  402]]\n",
      "\n",
      "\n",
      "              precision    recall  f1-score   support\n",
      "\n",
      "       False       0.88      0.95      0.91      2286\n",
      "        True       0.77      0.57      0.65       708\n",
      "\n",
      "    accuracy                           0.86      2994\n",
      "   macro avg       0.82      0.76      0.78      2994\n",
      "weighted avg       0.85      0.86      0.85      2994\n",
      "\n"
     ]
    },
    {
     "data": {
      "image/png": "[encoded data removed]",
      "text/plain": [
       "<Figure size 432x288 with 2 Axes>"
      ]
     },
     "metadata": {
      "needs_background": "light"
     },
     "output_type": "display_data"
    }
   ],
   "source": [
    "from sklearn.linear_model import LogisticRegression\n",
    "lr = LogisticRegression(C=11.3, penalty='l1', solver='liblinear')\n",
    "#lr = LogisticRegression(C=0.62, penalty='l1', solver='liblinear')\n",
    "lr.fit(x_train, y_train)\n",
    "predictions = lr.predict(x_test)\n",
    "print(confusion_matrix(y_test, predictions))\n",
    "print('\\n')\n",
    "print(classification_report(y_test, predictions))\n",
    "\n",
    "fig, ax = plot_confusion_matrix(conf_mat=confusion_matrix(y_test, predictions),\n",
    "                                show_absolute=True,\n",
    "                                show_normed=True,\n",
    "                                colorbar=True)\n",
    "plt.show()\n"
   ]
  }
 ],
 "metadata": {
  "kernelspec": {
   "display_name": "Python 3",
   "language": "python",
   "name": "python3"
  },
  "language_info": {
   "codemirror_mode": {
    "name": "ipython",
    "version": 3
   },
   "file_extension": ".py",
   "mimetype": "text/x-python",
   "name": "python",
   "nbconvert_exporter": "python",
   "pygments_lexer": "ipython3",
   "version": "3.6.12"
  }
 },
 "nbformat": 4,
 "nbformat_minor": 1
}
