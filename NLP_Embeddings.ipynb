{
 "cells": [
  {
   "cell_type": "markdown",
   "metadata": {},
   "source": [
    "## Independent Coding Project for York University's Certificate in ML, Course 2"
   ]
  },
  {
   "cell_type": "markdown",
   "metadata": {},
   "source": [
    "### prepared by Robin Mathew on 22-Jan-2021"
   ]
  },
  {
   "cell_type": "markdown",
   "metadata": {},
   "source": [
    "## Word2Vec Embedding model training and evaluation"
   ]
  },
  {
   "cell_type": "markdown",
   "metadata": {},
   "source": [
    "Let's start with importing the libraries"
   ]
  },
  {
   "cell_type": "code",
   "execution_count": 1,
   "metadata": {},
   "outputs": [],
   "source": [
    "import pandas as pd\n",
    "import numpy as np\n",
    "import os\n",
    "import json\n",
    "import sqlite3\n",
    "import pickle\n",
    "import gc\n",
    "from bs4 import BeautifulSoup\n",
    "from nltk.corpus import stopwords\n",
    "import unicodedata\n",
    "import re\n",
    "#from pycontractions import Contractions\n",
    "#cont = Contractions('GoogleNews-vectors-negative300.bin') #uses word2vec semantic vector model pre-trained on \n",
    "#       GoogleNews dataset\n",
    "#cont.load_models() # loads and keeps in memory to avoid runtime call\n",
    "import spacy\n",
    "nlp = spacy.load(\"en_core_web_sm\")\n",
    "pd.set_option('display.max_columns',15)\n",
    "import tldextract\n",
    "import category_encoders as ce\n",
    "from collections import OrderedDict\n",
    "import scipy\n",
    "\n",
    "import seaborn as sns\n",
    "import matplotlib.pyplot as plt\n",
    "\n",
    "from sklearn import preprocessing\n",
    "from sklearn.feature_extraction.text import CountVectorizer\n",
    "from sklearn.feature_extraction.text import TfidfTransformer\n",
    "\n",
    "from sklearn.manifold import TSNE\n",
    "\n",
    "import nltk.data\n",
    "tokenizer = nltk.data.load('tokenizers/punkt/english.pickle')\n",
    "wpt = nltk.WordPunctTokenizer()\n",
    "\n",
    "import gensim, logging\n",
    "logging.basicConfig(format='%(asctime)s : %(levelname)s : %(message)s', level=logging.INFO)\n",
    "#from multiprocessing import cpu_count"
   ]
  },
  {
   "cell_type": "markdown",
   "metadata": {},
   "source": [
    "## The dataset for this project is the fake news data, available in json files. I have already pickled the data in a cleaned dataframe which we will directly import. Below is the code to read, pre-process and normalise the data."
   ]
  },
  {
   "cell_type": "code",
   "execution_count": null,
   "metadata": {},
   "outputs": [],
   "source": [
    "df_data = []  \n",
    "for curr_path,sub_folder_list,file_list in os.walk(\"C:\\\\Users\\\\mrrob\\\\Desktop\\\\Machine Learning York University\\\\Course 2\\\\NLP Project\\\\fakenewsnet_dataset\\\\fakenewsnet_dataset\\\\gossipcop\\\\fake\"):\n",
    "    for curr_file in file_list:\n",
    "        with open(curr_path+'\\\\'+curr_file) as f:\n",
    "            data = json.load(f) \n",
    "            vsite_name=data.get(\"meta_data\",{}).get(\"og\",{}).get(\"site_name\",\"\")\n",
    "            vtype=data.get(\"meta_data\",{}).get(\"og\",{}).get(\"type\",\"\")\n",
    "            vtitle=data.get(\"meta_data\",{}).get(\"og\",{}).get(\"title\",\"\")\n",
    "            vurl=data.get(\"url\",\"\")\n",
    "            vtext=data.get(\"text\",\"\")\n",
    "            vauthors=data[\"authors\"]\n",
    "            vfake=True\n",
    "            df_data.append([vsite_name,vtype,vtitle,vurl,vtext,vauthors,vfake])  \n",
    "df_fake=pd.DataFrame(data=df_data, columns=['site_name','type','title', 'url','text','authors','fake']) \n",
    "\n",
    "df_data = []\n",
    "for curr_path,sub_folder_list,file_list in os.walk(\"C:\\\\Users\\\\mrrob\\\\Desktop\\\\Machine Learning York University\\\\Course 2\\\\NLP Project\\\\fakenewsnet_dataset\\\\fakenewsnet_dataset\\\\gossipcop\\\\real\"):\n",
    "    for curr_file in file_list:\n",
    "        with open(curr_path+'\\\\'+curr_file) as f:\n",
    "            data = json.load(f)\n",
    "            vsite_name=data.get(\"meta_data\",{}).get(\"og\",{}).get(\"site_name\",\"\")\n",
    "            vtype=data.get(\"meta_data\",{}).get(\"og\",{}).get(\"type\",\"\")\n",
    "            vtitle=data.get(\"meta_data\",{}).get(\"og\",{}).get(\"title\",\"\")\n",
    "            vurl=data.get(\"url\",\"\")\n",
    "            vtext=data.get(\"text\",\"\")\n",
    "            vauthors=data[\"authors\"]\n",
    "            vfake=False\n",
    "            df_data.append([vsite_name,vtype,vtitle,vurl,vtext,vauthors,vfake])\n",
    "df_real=pd.DataFrame(data=df_data, columns=['site_name','type','title','url','text','authors','fake'])\n",
    "\n",
    "df = pd.concat([df_fake,df_real])\n",
    "\n",
    "# remove documents with blank text\n",
    "df=df[df['text']!=\"\"]\n",
    "df.drop_duplicates(subset=['text'], keep='last',inplace=True)\n",
    "df[\"text_length\"]=df[\"text\"].apply(len)\n",
    "df=df[(df['text_length']<5000) & (df['text_length']>150)]\n",
    "\n",
    "df.reset_index(inplace=True) \n",
    "df.drop('index',axis=1,inplace=True)\n",
    "df.reset_index(inplace=True) \n",
    "\n",
    "df['authors'] = df[df['authors'].apply(len)>0]['authors'].apply(lambda x: x[0])\n",
    "# empty authors become overwritten with NaN\n",
    "\n",
    "def get_site_name(url):\n",
    "    s = url\n",
    "    ext = tldextract.extract(s)\n",
    "    result = (ext.subdomain+'.'+ext.domain +'.'+ext.suffix).strip('.')\n",
    "    if result == 'web.archive.org':\n",
    "        s = s.split('/', 5)[-1]\n",
    "        ext = tldextract.extract(s)\n",
    "    #result = (ext.subdomain + '.' + ext.domain + '.' + ext.suffix).strip('.')\n",
    "    result = (ext.domain).strip('.')\n",
    "    return result\n",
    "\n",
    "df['site_name'] = df.apply(lambda x: get_site_name(x.url), axis=1) \n",
    "df.loc[df['authors'].isnull(),'authors'] = df[df['authors'].isnull()]['site_name'].apply(lambda x: x) \n",
    "df.loc[df['type']=='','type'] = df[df['type']=='']['type'].apply(lambda x: 'article') \n",
    "\n",
    "df.drop('url',axis=1,inplace=True)\n"
   ]
  },
  {
   "cell_type": "code",
   "execution_count": null,
   "metadata": {},
   "outputs": [],
   "source": [
    "def text_normalizer(doc):\n",
    "\n",
    "    soup = BeautifulSoup(doc, 'html.parser')\n",
    "    normalized_doc = soup.get_text() #remove HTML tags\n",
    "    normalized_doc = re.sub(r'[\\r|\\n|\\r\\n]+', ' ',normalized_doc) # remove extra newlines \\r carriage return \\n new line\n",
    "    normalized_doc = unicodedata.normalize('NFKD', normalized_doc).encode('ascii', 'ignore').decode('utf-8', 'ignore') # strip accents\n",
    "    normalized_doc = re.sub(\"[’]\", '', normalized_doc) #nlp uses punctuation info so remove others last. this special character apostrophe prevents expansion, so removed.\n",
    "    normalized_doc_list = normalized_doc.split()\n",
    "    normalized_doc_list = [word for word in normalized_doc_list if word.lower() not in stopwords.words('english')] # remove stopwords before expansion\n",
    "    normalized_doc = ' '.join(normalized_doc_list)\n",
    "    normalized_doc_list = [normalized_doc]\n",
    "    normalized_doc = list(cont.expand_texts(normalized_doc_list, precise=False))[0] # expansion\n",
    "    normalized_doc_list = normalized_doc.split()\n",
    "    normalized_doc_list = [word for word in normalized_doc_list if word.lower() not in stopwords.words('english')] # remove stopwords after expansion\n",
    "    normalized_doc = ' '.join(normalized_doc_list)\n",
    "    nlp_doc=nlp(normalized_doc) # nlp, lemmatization (base word) and capturing POS tags. \n",
    "    normalized_doc_list = [word.lemma_ if word.lemma_ != '-PRON-' else word.text for word in nlp_doc]\n",
    "    spacy_proper_nouns = [word.lemma_.lower() for word in nlp_doc if word.pos_ == \"PROPN\"]\n",
    "    spacy_verbs = [word.lemma_.lower() for word in nlp_doc if word.pos_ == \"VERB\"]\n",
    "    spacy_adj = [word.lemma_.lower() for word in nlp_doc if word.pos_ == \"ADJ\"]\n",
    "    spacy_ner = [entity.text.lower() for entity in nlp_doc.ents if entity.label_ in ['PERSON', 'NORP', 'ORG', 'EVENT', 'PRODUCT']]\n",
    "    # insert spaces between special characters to isolate them\n",
    "    special_char_pattern = re.compile(r'([\\[\\]{.(-)!}])')\n",
    "    normalized_doc = ' '.join(normalized_doc_list)\n",
    "    normalized_doc = special_char_pattern.sub(\" \\\\1 \", normalized_doc)\n",
    "    normalized_doc = re.sub(\"[^a-zA-Z0-9\\s]\", '', normalized_doc) #nlp uses punctuation info so removed last\n",
    "    normalized_doc = re.sub(' +', ' ', normalized_doc) # extra white spaces removed\n",
    "    normalized_doc = normalized_doc.lower() # lowercase after spacy for helping nouns standout\n",
    "    normalized_doc_list = normalized_doc.split()\n",
    "\n",
    "    return {'normal_text':normalized_doc_list, 'proper_nouns': spacy_proper_nouns, 'verbs':spacy_verbs, 'adj':spacy_adj, 'ner':spacy_ner}"
   ]
  },
  {
   "cell_type": "markdown",
   "metadata": {},
   "source": [
    "A less constrained normalization for training word2vec's first layer since it carries a lot of contextual information. e.g the stopwords"
   ]
  },
  {
   "cell_type": "code",
   "execution_count": 6,
   "metadata": {},
   "outputs": [],
   "source": [
    "def word2vec_normalizer(doc):\n",
    "\n",
    "    soup = BeautifulSoup(doc, 'html.parser')\n",
    "    normalized_doc = soup.get_text() #remove HTML tags\n",
    "    normalized_doc = re.sub(r'[\\r|\\n|\\r\\n]+', ' ',normalized_doc) # remove extra newlines\n",
    "    normalized_doc = unicodedata.normalize('NFKD', normalized_doc).encode('ascii', 'ignore').decode('utf-8', 'ignore') # strip accents\n",
    "    # insert spaces between special characters to isolate them\n",
    "    special_char_pattern = re.compile(r'([\\[\\]{.(-)!}])')\n",
    "    normalized_doc = special_char_pattern.sub(\"\\\\1 \", normalized_doc)\n",
    "    normalized_doc = normalized_doc.lower() # lowercase after spacy for helping nouns standout\n",
    "\n",
    "    return normalized_doc"
   ]
  },
  {
   "cell_type": "markdown",
   "metadata": {},
   "source": [
    "### For most projects with smaller datasets and less computational resources, it is worthwhile to pay attention to the pre-processing and normalization. For large scale datasets, employing complex deep learning techniques, mutations and other irregularities given the larger context may merge / cancel out eventually."
   ]
  },
  {
   "cell_type": "code",
   "execution_count": 2,
   "metadata": {},
   "outputs": [],
   "source": [
    "# I have saved the cleaned, pre-processed dataframe with normalised text in the pickle file for quick import.\n",
    "\n",
    "pickle_file_final = open('pickle_file_final','rb')\n",
    "pickled_objs=pickle.load(pickle_file_final)\n",
    "df=pickled_objs[0]\n",
    "embedded_df=pickled_objs[1]\n",
    "pickle_file_final.close()\n"
   ]
  },
  {
   "cell_type": "code",
   "execution_count": 3,
   "metadata": {},
   "outputs": [
    {
     "name": "stdout",
     "output_type": "stream",
     "text": [
      "<class 'pandas.core.frame.DataFrame'>\n",
      "RangeIndex: 14968 entries, 0 to 14967\n",
      "Data columns (total 19 columns):\n",
      " #   Column                Non-Null Count  Dtype \n",
      "---  ------                --------------  ----- \n",
      " 0   authors               14968 non-null  int16 \n",
      " 1   fake                  14968 non-null  int32 \n",
      " 2   site_name             14968 non-null  int16 \n",
      " 3   text                  14968 non-null  object\n",
      " 4   text_length           14968 non-null  int64 \n",
      " 5   title                 14968 non-null  object\n",
      " 6   type                  14968 non-null  int8  \n",
      " 7   normal_text           14968 non-null  object\n",
      " 8   proper_nouns          14968 non-null  object\n",
      " 9   verbs                 14968 non-null  object\n",
      " 10  adj                   14968 non-null  object\n",
      " 11  ner                   14968 non-null  object\n",
      " 12  normal_title          14968 non-null  object\n",
      " 13  adverbs               14968 non-null  object\n",
      " 14  word2vec_normal_text  14968 non-null  object\n",
      " 15  sentence_list         14968 non-null  object\n",
      " 16  normal_nav            14968 non-null  object\n",
      " 17  normal_na             14968 non-null  object\n",
      " 18  ner_split             14968 non-null  object\n",
      "dtypes: int16(2), int32(1), int64(1), int8(1), object(14)\n",
      "memory usage: 1.8+ MB\n"
     ]
    }
   ],
   "source": [
    "df.info()"
   ]
  },
  {
   "cell_type": "code",
   "execution_count": 4,
   "metadata": {},
   "outputs": [
    {
     "data": {
      "text/plain": [
       "0        [star, magazine, release, explosive, report, t...\n",
       "1        [early, year, buzz, around, megyn, kellys, mov...\n",
       "2        [first, time, since, involvement, fatal, car, ...\n",
       "3        [heel, cute, last, long, selena, gomez, wear, ...\n",
       "4        [jessica, simpsons, beloved, dog, daisy, snatc...\n",
       "                               ...                        \n",
       "14963    [open, letter, cast, reference, change, org, p...\n",
       "14964    [robert, pattinson, rumor, date, suki, waterho...\n",
       "14965    [easy, pull, marvelous, second, time, around, ...\n",
       "14966    [kesha, quite, year, third, album, rainbow, re...\n",
       "14967    [meghan, markle, prince, harry, prove, intervi...\n",
       "Name: normal_text, Length: 14968, dtype: object"
      ]
     },
     "execution_count": 4,
     "metadata": {},
     "output_type": "execute_result"
    }
   ],
   "source": [
    "df['normal_text']"
   ]
  },
  {
   "cell_type": "markdown",
   "metadata": {},
   "source": [
    "### About training the embedding model using Gensim\n",
    "\n",
    "gensim’s word2vec expects a sequence of sentences as its input.\n",
    "\n",
    "e.g.\n",
    "\n",
    "sentences = [['first', 'sentence'], ['second', 'sentence']]\n",
    "\n",
    "model = gensim.models.Word2Vec(sentences, min_count=1)\n",
    "\n",
    "###### Important note about resuming training of existing model: \n",
    "\n",
    "The learning decay rate is disturbed when the model stops and starts again. So unless you are an advanced user who knows how to set the new decay rate while starting (which is not a simple task), don't do it. It's like the model learns from scratch when started again unless decay parameter is adjusted. So try it in one go for simplicity.\n",
    "\n"
   ]
  },
  {
   "cell_type": "markdown",
   "metadata": {},
   "source": [
    "### 1st layer - lightly normalised text articles"
   ]
  },
  {
   "cell_type": "code",
   "execution_count": 7,
   "metadata": {},
   "outputs": [],
   "source": [
    "df['word2vec_normal_text'] = df['text'].apply(word2vec_normalizer) # one string\n",
    "\n",
    "### tokenize into sentences from paragraphs\n",
    "df['sentence_list'] = df['word2vec_normal_text'].apply(tokenizer.tokenize) # list of strings (sentences)\n",
    "\n",
    "### remove invalid sentences\n",
    "df['sentence_list'] = df['sentence_list'].apply(lambda sentence_list:[sent for sent in sentence_list if len(sent)>6])\n",
    "\n",
    "### tokenize into words and remove words with length 1\n",
    "df['sentence_list'] = df['sentence_list'].apply(lambda sentence_list:[wpt.tokenize(sent) for sent in sentence_list]) # list of words for each sentence\n",
    "df['sentence_list'] = df['sentence_list'].apply(lambda sentence_list:[[word for word in sent if len(word)>1] for sent in sentence_list])\n",
    "\n",
    "document_sentence_list = df['sentence_list'].tolist()\n",
    "\n",
    "master_sentence_list = [] # initialise\n",
    "\n",
    "for sent in document_sentence_list:\n",
    "    for sub_sent in sent:\n",
    "        master_sentence_list.append(sub_sent)\n"
   ]
  },
  {
   "cell_type": "markdown",
   "metadata": {},
   "source": [
    "### 2nd layer - highly normalised text articles"
   ]
  },
  {
   "cell_type": "code",
   "execution_count": 8,
   "metadata": {},
   "outputs": [],
   "source": [
    "df['normal_text'] = df['normal_text'].apply(lambda word_list:[word for word in word_list if len(word)>1])\n",
    "document_sentence_list = df['normal_text'].tolist()\n",
    "for sent in document_sentence_list:\n",
    "    master_sentence_list.append(sent)"
   ]
  },
  {
   "cell_type": "markdown",
   "metadata": {},
   "source": [
    "### 3rd layer - normalised title"
   ]
  },
  {
   "cell_type": "code",
   "execution_count": 9,
   "metadata": {},
   "outputs": [],
   "source": [
    "df['normal_title'] = df['normal_title'].apply(lambda word_list:[word for word in word_list if len(word)>1])\n",
    "document_sentence_list = df['normal_title'].tolist()\n",
    "for sent in document_sentence_list:\n",
    "    master_sentence_list.append(sent)"
   ]
  },
  {
   "cell_type": "markdown",
   "metadata": {},
   "source": [
    "### 4th layer - normalised Nouns, Adverbs and Verbs only"
   ]
  },
  {
   "cell_type": "code",
   "execution_count": 10,
   "metadata": {},
   "outputs": [],
   "source": [
    "def extract_nav(normal_text):\n",
    "    nlp_doc = nlp(normal_text)\n",
    "    spacy_nav = [word.lemma_.lower() for word in nlp_doc if word.pos_ in [\"NOUN\",\"PROPN\",\"ADV\",\"VERB\"]]\n",
    "    return spacy_nav\n",
    "df[\"normal_nav\"] = df['normal_text'].apply(' '.join).apply(extract_nav)\n",
    "df['normal_nav'] = df['normal_nav'].apply(lambda word_list:[word for word in word_list if len(word)>1])\n",
    "document_sentence_list = df['normal_nav'].tolist()\n",
    "for sent in document_sentence_list:\n",
    "    master_sentence_list.append(sent)"
   ]
  },
  {
   "cell_type": "markdown",
   "metadata": {},
   "source": [
    "### 5th layer - normalised Nouns and Adjectives only"
   ]
  },
  {
   "cell_type": "code",
   "execution_count": 11,
   "metadata": {},
   "outputs": [],
   "source": [
    "def extract_na(normal_text):\n",
    "    nlp_doc = nlp(normal_text)\n",
    "    spacy_na = [word.lemma_.lower() for word in nlp_doc if word.pos_ in [\"NOUN\",\"PROPN\",\"ADJ\"]]\n",
    "    return spacy_na\n",
    "df[\"normal_na\"] = df['normal_text'].apply(' '.join).apply(extract_na)\n",
    "df['normal_na'] = df['normal_na'].apply(lambda word_list:[word for word in word_list if len(word)>1])\n",
    "document_sentence_list = df['normal_na'].tolist()\n",
    "for sent in document_sentence_list:\n",
    "    master_sentence_list.append(sent)\n"
   ]
  },
  {
   "cell_type": "markdown",
   "metadata": {},
   "source": [
    "### 6th layer - Named Entities only"
   ]
  },
  {
   "cell_type": "code",
   "execution_count": 12,
   "metadata": {},
   "outputs": [],
   "source": [
    "df['ner_split'] = df['ner'].apply(' '.join).apply(lambda word_list:[word for word in word_list.split() if len(word)>1])\n",
    "document_sentence_list = df['ner_split'].tolist()\n",
    "for sent in document_sentence_list:\n",
    "    master_sentence_list.append(sent)\n"
   ]
  },
  {
   "cell_type": "markdown",
   "metadata": {},
   "source": [
    "### Why so many layers?\n",
    "\n",
    "The objective of this layers is to increase the breadth and depth of the contextual information that the model can train on. By providing the associations in different formats as seen in the above layers, the model gets a wide span of contextual information instead of just relying on complex deep learning techniques or large sliding windows requiring massive computational resources. So I am trying to feed greater contextual information in a much simpler and cheaper way.\n",
    "\n"
   ]
  },
  {
   "cell_type": "markdown",
   "metadata": {},
   "source": [
    "### Let's train the model on Skip-Gram (Negative Sampling of 5) or C-BoW architecture"
   ]
  },
  {
   "cell_type": "code",
   "execution_count": 13,
   "metadata": {},
   "outputs": [],
   "source": [
    "# train word2vec\n",
    "\n",
    "#CBOW\n",
    "#w2v_model = gensim.models.Word2Vec(master_sentence_list, min_count=6, size=100, workers=8, iter=50)\n",
    "\n",
    "#SG - skip gram indicated by sg=1\n",
    "#w2v_model = gensim.models.Word2Vec(master_sentence_list, sg=1, min_count=6, size=100, workers=8, iter=50)\n",
    "\n",
    "#w2v_model.save('word2vecmodel')\n",
    "#w2v_model.save('word2vecmodel_sg')\n"
   ]
  },
  {
   "cell_type": "markdown",
   "metadata": {},
   "source": [
    "I could train a 50-epoch model in a few minutes for both the above methods."
   ]
  },
  {
   "cell_type": "markdown",
   "metadata": {},
   "source": [
    "### Let's explore the C-BoW model first"
   ]
  },
  {
   "cell_type": "code",
   "execution_count": 14,
   "metadata": {},
   "outputs": [
    {
     "name": "stderr",
     "output_type": "stream",
     "text": [
      "2021-01-22 01:38:38,165 : INFO : loading Word2Vec object from word2vecmodel\n",
      "2021-01-22 01:38:38,479 : INFO : loading wv recursively from word2vecmodel.wv.* with mmap=None\n",
      "2021-01-22 01:38:38,480 : INFO : setting ignored attribute vectors_norm to None\n",
      "2021-01-22 01:38:38,481 : INFO : loading vocabulary recursively from word2vecmodel.vocabulary.* with mmap=None\n",
      "2021-01-22 01:38:38,482 : INFO : loading trainables recursively from word2vecmodel.trainables.* with mmap=None\n",
      "2021-01-22 01:38:38,483 : INFO : setting ignored attribute cum_table to None\n",
      "2021-01-22 01:38:38,485 : INFO : loaded word2vecmodel\n"
     ]
    }
   ],
   "source": [
    "w2v_model = gensim.models.Word2Vec.load('word2vecmodel')"
   ]
  },
  {
   "cell_type": "code",
   "execution_count": 15,
   "metadata": {},
   "outputs": [
    {
     "name": "stderr",
     "output_type": "stream",
     "text": [
      "2021-01-22 01:38:45,755 : INFO : precomputing L2-norms of word weight vectors\n"
     ]
    },
    {
     "data": {
      "text/plain": [
       "{'fake': ['false', 'fabricated', 'fabricate', 'fabricating', 'spread'],\n",
       " 'actor': ['actress', 'star', 'singer', 'musician', 'comedian'],\n",
       " 'politician': ['politicians', 'liberal', 'repeal', 'leader', 'government'],\n",
       " 'kardashian': ['kardashians', 'kylie', 'kanye', 'kris', \"kardashian's\"]}"
      ]
     },
     "execution_count": 15,
     "metadata": {},
     "output_type": "execute_result"
    }
   ],
   "source": [
    "similar_words = {search_term: [item[0] for item in w2v_model.wv.most_similar([search_term], topn=5)]\n",
    "                  for search_term in ['fake','actor','politician','kardashian']}\n",
    "similar_words\n"
   ]
  },
  {
   "cell_type": "code",
   "execution_count": 16,
   "metadata": {},
   "outputs": [
    {
     "data": {
      "image/png": "[encoded data removed]",
      "text/plain": [
       "<Figure size 1008x576 with 1 Axes>"
      ]
     },
     "metadata": {
      "needs_background": "light"
     },
     "output_type": "display_data"
    }
   ],
   "source": [
    "words = sum([[k] + v for k, v in similar_words.items()], [])\n",
    "wvs = w2v_model.wv[words]\n",
    "\n",
    "tsne = TSNE(n_components=2, random_state=0, n_iter=10000, perplexity=2)\n",
    "np.set_printoptions(suppress=True)\n",
    "T = tsne.fit_transform(wvs)\n",
    "labels = words\n",
    "\n",
    "plt.figure(figsize=(14, 8))\n",
    "plt.scatter(T[:, 0], T[:, 1], c='orange', edgecolors='r')\n",
    "for label, x, y in zip(labels, T[:, 0], T[:, 1]):\n",
    "    plt.annotate(label, xy=(x+1, y+1), xytext=(0, 0), textcoords='offset points')\n",
    "\n",
    "plt.show()"
   ]
  },
  {
   "cell_type": "code",
   "execution_count": 18,
   "metadata": {},
   "outputs": [
    {
     "data": {
      "text/plain": [
       "[('ivanka', 0.6434186697006226),\n",
       " ('balleralert', 0.602169930934906),\n",
       " ('trumps', 0.5941944122314453),\n",
       " ('ivankatrump', 0.5644876956939697),\n",
       " (\"trump's\", 0.5506808757781982),\n",
       " ('jeb', 0.5388776063919067),\n",
       " ('president', 0.5292946100234985),\n",
       " ('administrations', 0.5158790349960327),\n",
       " ('clinton', 0.5064904689788818),\n",
       " ('friese', 0.5061112642288208)]"
      ]
     },
     "execution_count": 18,
     "metadata": {},
     "output_type": "execute_result"
    }
   ],
   "source": [
    "w2v_model.wv.most_similar(positive=['donald','trump','daughter'])"
   ]
  },
  {
   "cell_type": "code",
   "execution_count": 19,
   "metadata": {},
   "outputs": [
    {
     "data": {
      "text/plain": [
       "[('donald', 0.6459173560142517),\n",
       " ('trumps', 0.5643264055252075),\n",
       " (\"trump's\", 0.5636491775512695),\n",
       " ('ivana', 0.5357177257537842),\n",
       " ('macron', 0.5181102752685547),\n",
       " ('president', 0.5123153924942017),\n",
       " ('friese', 0.48945561051368713),\n",
       " ('mccallum', 0.4826222062110901),\n",
       " ('balleralert', 0.48035380244255066),\n",
       " ('adviser', 0.47339627146720886)]"
      ]
     },
     "execution_count": 19,
     "metadata": {},
     "output_type": "execute_result"
    }
   ],
   "source": [
    "w2v_model.wv.most_similar(positive=['ivanka','trump','father'])"
   ]
  },
  {
   "cell_type": "code",
   "execution_count": 20,
   "metadata": {},
   "outputs": [
    {
     "data": {
      "text/plain": [
       "[('ivana', 0.501153290271759),\n",
       " ('donald', 0.48933500051498413),\n",
       " ('melania', 0.4687432646751404),\n",
       " ('ivankatrump', 0.44443604350090027),\n",
       " ('mccallum', 0.43251243233680725),\n",
       " ('trumps', 0.432283878326416),\n",
       " (\"trump's\", 0.42595452070236206),\n",
       " ('balleralert', 0.42411550879478455),\n",
       " ('clinton', 0.422245591878891),\n",
       " ('flotus', 0.4150230288505554)]"
      ]
     },
     "execution_count": 20,
     "metadata": {},
     "output_type": "execute_result"
    }
   ],
   "source": [
    "w2v_model.wv.most_similar(positive=['ivanka','trump','mother'], negative=['male'])"
   ]
  },
  {
   "cell_type": "code",
   "execution_count": 21,
   "metadata": {},
   "outputs": [
    {
     "data": {
      "text/plain": [
       "[('melania', 0.43267256021499634),\n",
       " ('ivana', 0.4325753152370453),\n",
       " ('donald', 0.4239066541194916),\n",
       " ('gabriela', 0.4144948720932007),\n",
       " ('wintours', 0.40984952449798584),\n",
       " ('mccallum', 0.40968313813209534),\n",
       " ('father', 0.40309154987335205),\n",
       " ('day', 0.40161946415901184),\n",
       " ('grandmother', 0.39896857738494873),\n",
       " ('dad', 0.3939818739891052)]"
      ]
     },
     "execution_count": 21,
     "metadata": {},
     "output_type": "execute_result"
    }
   ],
   "source": [
    "w2v_model.wv.most_similar(positive=['ivanka','trump','mother','step'],negative=['male'])"
   ]
  },
  {
   "cell_type": "code",
   "execution_count": 22,
   "metadata": {},
   "outputs": [
    {
     "data": {
      "text/plain": [
       "[('husband', 0.5644878149032593),\n",
       " ('jolie', 0.47912776470184326),\n",
       " ('angelina', 0.47190311551094055),\n",
       " ('pitt', 0.4654621481895447),\n",
       " ('jen', 0.4514932632446289),\n",
       " ('aniston', 0.4504329264163971),\n",
       " ('dad', 0.44119176268577576),\n",
       " ('amal', 0.4368450939655304),\n",
       " ('mum', 0.4347657561302185),\n",
       " ('brads', 0.4337881803512573)]"
      ]
     },
     "execution_count": 22,
     "metadata": {},
     "output_type": "execute_result"
    }
   ],
   "source": [
    "w2v_model.wv.most_similar(positive=['brad','wife'], negative=['male'])"
   ]
  },
  {
   "cell_type": "code",
   "execution_count": 23,
   "metadata": {},
   "outputs": [
    {
     "data": {
      "text/plain": [
       "[('husband', 0.5654008984565735),\n",
       " ('middleton', 0.562326192855835),\n",
       " ('duchess', 0.5500645637512207),\n",
       " ('duke', 0.5464038848876953),\n",
       " ('meghan', 0.5431123971939087),\n",
       " ('middletons', 0.5392351746559143),\n",
       " ('son', 0.534507691860199),\n",
       " ('kate', 0.5166060924530029),\n",
       " ('charles', 0.5145507454872131),\n",
       " ('cambridge', 0.5128571391105652)]"
      ]
     },
     "execution_count": 23,
     "metadata": {},
     "output_type": "execute_result"
    }
   ],
   "source": [
    "w2v_model.wv.most_similar(positive=['prince','william','wife'])"
   ]
  },
  {
   "cell_type": "code",
   "execution_count": 24,
   "metadata": {},
   "outputs": [
    {
     "data": {
      "text/plain": [
       "[('gomez', 0.6167061924934387),\n",
       " ('selena', 0.5994094014167786),\n",
       " ('boyfriend', 0.5980095863342285),\n",
       " ('weeknd', 0.5821614265441895),\n",
       " ('hailey', 0.5619078278541565),\n",
       " (\"bieber's\", 0.5553759336471558),\n",
       " ('sel', 0.5377188920974731),\n",
       " ('biebs', 0.5312193036079407),\n",
       " ('justins', 0.5090801119804382),\n",
       " ('biebers', 0.4994831681251526)]"
      ]
     },
     "execution_count": 24,
     "metadata": {},
     "output_type": "execute_result"
    }
   ],
   "source": [
    "w2v_model.wv.most_similar(positive=['justin','bieber','girlfriend'])"
   ]
  },
  {
   "cell_type": "code",
   "execution_count": 25,
   "metadata": {},
   "outputs": [
    {
     "data": {
      "text/plain": [
       "[('actress', 0.5952913761138916),\n",
       " ('superman', 0.5268840789794922),\n",
       " ('film', 0.508108913898468),\n",
       " ('radcliffe', 0.49807941913604736),\n",
       " ('lonergan', 0.4849909842014313),\n",
       " ('movie', 0.47890016436576843),\n",
       " ('interstellar', 0.46052300930023193),\n",
       " ('damon', 0.45704418420791626),\n",
       " ('dceu', 0.4535290598869324),\n",
       " ('lonergans', 0.45041966438293457)]"
      ]
     },
     "execution_count": 25,
     "metadata": {},
     "output_type": "execute_result"
    }
   ],
   "source": [
    "w2v_model.wv.most_similar(positive=['batman','actor'])"
   ]
  },
  {
   "cell_type": "markdown",
   "metadata": {},
   "source": [
    "### For the batman + actor, CBOW could not produce the right answer in the top 10. The reason behind this is CBOW works better with frequent words but SG represents the rarer words well. In this case the actor Ben Affleck seems to be a rarer personality in our dataset. So let's check out the SG model."
   ]
  },
  {
   "cell_type": "code",
   "execution_count": 26,
   "metadata": {},
   "outputs": [
    {
     "name": "stderr",
     "output_type": "stream",
     "text": [
      "2021-01-22 01:51:45,984 : INFO : loading Word2Vec object from word2vecmodel_sg\n",
      "2021-01-22 01:51:46,626 : INFO : loading wv recursively from word2vecmodel_sg.wv.* with mmap=None\n",
      "2021-01-22 01:51:46,627 : INFO : setting ignored attribute vectors_norm to None\n",
      "2021-01-22 01:51:46,628 : INFO : loading vocabulary recursively from word2vecmodel_sg.vocabulary.* with mmap=None\n",
      "2021-01-22 01:51:46,629 : INFO : loading trainables recursively from word2vecmodel_sg.trainables.* with mmap=None\n",
      "2021-01-22 01:51:46,629 : INFO : setting ignored attribute cum_table to None\n",
      "2021-01-22 01:51:46,630 : INFO : loaded word2vecmodel_sg\n"
     ]
    }
   ],
   "source": [
    "w2v_model = gensim.models.Word2Vec.load('word2vecmodel_sg')"
   ]
  },
  {
   "cell_type": "code",
   "execution_count": 27,
   "metadata": {},
   "outputs": [
    {
     "name": "stderr",
     "output_type": "stream",
     "text": [
      "2021-01-22 01:51:55,945 : INFO : precomputing L2-norms of word weight vectors\n"
     ]
    },
    {
     "data": {
      "text/plain": [
       "[('affleck', 0.6078195571899414),\n",
       " ('superman', 0.595283567905426),\n",
       " ('movie', 0.5952634215354919),\n",
       " ('film', 0.5945819020271301),\n",
       " ('actress', 0.5942538976669312),\n",
       " ('role', 0.576435387134552),\n",
       " ('indiewire', 0.57181316614151),\n",
       " ('lowerys', 0.5561667680740356),\n",
       " ('atticus', 0.5560416579246521),\n",
       " ('indra', 0.5503171682357788)]"
      ]
     },
     "execution_count": 27,
     "metadata": {},
     "output_type": "execute_result"
    }
   ],
   "source": [
    "w2v_model.wv.most_similar(positive=['batman','actor'])"
   ]
  },
  {
   "cell_type": "markdown",
   "metadata": {},
   "source": [
    "## Some conclusions: Depending on the context, SG or CBOW might be more useful than another. Also note, SG is a bit slower compared to C-BoW while training the model."
   ]
  },
  {
   "cell_type": "markdown",
   "metadata": {},
   "source": [
    "## Let's wrap up by doing a document level embedding by averaging the word embeddings and plot the 100-dimension document vector on a 2-D PCA transformed space. "
   ]
  },
  {
   "cell_type": "code",
   "execution_count": 32,
   "metadata": {},
   "outputs": [],
   "source": [
    "document_sentence_list = df['normal_text'].tolist()\n",
    "\n",
    "for sent in document_sentence_list:\n",
    "    master_sentence_list.append(sent)\n",
    "\n",
    "def average_word_vectors(sentence, model, vocabulary, num_features):\n",
    "    feature_vector = np.zeros((num_features,), dtype=\"float64\")\n",
    "    nwords = 0.\n",
    "    for word in sentence: # calling for normal_text\n",
    "        if word in vocabulary:\n",
    "            nwords = nwords + 1.\n",
    "            feature_vector = np.add(feature_vector, model.wv[word])\n",
    "\n",
    "    if nwords:\n",
    "        feature_vector = np.divide(feature_vector, nwords)\n",
    "\n",
    "    return feature_vector\n",
    "\n",
    "def averaged_word_vectorizer(corpus, model, num_features):\n",
    "    vocabulary = set(model.wv.index2word)\n",
    "    features = [average_word_vectors(sentence, model, vocabulary, num_features)\n",
    "                for sentence in corpus]\n",
    "    return np.array(features)\n",
    "\n",
    "# get document level embeddings\n",
    "w2v_feature_array = averaged_word_vectorizer(corpus=document_sentence_list, model=w2v_model,\n",
    "                                             num_features=100) # calling for normal_text document_sentence_list\n",
    "\n",
    "embedded_df = pd.DataFrame(w2v_feature_array)\n"
   ]
  },
  {
   "cell_type": "code",
   "execution_count": 28,
   "metadata": {},
   "outputs": [
    {
     "data": {
      "image/png": "[encoded data removed]",
      "text/plain": [
       "<Figure size 432x288 with 1 Axes>"
      ]
     },
     "metadata": {
      "needs_background": "light"
     },
     "output_type": "display_data"
    }
   ],
   "source": [
    "from sklearn.decomposition import PCA as sklearnPCA\n",
    "pca = sklearnPCA(n_components=2) #2-dimensional PCA\n",
    "transformed = pd.DataFrame(pca.fit_transform(embedded_df))\n",
    "y=df['fake']\n",
    "\n",
    "plt.scatter(transformed[y==0][0], transformed[y==0][1], label='Real News', c='blue')\n",
    "plt.scatter(transformed[y==1][0], transformed[y==1][1], label='Fake News', c='red')\n",
    "\n",
    "plt.legend()\n",
    "plt.show()\n"
   ]
  },
  {
   "cell_type": "markdown",
   "metadata": {},
   "source": [
    "## The motivation behind this plot was to check if there is any clear clustering. But as expected for a data of this kind, there is no such demarcation."
   ]
  },
  {
   "cell_type": "code",
   "execution_count": null,
   "metadata": {},
   "outputs": [],
   "source": []
  }
 ],
 "metadata": {
  "kernelspec": {
   "display_name": "Python 3",
   "language": "python",
   "name": "python3"
  },
  "language_info": {
   "codemirror_mode": {
    "name": "ipython",
    "version": 3
   },
   "file_extension": ".py",
   "mimetype": "text/x-python",
   "name": "python",
   "nbconvert_exporter": "python",
   "pygments_lexer": "ipython3",
   "version": "3.7.6"
  }
 },
 "nbformat": 4,
 "nbformat_minor": 1
}
